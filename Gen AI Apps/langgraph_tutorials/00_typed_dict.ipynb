{
 "cells": [
  {
   "cell_type": "code",
   "execution_count": 1,
   "id": "1efa467e",
   "metadata": {},
   "outputs": [],
   "source": [
    "import os"
   ]
  },
  {
   "cell_type": "markdown",
   "id": "3ec1c6be",
   "metadata": {},
   "source": [
    "# TypedDict\n",
    "TypedDict is a special type in Python's typing module that allows for the creation of dictionary types with a fixed set of string keys and specific value types for each key. It provides a way to add static type checking to dictionaries, similar to how classes define object structures. \n",
    "\n",
    "## Key characteristics of TypedDict:\n",
    "\n",
    "### Type Safety:\n",
    "It enables type checkers (like MyPy) to verify that dictionaries conforming to a TypedDict definition have the correct keys and that the values associated with those keys have the expected types. This helps catch potential errors early in the development process.\n",
    "\n",
    "### Fixed Schema:\n",
    "Unlike a regular dict, which can have arbitrary keys and values, a TypedDict defines a strict schema, ensuring consistency in the structure of dictionary data.\n",
    "\n",
    "### Definition:\n",
    "TypedDict types are typically defined using a class-based syntax, inheriting from typing.TypedDict. Keys are declared as class attributes with type annotations.\n",
    "\n",
    "### Required and Not Required Keys:\n",
    "By default, all keys defined in a TypedDict are considered required. However, individual keys can be explicitly marked as NotRequired using typing.NotRequired[] (introduced in PEP 655).\n",
    "\n",
    "### Runtime Behavior:\n",
    "While TypedDict primarily serves for static type checking, it behaves like a regular dict at runtime."
   ]
  },
  {
   "cell_type": "code",
   "execution_count": 8,
   "id": "7d346d0d",
   "metadata": {},
   "outputs": [
    {
     "data": {
      "text/plain": [
       "{'name': 'SSH', 'age': '50'}"
      ]
     },
     "execution_count": 8,
     "metadata": {},
     "output_type": "execute_result"
    }
   ],
   "source": [
    "from typing import TypedDict\n",
    "\n",
    "class Person(TypedDict):\n",
    "    name: str\n",
    "    age: int\n",
    "\n",
    "person: Person = {\n",
    "    \"name\": \"SSH\",\n",
    "    \"age\": \"50\"\n",
    "}\n",
    "\n",
    "person"
   ]
  },
  {
   "cell_type": "code",
   "execution_count": 9,
   "id": "b3955e8f",
   "metadata": {},
   "outputs": [
    {
     "data": {
      "text/plain": [
       "__main__.Person"
      ]
     },
     "execution_count": 9,
     "metadata": {},
     "output_type": "execute_result"
    }
   ],
   "source": [
    "Person"
   ]
  },
  {
   "cell_type": "code",
   "execution_count": 10,
   "id": "1405f9b0",
   "metadata": {},
   "outputs": [
    {
     "data": {
      "text/plain": [
       "{'name': 'SSH', 'Age': '35', 'job': 'AI Engineer'}"
      ]
     },
     "execution_count": 10,
     "metadata": {},
     "output_type": "execute_result"
    }
   ],
   "source": [
    "person2: Person = {\"name\": \"SSH\", \"Age\": \"35\", \"job\": \"AI Engineer\"}\n",
    "person2"
   ]
  },
  {
   "cell_type": "markdown",
   "id": "e9580c80",
   "metadata": {},
   "source": [
    "# Pydantic\n",
    "\n",
    "Pydantic is a Python library that significantly enhances the definition, validation, and serialization of data structures using Python's type annotations. It enforces type hints at runtime, ensuring data conforms to expected schemas and providing robust data integrity.\n",
    "\n",
    "## Key aspects of Pydantic for data structures:\n",
    "\n",
    "### Model Definition\n",
    "Pydantic models are defined as Python classes inheriting from `BaseModel`. Fields within these classes are annotated with standard Python type hints (e.g., `str`, `int`, `List[str]`, `Optional[int]`), which Pydantic uses for validation.\n",
    "\n",
    "### Automatic Validation\n",
    "When an instance of a Pydantic model is created or data is parsed into it, Pydantic automatically validates the input against the defined type hints and any specified constraints (e.g., minimum/maximum values, string patterns). If the data does not conform, a `ValidationError` is raised with detailed error messages.\n",
    "\n",
    "### Data Parsing and Coercion\n",
    "Pydantic can parse various input formats (like dictionaries or JSON) into structured Python objects, automatically coercing data types where sensible (e.g., converting a numeric string to an integer).\n",
    "\n",
    "### Custom Validation\n",
    "Beyond basic type checking, Pydantic allows for custom validation logic using `@field_validator` for individual fields or `@model_validator` for cross-field validation.\n",
    "\n",
    "### Serialization\n",
    "Pydantic models can be easily serialized into various formats, such as dictionaries or JSON strings, which is crucial for data exchange in APIs and data pipelines.\n",
    "\n",
    "### Integration\n",
    "Pydantic integrates seamlessly with popular Python frameworks like FastAPI, where it forms the backbone of request and response body validation, and with data processing pipelines for ensuring data quality.\n"
   ]
  },
  {
   "cell_type": "code",
   "execution_count": 12,
   "id": "11ac2a46",
   "metadata": {},
   "outputs": [
    {
     "data": {
      "text/plain": [
       "Person(name='SSH', age=50)"
      ]
     },
     "execution_count": 12,
     "metadata": {},
     "output_type": "execute_result"
    }
   ],
   "source": [
    "from pydantic import BaseModel\n",
    "\n",
    "class Person(BaseModel):\n",
    "    name: str\n",
    "    age: int\n",
    "\n",
    "\n",
    "person = Person(name=\"SSH\", age=\"50\")\n",
    "person"
   ]
  },
  {
   "cell_type": "code",
   "execution_count": 14,
   "id": "a6e0be55",
   "metadata": {},
   "outputs": [
    {
     "ename": "ValidationError",
     "evalue": "1 validation error for Person\nage\n  Field required [type=missing, input_value={'name': 'SSH', 'Age': '32', 'job': 'AI Engineer'}, input_type=dict]\n    For further information visit https://errors.pydantic.dev/2.11/v/missing",
     "output_type": "error",
     "traceback": [
      "\u001b[31m---------------------------------------------------------------------------\u001b[39m",
      "\u001b[31mValidationError\u001b[39m                           Traceback (most recent call last)",
      "\u001b[36mCell\u001b[39m\u001b[36m \u001b[39m\u001b[32mIn[14]\u001b[39m\u001b[32m, line 1\u001b[39m\n\u001b[32m----> \u001b[39m\u001b[32m1\u001b[39m person2 = \u001b[43mPerson\u001b[49m\u001b[43m(\u001b[49m\u001b[43mname\u001b[49m\u001b[43m=\u001b[49m\u001b[33;43m\"\u001b[39;49m\u001b[33;43mSSH\u001b[39;49m\u001b[33;43m\"\u001b[39;49m\u001b[43m,\u001b[49m\u001b[43m \u001b[49m\u001b[43mAge\u001b[49m\u001b[43m=\u001b[49m\u001b[33;43m\"\u001b[39;49m\u001b[33;43m32\u001b[39;49m\u001b[33;43m\"\u001b[39;49m\u001b[43m,\u001b[49m\u001b[43m \u001b[49m\u001b[43mjob\u001b[49m\u001b[43m=\u001b[49m\u001b[33;43m\"\u001b[39;49m\u001b[33;43mAI Engineer\u001b[39;49m\u001b[33;43m\"\u001b[39;49m\u001b[43m)\u001b[49m\n",
      "\u001b[36mFile \u001b[39m\u001b[32mc:\\sharath\\Github\\Projects\\Loan prediction\\loan-pred\\.venv\\Lib\\site-packages\\pydantic\\main.py:253\u001b[39m, in \u001b[36mBaseModel.__init__\u001b[39m\u001b[34m(self, **data)\u001b[39m\n\u001b[32m    251\u001b[39m \u001b[38;5;66;03m# `__tracebackhide__` tells pytest and some other tools to omit this function from tracebacks\u001b[39;00m\n\u001b[32m    252\u001b[39m __tracebackhide__ = \u001b[38;5;28;01mTrue\u001b[39;00m\n\u001b[32m--> \u001b[39m\u001b[32m253\u001b[39m validated_self = \u001b[38;5;28;43mself\u001b[39;49m\u001b[43m.\u001b[49m\u001b[43m__pydantic_validator__\u001b[49m\u001b[43m.\u001b[49m\u001b[43mvalidate_python\u001b[49m\u001b[43m(\u001b[49m\u001b[43mdata\u001b[49m\u001b[43m,\u001b[49m\u001b[43m \u001b[49m\u001b[43mself_instance\u001b[49m\u001b[43m=\u001b[49m\u001b[38;5;28;43mself\u001b[39;49m\u001b[43m)\u001b[49m\n\u001b[32m    254\u001b[39m \u001b[38;5;28;01mif\u001b[39;00m \u001b[38;5;28mself\u001b[39m \u001b[38;5;129;01mis\u001b[39;00m \u001b[38;5;129;01mnot\u001b[39;00m validated_self:\n\u001b[32m    255\u001b[39m     warnings.warn(\n\u001b[32m    256\u001b[39m         \u001b[33m'\u001b[39m\u001b[33mA custom validator is returning a value other than `self`.\u001b[39m\u001b[38;5;130;01m\\n\u001b[39;00m\u001b[33m'\u001b[39m\n\u001b[32m    257\u001b[39m         \u001b[33m\"\u001b[39m\u001b[33mReturning anything other than `self` from a top level model validator isn\u001b[39m\u001b[33m'\u001b[39m\u001b[33mt supported when validating via `__init__`.\u001b[39m\u001b[38;5;130;01m\\n\u001b[39;00m\u001b[33m\"\u001b[39m\n\u001b[32m    258\u001b[39m         \u001b[33m'\u001b[39m\u001b[33mSee the `model_validator` docs (https://docs.pydantic.dev/latest/concepts/validators/#model-validators) for more details.\u001b[39m\u001b[33m'\u001b[39m,\n\u001b[32m    259\u001b[39m         stacklevel=\u001b[32m2\u001b[39m,\n\u001b[32m    260\u001b[39m     )\n",
      "\u001b[31mValidationError\u001b[39m: 1 validation error for Person\nage\n  Field required [type=missing, input_value={'name': 'SSH', 'Age': '32', 'job': 'AI Engineer'}, input_type=dict]\n    For further information visit https://errors.pydantic.dev/2.11/v/missing"
     ]
    }
   ],
   "source": [
    "person2 = Person(name=\"SSH\", Age=\"32\", job=\"AI Engineer\")"
   ]
  },
  {
   "cell_type": "code",
   "execution_count": 16,
   "id": "fd8c1adf",
   "metadata": {},
   "outputs": [
    {
     "data": {
      "text/plain": [
       "Person(name='SSH', age=32)"
      ]
     },
     "execution_count": 16,
     "metadata": {},
     "output_type": "execute_result"
    }
   ],
   "source": [
    "person3 = Person(name=\"SSH\", age=\"32\", job=\"AI Engineer\")\n",
    "person3"
   ]
  },
  {
   "cell_type": "code",
   "execution_count": 19,
   "id": "dd2a4853",
   "metadata": {},
   "outputs": [],
   "source": [
    "person3.name = \"Dr. SSH\""
   ]
  },
  {
   "cell_type": "code",
   "execution_count": 20,
   "id": "a0d92e82",
   "metadata": {},
   "outputs": [
    {
     "data": {
      "text/plain": [
       "Person(name='Dr. SSH', age=32)"
      ]
     },
     "execution_count": 20,
     "metadata": {},
     "output_type": "execute_result"
    }
   ],
   "source": [
    "person3"
   ]
  },
  {
   "cell_type": "code",
   "execution_count": null,
   "id": "9886bdc2",
   "metadata": {},
   "outputs": [],
   "source": []
  }
 ],
 "metadata": {
  "kernelspec": {
   "display_name": "loan-pred",
   "language": "python",
   "name": "python3"
  },
  "language_info": {
   "codemirror_mode": {
    "name": "ipython",
    "version": 3
   },
   "file_extension": ".py",
   "mimetype": "text/x-python",
   "name": "python",
   "nbconvert_exporter": "python",
   "pygments_lexer": "ipython3",
   "version": "3.12.6"
  }
 },
 "nbformat": 4,
 "nbformat_minor": 5
}
