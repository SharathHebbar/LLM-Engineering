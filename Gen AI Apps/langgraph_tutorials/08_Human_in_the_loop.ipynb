{
 "cells": [
  {
   "cell_type": "markdown",
   "id": "d3aa9d2f",
   "metadata": {},
   "source": [
    "# Importing Libraries"
   ]
  },
  {
   "cell_type": "code",
   "execution_count": null,
   "id": "502e8e8f",
   "metadata": {},
   "outputs": [
    {
     "name": "stdout",
     "output_type": "stream",
     "text": [
      "WARNING:tensorflow:From c:\\sharath\\Github\\Projects\\Loan prediction\\loan-pred\\.venv\\Lib\\site-packages\\tf_keras\\src\\losses.py:2976: The name tf.losses.sparse_softmax_cross_entropy is deprecated. Please use tf.compat.v1.losses.sparse_softmax_cross_entropy instead.\n",
      "\n"
     ]
    }
   ],
   "source": [
    "import os\n",
    "import warnings\n",
    "from dotenv import load_dotenv\n",
    "from langchain_groq import ChatGroq\n",
    "from langchain_huggingface.embeddings import HuggingFaceEmbeddings\n",
    "from langchain_community.vectorstores import Chroma\n",
    "\n",
    "warnings.filterwarnings(\"ignore\")\n",
    "\n",
    "load_dotenv()\n",
    "\n",
    "GROQ_API_KEY = os.getenv(\"GROQ_API_KEY\")\n",
    "model_name = \"deepseek-r1-distill-llama-70b\"\n",
    "# emb_model = \"togethercomputer/m2-bert-80M-32k-retrieval\"\n",
    "emb_model = \"sentence-transformers/all-mpnet-base-v2\"\n",
    "embedding_function = HuggingFaceEmbeddings(model_name=emb_model)\n",
    "\n",
    "llm = ChatGroq(\n",
    "    groq_api_key=GROQ_API_KEY,\n",
    "    model=model_name,\n",
    ")"
   ]
  },
  {
   "cell_type": "markdown",
   "id": "411ddecf",
   "metadata": {},
   "source": [
    "# Langgraph Models"
   ]
  },
  {
   "cell_type": "code",
   "execution_count": 2,
   "id": "1969e672",
   "metadata": {},
   "outputs": [],
   "source": [
    "from typing import Annotated, TypedDict, Optional\n",
    "from pydantic import BaseModel, Field\n",
    "\n",
    "from langgraph.graph import START, END, StateGraph\n",
    "from langgraph.graph.message import add_messages\n",
    "\n",
    "class State(BaseModel):\n",
    "    messages: Annotated[list, add_messages]"
   ]
  },
  {
   "cell_type": "code",
   "execution_count": null,
   "id": "3632dc37",
   "metadata": {},
   "outputs": [],
   "source": [
    "from langchain_core.tools import tool\n",
    "\n",
    "from langgraph.checkpoint.memory import MemorySaver\n",
    "from langgraph.prebuilt import ToolNode, tools_condition\n",
    "\n",
    "@tool\n",
    "def get_weather(location: str):\n",
    "    \"\"\"Returns a weather of a particular location.\"\"\"\n",
    "    if location.lower() in ['bengaluru', 'mysuru']:\n",
    "        return \"It is 15 degrees Celsius and cloudy.\"\n",
    "    return \"It is 30 degrees Celsius and sunny.\"\n",
    "\n",
    "@tool\n",
    "def broken_api(location: str):\n",
    "    \"\"\"Returns a weather of a particular location.\"\"\"\n",
    "    return f\"Currently no weather data available for {location}. Please try again later.\"\n",
    "\n",
    "\n",
    "tools = [get_weather, broken_api]\n",
    "\n",
    "llm_with_tools = llm.bind_tools(tools)\n",
    "\n",
    "\n",
    "def chatbot(state: State):\n",
    "    return {\"messages\": [llm_with_tools.invoke(state.messages)]}"
   ]
  },
  {
   "cell_type": "code",
   "execution_count": 4,
   "id": "ab7a326a",
   "metadata": {},
   "outputs": [
    {
     "data": {
      "image/png": "[encoded data removed]",
      "text/plain": [
       "<langgraph.graph.state.CompiledStateGraph object at 0x000001F047438D40>"
      ]
     },
     "execution_count": 4,
     "metadata": {},
     "output_type": "execute_result"
    }
   ],
   "source": [
    "checkpointer = MemorySaver()\n",
    "\n",
    "workflow = StateGraph(State)\n",
    "\n",
    "\n",
    "workflow.add_node(\"chatbot\", chatbot)\n",
    "\n",
    "tool_node = ToolNode(tools=tools)\n",
    "workflow.add_node('tools', tool_node)\n",
    "\n",
    "workflow.add_conditional_edges(\"chatbot\", tools_condition)\n",
    "\n",
    "workflow.add_edge(\"tools\", \"chatbot\")\n",
    "\n",
    "workflow.set_entry_point(\"chatbot\")\n",
    "\n",
    "graph = workflow.compile(checkpointer=checkpointer, interrupt_before=['tools'])\n",
    "\n",
    "graph"
   ]
  },
  {
   "cell_type": "code",
   "execution_count": 5,
   "id": "ab303037",
   "metadata": {},
   "outputs": [
    {
     "data": {
      "text/plain": [
       "{'messages': [HumanMessage(content='Hello, I am SSH', additional_kwargs={}, response_metadata={}, id='86732c03-18ad-4422-b313-a579499638e7'),\n",
       "  AIMessage(content=\"It seems like you might be trying to use one of the tools provided. Could you please specify which function you'd like to use and provide the required location? For example, you can ask me to call `get_weather` or `broken_api` with a specific location.\", additional_kwargs={}, response_metadata={'token_usage': {'completion_tokens': 231, 'prompt_tokens': 165, 'total_tokens': 396, 'completion_time': 1.037724466, 'prompt_time': 0.024057843, 'queue_time': 0.049420456, 'total_time': 1.061782309}, 'model_name': 'deepseek-r1-distill-llama-70b', 'system_fingerprint': 'fp_1bbe7845ec', 'finish_reason': 'stop', 'logprobs': None}, id='run--d6f81ff6-7d6d-4c60-9af4-9077b388bce6-0', usage_metadata={'input_tokens': 165, 'output_tokens': 231, 'total_tokens': 396})]}"
      ]
     },
     "execution_count": 5,
     "metadata": {},
     "output_type": "execute_result"
    }
   ],
   "source": [
    "from langchain_core.messages import HumanMessage\n",
    "\n",
    "config = {\"configurable\": {\"thread_id\": \"1\"}}\n",
    "\n",
    "input_message = HumanMessage(content=\"Hello, I am SSH\")\n",
    "\n",
    "res = graph.invoke({\"messages\": input_message}, config=config)\n",
    "res"
   ]
  },
  {
   "cell_type": "code",
   "execution_count": 6,
   "id": "628529e6",
   "metadata": {},
   "outputs": [
    {
     "data": {
      "text/plain": [
       "{'messages': [HumanMessage(content='Sorry, did I already introduce myself', additional_kwargs={}, response_metadata={}, id='d5e094ea-ee60-4553-903e-caa62f975da3'),\n",
       "  AIMessage(content='Sure! Here are the tools available to assist with your query:\\n\\n1. **get_weather**: This function returns the weather for a specific location.\\n   - Parameters: `location` (string, required)\\n   - Example call: `{\"name\": \"get_weather\", \"arguments\": {\"location\": \"London\"}}`\\n\\n2. **broken_api**: This function is intended to return the weather for a specific location but might be unreliable.\\n   - Parameters: `location` (string, required)\\n   - Example call: `{\"name\": \"broken_api\", \"arguments\": {\"location\": \"Paris\"}}`\\n\\nFeel free to ask for more details or use any of these functions as needed!', additional_kwargs={}, response_metadata={'token_usage': {'completion_tokens': 316, 'prompt_tokens': 167, 'total_tokens': 483, 'completion_time': 1.330227901, 'prompt_time': 0.024067133, 'queue_time': 0.047343417, 'total_time': 1.354295034}, 'model_name': 'deepseek-r1-distill-llama-70b', 'system_fingerprint': 'fp_1bbe7845ec', 'finish_reason': 'stop', 'logprobs': None}, id='run--b0591e7b-4977-4346-8b40-21e17ade2d02-0', usage_metadata={'input_tokens': 167, 'output_tokens': 316, 'total_tokens': 483})]}"
      ]
     },
     "execution_count": 6,
     "metadata": {},
     "output_type": "execute_result"
    }
   ],
   "source": [
    "config = {\"configurable\": {\"thread_id\": \"2\"}}\n",
    "\n",
    "res2 = graph.invoke(\n",
    "    {\"messages\": HumanMessage(content=\"Sorry, did I already introduce myself\")},\n",
    "    config=config\n",
    ")\n",
    "res2"
   ]
  },
  {
   "cell_type": "code",
   "execution_count": 7,
   "id": "4ccaa8f6",
   "metadata": {},
   "outputs": [
    {
     "data": {
      "text/plain": [
       "{'messages': [HumanMessage(content='Hello, I am SSH', additional_kwargs={}, response_metadata={}, id='86732c03-18ad-4422-b313-a579499638e7'),\n",
       "  AIMessage(content=\"It seems like you might be trying to use one of the tools provided. Could you please specify which function you'd like to use and provide the required location? For example, you can ask me to call `get_weather` or `broken_api` with a specific location.\", additional_kwargs={}, response_metadata={'token_usage': {'completion_tokens': 231, 'prompt_tokens': 165, 'total_tokens': 396, 'completion_time': 1.037724466, 'prompt_time': 0.024057843, 'queue_time': 0.049420456, 'total_time': 1.061782309}, 'model_name': 'deepseek-r1-distill-llama-70b', 'system_fingerprint': 'fp_1bbe7845ec', 'finish_reason': 'stop', 'logprobs': None}, id='run--d6f81ff6-7d6d-4c60-9af4-9077b388bce6-0', usage_metadata={'input_tokens': 165, 'output_tokens': 231, 'total_tokens': 396}),\n",
       "  HumanMessage(content='Sorry, did I already introduce myself', additional_kwargs={}, response_metadata={}, id='c04df7a6-c240-44f7-8c5b-593631f1f6e5'),\n",
       "  AIMessage(content=\"No need to apologize! It's fine. How can I assist you today? Feel free to ask about the weather or anything else.\", additional_kwargs={}, response_metadata={'token_usage': {'completion_tokens': 234, 'prompt_tokens': 230, 'total_tokens': 464, 'completion_time': 1.0203492, 'prompt_time': 0.029777806, 'queue_time': 0.043765024, 'total_time': 1.050127006}, 'model_name': 'deepseek-r1-distill-llama-70b', 'system_fingerprint': 'fp_76307ac09b', 'finish_reason': 'stop', 'logprobs': None}, id='run--34b8883b-25a0-47c2-aae8-a49755ce5426-0', usage_metadata={'input_tokens': 230, 'output_tokens': 234, 'total_tokens': 464})]}"
      ]
     },
     "execution_count": 7,
     "metadata": {},
     "output_type": "execute_result"
    }
   ],
   "source": [
    "config = {\"configurable\": {\"thread_id\": \"1\"}}\n",
    "\n",
    "res3 = graph.invoke(\n",
    "    {\"messages\": HumanMessage(content=\"Sorry, did I already introduce myself\")},\n",
    "    config=config\n",
    ")\n",
    "res3"
   ]
  },
  {
   "cell_type": "code",
   "execution_count": 8,
   "id": "e5a3350d",
   "metadata": {},
   "outputs": [
    {
     "data": {
      "text/plain": [
       "()"
      ]
     },
     "execution_count": 8,
     "metadata": {},
     "output_type": "execute_result"
    }
   ],
   "source": [
    "snapshot = graph.get_state(config)\n",
    "\n",
    "snapshot.next"
   ]
  },
  {
   "cell_type": "code",
   "execution_count": 9,
   "id": "cf3c4709",
   "metadata": {},
   "outputs": [
    {
     "data": {
      "text/plain": [
       "{'messages': [HumanMessage(content='Hello, I am SSH', additional_kwargs={}, response_metadata={}, id='86732c03-18ad-4422-b313-a579499638e7'),\n",
       "  AIMessage(content=\"It seems like you might be trying to use one of the tools provided. Could you please specify which function you'd like to use and provide the required location? For example, you can ask me to call `get_weather` or `broken_api` with a specific location.\", additional_kwargs={}, response_metadata={'token_usage': {'completion_tokens': 231, 'prompt_tokens': 165, 'total_tokens': 396, 'completion_time': 1.037724466, 'prompt_time': 0.024057843, 'queue_time': 0.049420456, 'total_time': 1.061782309}, 'model_name': 'deepseek-r1-distill-llama-70b', 'system_fingerprint': 'fp_1bbe7845ec', 'finish_reason': 'stop', 'logprobs': None}, id='run--d6f81ff6-7d6d-4c60-9af4-9077b388bce6-0', usage_metadata={'input_tokens': 165, 'output_tokens': 231, 'total_tokens': 396}),\n",
       "  HumanMessage(content='Sorry, did I already introduce myself', additional_kwargs={}, response_metadata={}, id='c04df7a6-c240-44f7-8c5b-593631f1f6e5'),\n",
       "  AIMessage(content=\"No need to apologize! It's fine. How can I assist you today? Feel free to ask about the weather or anything else.\", additional_kwargs={}, response_metadata={'token_usage': {'completion_tokens': 234, 'prompt_tokens': 230, 'total_tokens': 464, 'completion_time': 1.0203492, 'prompt_time': 0.029777806, 'queue_time': 0.043765024, 'total_time': 1.050127006}, 'model_name': 'deepseek-r1-distill-llama-70b', 'system_fingerprint': 'fp_76307ac09b', 'finish_reason': 'stop', 'logprobs': None}, id='run--34b8883b-25a0-47c2-aae8-a49755ce5426-0', usage_metadata={'input_tokens': 230, 'output_tokens': 234, 'total_tokens': 464})]}"
      ]
     },
     "execution_count": 9,
     "metadata": {},
     "output_type": "execute_result"
    }
   ],
   "source": [
    "snapshot.values"
   ]
  },
  {
   "cell_type": "code",
   "execution_count": 10,
   "id": "56f3b862",
   "metadata": {},
   "outputs": [
    {
     "data": {
      "text/plain": [
       "{'messages': [HumanMessage(content='Hello, I am SSH', additional_kwargs={}, response_metadata={}, id='86732c03-18ad-4422-b313-a579499638e7'),\n",
       "  AIMessage(content=\"It seems like you might be trying to use one of the tools provided. Could you please specify which function you'd like to use and provide the required location? For example, you can ask me to call `get_weather` or `broken_api` with a specific location.\", additional_kwargs={}, response_metadata={'token_usage': {'completion_tokens': 231, 'prompt_tokens': 165, 'total_tokens': 396, 'completion_time': 1.037724466, 'prompt_time': 0.024057843, 'queue_time': 0.049420456, 'total_time': 1.061782309}, 'model_name': 'deepseek-r1-distill-llama-70b', 'system_fingerprint': 'fp_1bbe7845ec', 'finish_reason': 'stop', 'logprobs': None}, id='run--d6f81ff6-7d6d-4c60-9af4-9077b388bce6-0', usage_metadata={'input_tokens': 165, 'output_tokens': 231, 'total_tokens': 396}),\n",
       "  HumanMessage(content='Sorry, did I already introduce myself', additional_kwargs={}, response_metadata={}, id='c04df7a6-c240-44f7-8c5b-593631f1f6e5'),\n",
       "  AIMessage(content=\"No need to apologize! It's fine. How can I assist you today? Feel free to ask about the weather or anything else.\", additional_kwargs={}, response_metadata={'token_usage': {'completion_tokens': 234, 'prompt_tokens': 230, 'total_tokens': 464, 'completion_time': 1.0203492, 'prompt_time': 0.029777806, 'queue_time': 0.043765024, 'total_time': 1.050127006}, 'model_name': 'deepseek-r1-distill-llama-70b', 'system_fingerprint': 'fp_76307ac09b', 'finish_reason': 'stop', 'logprobs': None}, id='run--34b8883b-25a0-47c2-aae8-a49755ce5426-0', usage_metadata={'input_tokens': 230, 'output_tokens': 234, 'total_tokens': 464})]}"
      ]
     },
     "execution_count": 10,
     "metadata": {},
     "output_type": "execute_result"
    }
   ],
   "source": [
    "graph.invoke(None, config=config)"
   ]
  },
  {
   "cell_type": "code",
   "execution_count": 11,
   "id": "c834f000",
   "metadata": {},
   "outputs": [
    {
     "data": {
      "text/plain": [
       "{'messages': [HumanMessage(content='How is the weather in Bengaluru??', additional_kwargs={}, response_metadata={}, id='cbae0167-2f21-4575-ad98-00bd8e619096'),\n",
       "  AIMessage(content='', additional_kwargs={'tool_calls': [{'id': 'kc3ka9vdw', 'function': {'arguments': '{\"location\":\"Bengaluru\"}', 'name': 'get_weather'}, 'type': 'function'}]}, response_metadata={'token_usage': {'completion_tokens': 136, 'prompt_tokens': 168, 'total_tokens': 304, 'completion_time': 0.555419552, 'prompt_time': 0.024124015, 'queue_time': 0.043395485, 'total_time': 0.579543567}, 'model_name': 'deepseek-r1-distill-llama-70b', 'system_fingerprint': 'fp_76307ac09b', 'finish_reason': 'tool_calls', 'logprobs': None}, id='run--7bba144a-2ddd-4046-a186-55f6f76ec26f-0', tool_calls=[{'name': 'get_weather', 'args': {'location': 'Bengaluru'}, 'id': 'kc3ka9vdw', 'type': 'tool_call'}], usage_metadata={'input_tokens': 168, 'output_tokens': 136, 'total_tokens': 304})]}"
      ]
     },
     "execution_count": 11,
     "metadata": {},
     "output_type": "execute_result"
    }
   ],
   "source": [
    "config = {\"configurable\": {\"thread_id\": \"3\"}}\n",
    "\n",
    "res3 = graph.invoke(\n",
    "    {\"messages\": HumanMessage(content=\"How is the weather in Bengaluru??\")},\n",
    "    config=config\n",
    ")\n",
    "res3"
   ]
  },
  {
   "cell_type": "code",
   "execution_count": 12,
   "id": "9df02376",
   "metadata": {},
   "outputs": [
    {
     "data": {
      "text/plain": [
       "('tools',)"
      ]
     },
     "execution_count": 12,
     "metadata": {},
     "output_type": "execute_result"
    }
   ],
   "source": [
    "snapshot = graph.get_state(config)\n",
    "\n",
    "snapshot.next"
   ]
  },
  {
   "cell_type": "code",
   "execution_count": 13,
   "id": "8461e493",
   "metadata": {},
   "outputs": [
    {
     "data": {
      "text/plain": [
       "{'messages': [HumanMessage(content='How is the weather in Bengaluru??', additional_kwargs={}, response_metadata={}, id='cbae0167-2f21-4575-ad98-00bd8e619096'),\n",
       "  AIMessage(content='', additional_kwargs={'tool_calls': [{'id': 'kc3ka9vdw', 'function': {'arguments': '{\"location\":\"Bengaluru\"}', 'name': 'get_weather'}, 'type': 'function'}]}, response_metadata={'token_usage': {'completion_tokens': 136, 'prompt_tokens': 168, 'total_tokens': 304, 'completion_time': 0.555419552, 'prompt_time': 0.024124015, 'queue_time': 0.043395485, 'total_time': 0.579543567}, 'model_name': 'deepseek-r1-distill-llama-70b', 'system_fingerprint': 'fp_76307ac09b', 'finish_reason': 'tool_calls', 'logprobs': None}, id='run--7bba144a-2ddd-4046-a186-55f6f76ec26f-0', tool_calls=[{'name': 'get_weather', 'args': {'location': 'Bengaluru'}, 'id': 'kc3ka9vdw', 'type': 'tool_call'}], usage_metadata={'input_tokens': 168, 'output_tokens': 136, 'total_tokens': 304}),\n",
       "  ToolMessage(content='It is 15 degrees Celsius and cloudy.', name='get_weather', id='0e170c0c-f161-4f82-baf8-c105214622b0', tool_call_id='kc3ka9vdw'),\n",
       "  AIMessage(content='', additional_kwargs={'tool_calls': [{'id': '5cgd6fe4d', 'function': {'arguments': '{\"location\":\"Bengaluru\"}', 'name': 'get_weather'}, 'type': 'function'}]}, response_metadata={'token_usage': {'completion_tokens': 187, 'prompt_tokens': 228, 'total_tokens': 415, 'completion_time': 0.704001685, 'prompt_time': 0.029551266, 'queue_time': 0.048764884, 'total_time': 0.733552951}, 'model_name': 'deepseek-r1-distill-llama-70b', 'system_fingerprint': 'fp_1bbe7845ec', 'finish_reason': 'tool_calls', 'logprobs': None}, id='run--da235aa9-96a1-458f-99e3-a404ac672144-0', tool_calls=[{'name': 'get_weather', 'args': {'location': 'Bengaluru'}, 'id': '5cgd6fe4d', 'type': 'tool_call'}], usage_metadata={'input_tokens': 228, 'output_tokens': 187, 'total_tokens': 415})]}"
      ]
     },
     "execution_count": 13,
     "metadata": {},
     "output_type": "execute_result"
    }
   ],
   "source": [
    "graph.invoke(None, config=config)"
   ]
  },
  {
   "cell_type": "markdown",
   "id": "389afa08",
   "metadata": {},
   "source": [
    "# TimeTravel"
   ]
  },
  {
   "cell_type": "code",
   "execution_count": 14,
   "id": "8315d608",
   "metadata": {},
   "outputs": [
    {
     "data": {
      "text/plain": [
       "{'messages': [HumanMessage(content='How is the weather in Bengaluru??', additional_kwargs={}, response_metadata={}, id='656a386e-0e22-40ea-a8da-81836c28681b'),\n",
       "  AIMessage(content='', additional_kwargs={'tool_calls': [{'id': 'v7x9fryd9', 'function': {'arguments': '{\"location\":\"Bengaluru\"}', 'name': 'get_weather'}, 'type': 'function'}]}, response_metadata={'token_usage': {'completion_tokens': 238, 'prompt_tokens': 168, 'total_tokens': 406, 'completion_time': 0.908823639, 'prompt_time': 0.024217093, 'queue_time': 0.043595197, 'total_time': 0.933040732}, 'model_name': 'deepseek-r1-distill-llama-70b', 'system_fingerprint': 'fp_76307ac09b', 'finish_reason': 'tool_calls', 'logprobs': None}, id='run--7be56c4c-2ae3-43ac-aaf4-31ae2cef3c4c-0', tool_calls=[{'name': 'get_weather', 'args': {'location': 'Bengaluru'}, 'id': 'v7x9fryd9', 'type': 'tool_call'}], usage_metadata={'input_tokens': 168, 'output_tokens': 238, 'total_tokens': 406})]}"
      ]
     },
     "execution_count": 14,
     "metadata": {},
     "output_type": "execute_result"
    }
   ],
   "source": [
    "config = {\"configurable\": {\"thread_id\": \"4\"}}\n",
    "\n",
    "res3 = graph.invoke(\n",
    "    {\"messages\": HumanMessage(content=\"How is the weather in Bengaluru??\")},\n",
    "    config=config\n",
    ")\n",
    "res3"
   ]
  },
  {
   "cell_type": "code",
   "execution_count": 15,
   "id": "c47c7634",
   "metadata": {},
   "outputs": [
    {
     "name": "stdout",
     "output_type": "stream",
     "text": [
      "==================================\u001b[1m Ai Message \u001b[0m==================================\n",
      "Tool Calls:\n",
      "  get_weather (v7x9fryd9)\n",
      " Call ID: v7x9fryd9\n",
      "  Args:\n",
      "    location: Bengaluru\n"
     ]
    }
   ],
   "source": [
    "snapshot = graph.get_state(config)\n",
    "existing_message = snapshot.values['messages'][-1]\n",
    "existing_message.pretty_print()"
   ]
  },
  {
   "cell_type": "code",
   "execution_count": 16,
   "id": "a3c0291e",
   "metadata": {},
   "outputs": [
    {
     "data": {
      "text/plain": [
       "{'configurable': {'thread_id': '4',\n",
       "  'checkpoint_ns': '',\n",
       "  'checkpoint_id': '1f083d1a-cb65-65a6-8002-b8518c702203'}}"
      ]
     },
     "execution_count": 16,
     "metadata": {},
     "output_type": "execute_result"
    }
   ],
   "source": [
    "from langchain_core.messages import AIMessage, HumanMessage, ToolMessage\n",
    "\n",
    "answer = \"It is only 5 degree Celsius warm today.\"\n",
    "\n",
    "new_messages = [\n",
    "    ToolMessage(content=answer, tool_call_id=existing_message.tool_calls[0]['id']),\n",
    "    AIMessage(content=answer)\n",
    "]\n",
    "\n",
    "graph.update_state(config, {\"messages\": new_messages})"
   ]
  },
  {
   "cell_type": "code",
   "execution_count": 17,
   "id": "cda120ea",
   "metadata": {},
   "outputs": [
    {
     "name": "stdout",
     "output_type": "stream",
     "text": [
      "[HumanMessage(content='How is the weather in Bengaluru??', additional_kwargs={}, response_metadata={}, id='656a386e-0e22-40ea-a8da-81836c28681b'), AIMessage(content='', additional_kwargs={'tool_calls': [{'id': 'v7x9fryd9', 'function': {'arguments': '{\"location\":\"Bengaluru\"}', 'name': 'get_weather'}, 'type': 'function'}]}, response_metadata={'token_usage': {'completion_tokens': 238, 'prompt_tokens': 168, 'total_tokens': 406, 'completion_time': 0.908823639, 'prompt_time': 0.024217093, 'queue_time': 0.043595197, 'total_time': 0.933040732}, 'model_name': 'deepseek-r1-distill-llama-70b', 'system_fingerprint': 'fp_76307ac09b', 'finish_reason': 'tool_calls', 'logprobs': None}, id='run--7be56c4c-2ae3-43ac-aaf4-31ae2cef3c4c-0', tool_calls=[{'name': 'get_weather', 'args': {'location': 'Bengaluru'}, 'id': 'v7x9fryd9', 'type': 'tool_call'}], usage_metadata={'input_tokens': 168, 'output_tokens': 238, 'total_tokens': 406}), ToolMessage(content='It is only 5 degree Celsius warm today.', id='2d57b516-956b-44af-bd59-df7aaa29f4b1', tool_call_id='v7x9fryd9'), AIMessage(content='It is only 5 degree Celsius warm today.', additional_kwargs={}, response_metadata={}, id='2ec0ddcb-eb3c-45c6-8fb6-8e16070a6311')]\n"
     ]
    }
   ],
   "source": [
    "print((graph.get_state(config).values['messages']))"
   ]
  },
  {
   "cell_type": "code",
   "execution_count": 18,
   "id": "81209012",
   "metadata": {},
   "outputs": [
    {
     "data": {
      "text/plain": [
       "{'messages': [HumanMessage(content='How is the weather in Bengaluru??', additional_kwargs={}, response_metadata={}, id='656a386e-0e22-40ea-a8da-81836c28681b'),\n",
       "  AIMessage(content='', additional_kwargs={'tool_calls': [{'id': 'v7x9fryd9', 'function': {'arguments': '{\"location\":\"Bengaluru\"}', 'name': 'get_weather'}, 'type': 'function'}]}, response_metadata={'token_usage': {'completion_tokens': 238, 'prompt_tokens': 168, 'total_tokens': 406, 'completion_time': 0.908823639, 'prompt_time': 0.024217093, 'queue_time': 0.043595197, 'total_time': 0.933040732}, 'model_name': 'deepseek-r1-distill-llama-70b', 'system_fingerprint': 'fp_76307ac09b', 'finish_reason': 'tool_calls', 'logprobs': None}, id='run--7be56c4c-2ae3-43ac-aaf4-31ae2cef3c4c-0', tool_calls=[{'name': 'get_weather', 'args': {'location': 'Bengaluru'}, 'id': 'v7x9fryd9', 'type': 'tool_call'}], usage_metadata={'input_tokens': 168, 'output_tokens': 238, 'total_tokens': 406}),\n",
       "  ToolMessage(content='It is only 5 degree Celsius warm today.', id='2d57b516-956b-44af-bd59-df7aaa29f4b1', tool_call_id='v7x9fryd9'),\n",
       "  AIMessage(content='It is only 5 degree Celsius warm today.', additional_kwargs={}, response_metadata={}, id='2ec0ddcb-eb3c-45c6-8fb6-8e16070a6311'),\n",
       "  HumanMessage(content='How warm was it again?', additional_kwargs={}, response_metadata={}, id='214de028-7f25-46ee-b40f-026e9ef794db'),\n",
       "  AIMessage(content='', additional_kwargs={'tool_calls': [{'id': 'zy2xkwx91', 'function': {'arguments': '{\"location\":\"Bengaluru\"}', 'name': 'get_weather'}, 'type': 'function'}]}, response_metadata={'token_usage': {'completion_tokens': 318, 'prompt_tokens': 250, 'total_tokens': 568, 'completion_time': 1.406810868, 'prompt_time': 0.031530981, 'queue_time': 0.050774849, 'total_time': 1.438341849}, 'model_name': 'deepseek-r1-distill-llama-70b', 'system_fingerprint': 'fp_76307ac09b', 'finish_reason': 'tool_calls', 'logprobs': None}, id='run--be240edd-1487-4778-819a-9d428ae8ca1f-0', tool_calls=[{'name': 'get_weather', 'args': {'location': 'Bengaluru'}, 'id': 'zy2xkwx91', 'type': 'tool_call'}], usage_metadata={'input_tokens': 250, 'output_tokens': 318, 'total_tokens': 568})]}"
      ]
     },
     "execution_count": 18,
     "metadata": {},
     "output_type": "execute_result"
    }
   ],
   "source": [
    "graph.invoke({\"messages\": HumanMessage(content=\"How warm was it again?\")}, config=config)"
   ]
  },
  {
   "cell_type": "code",
   "execution_count": 19,
   "id": "db9357f5",
   "metadata": {},
   "outputs": [
    {
     "data": {
      "text/plain": [
       "{'messages': [HumanMessage(content='How is the weather in Bengaluru??', additional_kwargs={}, response_metadata={}, id='656a386e-0e22-40ea-a8da-81836c28681b'),\n",
       "  AIMessage(content='', additional_kwargs={'tool_calls': [{'id': 'v7x9fryd9', 'function': {'arguments': '{\"location\":\"Bengaluru\"}', 'name': 'get_weather'}, 'type': 'function'}]}, response_metadata={'token_usage': {'completion_tokens': 238, 'prompt_tokens': 168, 'total_tokens': 406, 'completion_time': 0.908823639, 'prompt_time': 0.024217093, 'queue_time': 0.043595197, 'total_time': 0.933040732}, 'model_name': 'deepseek-r1-distill-llama-70b', 'system_fingerprint': 'fp_76307ac09b', 'finish_reason': 'tool_calls', 'logprobs': None}, id='run--7be56c4c-2ae3-43ac-aaf4-31ae2cef3c4c-0', tool_calls=[{'name': 'get_weather', 'args': {'location': 'Bengaluru'}, 'id': 'v7x9fryd9', 'type': 'tool_call'}], usage_metadata={'input_tokens': 168, 'output_tokens': 238, 'total_tokens': 406}),\n",
       "  ToolMessage(content='It is only 5 degree Celsius warm today.', id='2d57b516-956b-44af-bd59-df7aaa29f4b1', tool_call_id='v7x9fryd9'),\n",
       "  AIMessage(content='It is only 5 degree Celsius warm today.', additional_kwargs={}, response_metadata={}, id='2ec0ddcb-eb3c-45c6-8fb6-8e16070a6311'),\n",
       "  HumanMessage(content='How warm was it again?', additional_kwargs={}, response_metadata={}, id='214de028-7f25-46ee-b40f-026e9ef794db'),\n",
       "  AIMessage(content='', additional_kwargs={'tool_calls': [{'id': 'zy2xkwx91', 'function': {'arguments': '{\"location\":\"Bengaluru\"}', 'name': 'get_weather'}, 'type': 'function'}]}, response_metadata={'token_usage': {'completion_tokens': 318, 'prompt_tokens': 250, 'total_tokens': 568, 'completion_time': 1.406810868, 'prompt_time': 0.031530981, 'queue_time': 0.050774849, 'total_time': 1.438341849}, 'model_name': 'deepseek-r1-distill-llama-70b', 'system_fingerprint': 'fp_76307ac09b', 'finish_reason': 'tool_calls', 'logprobs': None}, id='run--be240edd-1487-4778-819a-9d428ae8ca1f-0', tool_calls=[{'name': 'get_weather', 'args': {'location': 'Bengaluru'}, 'id': 'zy2xkwx91', 'type': 'tool_call'}], usage_metadata={'input_tokens': 250, 'output_tokens': 318, 'total_tokens': 568}),\n",
       "  ToolMessage(content='It is 15 degrees Celsius and cloudy.', name='get_weather', id='2021087e-6db5-4e23-a524-00a97f43b833', tool_call_id='zy2xkwx91'),\n",
       "  AIMessage(content='It is 15 degrees Celsius and cloudy today.', additional_kwargs={}, response_metadata={'token_usage': {'completion_tokens': 160, 'prompt_tokens': 310, 'total_tokens': 470, 'completion_time': 0.756338595, 'prompt_time': 0.044938704, 'queue_time': 0.062051376, 'total_time': 0.801277299}, 'model_name': 'deepseek-r1-distill-llama-70b', 'system_fingerprint': 'fp_1bbe7845ec', 'finish_reason': 'stop', 'logprobs': None}, id='run--9a165dae-b26e-4e84-852c-217181f19680-0', usage_metadata={'input_tokens': 310, 'output_tokens': 160, 'total_tokens': 470})]}"
      ]
     },
     "execution_count": 19,
     "metadata": {},
     "output_type": "execute_result"
    }
   ],
   "source": [
    "graph.invoke(None, config=config)\n"
   ]
  },
  {
   "cell_type": "markdown",
   "id": "6943d86a",
   "metadata": {},
   "source": [
    "# Replay"
   ]
  },
  {
   "cell_type": "code",
   "execution_count": 20,
   "id": "fb08ed0a",
   "metadata": {},
   "outputs": [
    {
     "data": {
      "text/plain": [
       "[StateSnapshot(values={'messages': [HumanMessage(content='How is the weather in Bengaluru??', additional_kwargs={}, response_metadata={}, id='656a386e-0e22-40ea-a8da-81836c28681b'), AIMessage(content='', additional_kwargs={'tool_calls': [{'id': 'v7x9fryd9', 'function': {'arguments': '{\"location\":\"Bengaluru\"}', 'name': 'get_weather'}, 'type': 'function'}]}, response_metadata={'token_usage': {'completion_tokens': 238, 'prompt_tokens': 168, 'total_tokens': 406, 'completion_time': 0.908823639, 'prompt_time': 0.024217093, 'queue_time': 0.043595197, 'total_time': 0.933040732}, 'model_name': 'deepseek-r1-distill-llama-70b', 'system_fingerprint': 'fp_76307ac09b', 'finish_reason': 'tool_calls', 'logprobs': None}, id='run--7be56c4c-2ae3-43ac-aaf4-31ae2cef3c4c-0', tool_calls=[{'name': 'get_weather', 'args': {'location': 'Bengaluru'}, 'id': 'v7x9fryd9', 'type': 'tool_call'}], usage_metadata={'input_tokens': 168, 'output_tokens': 238, 'total_tokens': 406}), ToolMessage(content='It is only 5 degree Celsius warm today.', id='2d57b516-956b-44af-bd59-df7aaa29f4b1', tool_call_id='v7x9fryd9'), AIMessage(content='It is only 5 degree Celsius warm today.', additional_kwargs={}, response_metadata={}, id='2ec0ddcb-eb3c-45c6-8fb6-8e16070a6311'), HumanMessage(content='How warm was it again?', additional_kwargs={}, response_metadata={}, id='214de028-7f25-46ee-b40f-026e9ef794db'), AIMessage(content='', additional_kwargs={'tool_calls': [{'id': 'zy2xkwx91', 'function': {'arguments': '{\"location\":\"Bengaluru\"}', 'name': 'get_weather'}, 'type': 'function'}]}, response_metadata={'token_usage': {'completion_tokens': 318, 'prompt_tokens': 250, 'total_tokens': 568, 'completion_time': 1.406810868, 'prompt_time': 0.031530981, 'queue_time': 0.050774849, 'total_time': 1.438341849}, 'model_name': 'deepseek-r1-distill-llama-70b', 'system_fingerprint': 'fp_76307ac09b', 'finish_reason': 'tool_calls', 'logprobs': None}, id='run--be240edd-1487-4778-819a-9d428ae8ca1f-0', tool_calls=[{'name': 'get_weather', 'args': {'location': 'Bengaluru'}, 'id': 'zy2xkwx91', 'type': 'tool_call'}], usage_metadata={'input_tokens': 250, 'output_tokens': 318, 'total_tokens': 568}), ToolMessage(content='It is 15 degrees Celsius and cloudy.', name='get_weather', id='2021087e-6db5-4e23-a524-00a97f43b833', tool_call_id='zy2xkwx91'), AIMessage(content='It is 15 degrees Celsius and cloudy today.', additional_kwargs={}, response_metadata={'token_usage': {'completion_tokens': 160, 'prompt_tokens': 310, 'total_tokens': 470, 'completion_time': 0.756338595, 'prompt_time': 0.044938704, 'queue_time': 0.062051376, 'total_time': 0.801277299}, 'model_name': 'deepseek-r1-distill-llama-70b', 'system_fingerprint': 'fp_1bbe7845ec', 'finish_reason': 'stop', 'logprobs': None}, id='run--9a165dae-b26e-4e84-852c-217181f19680-0', usage_metadata={'input_tokens': 310, 'output_tokens': 160, 'total_tokens': 470})]}, next=(), config={'configurable': {'thread_id': '4', 'checkpoint_ns': '', 'checkpoint_id': '1f083d1a-e338-6eef-8007-27b074356557'}}, metadata={'source': 'loop', 'step': 7, 'parents': {}}, created_at='2025-08-28T05:41:44.250340+00:00', parent_config={'configurable': {'thread_id': '4', 'checkpoint_ns': '', 'checkpoint_id': '1f083d1a-da7d-6d19-8006-6276ac2e53e0'}}, tasks=(), interrupts=()),\n",
       " StateSnapshot(values={'messages': [HumanMessage(content='How is the weather in Bengaluru??', additional_kwargs={}, response_metadata={}, id='656a386e-0e22-40ea-a8da-81836c28681b'), AIMessage(content='', additional_kwargs={'tool_calls': [{'id': 'v7x9fryd9', 'function': {'arguments': '{\"location\":\"Bengaluru\"}', 'name': 'get_weather'}, 'type': 'function'}]}, response_metadata={'token_usage': {'completion_tokens': 238, 'prompt_tokens': 168, 'total_tokens': 406, 'completion_time': 0.908823639, 'prompt_time': 0.024217093, 'queue_time': 0.043595197, 'total_time': 0.933040732}, 'model_name': 'deepseek-r1-distill-llama-70b', 'system_fingerprint': 'fp_76307ac09b', 'finish_reason': 'tool_calls', 'logprobs': None}, id='run--7be56c4c-2ae3-43ac-aaf4-31ae2cef3c4c-0', tool_calls=[{'name': 'get_weather', 'args': {'location': 'Bengaluru'}, 'id': 'v7x9fryd9', 'type': 'tool_call'}], usage_metadata={'input_tokens': 168, 'output_tokens': 238, 'total_tokens': 406}), ToolMessage(content='It is only 5 degree Celsius warm today.', id='2d57b516-956b-44af-bd59-df7aaa29f4b1', tool_call_id='v7x9fryd9'), AIMessage(content='It is only 5 degree Celsius warm today.', additional_kwargs={}, response_metadata={}, id='2ec0ddcb-eb3c-45c6-8fb6-8e16070a6311'), HumanMessage(content='How warm was it again?', additional_kwargs={}, response_metadata={}, id='214de028-7f25-46ee-b40f-026e9ef794db'), AIMessage(content='', additional_kwargs={'tool_calls': [{'id': 'zy2xkwx91', 'function': {'arguments': '{\"location\":\"Bengaluru\"}', 'name': 'get_weather'}, 'type': 'function'}]}, response_metadata={'token_usage': {'completion_tokens': 318, 'prompt_tokens': 250, 'total_tokens': 568, 'completion_time': 1.406810868, 'prompt_time': 0.031530981, 'queue_time': 0.050774849, 'total_time': 1.438341849}, 'model_name': 'deepseek-r1-distill-llama-70b', 'system_fingerprint': 'fp_76307ac09b', 'finish_reason': 'tool_calls', 'logprobs': None}, id='run--be240edd-1487-4778-819a-9d428ae8ca1f-0', tool_calls=[{'name': 'get_weather', 'args': {'location': 'Bengaluru'}, 'id': 'zy2xkwx91', 'type': 'tool_call'}], usage_metadata={'input_tokens': 250, 'output_tokens': 318, 'total_tokens': 568}), ToolMessage(content='It is 15 degrees Celsius and cloudy.', name='get_weather', id='2021087e-6db5-4e23-a524-00a97f43b833', tool_call_id='zy2xkwx91')]}, next=('chatbot',), config={'configurable': {'thread_id': '4', 'checkpoint_ns': '', 'checkpoint_id': '1f083d1a-da7d-6d19-8006-6276ac2e53e0'}}, metadata={'source': 'loop', 'step': 6, 'parents': {}}, created_at='2025-08-28T05:41:43.334837+00:00', parent_config={'configurable': {'thread_id': '4', 'checkpoint_ns': '', 'checkpoint_id': '1f083d1a-da56-6ed9-8005-56ff5f4ee501'}}, tasks=(PregelTask(id='59ae7231-a2cf-c239-adef-4a428953b4e0', name='chatbot', path=('__pregel_pull', 'chatbot'), error=None, interrupts=(), state=None, result={'messages': [AIMessage(content='It is 15 degrees Celsius and cloudy today.', additional_kwargs={}, response_metadata={'token_usage': {'completion_tokens': 160, 'prompt_tokens': 310, 'total_tokens': 470, 'completion_time': 0.756338595, 'prompt_time': 0.044938704, 'queue_time': 0.062051376, 'total_time': 0.801277299}, 'model_name': 'deepseek-r1-distill-llama-70b', 'system_fingerprint': 'fp_1bbe7845ec', 'finish_reason': 'stop', 'logprobs': None}, id='run--9a165dae-b26e-4e84-852c-217181f19680-0', usage_metadata={'input_tokens': 310, 'output_tokens': 160, 'total_tokens': 470})]}),), interrupts=()),\n",
       " StateSnapshot(values={'messages': [HumanMessage(content='How is the weather in Bengaluru??', additional_kwargs={}, response_metadata={}, id='656a386e-0e22-40ea-a8da-81836c28681b'), AIMessage(content='', additional_kwargs={'tool_calls': [{'id': 'v7x9fryd9', 'function': {'arguments': '{\"location\":\"Bengaluru\"}', 'name': 'get_weather'}, 'type': 'function'}]}, response_metadata={'token_usage': {'completion_tokens': 238, 'prompt_tokens': 168, 'total_tokens': 406, 'completion_time': 0.908823639, 'prompt_time': 0.024217093, 'queue_time': 0.043595197, 'total_time': 0.933040732}, 'model_name': 'deepseek-r1-distill-llama-70b', 'system_fingerprint': 'fp_76307ac09b', 'finish_reason': 'tool_calls', 'logprobs': None}, id='run--7be56c4c-2ae3-43ac-aaf4-31ae2cef3c4c-0', tool_calls=[{'name': 'get_weather', 'args': {'location': 'Bengaluru'}, 'id': 'v7x9fryd9', 'type': 'tool_call'}], usage_metadata={'input_tokens': 168, 'output_tokens': 238, 'total_tokens': 406}), ToolMessage(content='It is only 5 degree Celsius warm today.', id='2d57b516-956b-44af-bd59-df7aaa29f4b1', tool_call_id='v7x9fryd9'), AIMessage(content='It is only 5 degree Celsius warm today.', additional_kwargs={}, response_metadata={}, id='2ec0ddcb-eb3c-45c6-8fb6-8e16070a6311'), HumanMessage(content='How warm was it again?', additional_kwargs={}, response_metadata={}, id='214de028-7f25-46ee-b40f-026e9ef794db'), AIMessage(content='', additional_kwargs={'tool_calls': [{'id': 'zy2xkwx91', 'function': {'arguments': '{\"location\":\"Bengaluru\"}', 'name': 'get_weather'}, 'type': 'function'}]}, response_metadata={'token_usage': {'completion_tokens': 318, 'prompt_tokens': 250, 'total_tokens': 568, 'completion_time': 1.406810868, 'prompt_time': 0.031530981, 'queue_time': 0.050774849, 'total_time': 1.438341849}, 'model_name': 'deepseek-r1-distill-llama-70b', 'system_fingerprint': 'fp_76307ac09b', 'finish_reason': 'tool_calls', 'logprobs': None}, id='run--be240edd-1487-4778-819a-9d428ae8ca1f-0', tool_calls=[{'name': 'get_weather', 'args': {'location': 'Bengaluru'}, 'id': 'zy2xkwx91', 'type': 'tool_call'}], usage_metadata={'input_tokens': 250, 'output_tokens': 318, 'total_tokens': 568})]}, next=('tools',), config={'configurable': {'thread_id': '4', 'checkpoint_ns': '', 'checkpoint_id': '1f083d1a-da56-6ed9-8005-56ff5f4ee501'}}, metadata={'source': 'loop', 'step': 5, 'parents': {}}, created_at='2025-08-28T05:41:43.318908+00:00', parent_config={'configurable': {'thread_id': '4', 'checkpoint_ns': '', 'checkpoint_id': '1f083d1a-cba7-65a0-8004-5a915fffcb38'}}, tasks=(PregelTask(id='c1e3085c-9048-5700-9846-7d48e646a85f', name='tools', path=('__pregel_pull', 'tools'), error=None, interrupts=(), state=None, result={'messages': [ToolMessage(content='It is 15 degrees Celsius and cloudy.', name='get_weather', tool_call_id='zy2xkwx91')]}),), interrupts=()),\n",
       " StateSnapshot(values={'messages': [HumanMessage(content='How is the weather in Bengaluru??', additional_kwargs={}, response_metadata={}, id='656a386e-0e22-40ea-a8da-81836c28681b'), AIMessage(content='', additional_kwargs={'tool_calls': [{'id': 'v7x9fryd9', 'function': {'arguments': '{\"location\":\"Bengaluru\"}', 'name': 'get_weather'}, 'type': 'function'}]}, response_metadata={'token_usage': {'completion_tokens': 238, 'prompt_tokens': 168, 'total_tokens': 406, 'completion_time': 0.908823639, 'prompt_time': 0.024217093, 'queue_time': 0.043595197, 'total_time': 0.933040732}, 'model_name': 'deepseek-r1-distill-llama-70b', 'system_fingerprint': 'fp_76307ac09b', 'finish_reason': 'tool_calls', 'logprobs': None}, id='run--7be56c4c-2ae3-43ac-aaf4-31ae2cef3c4c-0', tool_calls=[{'name': 'get_weather', 'args': {'location': 'Bengaluru'}, 'id': 'v7x9fryd9', 'type': 'tool_call'}], usage_metadata={'input_tokens': 168, 'output_tokens': 238, 'total_tokens': 406}), ToolMessage(content='It is only 5 degree Celsius warm today.', id='2d57b516-956b-44af-bd59-df7aaa29f4b1', tool_call_id='v7x9fryd9'), AIMessage(content='It is only 5 degree Celsius warm today.', additional_kwargs={}, response_metadata={}, id='2ec0ddcb-eb3c-45c6-8fb6-8e16070a6311'), HumanMessage(content='How warm was it again?', additional_kwargs={}, response_metadata={}, id='214de028-7f25-46ee-b40f-026e9ef794db')]}, next=('chatbot',), config={'configurable': {'thread_id': '4', 'checkpoint_ns': '', 'checkpoint_id': '1f083d1a-cba7-65a0-8004-5a915fffcb38'}}, metadata={'source': 'loop', 'step': 4, 'parents': {}}, created_at='2025-08-28T05:41:41.778985+00:00', parent_config={'configurable': {'thread_id': '4', 'checkpoint_ns': '', 'checkpoint_id': '1f083d1a-cba2-6790-8003-d23ce486c013'}}, tasks=(PregelTask(id='36683b71-439b-7f8b-876a-f6c5eb1b0f6d', name='chatbot', path=('__pregel_pull', 'chatbot'), error=None, interrupts=(), state=None, result={'messages': [AIMessage(content='', additional_kwargs={'tool_calls': [{'id': 'zy2xkwx91', 'function': {'arguments': '{\"location\":\"Bengaluru\"}', 'name': 'get_weather'}, 'type': 'function'}]}, response_metadata={'token_usage': {'completion_tokens': 318, 'prompt_tokens': 250, 'total_tokens': 568, 'completion_time': 1.406810868, 'prompt_time': 0.031530981, 'queue_time': 0.050774849, 'total_time': 1.438341849}, 'model_name': 'deepseek-r1-distill-llama-70b', 'system_fingerprint': 'fp_76307ac09b', 'finish_reason': 'tool_calls', 'logprobs': None}, id='run--be240edd-1487-4778-819a-9d428ae8ca1f-0', tool_calls=[{'name': 'get_weather', 'args': {'location': 'Bengaluru'}, 'id': 'zy2xkwx91', 'type': 'tool_call'}], usage_metadata={'input_tokens': 250, 'output_tokens': 318, 'total_tokens': 568})]}),), interrupts=()),\n",
       " StateSnapshot(values={'messages': [HumanMessage(content='How is the weather in Bengaluru??', additional_kwargs={}, response_metadata={}, id='656a386e-0e22-40ea-a8da-81836c28681b'), AIMessage(content='', additional_kwargs={'tool_calls': [{'id': 'v7x9fryd9', 'function': {'arguments': '{\"location\":\"Bengaluru\"}', 'name': 'get_weather'}, 'type': 'function'}]}, response_metadata={'token_usage': {'completion_tokens': 238, 'prompt_tokens': 168, 'total_tokens': 406, 'completion_time': 0.908823639, 'prompt_time': 0.024217093, 'queue_time': 0.043595197, 'total_time': 0.933040732}, 'model_name': 'deepseek-r1-distill-llama-70b', 'system_fingerprint': 'fp_76307ac09b', 'finish_reason': 'tool_calls', 'logprobs': None}, id='run--7be56c4c-2ae3-43ac-aaf4-31ae2cef3c4c-0', tool_calls=[{'name': 'get_weather', 'args': {'location': 'Bengaluru'}, 'id': 'v7x9fryd9', 'type': 'tool_call'}], usage_metadata={'input_tokens': 168, 'output_tokens': 238, 'total_tokens': 406}), ToolMessage(content='It is only 5 degree Celsius warm today.', id='2d57b516-956b-44af-bd59-df7aaa29f4b1', tool_call_id='v7x9fryd9'), AIMessage(content='It is only 5 degree Celsius warm today.', additional_kwargs={}, response_metadata={}, id='2ec0ddcb-eb3c-45c6-8fb6-8e16070a6311')]}, next=('__start__',), config={'configurable': {'thread_id': '4', 'checkpoint_ns': '', 'checkpoint_id': '1f083d1a-cba2-6790-8003-d23ce486c013'}}, metadata={'source': 'input', 'step': 3, 'parents': {}}, created_at='2025-08-28T05:41:41.776987+00:00', parent_config={'configurable': {'thread_id': '4', 'checkpoint_ns': '', 'checkpoint_id': '1f083d1a-cb65-65a6-8002-b8518c702203'}}, tasks=(PregelTask(id='36556d9a-d5eb-b734-0057-6d03b83d48b3', name='__start__', path=('__pregel_pull', '__start__'), error=None, interrupts=(), state=None, result={'messages': HumanMessage(content='How warm was it again?', additional_kwargs={}, response_metadata={}, id='214de028-7f25-46ee-b40f-026e9ef794db')}),), interrupts=()),\n",
       " StateSnapshot(values={'messages': [HumanMessage(content='How is the weather in Bengaluru??', additional_kwargs={}, response_metadata={}, id='656a386e-0e22-40ea-a8da-81836c28681b'), AIMessage(content='', additional_kwargs={'tool_calls': [{'id': 'v7x9fryd9', 'function': {'arguments': '{\"location\":\"Bengaluru\"}', 'name': 'get_weather'}, 'type': 'function'}]}, response_metadata={'token_usage': {'completion_tokens': 238, 'prompt_tokens': 168, 'total_tokens': 406, 'completion_time': 0.908823639, 'prompt_time': 0.024217093, 'queue_time': 0.043595197, 'total_time': 0.933040732}, 'model_name': 'deepseek-r1-distill-llama-70b', 'system_fingerprint': 'fp_76307ac09b', 'finish_reason': 'tool_calls', 'logprobs': None}, id='run--7be56c4c-2ae3-43ac-aaf4-31ae2cef3c4c-0', tool_calls=[{'name': 'get_weather', 'args': {'location': 'Bengaluru'}, 'id': 'v7x9fryd9', 'type': 'tool_call'}], usage_metadata={'input_tokens': 168, 'output_tokens': 238, 'total_tokens': 406}), ToolMessage(content='It is only 5 degree Celsius warm today.', id='2d57b516-956b-44af-bd59-df7aaa29f4b1', tool_call_id='v7x9fryd9'), AIMessage(content='It is only 5 degree Celsius warm today.', additional_kwargs={}, response_metadata={}, id='2ec0ddcb-eb3c-45c6-8fb6-8e16070a6311')]}, next=(), config={'configurable': {'thread_id': '4', 'checkpoint_ns': '', 'checkpoint_id': '1f083d1a-cb65-65a6-8002-b8518c702203'}}, metadata={'source': 'update', 'step': 2, 'parents': {}}, created_at='2025-08-28T05:41:41.751952+00:00', parent_config={'configurable': {'thread_id': '4', 'checkpoint_ns': '', 'checkpoint_id': '1f083d1a-cb11-60f2-8001-7aea98de86a3'}}, tasks=(), interrupts=()),\n",
       " StateSnapshot(values={'messages': [HumanMessage(content='How is the weather in Bengaluru??', additional_kwargs={}, response_metadata={}, id='656a386e-0e22-40ea-a8da-81836c28681b'), AIMessage(content='', additional_kwargs={'tool_calls': [{'id': 'v7x9fryd9', 'function': {'arguments': '{\"location\":\"Bengaluru\"}', 'name': 'get_weather'}, 'type': 'function'}]}, response_metadata={'token_usage': {'completion_tokens': 238, 'prompt_tokens': 168, 'total_tokens': 406, 'completion_time': 0.908823639, 'prompt_time': 0.024217093, 'queue_time': 0.043595197, 'total_time': 0.933040732}, 'model_name': 'deepseek-r1-distill-llama-70b', 'system_fingerprint': 'fp_76307ac09b', 'finish_reason': 'tool_calls', 'logprobs': None}, id='run--7be56c4c-2ae3-43ac-aaf4-31ae2cef3c4c-0', tool_calls=[{'name': 'get_weather', 'args': {'location': 'Bengaluru'}, 'id': 'v7x9fryd9', 'type': 'tool_call'}], usage_metadata={'input_tokens': 168, 'output_tokens': 238, 'total_tokens': 406})]}, next=('tools',), config={'configurable': {'thread_id': '4', 'checkpoint_ns': '', 'checkpoint_id': '1f083d1a-cb11-60f2-8001-7aea98de86a3'}}, metadata={'source': 'loop', 'step': 1, 'parents': {}}, created_at='2025-08-28T05:41:41.717425+00:00', parent_config={'configurable': {'thread_id': '4', 'checkpoint_ns': '', 'checkpoint_id': '1f083d1a-c134-6fb8-8000-311196dd36d0'}}, tasks=(PregelTask(id='af568292-ab96-6a2c-9f3b-0500ed20a729', name='tools', path=('__pregel_pull', 'tools'), error=None, interrupts=(), state=None, result=None),), interrupts=()),\n",
       " StateSnapshot(values={'messages': [HumanMessage(content='How is the weather in Bengaluru??', additional_kwargs={}, response_metadata={}, id='656a386e-0e22-40ea-a8da-81836c28681b')]}, next=('chatbot',), config={'configurable': {'thread_id': '4', 'checkpoint_ns': '', 'checkpoint_id': '1f083d1a-c134-6fb8-8000-311196dd36d0'}}, metadata={'source': 'loop', 'step': 0, 'parents': {}}, created_at='2025-08-28T05:41:40.683564+00:00', parent_config={'configurable': {'thread_id': '4', 'checkpoint_ns': '', 'checkpoint_id': '1f083d1a-c12f-6904-bfff-c894b5c1b559'}}, tasks=(PregelTask(id='69ba3a29-afb7-f226-3886-9ca4befc9631', name='chatbot', path=('__pregel_pull', 'chatbot'), error=None, interrupts=(), state=None, result={'messages': [AIMessage(content='', additional_kwargs={'tool_calls': [{'id': 'v7x9fryd9', 'function': {'arguments': '{\"location\":\"Bengaluru\"}', 'name': 'get_weather'}, 'type': 'function'}]}, response_metadata={'token_usage': {'completion_tokens': 238, 'prompt_tokens': 168, 'total_tokens': 406, 'completion_time': 0.908823639, 'prompt_time': 0.024217093, 'queue_time': 0.043595197, 'total_time': 0.933040732}, 'model_name': 'deepseek-r1-distill-llama-70b', 'system_fingerprint': 'fp_76307ac09b', 'finish_reason': 'tool_calls', 'logprobs': None}, id='run--7be56c4c-2ae3-43ac-aaf4-31ae2cef3c4c-0', tool_calls=[{'name': 'get_weather', 'args': {'location': 'Bengaluru'}, 'id': 'v7x9fryd9', 'type': 'tool_call'}], usage_metadata={'input_tokens': 168, 'output_tokens': 238, 'total_tokens': 406})]}),), interrupts=()),\n",
       " StateSnapshot(values={'messages': []}, next=('__start__',), config={'configurable': {'thread_id': '4', 'checkpoint_ns': '', 'checkpoint_id': '1f083d1a-c12f-6904-bfff-c894b5c1b559'}}, metadata={'source': 'input', 'step': -1, 'parents': {}}, created_at='2025-08-28T05:41:40.681344+00:00', parent_config=None, tasks=(PregelTask(id='0a46bf9b-85b5-65fd-545c-06da9438000e', name='__start__', path=('__pregel_pull', '__start__'), error=None, interrupts=(), state=None, result={'messages': HumanMessage(content='How is the weather in Bengaluru??', additional_kwargs={}, response_metadata={}, id='656a386e-0e22-40ea-a8da-81836c28681b')}),), interrupts=())]"
      ]
     },
     "execution_count": 20,
     "metadata": {},
     "output_type": "execute_result"
    }
   ],
   "source": [
    "all_checkpoints = []\n",
    "\n",
    "for state in graph.get_state_history(config=config):\n",
    "    all_checkpoints.append(state)\n",
    "\n",
    "all_checkpoints"
   ]
  },
  {
   "cell_type": "code",
   "execution_count": 21,
   "id": "914d3db6",
   "metadata": {},
   "outputs": [
    {
     "data": {
      "text/plain": [
       "{'messages': [HumanMessage(content='How is the weather in Bengaluru??', additional_kwargs={}, response_metadata={}, id='656a386e-0e22-40ea-a8da-81836c28681b'),\n",
       "  AIMessage(content='', additional_kwargs={'tool_calls': [{'id': 'v7x9fryd9', 'function': {'arguments': '{\"location\":\"Bengaluru\"}', 'name': 'get_weather'}, 'type': 'function'}]}, response_metadata={'token_usage': {'completion_tokens': 238, 'prompt_tokens': 168, 'total_tokens': 406, 'completion_time': 0.908823639, 'prompt_time': 0.024217093, 'queue_time': 0.043595197, 'total_time': 0.933040732}, 'model_name': 'deepseek-r1-distill-llama-70b', 'system_fingerprint': 'fp_76307ac09b', 'finish_reason': 'tool_calls', 'logprobs': None}, id='run--7be56c4c-2ae3-43ac-aaf4-31ae2cef3c4c-0', tool_calls=[{'name': 'get_weather', 'args': {'location': 'Bengaluru'}, 'id': 'v7x9fryd9', 'type': 'tool_call'}], usage_metadata={'input_tokens': 168, 'output_tokens': 238, 'total_tokens': 406}),\n",
       "  ToolMessage(content='It is only 5 degree Celsius warm today.', id='2d57b516-956b-44af-bd59-df7aaa29f4b1', tool_call_id='v7x9fryd9'),\n",
       "  AIMessage(content='It is only 5 degree Celsius warm today.', additional_kwargs={}, response_metadata={}, id='2ec0ddcb-eb3c-45c6-8fb6-8e16070a6311')]}"
      ]
     },
     "execution_count": 21,
     "metadata": {},
     "output_type": "execute_result"
    }
   ],
   "source": [
    "to_replay = all_checkpoints[4]\n",
    "to_replay.values"
   ]
  },
  {
   "cell_type": "code",
   "execution_count": 22,
   "id": "7a772909",
   "metadata": {},
   "outputs": [
    {
     "data": {
      "text/plain": [
       "('__start__',)"
      ]
     },
     "execution_count": 22,
     "metadata": {},
     "output_type": "execute_result"
    }
   ],
   "source": [
    "to_replay.next"
   ]
  },
  {
   "cell_type": "code",
   "execution_count": 23,
   "id": "bd327bb0",
   "metadata": {},
   "outputs": [
    {
     "data": {
      "text/plain": [
       "{'configurable': {'thread_id': '4',\n",
       "  'checkpoint_ns': '',\n",
       "  'checkpoint_id': '1f083d1a-cba2-6790-8003-d23ce486c013'}}"
      ]
     },
     "execution_count": 23,
     "metadata": {},
     "output_type": "execute_result"
    }
   ],
   "source": [
    "to_replay.config"
   ]
  },
  {
   "cell_type": "code",
   "execution_count": 29,
   "id": "35bd720a",
   "metadata": {},
   "outputs": [
    {
     "data": {
      "text/plain": [
       "{'messages': [HumanMessage(content='How is the weather in Bengaluru??', additional_kwargs={}, response_metadata={}, id='656a386e-0e22-40ea-a8da-81836c28681b'),\n",
       "  AIMessage(content='', additional_kwargs={'tool_calls': [{'id': 'v7x9fryd9', 'function': {'arguments': '{\"location\":\"Bengaluru\"}', 'name': 'get_weather'}, 'type': 'function'}]}, response_metadata={'token_usage': {'completion_tokens': 238, 'prompt_tokens': 168, 'total_tokens': 406, 'completion_time': 0.908823639, 'prompt_time': 0.024217093, 'queue_time': 0.043595197, 'total_time': 0.933040732}, 'model_name': 'deepseek-r1-distill-llama-70b', 'system_fingerprint': 'fp_76307ac09b', 'finish_reason': 'tool_calls', 'logprobs': None}, id='run--7be56c4c-2ae3-43ac-aaf4-31ae2cef3c4c-0', tool_calls=[{'name': 'get_weather', 'args': {'location': 'Bengaluru'}, 'id': 'v7x9fryd9', 'type': 'tool_call'}], usage_metadata={'input_tokens': 168, 'output_tokens': 238, 'total_tokens': 406}),\n",
       "  ToolMessage(content='It is only 5 degree Celsius warm today.', id='2d57b516-956b-44af-bd59-df7aaa29f4b1', tool_call_id='v7x9fryd9'),\n",
       "  AIMessage(content='It is only 5 degree Celsius warm today.', additional_kwargs={}, response_metadata={}, id='2ec0ddcb-eb3c-45c6-8fb6-8e16070a6311'),\n",
       "  HumanMessage(content='How warm was it again?', additional_kwargs={}, response_metadata={}, id='90d11679-17ad-4c9d-a8f8-d5433c7b7ec3'),\n",
       "  AIMessage(content='', additional_kwargs={'tool_calls': [{'id': 'r3k35maqb', 'function': {'arguments': '{\"location\":\"Bengaluru\"}', 'name': 'get_weather'}, 'type': 'function'}]}, response_metadata={'token_usage': {'completion_tokens': 488, 'prompt_tokens': 250, 'total_tokens': 738, 'completion_time': 2.3738592130000002, 'prompt_time': 0.031467441, 'queue_time': 0.048804699, 'total_time': 2.405326654}, 'model_name': 'deepseek-r1-distill-llama-70b', 'system_fingerprint': 'fp_76307ac09b', 'finish_reason': 'tool_calls', 'logprobs': None}, id='run--001f8125-b6c4-4744-94c0-89f753d04cb3-0', tool_calls=[{'name': 'get_weather', 'args': {'location': 'Bengaluru'}, 'id': 'r3k35maqb', 'type': 'tool_call'}], usage_metadata={'input_tokens': 250, 'output_tokens': 488, 'total_tokens': 738})]}"
      ]
     },
     "execution_count": 29,
     "metadata": {},
     "output_type": "execute_result"
    }
   ],
   "source": [
    "graph.invoke(None, config=to_replay.config)"
   ]
  },
  {
   "cell_type": "markdown",
   "id": "fae05772",
   "metadata": {},
   "source": [
    "# Branching off past state"
   ]
  },
  {
   "cell_type": "code",
   "execution_count": 30,
   "id": "b2c6f098",
   "metadata": {},
   "outputs": [
    {
     "data": {
      "text/plain": [
       "[]"
      ]
     },
     "execution_count": 30,
     "metadata": {},
     "output_type": "execute_result"
    }
   ],
   "source": [
    "last_message = to_replay.values['messages'][-1]\n",
    "last_message.tool_calls"
   ]
  },
  {
   "cell_type": "code",
   "execution_count": null,
   "id": "f231e96c",
   "metadata": {},
   "outputs": [],
   "source": [
    "last_message.tool_calls[0]['name'] = \"broken_api\"\n",
    "last_message.tool_calls"
   ]
  },
  {
   "cell_type": "code",
   "execution_count": null,
   "id": "93e2a162",
   "metadata": {},
   "outputs": [
    {
     "data": {
      "text/plain": [
       "{'configurable': {'thread_id': '4',\n",
       "  'checkpoint_ns': '',\n",
       "  'checkpoint_id': '1f0835a2-fdbc-6dcf-8002-2c0efff42865'}}"
      ]
     },
     "execution_count": 28,
     "metadata": {},
     "output_type": "execute_result"
    }
   ],
   "source": [
    "branch_config = graph.update_state(\n",
    "    to_replay.config,\n",
    "    {\"messages\": [last_message]}\n",
    ")\n",
    "\n",
    "branch_config"
   ]
  },
  {
   "cell_type": "code",
   "execution_count": null,
   "id": "6635d2ce",
   "metadata": {},
   "outputs": [
    {
     "data": {
      "text/plain": [
       "{'messages': [HumanMessage(content='How is the weather in Bengaluru??', additional_kwargs={}, response_metadata={}, id='6c218342-7cd8-492b-9591-ea4964f0cc75'),\n",
       "  AIMessage(content='', additional_kwargs={'tool_calls': [{'id': 'yk5p7n2jh', 'function': {'arguments': '{\"location\":\"Bengaluru\"}', 'name': 'get_weather'}, 'type': 'function'}]}, response_metadata={'token_usage': {'completion_tokens': 142, 'prompt_tokens': 168, 'total_tokens': 310, 'completion_time': 0.57880423, 'prompt_time': 0.024114166, 'queue_time': 0.044675844, 'total_time': 0.602918396}, 'model_name': 'deepseek-r1-distill-llama-70b', 'system_fingerprint': 'fp_1bbe7845ec', 'finish_reason': 'tool_calls', 'logprobs': None}, id='run--463f98a0-001d-40b7-abde-50dc4a16d402-0', tool_calls=[{'name': 'broken_api', 'args': {'location': 'Bengaluru'}, 'id': 'yk5p7n2jh', 'type': 'tool_call'}], usage_metadata={'input_tokens': 168, 'output_tokens': 142, 'total_tokens': 310}),\n",
       "  ToolMessage(content='Currently no weather data available for Bengaluru. Please try again later.', name='broken_api', id='d98d47f4-38cb-4107-bb31-42fa7534c8e6', tool_call_id='yk5p7n2jh'),\n",
       "  AIMessage(content='', additional_kwargs={'tool_calls': [{'id': 'yk5p7n2jk', 'function': {'arguments': '{\"location\":\"Bengaluru\"}', 'name': 'get_weather'}, 'type': 'function'}]}, response_metadata={'token_usage': {'completion_tokens': 88, 'prompt_tokens': 234, 'total_tokens': 322, 'completion_time': 0.390959323, 'prompt_time': 0.030843393, 'queue_time': 0.063975476, 'total_time': 0.421802716}, 'model_name': 'deepseek-r1-distill-llama-70b', 'system_fingerprint': 'fp_76307ac09b', 'finish_reason': 'tool_calls', 'logprobs': None}, id='run--c177ee34-5d05-4fa9-9afd-085c7eca22ad-0', tool_calls=[{'name': 'get_weather', 'args': {'location': 'Bengaluru'}, 'id': 'yk5p7n2jk', 'type': 'tool_call'}], usage_metadata={'input_tokens': 234, 'output_tokens': 88, 'total_tokens': 322})]}"
      ]
     },
     "execution_count": 29,
     "metadata": {},
     "output_type": "execute_result"
    }
   ],
   "source": [
    "graph.invoke(None, branch_config)"
   ]
  },
  {
   "cell_type": "code",
   "execution_count": null,
   "id": "eb43bebf",
   "metadata": {},
   "outputs": [
    {
     "data": {
      "text/plain": [
       "{'messages': [HumanMessage(content='How is the weather in Bengaluru??', additional_kwargs={}, response_metadata={}, id='6c218342-7cd8-492b-9591-ea4964f0cc75'),\n",
       "  AIMessage(content='', additional_kwargs={'tool_calls': [{'id': 'yk5p7n2jh', 'function': {'arguments': '{\"location\":\"Bengaluru\"}', 'name': 'get_weather'}, 'type': 'function'}]}, response_metadata={'token_usage': {'completion_tokens': 142, 'prompt_tokens': 168, 'total_tokens': 310, 'completion_time': 0.57880423, 'prompt_time': 0.024114166, 'queue_time': 0.044675844, 'total_time': 0.602918396}, 'model_name': 'deepseek-r1-distill-llama-70b', 'system_fingerprint': 'fp_1bbe7845ec', 'finish_reason': 'tool_calls', 'logprobs': None}, id='run--463f98a0-001d-40b7-abde-50dc4a16d402-0', tool_calls=[{'name': 'broken_api', 'args': {'location': 'Bengaluru'}, 'id': 'yk5p7n2jh', 'type': 'tool_call'}], usage_metadata={'input_tokens': 168, 'output_tokens': 142, 'total_tokens': 310}),\n",
       "  ToolMessage(content='Currently no weather data available for Bengaluru. Please try again later.', name='broken_api', id='3a45f2c0-ac3b-4a69-918c-7095312dbd20', tool_call_id='yk5p7n2jh'),\n",
       "  AIMessage(content='', additional_kwargs={'tool_calls': [{'id': 'yk5p7n2jk', 'function': {'arguments': '{\"location\":\"Bengaluru\"}', 'name': 'get_weather'}, 'type': 'function'}]}, response_metadata={'token_usage': {'completion_tokens': 79, 'prompt_tokens': 234, 'total_tokens': 313, 'completion_time': 0.351480042, 'prompt_time': 0.030263911, 'queue_time': 0.051537729, 'total_time': 0.381743953}, 'model_name': 'deepseek-r1-distill-llama-70b', 'system_fingerprint': 'fp_1bbe7845ec', 'finish_reason': 'tool_calls', 'logprobs': None}, id='run--0ce32eb6-fcee-4681-9352-ea7c0164cc4c-0', tool_calls=[{'name': 'get_weather', 'args': {'location': 'Bengaluru'}, 'id': 'yk5p7n2jk', 'type': 'tool_call'}], usage_metadata={'input_tokens': 234, 'output_tokens': 79, 'total_tokens': 313})]}"
      ]
     },
     "execution_count": 30,
     "metadata": {},
     "output_type": "execute_result"
    }
   ],
   "source": [
    "graph.invoke(None, branch_config)"
   ]
  },
  {
   "cell_type": "markdown",
   "id": "5608f290",
   "metadata": {},
   "source": [
    "# Wait for user input"
   ]
  },
  {
   "cell_type": "code",
   "execution_count": 31,
   "id": "9c0ab3a1",
   "metadata": {},
   "outputs": [],
   "source": [
    "from typing import Annotated\n",
    "\n",
    "class State(BaseModel):\n",
    "    messages: Annotated[list, add_messages]\n",
    "    ask_human: Optional[bool] = False\n"
   ]
  },
  {
   "cell_type": "code",
   "execution_count": 32,
   "id": "246946fe",
   "metadata": {},
   "outputs": [],
   "source": [
    "from langchain_core.tools import tool\n",
    "\n",
    "@tool\n",
    "def request_assistance():\n",
    "    \"\"\"\n",
    "    Escalate the conversation to an expert. Use this if you are unable to assist \\\n",
    "        directly or if the user requires support beyond your permissions. \n",
    "    \"\"\"\n",
    "    return \"\"\n",
    "\n",
    "tools = [get_weather]\n",
    "\n",
    "llm_with_tools = llm.bind_tools(tools + [request_assistance])\n",
    "\n",
    "def chatbot(state: State):\n",
    "    response = llm_with_tools.invoke(state.messages)\n",
    "    ask_human = False\n",
    "    if response.tool_calls and response.tool_calls[0]['name'] == \"request_assistance\":\n",
    "        ask_human = True\n",
    "    return {\"messages\": [response], \"ask_human\": ask_human}\n"
   ]
  },
  {
   "cell_type": "code",
   "execution_count": 33,
   "id": "d6068027",
   "metadata": {},
   "outputs": [],
   "source": [
    "from langchain_core.messages import AIMessage, HumanMessage\n",
    "\n",
    "def create_response(response: str, ai_message: AIMessage):\n",
    "    return ToolMessage(\n",
    "        content=response,\n",
    "        tool_call_id=ai_message.tool_calls[0]['id']\n",
    "    )\n",
    "\n",
    "\n",
    "def human_node(state: State):\n",
    "    new_messages = []\n",
    "    if not isinstance(state.messages[-1], ToolMessage):\n",
    "        new_messages.append(\n",
    "            create_response(\n",
    "                \"Plan a trip 3 months before and dont carry a Real Madrid shirt with you\",\n",
    "                state.messages[-1]\n",
    "            )\n",
    "        )\n",
    "    return {\"messages\": new_messages, \"ask_human\": False}\n",
    "\n",
    "\n",
    "def select_next_node(state: State):\n",
    "    if state.ask_human:\n",
    "        return \"human\"\n",
    "    return tools_condition(state)"
   ]
  },
  {
   "cell_type": "code",
   "execution_count": 34,
   "id": "337cf4e6",
   "metadata": {},
   "outputs": [
    {
     "data": {
      "image/png": "[encoded data removed]",
      "text/plain": [
       "<langgraph.graph.state.CompiledStateGraph object at 0x000001F047374CE0>"
      ]
     },
     "execution_count": 34,
     "metadata": {},
     "output_type": "execute_result"
    }
   ],
   "source": [
    "workflow_v2 = StateGraph(State)\n",
    "\n",
    "workflow_v2.add_node(\"chatbot\", chatbot)\n",
    "workflow_v2.add_node(\"tools\", ToolNode(tools=tools))\n",
    "\n",
    "\n",
    "workflow_v2.add_node(\"human\", human_node)\n",
    "\n",
    "\n",
    "workflow_v2.add_conditional_edges(\n",
    "    \"chatbot\",\n",
    "    select_next_node,\n",
    "    {\"human\": \"human\", \"tools\": \"tools\", \"__end__\": \"__end__\"},\n",
    ")\n",
    "\n",
    "workflow_v2.add_edge(\"tools\", \"tools\")\n",
    "workflow_v2.add_edge(\"human\", \"chatbot\")\n",
    "workflow_v2.set_entry_point(\"chatbot\")\n",
    "\n",
    "checkpointer = MemorySaver()\n",
    "\n",
    "graph = workflow_v2.compile(checkpointer=checkpointer, interrupt_before=[\"human\"],)\n",
    "\n",
    "graph"
   ]
  },
  {
   "cell_type": "code",
   "execution_count": 35,
   "id": "16aacceb",
   "metadata": {},
   "outputs": [
    {
     "data": {
      "text/plain": [
       "{'messages': [HumanMessage(content='I need some expert advice on how to plan a trip to barcelona', additional_kwargs={}, response_metadata={}, id='a69d6ded-a504-4edc-bbc3-1d990be119e7'),\n",
       "  AIMessage(content='', additional_kwargs={'tool_calls': [{'id': 'bzqhbc1cw', 'function': {'arguments': '{}', 'name': 'request_assistance'}, 'type': 'function'}]}, response_metadata={'token_usage': {'completion_tokens': 60, 'prompt_tokens': 186, 'total_tokens': 246, 'completion_time': 0.256597352, 'prompt_time': 0.03278764, 'queue_time': 0.04375825, 'total_time': 0.289384992}, 'model_name': 'deepseek-r1-distill-llama-70b', 'system_fingerprint': 'fp_76307ac09b', 'finish_reason': 'tool_calls', 'logprobs': None}, id='run--6c975d1e-e8ab-478a-b30e-e9d181c21e7f-0', tool_calls=[{'name': 'request_assistance', 'args': {}, 'id': 'bzqhbc1cw', 'type': 'tool_call'}], usage_metadata={'input_tokens': 186, 'output_tokens': 60, 'total_tokens': 246})],\n",
       " 'ask_human': True}"
      ]
     },
     "execution_count": 35,
     "metadata": {},
     "output_type": "execute_result"
    }
   ],
   "source": [
    "config = {\"configurable\":{\"thread_id\": \"50\"}}\n",
    "\n",
    "input_message = HumanMessage(\n",
    "    content=\"I need some expert advice on how to plan a trip to barcelona\"\n",
    ")\n",
    "\n",
    "graph.invoke({\"messages\": input_message}, config=config)"
   ]
  },
  {
   "cell_type": "code",
   "execution_count": 36,
   "id": "69568917",
   "metadata": {},
   "outputs": [
    {
     "data": {
      "text/plain": [
       "{'messages': [HumanMessage(content='I need some expert advice on how to plan a trip to barcelona', additional_kwargs={}, response_metadata={}, id='a69d6ded-a504-4edc-bbc3-1d990be119e7'),\n",
       "  AIMessage(content='', additional_kwargs={'tool_calls': [{'id': 'bzqhbc1cw', 'function': {'arguments': '{}', 'name': 'request_assistance'}, 'type': 'function'}]}, response_metadata={'token_usage': {'completion_tokens': 60, 'prompt_tokens': 186, 'total_tokens': 246, 'completion_time': 0.256597352, 'prompt_time': 0.03278764, 'queue_time': 0.04375825, 'total_time': 0.289384992}, 'model_name': 'deepseek-r1-distill-llama-70b', 'system_fingerprint': 'fp_76307ac09b', 'finish_reason': 'tool_calls', 'logprobs': None}, id='run--6c975d1e-e8ab-478a-b30e-e9d181c21e7f-0', tool_calls=[{'name': 'request_assistance', 'args': {}, 'id': 'bzqhbc1cw', 'type': 'tool_call'}], usage_metadata={'input_tokens': 186, 'output_tokens': 60, 'total_tokens': 246}),\n",
       "  ToolMessage(content='Plan a trip 3 months before and dont carry a Real Madrid shirt with you', id='46506101-b887-4a61-8507-3ad488949e41', tool_call_id='bzqhbc1cw'),\n",
       "  AIMessage(content=\"Got it! Here's a detailed plan for your trip to Barcelona:\\n\\n1. **Day 1: Arrival and City Orientation**\\n   - Arrive in Barcelona and check into your accommodation.\\n   - Visit La Rambla for a stroll and to get a feel for the city.\\n   - Head to Plaça Catalunya, a central hub with beautiful architecture.\\n\\n2. **Day 2: Iconic Landmarks**\\n   - Start your day at La Sagrada Família, Antoni Gaudí's masterpiece. Make sure to book tickets in advance.\\n   - Explore Park Güell, another iconic Gaudí landmark with stunning views of the city.\\n   - Relax at Barceloneta Beach in the evening.\\n\\n3. **Day 3: Cultural Immersion**\\n   - Visit the Gothic Quarter (El Raval) to explore narrow streets and historical sites.\\n   - Stop by La Boqueria Market for a taste of local cuisine.\\n   - Enjoy a traditional Catalan dinner and maybe a flamenco show.\\n\\n4. **Day 4: Day Trip**\\n   - Take a day trip to nearby Montserrat for breathtaking mountain views and cultural significance.\\n   - Return to Barcelona in the evening and enjoy a relaxing walk along Passeig de Gràcia.\\n\\n5. **Day 5: Modernism and Shopping**\\n   - Visit Casa Batlló and Casa Milà (La Pedrera), more Gaudí treasures.\\n   - Explore the trendy boutiques and shops along Passeig de Gràcia.\\n   - Farewell dinner at a Michelin-starred restaurant if you're feeling fancy.\\n\\n**Additional Tips:**\\n- **Book Accommodation Early:** Stay in areas like El Gothic Quarter or Eixample for convenience.\\n- **Transportation:** Consider purchasing a Hola BCN card for unlimited public transport.\\n- **Local Cuisine:** Don’t miss trying paella and tapas at local restaurants.\\n- **Safety:** Be mindful of pickpocketing in crowded areas.\\n\\nHave a fantastic trip to Barcelona! 🌞\", additional_kwargs={}, response_metadata={'token_usage': {'completion_tokens': 821, 'prompt_tokens': 249, 'total_tokens': 1070, 'completion_time': 3.572411835, 'prompt_time': 0.038010103, 'queue_time': 0.047198557, 'total_time': 3.610421938}, 'model_name': 'deepseek-r1-distill-llama-70b', 'system_fingerprint': 'fp_1bbe7845ec', 'finish_reason': 'stop', 'logprobs': None}, id='run--e3fc0cef-bf3d-4540-bdbf-0ebd2dadeac7-0', usage_metadata={'input_tokens': 249, 'output_tokens': 821, 'total_tokens': 1070})],\n",
       " 'ask_human': False}"
      ]
     },
     "execution_count": 36,
     "metadata": {},
     "output_type": "execute_result"
    }
   ],
   "source": [
    "graph.invoke(None, config=config)"
   ]
  },
  {
   "cell_type": "markdown",
   "id": "16df7be6",
   "metadata": {},
   "source": [
    "# Human in the loop - Interrupt + Command"
   ]
  },
  {
   "cell_type": "code",
   "execution_count": 37,
   "id": "91ea5f91",
   "metadata": {},
   "outputs": [],
   "source": [
    "from typing import Optional, Literal\n",
    "\n",
    "from langgraph.graph import END, StateGraph\n",
    "from langgraph.types import Command\n",
    "\n",
    "from pydantic import BaseModel\n",
    "\n",
    "class InputState(BaseModel):\n",
    "    string_value: str\n",
    "    numeric_value: int"
   ]
  },
  {
   "cell_type": "code",
   "execution_count": 38,
   "id": "d287e254",
   "metadata": {},
   "outputs": [],
   "source": [
    "def modify_state(input_state: InputState) -> InputState:\n",
    "    input_state.string_value += \"A\"\n",
    "    input_state.numeric_value += 1\n",
    "    return input_state\n",
    "\n",
    "\n",
    "def branch_A(state: InputState) -> Command[Literal[\"branch_B\"]]:\n",
    "    print(f\"branch_B: Current State: {state}\")\n",
    "    new_state = modify_state(state)\n",
    "    print(f\"branch_A: Updated State: {new_state}\")\n",
    "    return Command(goto=\"branch_B\", update=new_state)\n",
    "\n",
    "def branch_B(state: InputState) -> Command[Literal[\"branch_C\"]]:\n",
    "    print(f\"branch_b: Current State: {state}\")\n",
    "    new_state = modify_state(state)\n",
    "    print(f\"branch_b: Updated State: {new_state}\")\n",
    "    return Command(goto=\"branch_C\", update=new_state)\n",
    "\n",
    "def branch_C(state: InputState) -> Command[Literal[END]]:\n",
    "    print(f\"branch_C: Current State: {state}\")\n",
    "    new_state = modify_state(state)\n",
    "    print(f\"branch_C: updated State: {new_state}\")\n",
    "    return Command(goto=END, update=new_state)\n"
   ]
  },
  {
   "cell_type": "code",
   "execution_count": 39,
   "id": "1979b6ee",
   "metadata": {},
   "outputs": [
    {
     "data": {
      "image/png": "[encoded data removed]",
      "text/plain": [
       "<langgraph.graph.state.CompiledStateGraph object at 0x000001F0493C1640>"
      ]
     },
     "execution_count": 39,
     "metadata": {},
     "output_type": "execute_result"
    }
   ],
   "source": [
    "graph = StateGraph(InputState)\n",
    "\n",
    "graph.add_node(\"branch_A\", branch_A)\n",
    "graph.add_node(\"branch_B\", branch_B)\n",
    "graph.add_node(\"branch_C\", branch_C)\n",
    "\n",
    "graph.set_entry_point(\"branch_A\")\n",
    "\n",
    "runnable = graph.compile()\n",
    "runnable"
   ]
  },
  {
   "cell_type": "code",
   "execution_count": 40,
   "id": "ddb19125",
   "metadata": {},
   "outputs": [
    {
     "name": "stdout",
     "output_type": "stream",
     "text": [
      "branch_B: Current State: string_value='Hello' numeric_value=0\n",
      "branch_A: Updated State: string_value='HelloA' numeric_value=1\n",
      "branch_b: Current State: string_value='HelloA' numeric_value=1\n",
      "branch_b: Updated State: string_value='HelloAA' numeric_value=2\n",
      "branch_C: Current State: string_value='HelloAA' numeric_value=2\n",
      "branch_C: updated State: string_value='HelloAAA' numeric_value=3\n"
     ]
    },
    {
     "data": {
      "text/plain": [
       "{'string_value': 'HelloAAA', 'numeric_value': 3}"
      ]
     },
     "execution_count": 40,
     "metadata": {},
     "output_type": "execute_result"
    }
   ],
   "source": [
    "initial_state = {\"string_value\": \"Hello\", \"numeric_value\": 0}\n",
    "final_state = runnable.invoke(initial_state)\n",
    "final_state"
   ]
  },
  {
   "cell_type": "code",
   "execution_count": 41,
   "id": "a3191f7b",
   "metadata": {},
   "outputs": [
    {
     "data": {
      "image/png": "[encoded data removed]",
      "text/plain": [
       "<langgraph.graph.state.CompiledStateGraph object at 0x000001F0474AFD10>"
      ]
     },
     "execution_count": 41,
     "metadata": {},
     "output_type": "execute_result"
    }
   ],
   "source": [
    "from langgraph.graph import StateGraph, END, MessagesState\n",
    "from langgraph.types import Command, interrupt\n",
    "from langgraph.checkpoint.memory import MemorySaver\n",
    "\n",
    "@tool\n",
    "\n",
    "def weather_search(city: str):\n",
    "    \"\"\"Search for the weather in a specific city\"\"\"\n",
    "\n",
    "    print(\"--------------------------------------------------------\")\n",
    "    print(f\"Searching for: {city}\")\n",
    "    print(\"--------------------------------------------------------\")\n",
    "    return \"Sunny!\"\n",
    "\n",
    "\n",
    "def call_llm(state: MessagesState):\n",
    "    return {\"messages\": [llm.invoke(state['messages'])]}\n",
    "\n",
    "\n",
    "def human_review_node(state: MessagesState) -> Command[Literal[\"call_llm\", \"run_tool\"]]:\n",
    "    last_message = state['messages'][-1]\n",
    "    tool_call = last_message.tool_calls[-1]\n",
    "\n",
    "    human_review = interrupt(\n",
    "        {\n",
    "            \"question\": \"Is this correct?\",\n",
    "            \"tool_call\": tool_call\n",
    "        }\n",
    "    )\n",
    "\n",
    "    print(f\"Human review values: {human_review}\")\n",
    "\n",
    "    review_action = human_review['action']\n",
    "    review_data = human_review.get(\"data\")\n",
    "\n",
    "    if review_action == \"continue\":\n",
    "        return Command(goto=\"run_tool\")\n",
    "    \n",
    "    elif review_action == \"update\":\n",
    "        updated_message = {\n",
    "            \"role\": \"ai\",\n",
    "            \"content\": last_message.content,\n",
    "            \"tool_calls\": [\n",
    "                {\n",
    "                    \"id\":tool_call['id'],\n",
    "                    \"name\": tool_call['name'],\n",
    "                    \"args\": review_data\n",
    "                }\n",
    "            ],\n",
    "            \"id\": last_message.id\n",
    "        }\n",
    "        return Command(goto=\"run_tool\", update={\"messages\": [updated_message]})\n",
    "    \n",
    "\n",
    "def route_after_llm(state: MessagesState) -> Literal[END, \"human_review_node\"]:\n",
    "    if len(state['messages'][-1].tool_calls) == 0:\n",
    "        return END\n",
    "    return \"human_review_node\"\n",
    "\n",
    "\n",
    "builder = StateGraph(MessagesState)\n",
    "\n",
    "builder.add_node(\"call_llm\", call_llm)\n",
    "builder.add_node(\"run_tool\", ToolNode(tools=[weather_search]))\n",
    "builder.add_node(\"human_review_node\", human_review_node)\n",
    "\n",
    "\n",
    "builder.add_conditional_edges(\"call_llm\", route_after_llm)\n",
    "\n",
    "builder.add_edge(\"run_tool\", \"call_llm\")\n",
    "\n",
    "builder.set_entry_point(\"call_llm\")\n",
    "\n",
    "\n",
    "memory = MemorySaver()\n",
    "\n",
    "graph = builder.compile(checkpointer=memory)\n",
    "\n",
    "graph\n",
    "\n"
   ]
  },
  {
   "cell_type": "code",
   "execution_count": 42,
   "id": "ef664f3b",
   "metadata": {},
   "outputs": [
    {
     "data": {
      "text/plain": [
       "[{'call_llm': {'messages': [AIMessage(content=\"<think>\\n\\n</think>\\n\\nHi there! I suggest getting online to get real-time information. If you have any other questions, please don't hesitate to let me know!\", additional_kwargs={}, response_metadata={'token_usage': {'completion_tokens': 34, 'prompt_tokens': 11, 'total_tokens': 45, 'completion_time': 0.188732692, 'prompt_time': 0.010248862, 'queue_time': 0.049410467, 'total_time': 0.198981554}, 'model_name': 'deepseek-r1-distill-llama-70b', 'system_fingerprint': 'fp_76307ac09b', 'finish_reason': 'stop', 'logprobs': None}, id='run--0546a586-0d53-495a-81d1-5cd95f8a74cb-0', usage_metadata={'input_tokens': 11, 'output_tokens': 34, 'total_tokens': 45})]}}]"
      ]
     },
     "execution_count": 42,
     "metadata": {},
     "output_type": "execute_result"
    }
   ],
   "source": [
    "initial_input = {\"messages\": [HumanMessage(content=\"How is the weather in Bengaluru?\")]}\n",
    "config = {\"configurable\": {\"thread_id\": \"5\"}}\n",
    "\n",
    "first_result = graph.invoke(initial_input, config=config, stream_mode=\"updates\")\n",
    "first_result"
   ]
  },
  {
   "cell_type": "code",
   "execution_count": 43,
   "id": "650747a9",
   "metadata": {},
   "outputs": [
    {
     "name": "stdout",
     "output_type": "stream",
     "text": [
      "()\n"
     ]
    }
   ],
   "source": [
    "print(graph.get_state(config).next)"
   ]
  },
  {
   "cell_type": "code",
   "execution_count": 44,
   "id": "fbfc75ff",
   "metadata": {},
   "outputs": [
    {
     "data": {
      "text/plain": [
       "{'messages': [HumanMessage(content='How is the weather in Bengaluru?', additional_kwargs={}, response_metadata={}, id='76ed2f15-822b-472c-b7b6-472995073c43'),\n",
       "  AIMessage(content=\"<think>\\n\\n</think>\\n\\nHi there! I suggest getting online to get real-time information. If you have any other questions, please don't hesitate to let me know!\", additional_kwargs={}, response_metadata={'token_usage': {'completion_tokens': 34, 'prompt_tokens': 11, 'total_tokens': 45, 'completion_time': 0.188732692, 'prompt_time': 0.010248862, 'queue_time': 0.049410467, 'total_time': 0.198981554}, 'model_name': 'deepseek-r1-distill-llama-70b', 'system_fingerprint': 'fp_76307ac09b', 'finish_reason': 'stop', 'logprobs': None}, id='run--0546a586-0d53-495a-81d1-5cd95f8a74cb-0', usage_metadata={'input_tokens': 11, 'output_tokens': 34, 'total_tokens': 45})]}"
      ]
     },
     "execution_count": 44,
     "metadata": {},
     "output_type": "execute_result"
    }
   ],
   "source": [
    "graph.invoke(Command(resume={\"action\": \"continue\"}), config=config)"
   ]
  },
  {
   "cell_type": "code",
   "execution_count": 45,
   "id": "797da197",
   "metadata": {},
   "outputs": [
    {
     "data": {
      "text/plain": [
       "[{'call_llm': {'messages': [AIMessage(content=\"<think>\\n\\n</think>\\n\\nHi there! I suggest getting online to get real-time information. If you have any other questions, please don't hesitate to let me know!\", additional_kwargs={}, response_metadata={'token_usage': {'completion_tokens': 34, 'prompt_tokens': 11, 'total_tokens': 45, 'completion_time': 0.185102303, 'prompt_time': 0.01033513, 'queue_time': 0.049397509, 'total_time': 0.195437433}, 'model_name': 'deepseek-r1-distill-llama-70b', 'system_fingerprint': 'fp_76307ac09b', 'finish_reason': 'stop', 'logprobs': None}, id='run--9b467fb3-1870-420f-be79-ffda194cce84-0', usage_metadata={'input_tokens': 11, 'output_tokens': 34, 'total_tokens': 45})]}}]"
      ]
     },
     "execution_count": 45,
     "metadata": {},
     "output_type": "execute_result"
    }
   ],
   "source": [
    "config = {\"configurable\": {\"thread_id\": \"6\"}}\n",
    "\n",
    "graph.invoke(initial_input, config=config, stream_mode=\"updates\")"
   ]
  },
  {
   "cell_type": "code",
   "execution_count": 46,
   "id": "34d3102f",
   "metadata": {},
   "outputs": [
    {
     "name": "stdout",
     "output_type": "stream",
     "text": [
      "()\n"
     ]
    }
   ],
   "source": [
    "print(graph.get_state(config).next)"
   ]
  },
  {
   "cell_type": "code",
   "execution_count": 47,
   "id": "8a2bd09c",
   "metadata": {},
   "outputs": [
    {
     "data": {
      "text/plain": [
       "{'messages': [HumanMessage(content='How is the weather in Bengaluru?', additional_kwargs={}, response_metadata={}, id='76ed2f15-822b-472c-b7b6-472995073c43'),\n",
       "  AIMessage(content=\"<think>\\n\\n</think>\\n\\nHi there! I suggest getting online to get real-time information. If you have any other questions, please don't hesitate to let me know!\", additional_kwargs={}, response_metadata={'token_usage': {'completion_tokens': 34, 'prompt_tokens': 11, 'total_tokens': 45, 'completion_time': 0.185102303, 'prompt_time': 0.01033513, 'queue_time': 0.049397509, 'total_time': 0.195437433}, 'model_name': 'deepseek-r1-distill-llama-70b', 'system_fingerprint': 'fp_76307ac09b', 'finish_reason': 'stop', 'logprobs': None}, id='run--9b467fb3-1870-420f-be79-ffda194cce84-0', usage_metadata={'input_tokens': 11, 'output_tokens': 34, 'total_tokens': 45})]}"
      ]
     },
     "execution_count": 47,
     "metadata": {},
     "output_type": "execute_result"
    }
   ],
   "source": [
    "graph.invoke(Command(resume={\"action\": \"update\", \"data\": {\"city\": \"Bengaluru\"}}), config=config)"
   ]
  },
  {
   "cell_type": "code",
   "execution_count": null,
   "id": "12b5a896",
   "metadata": {},
   "outputs": [],
   "source": []
  }
 ],
 "metadata": {
  "kernelspec": {
   "display_name": "loan-pred",
   "language": "python",
   "name": "python3"
  },
  "language_info": {
   "codemirror_mode": {
    "name": "ipython",
    "version": 3
   },
   "file_extension": ".py",
   "mimetype": "text/x-python",
   "name": "python",
   "nbconvert_exporter": "python",
   "pygments_lexer": "ipython3",
   "version": "3.12.6"
  }
 },
 "nbformat": 4,
 "nbformat_minor": 5
}
