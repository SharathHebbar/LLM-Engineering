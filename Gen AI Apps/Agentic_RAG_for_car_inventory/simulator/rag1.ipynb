{
 "cells": [
  {
   "cell_type": "code",
   "execution_count": 1,
   "id": "415a7b14",
   "metadata": {},
   "outputs": [],
   "source": [
    "import os\n",
    "from dotenv import load_dotenv\n",
    "load_dotenv()\n",
    "\n",
    "os.environ[\"GOOGLE_API_KEY\"] = os.getenv(\"GEMINI_API_KEY\")"
   ]
  },
  {
   "cell_type": "code",
   "execution_count": 2,
   "id": "76db0e82",
   "metadata": {},
   "outputs": [],
   "source": [
    "model=\"gemini-2.0-flash\"\n",
    "emb_model = \"models/gemini-embedding-001\""
   ]
  },
  {
   "cell_type": "code",
   "execution_count": 3,
   "id": "0ac5d920",
   "metadata": {},
   "outputs": [],
   "source": [
    "from langchain_google_genai import ChatGoogleGenerativeAI, GoogleGenerativeAIEmbeddings\n",
    "\n",
    "llm = ChatGoogleGenerativeAI(model=model)\n",
    "embeddings = GoogleGenerativeAIEmbeddings(model=emb_model)"
   ]
  },
  {
   "cell_type": "code",
   "execution_count": null,
   "id": "82c9ac54",
   "metadata": {},
   "outputs": [
    {
     "name": "stdout",
     "output_type": "stream",
     "text": [
      "WARNING:tensorflow:From c:\\sharath\\Github\\Projects\\Loan prediction\\loan-pred\\.venv\\Lib\\site-packages\\tf_keras\\src\\losses.py:2976: The name tf.losses.sparse_softmax_cross_entropy is deprecated. Please use tf.compat.v1.losses.sparse_softmax_cross_entropy instead.\n",
      "\n"
     ]
    },
    {
     "data": {
      "application/vnd.jupyter.widget-view+json": {
       "model_id": "9a746e60a3d9424eb267b99191fd0641",
       "version_major": 2,
       "version_minor": 0
      },
      "text/plain": [
       "modules.json:   0%|          | 0.00/349 [00:00<?, ?B/s]"
      ]
     },
     "metadata": {},
     "output_type": "display_data"
    },
    {
     "name": "stderr",
     "output_type": "stream",
     "text": [
      "c:\\sharath\\Github\\Projects\\Loan prediction\\loan-pred\\.venv\\Lib\\site-packages\\huggingface_hub\\file_download.py:143: UserWarning: `huggingface_hub` cache-system uses symlinks by default to efficiently store duplicated files but your machine does not support them in C:\\Users\\shash\\.cache\\huggingface\\hub\\models--sentence-transformers--all-mpnet-base-v2. Caching files will still work but in a degraded version that might require more space on your disk. This warning can be disabled by setting the `HF_HUB_DISABLE_SYMLINKS_WARNING` environment variable. For more details, see https://huggingface.co/docs/huggingface_hub/how-to-cache#limitations.\n",
      "To support symlinks on Windows, you either need to activate Developer Mode or to run Python as an administrator. In order to activate developer mode, see this article: https://docs.microsoft.com/en-us/windows/apps/get-started/enable-your-device-for-development\n",
      "  warnings.warn(message)\n"
     ]
    },
    {
     "data": {
      "application/vnd.jupyter.widget-view+json": {
       "model_id": "7a554dd668f84e6287f661b20a530a4d",
       "version_major": 2,
       "version_minor": 0
      },
      "text/plain": [
       "config_sentence_transformers.json:   0%|          | 0.00/116 [00:00<?, ?B/s]"
      ]
     },
     "metadata": {},
     "output_type": "display_data"
    },
    {
     "data": {
      "application/vnd.jupyter.widget-view+json": {
       "model_id": "fe8736cc151647f7a885831aa94da6a4",
       "version_major": 2,
       "version_minor": 0
      },
      "text/plain": [
       "README.md: 0.00B [00:00, ?B/s]"
      ]
     },
     "metadata": {},
     "output_type": "display_data"
    },
    {
     "data": {
      "application/vnd.jupyter.widget-view+json": {
       "model_id": "6fa60b72e7754a91ab44b9c5428dcef8",
       "version_major": 2,
       "version_minor": 0
      },
      "text/plain": [
       "sentence_bert_config.json:   0%|          | 0.00/53.0 [00:00<?, ?B/s]"
      ]
     },
     "metadata": {},
     "output_type": "display_data"
    },
    {
     "data": {
      "application/vnd.jupyter.widget-view+json": {
       "model_id": "6624ecaf35394df5a900adb3081e0a1f",
       "version_major": 2,
       "version_minor": 0
      },
      "text/plain": [
       "config.json:   0%|          | 0.00/571 [00:00<?, ?B/s]"
      ]
     },
     "metadata": {},
     "output_type": "display_data"
    },
    {
     "data": {
      "application/vnd.jupyter.widget-view+json": {
       "model_id": "3359592e9e6048ca9c7ac2089c1b0086",
       "version_major": 2,
       "version_minor": 0
      },
      "text/plain": [
       "model.safetensors:   0%|          | 0.00/438M [00:00<?, ?B/s]"
      ]
     },
     "metadata": {},
     "output_type": "display_data"
    },
    {
     "data": {
      "application/vnd.jupyter.widget-view+json": {
       "model_id": "f9103ac307d445ddb2bd018f46729dee",
       "version_major": 2,
       "version_minor": 0
      },
      "text/plain": [
       "tokenizer_config.json:   0%|          | 0.00/363 [00:00<?, ?B/s]"
      ]
     },
     "metadata": {},
     "output_type": "display_data"
    },
    {
     "data": {
      "application/vnd.jupyter.widget-view+json": {
       "model_id": "ccf16b8271d745ada1cfbaa8ab815c36",
       "version_major": 2,
       "version_minor": 0
      },
      "text/plain": [
       "vocab.txt: 0.00B [00:00, ?B/s]"
      ]
     },
     "metadata": {},
     "output_type": "display_data"
    },
    {
     "data": {
      "application/vnd.jupyter.widget-view+json": {
       "model_id": "c9a963d803744eb8ab3e76c51df6364a",
       "version_major": 2,
       "version_minor": 0
      },
      "text/plain": [
       "tokenizer.json: 0.00B [00:00, ?B/s]"
      ]
     },
     "metadata": {},
     "output_type": "display_data"
    },
    {
     "data": {
      "application/vnd.jupyter.widget-view+json": {
       "model_id": "562faa1f3df549eba1d949e2e0809b5d",
       "version_major": 2,
       "version_minor": 0
      },
      "text/plain": [
       "special_tokens_map.json:   0%|          | 0.00/239 [00:00<?, ?B/s]"
      ]
     },
     "metadata": {},
     "output_type": "display_data"
    },
    {
     "data": {
      "application/vnd.jupyter.widget-view+json": {
       "model_id": "ec46b68ea45143508b99ab256c616f15",
       "version_major": 2,
       "version_minor": 0
      },
      "text/plain": [
       "config.json:   0%|          | 0.00/190 [00:00<?, ?B/s]"
      ]
     },
     "metadata": {},
     "output_type": "display_data"
    }
   ],
   "source": [
    "from langchain_huggingface import HuggingFaceEmbeddings\n",
    "\n",
    "model_name = \"sentence-transformers/all-mpnet-base-v2\"\n",
    "model_kwargs = {'device': 'cpu'}\n",
    "encode_kwargs = {'normalize_embeddings': False}\n",
    "embeddings = HuggingFaceEmbeddings(\n",
    "    model_name=model_name,\n",
    "    model_kwargs=model_kwargs,\n",
    "    encode_kwargs=encode_kwargs\n",
    ")"
   ]
  },
  {
   "cell_type": "code",
   "execution_count": 126,
   "id": "487a1f57",
   "metadata": {},
   "outputs": [],
   "source": [
    "embeddings = HuggingFaceEmbeddings(model_name=model_name)"
   ]
  },
  {
   "cell_type": "code",
   "execution_count": 68,
   "id": "a699908c",
   "metadata": {},
   "outputs": [],
   "source": [
    "from langchain.vectorstores import FAISS\n",
    "from langchain.chains import RetrievalQA"
   ]
  },
  {
   "cell_type": "code",
   "execution_count": 69,
   "id": "d5cc0e68",
   "metadata": {},
   "outputs": [],
   "source": [
    "from langchain.document_loaders import JSONLoader\n",
    "loader = JSONLoader(file_path=\"./synthetic_car_inventory_with_features_offers.json\", jq_schema=\".[]\", text_content=False)\n",
    "docs = loader.load()"
   ]
  },
  {
   "cell_type": "code",
   "execution_count": 127,
   "id": "674f9313",
   "metadata": {},
   "outputs": [],
   "source": [
    "vectorstore = FAISS.from_documents(docs, embeddings)"
   ]
  },
  {
   "cell_type": "code",
   "execution_count": 44,
   "id": "df764d9c",
   "metadata": {},
   "outputs": [
    {
     "data": {
      "text/plain": [
       "RetrievalQA(verbose=False, combine_documents_chain=StuffDocumentsChain(verbose=False, llm_chain=LLMChain(verbose=False, prompt=ChatPromptTemplate(input_variables=['context', 'question'], input_types={}, partial_variables={}, messages=[SystemMessagePromptTemplate(prompt=PromptTemplate(input_variables=['context'], input_types={}, partial_variables={}, template=\"Use the following pieces of context to answer the user's question. \\nIf you don't know the answer, just say that you don't know, don't try to make up an answer.\\n----------------\\n{context}\"), additional_kwargs={}), HumanMessagePromptTemplate(prompt=PromptTemplate(input_variables=['question'], input_types={}, partial_variables={}, template='{question}'), additional_kwargs={})]), llm=ChatGoogleGenerativeAI(model='models/gemini-2.0-flash', google_api_key=SecretStr('**********'), client=<google.ai.generativelanguage_v1beta.services.generative_service.client.GenerativeServiceClient object at 0x0000023C89C77EF0>, default_metadata=()), output_parser=StrOutputParser(), llm_kwargs={}), document_prompt=PromptTemplate(input_variables=['page_content'], input_types={}, partial_variables={}, template='{page_content}'), document_variable_name='context'), return_source_documents=True, retriever=VectorStoreRetriever(tags=['FAISS', 'HuggingFaceEmbeddings'], vectorstore=<langchain_community.vectorstores.faiss.FAISS object at 0x0000023C8650EE70>, search_kwargs={'k': 5}))"
      ]
     },
     "execution_count": 44,
     "metadata": {},
     "output_type": "execute_result"
    }
   ],
   "source": [
    "qa_chain = RetrievalQA.from_chain_type(\n",
    "    llm=llm,\n",
    "    retriever=vectorstore.as_retriever(search_type=\"similarity\", search_kwargs={\"k\": 5}),\n",
    "    return_source_documents=True\n",
    ")\n",
    "qa_chain"
   ]
  },
  {
   "cell_type": "code",
   "execution_count": 48,
   "id": "a8399820",
   "metadata": {},
   "outputs": [
    {
     "name": "stdout",
     "output_type": "stream",
     "text": [
      "{'query': 'I want a car under $25000', 'result': 'I am sorry, I cannot fulfill this request. All the cars in my database are above $32000.\\n', 'source_documents': [Document(id='7b31b289-a4c6-421b-a04a-50843d9ba5cf', metadata={'source': 'C:\\\\sharath\\\\Github\\\\Projects\\\\Loan prediction\\\\loan-pred\\\\assessments\\\\Pinnacle Intelligence\\\\codes\\\\simulator\\\\synthetic_car_inventory_with_features_offers.json', 'seq_num': 429}, page_content='{\"id\": \"ACUIN429\", \"make\": \"Acura\", \"model\": \"Integra\", \"year\": 2025, \"trim\": \"Type S\", \"price\": \"58028$\", \"msrp\": \"59028$\", \"discount\": \"1000$\", \"mileage\": 31209, \"condition\": \"used\", \"fuel_type\": \"Diesel\", \"transmission\": \"CVT\", \"body_style\": \"SUV\", \"dealer\": \"Concord Acura\", \"location\": \"Aprilview, IA\", \"vin\": \"F1C7J7W6W2P1V9A6P2S2X6W9G3X6R0\", \"stock_number\": \"CONC429\", \"image_url\": \"https://example.com/images/acura_integra.jpg\", \"features\": [\"Auto Dimming Mirror\", \"Power Tailgate/Liftgate\", \"Remote Start\", \"Lane Departure Warning\"], \"offers\": [{\"name\": \"Purchase Allowance for Current Eligible Non-GM Owners and Lessees\", \"amount\": -2000}]}'), Document(id='9b4c1d99-e0dd-4d33-8293-f8ccbcb63442', metadata={'source': 'C:\\\\sharath\\\\Github\\\\Projects\\\\Loan prediction\\\\loan-pred\\\\assessments\\\\Pinnacle Intelligence\\\\codes\\\\simulator\\\\synthetic_car_inventory_with_features_offers.json', 'seq_num': 37}, page_content='{\"id\": \"ACUIN037\", \"make\": \"Acura\", \"model\": \"Integra\", \"year\": 2023, \"trim\": \"Type S\", \"price\": \"75992$\", \"msrp\": \"80992$\", \"discount\": \"5000$\", \"mileage\": 45887, \"condition\": \"used\", \"fuel_type\": \"Hybrid\", \"transmission\": \"Manual\", \"body_style\": \"Truck\", \"dealer\": \"Tesla San Jose\", \"location\": \"Lake Nathanielville, MH\", \"vin\": \"C6B1D1P7C2J3D8X8U7B3R2K8R6U6T1\", \"stock_number\": \"TESL037\", \"image_url\": \"https://example.com/images/acura_integra.jpg\", \"features\": [\"Power Tailgate/Liftgate\", \"Lane Departure Warning\", \"Apple CarPlay\", \"Keyless Entry\", \"4WD/AWD\", \"Auto Dimming Mirror\", \"Super Cruise\"], \"offers\": [{\"name\": \"Purchase Allowance\", \"amount\": -500}, {\"name\": \"Purchase Allowance for Current Eligible Non-GM Owners and Lessees\", \"amount\": -2000}, {\"name\": \"GM Educator Offer\", \"amount\": -500}]}'), Document(id='e2bb9a55-0d51-46a3-820f-82eb13e11c58', metadata={'source': 'C:\\\\sharath\\\\Github\\\\Projects\\\\Loan prediction\\\\loan-pred\\\\assessments\\\\Pinnacle Intelligence\\\\codes\\\\simulator\\\\synthetic_car_inventory_with_features_offers.json', 'seq_num': 480}, page_content='{\"id\": \"ACUIN480\", \"make\": \"Acura\", \"model\": \"Integra\", \"year\": 2024, \"trim\": \"Type S\", \"price\": \"64312$\", \"msrp\": \"66312$\", \"discount\": \"2000$\", \"mileage\": 43711, \"condition\": \"certified\", \"fuel_type\": \"Hybrid\", \"transmission\": \"Dual-Clutch\", \"body_style\": \"Coupe\", \"dealer\": \"Bay Area Honda\", \"location\": \"Lake Diane, OK\", \"vin\": \"L2H5C0Y3W6Z2U0E6C9A3U9W0F0N8E4\", \"stock_number\": \"BAY480\", \"image_url\": \"https://example.com/images/acura_integra.jpg\", \"features\": [\"Android Auto\", \"Auto Dimming Mirror\", \"Super Cruise\", \"Apple CarPlay\", \"Wi-Fi Hotspot\", \"Lane Departure Warning\"], \"offers\": [{\"name\": \"GM Educator Offer\", \"amount\": -500}, {\"name\": \"Purchase Allowance for Current Eligible Non-GM Owners and Lessees\", \"amount\": -2000}]}'), Document(id='6dc9e1b4-bb66-4b3b-b4db-7183ae8278a1', metadata={'source': 'C:\\\\sharath\\\\Github\\\\Projects\\\\Loan prediction\\\\loan-pred\\\\assessments\\\\Pinnacle Intelligence\\\\codes\\\\simulator\\\\synthetic_car_inventory_with_features_offers.json', 'seq_num': 78}, page_content='{\"id\": \"ACUIN078\", \"make\": \"Acura\", \"model\": \"Integra\", \"year\": 2024, \"trim\": \"Base\", \"price\": \"32944$\", \"msrp\": \"34944$\", \"discount\": \"2000$\", \"mileage\": 10, \"condition\": \"new\", \"fuel_type\": \"Hybrid\", \"transmission\": \"Manual\", \"body_style\": \"Truck\", \"dealer\": \"Concord Acura\", \"location\": \"Hensleytown, WI\", \"vin\": \"V4J4G3A0H5R3L7B8R5R8B1P4H2F2F3\", \"stock_number\": \"CONC078\", \"image_url\": \"https://example.com/images/acura_integra.jpg\", \"features\": [\"Bluetooth\", \"4WD/AWD\", \"Apple CarPlay\", \"Adaptive Cruise Control\", \"Lane Departure Warning\", \"Keyless Entry\"], \"offers\": [{\"name\": \"Purchase Allowance for Current Eligible Non-GM Owners and Lessees\", \"amount\": -2000}]}'), Document(id='1cf536e3-33b3-4243-89ee-ea74b5d84a00', metadata={'source': 'C:\\\\sharath\\\\Github\\\\Projects\\\\Loan prediction\\\\loan-pred\\\\assessments\\\\Pinnacle Intelligence\\\\codes\\\\simulator\\\\synthetic_car_inventory_with_features_offers.json', 'seq_num': 45}, page_content='{\"id\": \"ACUIN045\", \"make\": \"Acura\", \"model\": \"Integra\", \"year\": 2025, \"trim\": \"A-Spec Tech Package\", \"price\": \"39196$\", \"msrp\": \"44196$\", \"discount\": \"5000$\", \"mileage\": 45441, \"condition\": \"certified\", \"fuel_type\": \"Electric\", \"transmission\": \"Manual\", \"body_style\": \"Truck\", \"dealer\": \"Concord Acura\", \"location\": \"Fletcherview, MA\", \"vin\": \"T1L7J5K0J1B6H5A6E6N9Y9F4H3H5K0\", \"stock_number\": \"CONC045\", \"image_url\": \"https://example.com/images/acura_integra.jpg\", \"features\": [\"Auto Dimming Mirror\", \"4WD/AWD\", \"Super Cruise\", \"Remote Start\", \"Adaptive Cruise Control\", \"Apple CarPlay\"], \"offers\": [{\"name\": \"Spartan Recovery Lync\", \"amount\": 999}, {\"name\": \"Purchase Allowance\", \"amount\": -500}, {\"name\": \"Purchase Allowance for Current Eligible Non-GM Owners and Lessees\", \"amount\": -2000}]}')]}\n"
     ]
    }
   ],
   "source": [
    "user_input = \"I want a car under $25000\"\n",
    "response = qa_chain.invoke(user_input)\n",
    "print(response)"
   ]
  },
  {
   "cell_type": "code",
   "execution_count": 49,
   "id": "573a42c5",
   "metadata": {},
   "outputs": [
    {
     "data": {
      "text/plain": [
       "dict_keys(['query', 'result', 'source_documents'])"
      ]
     },
     "execution_count": 49,
     "metadata": {},
     "output_type": "execute_result"
    }
   ],
   "source": [
    "response.keys()"
   ]
  },
  {
   "cell_type": "code",
   "execution_count": 50,
   "id": "ecaee749",
   "metadata": {},
   "outputs": [
    {
     "data": {
      "text/plain": [
       "'I am sorry, I cannot fulfill this request. All the cars in my database are above $32000.\\n'"
      ]
     },
     "execution_count": 50,
     "metadata": {},
     "output_type": "execute_result"
    }
   ],
   "source": [
    "response['result']"
   ]
  },
  {
   "cell_type": "code",
   "execution_count": 51,
   "id": "e35dc97b",
   "metadata": {},
   "outputs": [
    {
     "data": {
      "text/plain": [
       "'{\"id\": \"ACUIN429\", \"make\": \"Acura\", \"model\": \"Integra\", \"year\": 2025, \"trim\": \"Type S\", \"price\": \"58028$\", \"msrp\": \"59028$\", \"discount\": \"1000$\", \"mileage\": 31209, \"condition\": \"used\", \"fuel_type\": \"Diesel\", \"transmission\": \"CVT\", \"body_style\": \"SUV\", \"dealer\": \"Concord Acura\", \"location\": \"Aprilview, IA\", \"vin\": \"F1C7J7W6W2P1V9A6P2S2X6W9G3X6R0\", \"stock_number\": \"CONC429\", \"image_url\": \"https://example.com/images/acura_integra.jpg\", \"features\": [\"Auto Dimming Mirror\", \"Power Tailgate/Liftgate\", \"Remote Start\", \"Lane Departure Warning\"], \"offers\": [{\"name\": \"Purchase Allowance for Current Eligible Non-GM Owners and Lessees\", \"amount\": -2000}]}'"
      ]
     },
     "execution_count": 51,
     "metadata": {},
     "output_type": "execute_result"
    }
   ],
   "source": [
    "response['source_documents'][0].page_content\n"
   ]
  },
  {
   "cell_type": "code",
   "execution_count": null,
   "id": "5c6cb836",
   "metadata": {},
   "outputs": [],
   "source": []
  },
  {
   "cell_type": "code",
   "execution_count": 52,
   "id": "0102fad1",
   "metadata": {},
   "outputs": [
    {
     "name": "stdout",
     "output_type": "stream",
     "text": [
      "{'query': 'I want a car under $25K but don’t know what brand and let me know the discount and final price', 'result': 'I am sorry, I cannot fulfill that request. All of the Acura Integra cars in the provided data are above $50K.', 'source_documents': [Document(id='03ef7fb1-f0c5-494d-bcd0-d1441a2da139', metadata={'source': 'C:\\\\sharath\\\\Github\\\\Projects\\\\Loan prediction\\\\loan-pred\\\\assessments\\\\Pinnacle Intelligence\\\\codes\\\\simulator\\\\synthetic_car_inventory_with_features_offers.json', 'seq_num': 71}, page_content='{\"id\": \"ACUIN071\", \"make\": \"Acura\", \"model\": \"Integra\", \"year\": 2024, \"trim\": \"Type S\", \"price\": \"66284$\", \"msrp\": \"66784$\", \"discount\": \"500$\", \"mileage\": 49129, \"condition\": \"certified\", \"fuel_type\": \"Hybrid\", \"transmission\": \"CVT\", \"body_style\": \"Coupe\", \"dealer\": \"Bay Area Honda\", \"location\": \"Victorhaven, AK\", \"vin\": \"M1D1E1D2K7S7P7W8D5E6Z5P3U4K5C2\", \"stock_number\": \"BAY071\", \"image_url\": \"https://example.com/images/acura_integra.jpg\", \"features\": [\"Lane Departure Warning\", \"Wi-Fi Hotspot\", \"Apple CarPlay\", \"4WD/AWD\"], \"offers\": [{\"name\": \"Purchase Allowance for Current Eligible Non-GM Owners and Lessees\", \"amount\": -2000}, {\"name\": \"Finance Cash\", \"amount\": -1000}, {\"name\": \"Spartan Recovery Lync\", \"amount\": 999}]}'), Document(id='e2bb9a55-0d51-46a3-820f-82eb13e11c58', metadata={'source': 'C:\\\\sharath\\\\Github\\\\Projects\\\\Loan prediction\\\\loan-pred\\\\assessments\\\\Pinnacle Intelligence\\\\codes\\\\simulator\\\\synthetic_car_inventory_with_features_offers.json', 'seq_num': 480}, page_content='{\"id\": \"ACUIN480\", \"make\": \"Acura\", \"model\": \"Integra\", \"year\": 2024, \"trim\": \"Type S\", \"price\": \"64312$\", \"msrp\": \"66312$\", \"discount\": \"2000$\", \"mileage\": 43711, \"condition\": \"certified\", \"fuel_type\": \"Hybrid\", \"transmission\": \"Dual-Clutch\", \"body_style\": \"Coupe\", \"dealer\": \"Bay Area Honda\", \"location\": \"Lake Diane, OK\", \"vin\": \"L2H5C0Y3W6Z2U0E6C9A3U9W0F0N8E4\", \"stock_number\": \"BAY480\", \"image_url\": \"https://example.com/images/acura_integra.jpg\", \"features\": [\"Android Auto\", \"Auto Dimming Mirror\", \"Super Cruise\", \"Apple CarPlay\", \"Wi-Fi Hotspot\", \"Lane Departure Warning\"], \"offers\": [{\"name\": \"GM Educator Offer\", \"amount\": -500}, {\"name\": \"Purchase Allowance for Current Eligible Non-GM Owners and Lessees\", \"amount\": -2000}]}'), Document(id='7dcff27b-d2e3-4575-95eb-1b85436bba16', metadata={'source': 'C:\\\\sharath\\\\Github\\\\Projects\\\\Loan prediction\\\\loan-pred\\\\assessments\\\\Pinnacle Intelligence\\\\codes\\\\simulator\\\\synthetic_car_inventory_with_features_offers.json', 'seq_num': 76}, page_content='{\"id\": \"ACUIN076\", \"make\": \"Acura\", \"model\": \"Integra\", \"year\": 2023, \"trim\": \"Base\", \"price\": \"51113$\", \"msrp\": \"56113$\", \"discount\": \"5000$\", \"mileage\": 8107, \"condition\": \"used\", \"fuel_type\": \"Diesel\", \"transmission\": \"Dual-Clutch\", \"body_style\": \"Sedan\", \"dealer\": \"Bay Area Honda\", \"location\": \"Davidchester, WV\", \"vin\": \"L1C9B2G6C8P7H5U3F1P9E3J3A9Z8E0\", \"stock_number\": \"BAY076\", \"image_url\": \"https://example.com/images/acura_integra.jpg\", \"features\": [\"Super Cruise\", \"Keyless Entry\", \"Power Tailgate/Liftgate\", \"Android Auto\", \"Adaptive Cruise Control\", \"Cooled Seats\", \"Bluetooth\"], \"offers\": [{\"name\": \"Purchase Allowance for Current Eligible Non-GM Owners and Lessees\", \"amount\": -2000}]}'), Document(id='2565de03-6e9a-466e-861a-87c3f45c5244', metadata={'source': 'C:\\\\sharath\\\\Github\\\\Projects\\\\Loan prediction\\\\loan-pred\\\\assessments\\\\Pinnacle Intelligence\\\\codes\\\\simulator\\\\synthetic_car_inventory_with_features_offers.json', 'seq_num': 251}, page_content='{\"id\": \"ACUIN251\", \"make\": \"Acura\", \"model\": \"Integra\", \"year\": 2025, \"trim\": \"Base\", \"price\": \"83306$\", \"msrp\": \"84306$\", \"discount\": \"1000$\", \"mileage\": 46191, \"condition\": \"used\", \"fuel_type\": \"Electric\", \"transmission\": \"Dual-Clutch\", \"body_style\": \"Hatchback\", \"dealer\": \"Ford Sunnyvale\", \"location\": \"East Ashley, SC\", \"vin\": \"S6Z4U8S3Z8T5V9C6D8M0Z3B1S6B2L5\", \"stock_number\": \"FORD251\", \"image_url\": \"https://example.com/images/acura_integra.jpg\", \"features\": [\"Remote Start\", \"Android Auto\", \"4WD/AWD\", \"Super Cruise\"], \"offers\": [{\"name\": \"Purchase Allowance for Current Eligible Non-GM Owners and Lessees\", \"amount\": -2000}]}'), Document(id='a2c69539-e3c1-4129-beb6-c040c0c8eed9', metadata={'source': 'C:\\\\sharath\\\\Github\\\\Projects\\\\Loan prediction\\\\loan-pred\\\\assessments\\\\Pinnacle Intelligence\\\\codes\\\\simulator\\\\synthetic_car_inventory_with_features_offers.json', 'seq_num': 337}, page_content='{\"id\": \"ACUIN337\", \"make\": \"Acura\", \"model\": \"Integra\", \"year\": 2024, \"trim\": \"A-Spec Tech Package\", \"price\": \"79173$\", \"msrp\": \"81173$\", \"discount\": \"2000$\", \"mileage\": 4789, \"condition\": \"certified\", \"fuel_type\": \"Gasoline\", \"transmission\": \"Manual\", \"body_style\": \"Coupe\", \"dealer\": \"Bay Area Honda\", \"location\": \"Lake Brandistad, VA\", \"vin\": \"U2N5H7M1Z6R6P4N4N8C7L8R1F3Y6M9\", \"stock_number\": \"BAY337\", \"image_url\": \"https://example.com/images/acura_integra.jpg\", \"features\": [\"Apple CarPlay\", \"Remote Start\", \"Auto Dimming Mirror\", \"4WD/AWD\", \"Wi-Fi Hotspot\", \"Bluetooth\", \"Super Cruise\"], \"offers\": [{\"name\": \"Purchase Allowance\", \"amount\": -500}, {\"name\": \"Spartan Recovery Lync\", \"amount\": 999}]}')]}\n"
     ]
    }
   ],
   "source": [
    "user_input = \"I want a car under $25K but don’t know what brand and let me know the discount and final price\"\n",
    "response = qa_chain.invoke(user_input)\n",
    "print(response)"
   ]
  },
  {
   "cell_type": "code",
   "execution_count": null,
   "id": "12505005",
   "metadata": {},
   "outputs": [
    {
     "data": {
      "text/plain": [
       "PromptTemplate(input_variables=['user_input'], input_types={}, partial_variables={}, template='\\nGiven Knowledge Base and User Query understand the query and answer it appropriately.\\nUser Query: {user_input}\\n')"
      ]
     },
     "execution_count": 77,
     "metadata": {},
     "output_type": "execute_result"
    }
   ],
   "source": [
    "from langchain_core.prompts import PromptTemplate\n",
    "\n",
    "prompt_template = \"\"\"\n",
    "Given Knowledge Base and User Query understand the query and answer it appropriately.\n",
    "User Query: {user_input}\n",
    "\"\"\"\n",
    "prompt = PromptTemplate(\n",
    "    input_variables=[\"user_input\"],\n",
    "    template=prompt_template\n",
    ")\n",
    "prompt"
   ]
  },
  {
   "cell_type": "code",
   "execution_count": 75,
   "id": "79470319",
   "metadata": {},
   "outputs": [],
   "source": [
    "from langchain.memory import (\n",
    "    ChatMessageHistory,\n",
    "    ConversationBufferMemory,\n",
    "    ConversationSummaryMemory,\n",
    "    ConversationSummaryBufferMemory,\n",
    "    ConversationBufferWindowMemory,\n",
    "    ConversationTokenBufferMemory,\n",
    "    ConversationKGMemory,\n",
    "    ConversationEntityMemory,\n",
    "    ConversationStringBufferMemory,\n",
    "    ConversationVectorStoreTokenBufferMemory\n",
    ")\n",
    "from langchain.chains import ConversationalRetrievalChain, LLMChain\n",
    "from langchain.chains.conversational_retrieval.prompts import QA_PROMPT"
   ]
  },
  {
   "cell_type": "code",
   "execution_count": 56,
   "id": "5acd6134",
   "metadata": {},
   "outputs": [
    {
     "data": {
      "text/plain": [
       "PromptTemplate(input_variables=['context', 'question'], input_types={}, partial_variables={}, template=\"Use the following pieces of context to answer the question at the end. If you don't know the answer, just say that you don't know, don't try to make up an answer.\\n\\n{context}\\n\\nQuestion: {question}\\nHelpful Answer:\")"
      ]
     },
     "execution_count": 56,
     "metadata": {},
     "output_type": "execute_result"
    }
   ],
   "source": [
    "QA_PROMPT"
   ]
  },
  {
   "cell_type": "code",
   "execution_count": null,
   "id": "b4b35aab",
   "metadata": {},
   "outputs": [],
   "source": [
    "chain = prompt | llm\n",
    "\n",
    "chain.invoke(user_input)"
   ]
  },
  {
   "cell_type": "code",
   "execution_count": 78,
   "id": "f97df100",
   "metadata": {},
   "outputs": [
    {
     "data": {
      "text/plain": [
       "LLMChain(verbose=False, prompt=PromptTemplate(input_variables=['user_input'], input_types={}, partial_variables={}, template='\\nGiven Knowledge Base and User Query understand the query and answer it appropriately.\\nUser Query: {user_input}\\n'), llm=ChatGoogleGenerativeAI(model='models/gemini-2.0-flash', google_api_key=SecretStr('**********'), client=<google.ai.generativelanguage_v1beta.services.generative_service.client.GenerativeServiceClient object at 0x0000023C89C77EF0>, default_metadata=()), output_parser=StrOutputParser(), llm_kwargs={})"
      ]
     },
     "execution_count": 78,
     "metadata": {},
     "output_type": "execute_result"
    }
   ],
   "source": [
    "question_generator_chain = LLMChain(llm=llm, prompt=prompt)\n",
    "question_generator_chain"
   ]
  },
  {
   "cell_type": "code",
   "execution_count": 82,
   "id": "e43b2cf7",
   "metadata": {},
   "outputs": [],
   "source": [
    "retriever = vectorstore.as_retriever(search_kwargs={\"k\": 2})\n",
    "message_history = ChatMessageHistory()\n",
    "chat_memory = ConversationBufferMemory(\n",
    "    memory_key=\"chat_history\",\n",
    "    output_key=\"answer\",\n",
    "    chat_memory=message_history,\n",
    "    return_messages=True\n",
    ")\n"
   ]
  },
  {
   "cell_type": "code",
   "execution_count": 84,
   "id": "ab207b4d",
   "metadata": {},
   "outputs": [
    {
     "ename": "ValidationError",
     "evalue": "4 validation errors for ConversationalRetrievalChain\ncombine_docs_chain\n  Field required [type=missing, input_value={'llm': ChatGoogleGenerat... at 0x0000023E2D7EF7E0>}, input_type=dict]\n    For further information visit https://errors.pydantic.dev/2.11/v/missing\nquestion_generator\n  Field required [type=missing, input_value={'llm': ChatGoogleGenerat... at 0x0000023E2D7EF7E0>}, input_type=dict]\n    For further information visit https://errors.pydantic.dev/2.11/v/missing\nllm\n  Extra inputs are not permitted [type=extra_forbidden, input_value=ChatGoogleGenerativeAI(mo...0>, default_metadata=()), input_type=ChatGoogleGenerativeAI]\n    For further information visit https://errors.pydantic.dev/2.11/v/extra_forbidden\nchain_type\n  Extra inputs are not permitted [type=extra_forbidden, input_value='stuff', input_type=str]\n    For further information visit https://errors.pydantic.dev/2.11/v/extra_forbidden",
     "output_type": "error",
     "traceback": [
      "\u001b[31m---------------------------------------------------------------------------\u001b[39m",
      "\u001b[31mValidationError\u001b[39m                           Traceback (most recent call last)",
      "\u001b[36mCell\u001b[39m\u001b[36m \u001b[39m\u001b[32mIn[84]\u001b[39m\u001b[32m, line 1\u001b[39m\n\u001b[32m----> \u001b[39m\u001b[32m1\u001b[39m chain = \u001b[43mConversationalRetrievalChain\u001b[49m\u001b[43m(\u001b[49m\n\u001b[32m      2\u001b[39m \u001b[43m    \u001b[49m\u001b[38;5;66;43;03m# question_generator=question_generator_chain,\u001b[39;49;00m\n\u001b[32m      3\u001b[39m \u001b[43m    \u001b[49m\u001b[43mllm\u001b[49m\u001b[43m=\u001b[49m\u001b[43mllm\u001b[49m\u001b[43m,\u001b[49m\n\u001b[32m      4\u001b[39m \u001b[43m    \u001b[49m\u001b[43mretriever\u001b[49m\u001b[43m=\u001b[49m\u001b[43mretriever\u001b[49m\u001b[43m,\u001b[49m\n\u001b[32m      5\u001b[39m \u001b[43m    \u001b[49m\u001b[43mchain_type\u001b[49m\u001b[43m=\u001b[49m\u001b[33;43m\"\u001b[39;49m\u001b[33;43mstuff\u001b[39;49m\u001b[33;43m\"\u001b[39;49m\u001b[43m,\u001b[49m\n\u001b[32m      6\u001b[39m \u001b[43m    \u001b[49m\u001b[43mmemory\u001b[49m\u001b[43m=\u001b[49m\u001b[43mchat_memory\u001b[49m\u001b[43m,\u001b[49m\n\u001b[32m      7\u001b[39m \u001b[43m    \u001b[49m\u001b[43mget_chat_history\u001b[49m\u001b[43m=\u001b[49m\u001b[38;5;28;43;01mlambda\u001b[39;49;00m\u001b[43m \u001b[49m\u001b[43mh\u001b[49m\u001b[43m:\u001b[49m\u001b[43m \u001b[49m\u001b[43mh\u001b[49m\u001b[43m,\u001b[49m\n\u001b[32m      8\u001b[39m \u001b[43m    \u001b[49m\u001b[38;5;66;43;03m# return_source_document=True\u001b[39;49;00m\n\u001b[32m      9\u001b[39m \u001b[43m)\u001b[49m\n",
      "\u001b[36mFile \u001b[39m\u001b[32mc:\\sharath\\Github\\Projects\\Loan prediction\\loan-pred\\.venv\\Lib\\site-packages\\langchain_core\\_api\\deprecation.py:224\u001b[39m, in \u001b[36mwarn_if_direct_instance\u001b[39m\u001b[34m(self, *args, **kwargs)\u001b[39m\n\u001b[32m    221\u001b[39m         emit_warning()\n\u001b[32m    222\u001b[39m     \u001b[38;5;28;01mreturn\u001b[39;00m wrapped(\u001b[38;5;28mself\u001b[39m, *args, **kwargs)\n\u001b[32m--> \u001b[39m\u001b[32m224\u001b[39m obj.\u001b[34m__init__\u001b[39m = functools.wraps(obj.\u001b[34m__init__\u001b[39m)(  \u001b[38;5;66;03m# type: ignore[misc]\u001b[39;00m\n\u001b[32m    225\u001b[39m     warn_if_direct_instance\n\u001b[32m    226\u001b[39m )\n\u001b[32m    227\u001b[39m \u001b[38;5;28;01mreturn\u001b[39;00m cast(\u001b[33m\"\u001b[39m\u001b[33mT\u001b[39m\u001b[33m\"\u001b[39m, obj)\n",
      "\u001b[36mFile \u001b[39m\u001b[32mc:\\sharath\\Github\\Projects\\Loan prediction\\loan-pred\\.venv\\Lib\\site-packages\\langchain_core\\load\\serializable.py:130\u001b[39m, in \u001b[36mSerializable.__init__\u001b[39m\u001b[34m(self, *args, **kwargs)\u001b[39m\n\u001b[32m    128\u001b[39m \u001b[38;5;28;01mdef\u001b[39;00m\u001b[38;5;250m \u001b[39m\u001b[34m__init__\u001b[39m(\u001b[38;5;28mself\u001b[39m, *args: Any, **kwargs: Any) -> \u001b[38;5;28;01mNone\u001b[39;00m:\n\u001b[32m    129\u001b[39m \u001b[38;5;250m    \u001b[39m\u001b[33;03m\"\"\"\"\"\"\u001b[39;00m  \u001b[38;5;66;03m# noqa: D419\u001b[39;00m\n\u001b[32m--> \u001b[39m\u001b[32m130\u001b[39m     \u001b[38;5;28;43msuper\u001b[39;49m\u001b[43m(\u001b[49m\u001b[43m)\u001b[49m\u001b[43m.\u001b[49m\u001b[34;43m__init__\u001b[39;49m\u001b[43m(\u001b[49m\u001b[43m*\u001b[49m\u001b[43margs\u001b[49m\u001b[43m,\u001b[49m\u001b[43m \u001b[49m\u001b[43m*\u001b[49m\u001b[43m*\u001b[49m\u001b[43mkwargs\u001b[49m\u001b[43m)\u001b[49m\n",
      "\u001b[36mFile \u001b[39m\u001b[32mc:\\sharath\\Github\\Projects\\Loan prediction\\loan-pred\\.venv\\Lib\\site-packages\\pydantic\\main.py:253\u001b[39m, in \u001b[36mBaseModel.__init__\u001b[39m\u001b[34m(self, **data)\u001b[39m\n\u001b[32m    251\u001b[39m \u001b[38;5;66;03m# `__tracebackhide__` tells pytest and some other tools to omit this function from tracebacks\u001b[39;00m\n\u001b[32m    252\u001b[39m __tracebackhide__ = \u001b[38;5;28;01mTrue\u001b[39;00m\n\u001b[32m--> \u001b[39m\u001b[32m253\u001b[39m validated_self = \u001b[38;5;28;43mself\u001b[39;49m\u001b[43m.\u001b[49m\u001b[43m__pydantic_validator__\u001b[49m\u001b[43m.\u001b[49m\u001b[43mvalidate_python\u001b[49m\u001b[43m(\u001b[49m\u001b[43mdata\u001b[49m\u001b[43m,\u001b[49m\u001b[43m \u001b[49m\u001b[43mself_instance\u001b[49m\u001b[43m=\u001b[49m\u001b[38;5;28;43mself\u001b[39;49m\u001b[43m)\u001b[49m\n\u001b[32m    254\u001b[39m \u001b[38;5;28;01mif\u001b[39;00m \u001b[38;5;28mself\u001b[39m \u001b[38;5;129;01mis\u001b[39;00m \u001b[38;5;129;01mnot\u001b[39;00m validated_self:\n\u001b[32m    255\u001b[39m     warnings.warn(\n\u001b[32m    256\u001b[39m         \u001b[33m'\u001b[39m\u001b[33mA custom validator is returning a value other than `self`.\u001b[39m\u001b[38;5;130;01m\\n\u001b[39;00m\u001b[33m'\u001b[39m\n\u001b[32m    257\u001b[39m         \u001b[33m\"\u001b[39m\u001b[33mReturning anything other than `self` from a top level model validator isn\u001b[39m\u001b[33m'\u001b[39m\u001b[33mt supported when validating via `__init__`.\u001b[39m\u001b[38;5;130;01m\\n\u001b[39;00m\u001b[33m\"\u001b[39m\n\u001b[32m    258\u001b[39m         \u001b[33m'\u001b[39m\u001b[33mSee the `model_validator` docs (https://docs.pydantic.dev/latest/concepts/validators/#model-validators) for more details.\u001b[39m\u001b[33m'\u001b[39m,\n\u001b[32m    259\u001b[39m         stacklevel=\u001b[32m2\u001b[39m,\n\u001b[32m    260\u001b[39m     )\n",
      "\u001b[31mValidationError\u001b[39m: 4 validation errors for ConversationalRetrievalChain\ncombine_docs_chain\n  Field required [type=missing, input_value={'llm': ChatGoogleGenerat... at 0x0000023E2D7EF7E0>}, input_type=dict]\n    For further information visit https://errors.pydantic.dev/2.11/v/missing\nquestion_generator\n  Field required [type=missing, input_value={'llm': ChatGoogleGenerat... at 0x0000023E2D7EF7E0>}, input_type=dict]\n    For further information visit https://errors.pydantic.dev/2.11/v/missing\nllm\n  Extra inputs are not permitted [type=extra_forbidden, input_value=ChatGoogleGenerativeAI(mo...0>, default_metadata=()), input_type=ChatGoogleGenerativeAI]\n    For further information visit https://errors.pydantic.dev/2.11/v/extra_forbidden\nchain_type\n  Extra inputs are not permitted [type=extra_forbidden, input_value='stuff', input_type=str]\n    For further information visit https://errors.pydantic.dev/2.11/v/extra_forbidden"
     ]
    }
   ],
   "source": [
    "chain = ConversationalRetrievalChain(\n",
    "    # question_generator=question_generator_chain,\n",
    "    llm=llm,\n",
    "    retriever=retriever,\n",
    "    chain_type=\"stuff\",\n",
    "    memory=chat_memory,\n",
    "    get_chat_history=lambda h: h,\n",
    "    # return_source_document=True\n",
    ")"
   ]
  },
  {
   "cell_type": "code",
   "execution_count": 85,
   "id": "9ff8b964",
   "metadata": {},
   "outputs": [],
   "source": [
    "from langchain.chains import create_retrieval_chain, create_history_aware_retriever"
   ]
  },
  {
   "cell_type": "code",
   "execution_count": 86,
   "id": "bcc77416",
   "metadata": {},
   "outputs": [],
   "source": [
    "from langchain_core.prompts import PromptTemplate, ChatPromptTemplate"
   ]
  },
  {
   "cell_type": "code",
   "execution_count": null,
   "id": "2e9d2c04",
   "metadata": {},
   "outputs": [],
   "source": [
    "condensed_question_prompt = ChatPromptTemplate.from_messages(\n",
    "    [\n",
    "        (\"system\", )\n",
    "    ]\n",
    ")"
   ]
  },
  {
   "cell_type": "code",
   "execution_count": 73,
   "id": "53c54fca",
   "metadata": {},
   "outputs": [
    {
     "data": {
      "text/plain": [
       "{'question': 'I want a car under $25K but don’t know what brand and let me know the discount and final price',\n",
       " 'chat_history': [HumanMessage(content='I want a car under $25K but don’t know what brand and let me know the discount and final price', additional_kwargs={}, response_metadata={}),\n",
       "  AIMessage(content='I am sorry, I cannot fulfill this request. The cars in the provided data are above $50K.', additional_kwargs={}, response_metadata={})],\n",
       " 'answer': 'I am sorry, I cannot fulfill this request. The cars in the provided data are above $50K.'}"
      ]
     },
     "execution_count": 73,
     "metadata": {},
     "output_type": "execute_result"
    }
   ],
   "source": [
    "chain.invoke(user_input)"
   ]
  },
  {
   "cell_type": "code",
   "execution_count": null,
   "id": "b215c071",
   "metadata": {},
   "outputs": [],
   "source": []
  },
  {
   "cell_type": "code",
   "execution_count": null,
   "id": "8d74f888",
   "metadata": {},
   "outputs": [],
   "source": []
  },
  {
   "cell_type": "markdown",
   "id": "01695717",
   "metadata": {},
   "source": [
    "# Using Langgraph"
   ]
  },
  {
   "cell_type": "code",
   "execution_count": 88,
   "id": "a51832ac",
   "metadata": {},
   "outputs": [],
   "source": [
    "from langgraph.graph import START, StateGraph\n",
    "from typing_extensions import List, TypedDict\n",
    "from langchain_core.documents import Document"
   ]
  },
  {
   "cell_type": "code",
   "execution_count": 108,
   "id": "f9f56cd1",
   "metadata": {},
   "outputs": [],
   "source": [
    "from langchain_core.prompts import PromptTemplate\n",
    "\n",
    "prompt_template = \"\"\"\n",
    "You are an expert AI car-buying assistant.\n",
    "\n",
    "You will receive a knowledge base of vehicle listings in JSON format under {context}.\n",
    "Each vehicle contains keys like:\n",
    "- make, model, year, price, msrp, discount, fuel_type, body_style, condition, mileage, dealer\n",
    "\n",
    "User question: {question}\n",
    "\n",
    "Guidelines:\n",
    "1. ONLY use information present in the context. Do not fabricate or guess.\n",
    "2. If user asks about prices, always calculate the **final price = price - discount** (assume both are in USD).\n",
    "3. If no vehicle matches the user's criteria, respond politely with: \"Sorry, I couldn’t find any vehicles matching your criteria.\"\n",
    "4. If vehicles match, show up to **2 best suggestions**, along with key details: make, model, year, final price, discount, and dealer.\n",
    "5. Be concise, friendly, and factual.\n",
    "\n",
    "Now based on the context and question, provide the best response:\n",
    "\"\"\"\n",
    "\n",
    "prompt = PromptTemplate(\n",
    "    input_variables=[\"context\", \"question\"],\n",
    "    template=prompt_template\n",
    ")\n"
   ]
  },
  {
   "cell_type": "code",
   "execution_count": 109,
   "id": "972547cd",
   "metadata": {},
   "outputs": [
    {
     "name": "stdout",
     "output_type": "stream",
     "text": [
      "\n",
      "You are an expert AI car-buying assistant.\n",
      "\n",
      "You will receive a knowledge base of vehicle listings in JSON format under {context}.\n",
      "Each vehicle contains keys like:\n",
      "- make, model, year, price, msrp, discount, fuel_type, body_style, condition, mileage, dealer\n",
      "\n",
      "User question: {question}\n",
      "\n",
      "Guidelines:\n",
      "1. ONLY use information present in the context. Do not fabricate or guess.\n",
      "2. If user asks about prices, always calculate the **final price = price - discount** (assume both are in USD).\n",
      "3. If no vehicle matches the user's criteria, respond politely with: \"Sorry, I couldn’t find any vehicles matching your criteria.\"\n",
      "4. If vehicles match, show up to **2 best suggestions**, along with key details: make, model, year, final price, discount, and dealer.\n",
      "5. Be concise, friendly, and factual.\n",
      "\n",
      "Now based on the context and question, provide the best response:\n",
      "\n"
     ]
    }
   ],
   "source": [
    "print(prompt.template)"
   ]
  },
  {
   "cell_type": "code",
   "execution_count": null,
   "id": "42a116a1",
   "metadata": {},
   "outputs": [],
   "source": [
    "from langchain.retrievers import BM25Retriever, EnsembleRetriever\n",
    "dense_retriever = vectorstore.as_retriever()\n",
    "\n",
    "# === Step 3: Build BM25 Sparse Retriever ===\n",
    "sparse_retriever = BM25Retriever.from_documents(docs)\n",
    "sparse_retriever.k = 5  # top K matches\n",
    "\n",
    "# === Step 4: Hybrid Retriever ===\n",
    "hybrid_retriever = EnsembleRetriever(\n",
    "    retrievers=[dense_retriever, sparse_retriever],\n",
    "    weights=[0.6, 0.4]  # Tune weights as needed\n",
    ")"
   ]
  },
  {
   "cell_type": "code",
   "execution_count": null,
   "id": "5af16896",
   "metadata": {},
   "outputs": [
    {
     "data": {
      "text/plain": [
       "EnsembleRetriever(retrievers=[VectorStoreRetriever(tags=['FAISS', 'HuggingFaceEmbeddings'], vectorstore=<langchain_community.vectorstores.faiss.FAISS object at 0x0000023C8650FD70>, search_kwargs={}), BM25Retriever(vectorizer=<rank_bm25.BM25Okapi object at 0x0000023C8099C0E0>, k=5)], weights=[0.6, 0.4])"
      ]
     },
     "execution_count": 120,
     "metadata": {},
     "output_type": "execute_result"
    }
   ],
   "source": [
    "hybrid_retriever"
   ]
  },
  {
   "cell_type": "code",
   "execution_count": 121,
   "id": "17ffd8ee",
   "metadata": {},
   "outputs": [],
   "source": [
    "class State(TypedDict):\n",
    "    question: str\n",
    "    context: List[Document]\n",
    "    answer: str\n",
    "\n",
    "\n",
    "def retrieve(state: State):\n",
    "    # retrived_docs = vectorstore.similarity_search(state['question'])\n",
    "    retrived_docs = hybrid_retriever.get_relevant_documents(state['question'])\n",
    "    return {\"context\": retrived_docs}\n",
    "\n",
    "def generate(state: State):\n",
    "    docs_content = \"\\n\\n\".join(doc.page_content for doc in state['context'])\n",
    "    messages = prompt.invoke({\"question\": state[\"question\"], \"context\": docs_content})\n",
    "    response = llm.invoke(messages)\n",
    "    return {\"answer\": response.content}\n",
    "\n",
    "\n",
    "graph_builder = StateGraph(State).add_sequence([retrieve, generate])\n",
    "graph_builder.add_edge(START, \"retrieve\")\n",
    "graph = graph_builder.compile()"
   ]
  },
  {
   "cell_type": "code",
   "execution_count": 122,
   "id": "440beae7",
   "metadata": {},
   "outputs": [
    {
     "name": "stderr",
     "output_type": "stream",
     "text": [
      "C:\\Users\\shash\\AppData\\Local\\Temp\\ipykernel_23956\\774762254.py:9: LangChainDeprecationWarning: The method `BaseRetriever.get_relevant_documents` was deprecated in langchain-core 0.1.46 and will be removed in 1.0. Use :meth:`~invoke` instead.\n",
      "  retrived_docs = hybrid_retriever.get_relevant_documents(state['question'])\n"
     ]
    },
    {
     "name": "stdout",
     "output_type": "stream",
     "text": [
      "Sorry, I couldn’t find any vehicles matching your criteria.\n",
      "\n"
     ]
    }
   ],
   "source": [
    "response = graph.invoke({\"question\": user_input})\n",
    "print(response['answer'])"
   ]
  },
  {
   "cell_type": "code",
   "execution_count": 115,
   "id": "de2b6403",
   "metadata": {},
   "outputs": [
    {
     "data": {
      "text/plain": [
       "[Document(id='04baa194-8138-4f3e-812b-c6981cd9ea01', metadata={'source': 'C:\\\\sharath\\\\Github\\\\Projects\\\\Loan prediction\\\\loan-pred\\\\assessments\\\\Pinnacle Intelligence\\\\codes\\\\simulator\\\\synthetic_car_inventory_with_features_offers.json', 'seq_num': 206}, page_content='{\"id\": \"ACUIN206\", \"make\": \"Acura\", \"model\": \"Integra\", \"year\": 2023, \"trim\": \"Type S\", \"price\": 84027, \"msrp\": 87027, \"discount\": 3000, \"mileage\": 25313, \"condition\": \"certified\", \"fuel_type\": \"Electric\", \"transmission\": \"CVT\", \"body_style\": \"Sedan\", \"dealer\": \"Bay Area Honda\", \"location\": \"Mooreshire, DE\", \"vin\": \"H6T8K4C2U6U8D4X0B1V8T4H6A4B2V7\", \"stock_number\": \"BAY206\", \"image_url\": \"https://example.com/images/acura_integra.jpg\", \"features\": [\"Auto Dimming Mirror\", \"Cooled Seats\", \"4WD/AWD\", \"Remote Start\", \"Wi-Fi Hotspot\", \"Apple CarPlay\", \"Android Auto\"], \"offers\": [{\"name\": \"GM Educator Offer\", \"amount\": -500}, {\"name\": \"Purchase Allowance for Current Eligible Non-GM Owners and Lessees\", \"amount\": -2000}, {\"name\": \"Finance Cash\", \"amount\": -1000}]}'),\n",
       " Document(id='45ef31ac-def4-4009-9bfb-444449417257', metadata={'source': 'C:\\\\sharath\\\\Github\\\\Projects\\\\Loan prediction\\\\loan-pred\\\\assessments\\\\Pinnacle Intelligence\\\\codes\\\\simulator\\\\synthetic_car_inventory_with_features_offers.json', 'seq_num': 196}, page_content='{\"id\": \"ACUIN196\", \"make\": \"Acura\", \"model\": \"Integra\", \"year\": 2024, \"trim\": \"Base\", \"price\": 53101, \"msrp\": 55101, \"discount\": 2000, \"mileage\": 9575, \"condition\": \"certified\", \"fuel_type\": \"Hybrid\", \"transmission\": \"Manual\", \"body_style\": \"Sedan\", \"dealer\": \"Bay Area Honda\", \"location\": \"Lake Meganton, AR\", \"vin\": \"K6F0Y7N0U1Z8B5P1Y9V1S2X2E2N4Y4\", \"stock_number\": \"BAY196\", \"image_url\": \"https://example.com/images/acura_integra.jpg\", \"features\": [\"Cooled Seats\", \"Super Cruise\", \"Bluetooth\", \"Wi-Fi Hotspot\", \"Keyless Entry\", \"4WD/AWD\", \"Adaptive Cruise Control\"], \"offers\": [{\"name\": \"GM Educator Offer\", \"amount\": -500}, {\"name\": \"Finance Cash\", \"amount\": -1000}, {\"name\": \"Purchase Allowance for Current Eligible Non-GM Owners and Lessees\", \"amount\": -2000}]}'),\n",
       " Document(id='45366a64-fea9-4194-a63a-503005864826', metadata={'source': 'C:\\\\sharath\\\\Github\\\\Projects\\\\Loan prediction\\\\loan-pred\\\\assessments\\\\Pinnacle Intelligence\\\\codes\\\\simulator\\\\synthetic_car_inventory_with_features_offers.json', 'seq_num': 148}, page_content='{\"id\": \"ACUIN148\", \"make\": \"Acura\", \"model\": \"Integra\", \"year\": 2025, \"trim\": \"Base\", \"price\": 46153, \"msrp\": 49153, \"discount\": 3000, \"mileage\": 43256, \"condition\": \"used\", \"fuel_type\": \"Hybrid\", \"transmission\": \"Manual\", \"body_style\": \"Sedan\", \"dealer\": \"Bay Area Honda\", \"location\": \"North Brittanyfort, VA\", \"vin\": \"W0B4H6V7P7L0U1U5G0V8C6T6J9F6W6\", \"stock_number\": \"BAY148\", \"image_url\": \"https://example.com/images/acura_integra.jpg\", \"features\": [\"Super Cruise\", \"Adaptive Cruise Control\", \"Wi-Fi Hotspot\", \"Keyless Entry\", \"Android Auto\", \"Power Tailgate/Liftgate\"], \"offers\": [{\"name\": \"GM Educator Offer\", \"amount\": -500}, {\"name\": \"Purchase Allowance for Current Eligible Non-GM Owners and Lessees\", \"amount\": -2000}]}'),\n",
       " Document(id='a833c8bd-0a7e-41d8-ab01-4de877a5c063', metadata={'source': 'C:\\\\sharath\\\\Github\\\\Projects\\\\Loan prediction\\\\loan-pred\\\\assessments\\\\Pinnacle Intelligence\\\\codes\\\\simulator\\\\synthetic_car_inventory_with_features_offers.json', 'seq_num': 225}, page_content='{\"id\": \"ACUIN225\", \"make\": \"Acura\", \"model\": \"Integra\", \"year\": 2025, \"trim\": \"A-Spec Tech Package\", \"price\": 29991, \"msrp\": 31991, \"discount\": 2000, \"mileage\": 10, \"condition\": \"new\", \"fuel_type\": \"Diesel\", \"transmission\": \"Dual-Clutch\", \"body_style\": \"Coupe\", \"dealer\": \"Bay Area Honda\", \"location\": \"Boydside, UT\", \"vin\": \"K4B5E7W4P6Y8A2G6S5M4Y3X9D7M1R0\", \"stock_number\": \"BAY225\", \"image_url\": \"https://example.com/images/acura_integra.jpg\", \"features\": [\"Power Tailgate/Liftgate\", \"4WD/AWD\", \"Auto Dimming Mirror\", \"Bluetooth\", \"Super Cruise\", \"Android Auto\"], \"offers\": [{\"name\": \"Spartan Recovery Lync\", \"amount\": 999}, {\"name\": \"Purchase Allowance\", \"amount\": -500}, {\"name\": \"Finance Cash\", \"amount\": -1000}]}')]"
      ]
     },
     "execution_count": 115,
     "metadata": {},
     "output_type": "execute_result"
    }
   ],
   "source": [
    "response['context']"
   ]
  },
  {
   "cell_type": "code",
   "execution_count": null,
   "id": "899990ce",
   "metadata": {},
   "outputs": [],
   "source": []
  },
  {
   "cell_type": "code",
   "execution_count": null,
   "id": "9fa8d360",
   "metadata": {},
   "outputs": [],
   "source": []
  },
  {
   "cell_type": "code",
   "execution_count": null,
   "id": "153172df",
   "metadata": {},
   "outputs": [],
   "source": []
  },
  {
   "cell_type": "code",
   "execution_count": null,
   "id": "37063af1",
   "metadata": {},
   "outputs": [],
   "source": []
  },
  {
   "cell_type": "code",
   "execution_count": null,
   "id": "aee428e7",
   "metadata": {},
   "outputs": [],
   "source": []
  },
  {
   "cell_type": "code",
   "execution_count": null,
   "id": "0ea0a7fd",
   "metadata": {},
   "outputs": [],
   "source": []
  },
  {
   "cell_type": "code",
   "execution_count": null,
   "id": "5363f0c5",
   "metadata": {},
   "outputs": [],
   "source": []
  },
  {
   "cell_type": "code",
   "execution_count": null,
   "id": "e61a56a2",
   "metadata": {},
   "outputs": [],
   "source": []
  },
  {
   "cell_type": "code",
   "execution_count": null,
   "id": "54c774c7",
   "metadata": {},
   "outputs": [],
   "source": []
  },
  {
   "cell_type": "code",
   "execution_count": null,
   "id": "39c0c91c",
   "metadata": {},
   "outputs": [],
   "source": []
  },
  {
   "cell_type": "code",
   "execution_count": null,
   "id": "0e884ecf",
   "metadata": {},
   "outputs": [],
   "source": []
  },
  {
   "cell_type": "code",
   "execution_count": null,
   "id": "48332044",
   "metadata": {},
   "outputs": [],
   "source": []
  },
  {
   "cell_type": "code",
   "execution_count": null,
   "id": "95757085",
   "metadata": {},
   "outputs": [],
   "source": []
  },
  {
   "cell_type": "code",
   "execution_count": null,
   "id": "c3ebddde",
   "metadata": {},
   "outputs": [],
   "source": []
  },
  {
   "cell_type": "code",
   "execution_count": null,
   "id": "ffcc2f0b",
   "metadata": {},
   "outputs": [],
   "source": []
  },
  {
   "cell_type": "code",
   "execution_count": 17,
   "id": "b2390784",
   "metadata": {},
   "outputs": [
    {
     "name": "stderr",
     "output_type": "stream",
     "text": [
      "USER_AGENT environment variable not set, consider setting it to identify your requests.\n"
     ]
    },
    {
     "data": {
      "text/plain": [
       "[[Document(metadata={'source': 'https://www.californiacaronline.com/searchnew.aspx', 'title': 'Acura Vehicle Inventory - Concord Acura dealer in Dublin CA - New and Used Acura dealership Dublin Fremont Livermore CA', 'description': 'Search Acura Inventory at Dosanjh Family Auto Group for ', 'language': 'en'}, page_content='\\n\\n\\n\\n\\nAcura Vehicle Inventory - Concord Acura dealer in Dublin CA - New and Used Acura dealership Dublin Fremont Livermore CA\\n\\n\\n\\n\\n\\n\\n\\n\\n\\n\\n\\n\\n\\n\\n\\n\\n\\n\\n\\n\\n\\n\\n\\n\\n\\n\\n\\n\\n\\n\\n  \\n\\n\\n\\n\\n\\n\\n\\n\\n\\n\\n\\n\\n\\n\\n\\n\\n\\n\\n\\n\\n\\n\\n\\n\\nDosanjh Family Auto Group\\n\\n\\n\\n\\n\\n\\n\\n\\n\\n\\n\\n\\n\\n\\n\\n\\n\\n\\n\\n\\n4200 John Monego Court Dublin, CA 94568\\n\\n\\n\\n\\n\\n\\n\\n\\nService\\n\\n\\n\\n\\n\\n\\n\\nMap\\n\\n\\n\\n\\n\\n\\n\\nContact\\n\\n\\n\\n\\n\\n\\n\\n\\n\\n\\n\\n\\n\\n\\n\\n\\n\\n\\n\\n\\nDosanjh Family Auto Group\\n\\n\\n\\n\\n\\n\\n\\n\\n\\n Call \\n\\n Directions\\n\\n\\n\\n\\n\\n\\n\\n\\n\\n\\n\\n\\n\\n\\n\\n\\n\\n\\n\\n\\n\\n\\n\\nBuy Online\\n\\n\\n\\n\\nBuy Online\\n\\n\\n\\n\\nBuy New\\n\\n\\n\\n\\nBuy Used\\n\\n\\n\\n\\n\\n\\nNew Models\\n\\n\\n\\n\\nAll New Vehicles\\n\\n\\n\\n\\nShop Acura\\n\\n\\n\\n\\nShop Buick\\n\\n\\n\\n\\nShop Cadillac\\n\\n\\n\\n\\nShop Chevrolet\\n\\n\\n\\n\\nShop GMC\\n\\n\\n\\n\\nShop INFINITI\\n\\n\\n\\n\\nShop Kia\\n\\n\\n\\n\\nShop Nissan\\n\\n\\n\\n\\nShop Toyota\\n\\n\\n\\n\\n\\n\\nPre-Owned Vehicles\\n\\n\\n\\n\\nPre-Owned Vehicles\\n\\n\\n\\n\\nSearch Inventory\\n\\n\\n\\n\\nCertified Pre-Owned Vehicles\\n\\n\\n\\n\\nShop Sedans\\n\\n\\n\\n\\nShop SUVs\\n\\n\\n\\n\\nShop Trucks\\n\\n\\n\\n\\nShop Under $20K\\n\\n\\n\\n\\n\\n\\nService\\n\\n\\n\\n\\nSchedule Service\\n\\n\\n\\n\\n\\n\\nFinance\\n\\n\\n\\n\\nGet Financed\\n\\n\\n\\n\\n\\n\\nAbout Us\\n\\n\\n\\n\\nWhy Buy\\n\\n\\n\\n\\nOur Locations\\n\\n\\n\\n\\nCareers / Employment\\n\\n\\n\\n\\n\\n\\n\\n\\n\\n\\n\\n\\n\\n\\n\\n\\n\\n\\n\\n\\n\\n\\n\\nHome\\n\\n\\n\\n\\nBuy Online\\n\\n\\n\\n\\nBuy Online\\n\\n\\n\\n\\nBuy New\\n\\n\\n\\n\\nBuy Used\\n\\n\\n\\n\\n\\n\\nNew Models\\n\\n\\n\\n\\nAll New Vehicles\\n\\n\\n\\n\\nShop Acura\\n\\n\\n\\n\\nShop Buick\\n\\n\\n\\n\\nShop Cadillac\\n\\n\\n\\n\\nShop Chevrolet\\n\\n\\n\\n\\nShop GMC\\n\\n\\n\\n\\nShop INFINITI\\n\\n\\n\\n\\nShop Kia\\n\\n\\n\\n\\nShop Nissan\\n\\n\\n\\n\\nShop Toyota\\n\\n\\n\\n\\n\\n\\nPre-Owned Vehicles\\n\\n\\n\\n\\nPre-Owned Vehicles\\n\\n\\n\\n\\nSearch Inventory\\n\\n\\n\\n\\nCertified Pre-Owned Vehicles\\n\\n\\n\\n\\nShop Sedans\\n\\n\\n\\n\\nShop SUVs\\n\\n\\n\\n\\nShop Trucks\\n\\n\\n\\n\\nShop Under $20K\\n\\n\\n\\n\\n\\n\\nService\\n\\n\\n\\n\\nSchedule Service\\n\\n\\n\\n\\n\\n\\nFinance\\n\\n\\n\\n\\nGet Financed\\n\\n\\n\\n\\n\\n\\nAbout Us\\n\\n\\n\\n\\nWhy Buy\\n\\n\\n\\n\\nOur Locations\\n\\n\\n\\n\\nCareers / Employment\\n\\n\\n\\n\\n\\n\\n\\n\\n\\n \\n\\n\\n\\n\\n\\nSearch Inventory\\n\\n\\n\\n\\n \\n\\n\\n\\n\\n\\n\\n\\n\\n\\n\\n\\n\\n\\n\\n\\n\\n\\n\\n\\n\\n\\n\\n\\n\\n\\n\\n\\n\\n\\n\\n\\n\\n\\n\\n\\n\\n\\n\\n\\n\\n\\n\\n\\n\\xa0\\n\\n\\n\\n\\n\\n\\n\\n\\n\\n\\n\\n\\n\\n\\n\\n\\n\\n\\n\\n\\n\\n\\n\\n\\n\\n\\n\\n\\n\\n\\n\\n\\n\\n\\n\\n\\n\\nMay not represent actual vehicle. (Options, colors, trim and body style may vary)*Based on model year EPA mileage ratings. Use for comparison purposes only. Your actual mileage will vary, depending on how you drive and maintain your vehicle, driving conditions, battery pack age/condition (hybrid only) and other factors.\\n\\n\\n\\n\\n\\n\\n\\n\\n\\n\\n\\n×\\n\\n\\n\\n\\n\\n\\n\\n\\n\\n\\n\\n\\n\\n\\n\\nSend to Friend\\n\\n\\n\\n\\n\\n\\n\\nSend to Friend\\n\\n\\n\\n\\n\\n\\n\\n\\nFriend’s Name:\\n\\n\\n\\n*Friend’s Email:\\n\\n\\n\\nMessage: \\n\\n\\n\\n*Your Name: \\n\\n\\n\\n*Your Email:\\n\\n\\n\\n\\n\\nSend me a copy\\n\\n\\n\\n\\n\\nSend to Friend\\n\\n\\n\\n**Required Fields\\n\\n\\n\\n\\n\\n\\n\\n\\n\\n\\n\\n\\n\\n\\n\\n\\n\\n\\n\\n\\n\\n\\n\\n\\n\\n\\n\\n\\n\\nePriceModalTitle\\n\\n\\n\\n\\n\\n\\n\\n\\n\\n\\n\\n\\nColor: \\nStock #: \\nVIN: \\n\\n\\n\\n\\n\\n\\n\\n\\n\\n\\n\\n*Required Fields \\n\\n\\n*First Name:\\n\\n\\n\\n\\n\\n\\n\\n*Last Name:\\n\\n\\n\\n\\n\\n\\n*Email:\\n\\n\\n\\n\\n\\n*Phone:\\n\\n\\n\\n\\n\\n\\nComments:\\n\\n\\n\\n\\n\\n\\n\\n\\n\\n\\n\\n\\n\\n\\n\\nBy clicking this box, I agree to receive in-person or automated telemarketing calls and texts from Dosanjh Family Auto Group at the number I entered. I understand that my consent is not required for purchase. \\n\\n\\n\\n\\n\\n\\n\\nGet Quote\\n\\n\\n\\n\\n\\n\\n\\n\\n\\n\\n\\n\\n\\n\\n\\n\\n×\\n\\n\\n\\nSearch New Vehicles Nearby\\nType in a zip code, or share your location to find vehicles near you.\\n\\n\\n\\n\\n\\n\\n Search>\\n\\n\\n\\n- or -\\nShare My Location\\nUse Shared Location\\n\\n\\n\\n\\n\\n\\n\\n\\n\\n\\n\\n\\n\\n\\n\\n\\n\\nTest Drive\\n\\n\\n\\n\\n\\n\\n\\n\\n\\n\\n\\n*Required Fields\\nVehicle You Want To Test Drive\\n\\n*Year:\\n\\n\\n\\n\\n\\n*Make:\\n\\n\\n\\n\\n\\n*Model:\\n\\n\\n\\n\\n\\nStock #:\\n\\n\\n\\n\\n\\nVIN:\\n\\n\\n\\n\\n\\n\\n\\n\\n\\n\\n\\n\\n\\n\\n\\nPersonal Information:\\n\\n*First Name:\\n\\n\\n\\n\\n\\n*Last Name:\\n\\n\\n\\n\\n\\n*E-Mail Address:\\n\\n\\n\\n\\n\\n*Phone Number:\\n\\n\\n\\n\\n\\n\\n\\n\\n\\n\\nTest Drive Appointment:\\n\\n\\n\\n\\n\\n\\n\\n\\n\\n\\n\\n\\nBy clicking this box, I agree to receive in-person or automated telemarketing calls and texts from Dosanjh Family Auto Group at the number I entered. I understand that my consent is not required for purchase. \\n\\n\\n\\n\\n\\n\\n\\n\\n\\n\\n\\n\\n\\n\\n\\n\\n\\n\\n\\n\\n\\n\\n\\n\\n\\n\\n\\n\\nMore Info\\n\\n\\n\\n\\n\\n\\n\\n\\nClose\\n\\n\\n\\n\\n\\n\\n\\n\\n\\n\\n\\n\\n\\n\\n\\n\\n\\n\\n\\n\\n\\n\\n\\n\\nCopyright © 2025 by\\xa0DealerOn\\xa0|\\xa0Sitemap\\xa0|\\xa0Privacy\\xa0|\\xa0Dosanjh Family Auto Group\\xa0|\\xa04200 John Monego Court ,\\xa0Dublin,\\xa0CA\\xa094568\\n\\n\\n\\n\\n\\n\\n\\n\\n\\n\\n\\n\\n \\n\\n\\n\\n\\n\\n\\n\\n\\n\\n\\n\\n\\n\\n\\n\\n\\n\\n\\n\\n\\n\\n\\n\\n\\n\\n\\n\\n\\n\\n\\n\\n\\n\\n\\n\\n\\n\\n\\n\\n\\n\\n\\n\\n\\n')]]"
      ]
     },
     "execution_count": 17,
     "metadata": {},
     "output_type": "execute_result"
    }
   ],
   "source": [
    "\n",
    "from langchain_community.document_loaders import WebBaseLoader\n",
    "\n",
    "urls = [\n",
    "    \"https://www.californiacaronline.com/searchnew.aspx\"\n",
    "]\n",
    "\n",
    "docs = [WebBaseLoader(url).load() for url in urls]\n",
    "docs"
   ]
  },
  {
   "cell_type": "code",
   "execution_count": 18,
   "id": "e01b729b",
   "metadata": {},
   "outputs": [
    {
     "data": {
      "text/plain": [
       "'Acura Vehicle Inventory - Concord Acura dealer in Dublin CA - New and Used Acura dealership Dublin Fremont Livermore CA\\n\\n\\n\\n\\n\\n\\n\\n\\n\\n\\n\\n\\n\\n\\n\\n\\n\\n\\n\\n\\n\\n\\n\\n\\n\\n\\n\\n\\n\\n\\n  \\n\\n\\n\\n\\n\\n\\n\\n\\n\\n\\n\\n\\n\\n\\n\\n\\n\\n\\n\\n\\n\\n\\n\\n\\nDosanjh Family Auto Group\\n\\n\\n\\n\\n\\n\\n\\n\\n\\n\\n\\n\\n\\n\\n\\n\\n\\n\\n\\n\\n4200 John Monego Court Dublin, CA 94568\\n\\n\\n\\n\\n\\n\\n\\n\\nService\\n\\n\\n\\n\\n\\n\\n\\nMap\\n\\n\\n\\n\\n\\n\\n\\nContact\\n\\n\\n\\n\\n\\n\\n\\n\\n\\n\\n\\n\\n\\n\\n\\n\\n\\n\\n\\n\\nDosanjh Family Auto Group\\n\\n\\n\\n\\n\\n\\n\\n\\n\\n Call \\n\\n Directions\\n\\n\\n\\n\\n\\n\\n\\n\\n\\n\\n\\n\\n\\n\\n\\n\\n\\n\\n\\n\\n\\n\\n\\nBuy Online\\n\\n\\n\\n\\nBuy Online\\n\\n\\n\\n\\nBuy New\\n\\n\\n\\n\\nBuy Used\\n\\n\\n\\n\\n\\n\\nNew Models\\n\\n\\n\\n\\nAll New Vehicles\\n\\n\\n\\n\\nShop Acura\\n\\n\\n\\n\\nShop Buick\\n\\n\\n\\n\\nShop Cadillac\\n\\n\\n\\n\\nShop Chevrolet\\n\\n\\n\\n\\nShop GMC\\n\\n\\n\\n\\nShop INFINITI\\n\\n\\n\\n\\nShop Kia\\n\\n\\n\\n\\nShop Nissan\\n\\n\\n\\n\\nShop Toyota\\n\\n\\n\\n\\n\\n\\nPre-Owned Vehicles\\n\\n\\n\\n\\nPre-Owned Vehicles\\n\\n\\n\\n\\nSearch Inventory\\n\\n\\n\\n\\nCertified Pre-Owned Vehicles\\n\\n\\n\\n\\nShop Sedans\\n\\n\\n\\n\\nShop SUVs\\n\\n\\n\\n\\nShop Trucks\\n\\n\\n\\n\\nShop Under $20K\\n\\n\\n\\n\\n\\n\\nService\\n\\n\\n\\n\\nSchedule Service\\n\\n\\n\\n\\n\\n\\nFinance\\n\\n\\n\\n\\nGet Financed\\n\\n\\n\\n\\n\\n\\nAbout Us\\n\\n\\n\\n\\nWhy Buy\\n\\n\\n\\n\\nOur Locations\\n\\n\\n\\n\\nCareers / Employment\\n\\n\\n\\n\\n\\n\\n\\n\\n\\n\\n\\n\\n\\n\\n\\n\\n\\n\\n\\n\\n\\n\\n\\nHome\\n\\n\\n\\n\\nBuy Online\\n\\n\\n\\n\\nBuy Online\\n\\n\\n\\n'"
      ]
     },
     "execution_count": 18,
     "metadata": {},
     "output_type": "execute_result"
    }
   ],
   "source": [
    "docs[0][0].page_content.strip()[:1000]"
   ]
  },
  {
   "cell_type": "code",
   "execution_count": 19,
   "id": "ff1b8f62",
   "metadata": {},
   "outputs": [],
   "source": [
    "from langchain_text_splitters import RecursiveCharacterTextSplitter\n",
    "\n",
    "docs_list = [item for sublist in docs for item in sublist]\n",
    "\n",
    "text_splitter = RecursiveCharacterTextSplitter.from_tiktoken_encoder(\n",
    "    chunk_size=100, chunk_overlap=50\n",
    ")\n",
    "doc_splits = text_splitter.split_documents(docs_list)"
   ]
  },
  {
   "cell_type": "code",
   "execution_count": 20,
   "id": "60e9465a",
   "metadata": {},
   "outputs": [
    {
     "data": {
      "text/plain": [
       "'Acura Vehicle Inventory - Concord Acura dealer in Dublin CA - New and Used Acura dealership Dublin Fremont Livermore CA\\n\\n\\n\\n\\n\\n\\n\\n\\n\\n\\n\\n\\n\\n\\n\\n\\n\\n\\n\\n\\n\\n\\n\\n\\n\\n\\n\\n\\n\\n\\n  \\n\\n\\n\\n\\n\\n\\n\\n\\n\\n\\n\\n\\n\\n\\n\\n\\n\\n\\n\\n\\n\\n\\n\\n\\nDosanjh Family Auto Group\\n\\n\\n\\n\\n\\n\\n\\n\\n\\n\\n\\n\\n\\n\\n\\n\\n\\n\\n\\n\\n4200 John Monego Court Dublin, CA 94568\\n\\n\\n\\n\\n\\n\\n\\n\\nService'"
      ]
     },
     "execution_count": 20,
     "metadata": {},
     "output_type": "execute_result"
    }
   ],
   "source": [
    "doc_splits[0].page_content.strip()"
   ]
  },
  {
   "cell_type": "code",
   "execution_count": 22,
   "id": "04ece839",
   "metadata": {},
   "outputs": [],
   "source": [
    "from langchain_core.vectorstores import InMemoryVectorStore\n",
    "from langchain_openai import OpenAIEmbeddings\n",
    "\n",
    "vectorstore = InMemoryVectorStore.from_documents(\n",
    "    documents=doc_splits, embedding=embeddings\n",
    ")\n",
    "retriever = vectorstore.as_retriever()"
   ]
  },
  {
   "cell_type": "code",
   "execution_count": 27,
   "id": "0036fb3c",
   "metadata": {},
   "outputs": [
    {
     "data": {
      "text/plain": [
       "'Shop Under $20K\\n\\n\\n\\n\\n\\n\\nService\\n\\n\\n\\n\\nSchedule Service\\n\\n\\n\\n\\n\\n\\nFinance\\n\\n\\n\\n\\nGet Financed\\n\\n\\n\\n\\n\\n\\nAbout Us\\n\\n\\n\\n\\nWhy Buy\\n\\n\\n\\n\\nOur Locations\\n\\n\\n\\n\\nCareers / Employment\\n\\n\\n\\n\\n\\n\\n\\n\\n\\n \\n\\n\\n\\n\\n\\nSearch Inventory\\n\\nShop Cadillac\\n\\n\\n\\n\\nShop Chevrolet\\n\\n\\n\\n\\nShop GMC\\n\\n\\n\\n\\nShop INFINITI\\n\\n\\n\\n\\nShop Kia\\n\\n\\n\\n\\nShop Nissan\\n\\n\\n\\n\\nShop Toyota\\n\\n\\n\\n\\n\\n\\nPre-Owned Vehicles\\n\\n\\n\\n\\nPre-Owned Vehicles\\n\\n\\n\\n\\nSearch Inventory\\n\\n\\n\\n\\nCertified Pre-Owned Vehicles\\n\\n\\n\\n\\nShop Sedans\\n\\n\\n\\n\\nShop SUVs\\n\\n\\n\\n\\nShop Trucks\\n\\n\\n\\n\\nShop Under $20K\\n\\nBuy Online\\n\\n\\n\\n\\nBuy Online\\n\\n\\n\\n\\nBuy New\\n\\n\\n\\n\\nBuy Used\\n\\n\\n\\n\\n\\n\\nNew Models\\n\\n\\n\\n\\nAll New Vehicles\\n\\n\\n\\n\\nShop Acura\\n\\n\\n\\n\\nShop Buick\\n\\n\\n\\n\\nShop Cadillac\\n\\n\\n\\n\\nShop Chevrolet\\n\\n\\n\\n\\nShop GMC\\n\\n\\n\\n\\nShop INFINITI\\n\\n\\n\\n\\nShop Kia\\n\\n\\n\\n\\nShop Nissan\\n\\n\\n\\n\\nShop Toyota\\n\\n\\n\\n\\n\\n\\nPre-Owned Vehicles\\n\\nShop Buick\\n\\n\\n\\n\\nShop Cadillac\\n\\n\\n\\n\\nShop Chevrolet\\n\\n\\n\\n\\nShop GMC\\n\\n\\n\\n\\nShop INFINITI\\n\\n\\n\\n\\nShop Kia\\n\\n\\n\\n\\nShop Nissan\\n\\n\\n\\n\\nShop Toyota\\n\\n\\n\\n\\n\\n\\nPre-Owned Vehicles\\n\\n\\n\\n\\nPre-Owned Vehicles\\n\\n\\n\\n\\nSearch Inventory\\n\\n\\n\\n\\nCertified Pre-Owned Vehicles\\n\\n\\n\\n\\nShop Sedans\\n\\n\\n\\n\\nShop SUVs\\n\\n\\n\\n\\nShop Trucks'"
      ]
     },
     "execution_count": 27,
     "metadata": {},
     "output_type": "execute_result"
    }
   ],
   "source": [
    "from langchain.tools.retriever import create_retriever_tool\n",
    "\n",
    "retriever_tool = create_retriever_tool(\n",
    "    retriever,\n",
    "    \"retrieve_information\",\n",
    "    \"Search and return information about cars.\",\n",
    ")\n",
    "result = retriever_tool.invoke({\"query\": \"I want a car under $25K but don’t know what brand\"})\n",
    "result"
   ]
  },
  {
   "cell_type": "code",
   "execution_count": 28,
   "id": "5fdce593",
   "metadata": {},
   "outputs": [
    {
     "name": "stdout",
     "output_type": "stream",
     "text": [
      "Shop Under $20K\n",
      "\n",
      "\n",
      "\n",
      "\n",
      "\n",
      "\n",
      "Service\n",
      "\n",
      "\n",
      "\n",
      "\n",
      "Schedule Service\n",
      "\n",
      "\n",
      "\n",
      "\n",
      "\n",
      "\n",
      "Finance\n",
      "\n",
      "\n",
      "\n",
      "\n",
      "Get Financed\n",
      "\n",
      "\n",
      "\n",
      "\n",
      "\n",
      "\n",
      "About Us\n",
      "\n",
      "\n",
      "\n",
      "\n",
      "Why Buy\n",
      "\n",
      "\n",
      "\n",
      "\n",
      "Our Locations\n",
      "\n",
      "\n",
      "\n",
      "\n",
      "Careers / Employment\n",
      "\n",
      "\n",
      "\n",
      "\n",
      "\n",
      "\n",
      "\n",
      "\n",
      "\n",
      " \n",
      "\n",
      "\n",
      "\n",
      "\n",
      "\n",
      "Search Inventory\n",
      "\n",
      "Shop Cadillac\n",
      "\n",
      "\n",
      "\n",
      "\n",
      "Shop Chevrolet\n",
      "\n",
      "\n",
      "\n",
      "\n",
      "Shop GMC\n",
      "\n",
      "\n",
      "\n",
      "\n",
      "Shop INFINITI\n",
      "\n",
      "\n",
      "\n",
      "\n",
      "Shop Kia\n",
      "\n",
      "\n",
      "\n",
      "\n",
      "Shop Nissan\n",
      "\n",
      "\n",
      "\n",
      "\n",
      "Shop Toyota\n",
      "\n",
      "\n",
      "\n",
      "\n",
      "\n",
      "\n",
      "Pre-Owned Vehicles\n",
      "\n",
      "\n",
      "\n",
      "\n",
      "Pre-Owned Vehicles\n",
      "\n",
      "\n",
      "\n",
      "\n",
      "Search Inventory\n",
      "\n",
      "\n",
      "\n",
      "\n",
      "Certified Pre-Owned Vehicles\n",
      "\n",
      "\n",
      "\n",
      "\n",
      "Shop Sedans\n",
      "\n",
      "\n",
      "\n",
      "\n",
      "Shop SUVs\n",
      "\n",
      "\n",
      "\n",
      "\n",
      "Shop Trucks\n",
      "\n",
      "\n",
      "\n",
      "\n",
      "Shop Under $20K\n",
      "\n",
      "Buy Online\n",
      "\n",
      "\n",
      "\n",
      "\n",
      "Buy Online\n",
      "\n",
      "\n",
      "\n",
      "\n",
      "Buy New\n",
      "\n",
      "\n",
      "\n",
      "\n",
      "Buy Used\n",
      "\n",
      "\n",
      "\n",
      "\n",
      "\n",
      "\n",
      "New Models\n",
      "\n",
      "\n",
      "\n",
      "\n",
      "All New Vehicles\n",
      "\n",
      "\n",
      "\n",
      "\n",
      "Shop Acura\n",
      "\n",
      "\n",
      "\n",
      "\n",
      "Shop Buick\n",
      "\n",
      "\n",
      "\n",
      "\n",
      "Shop Cadillac\n",
      "\n",
      "\n",
      "\n",
      "\n",
      "Shop Chevrolet\n",
      "\n",
      "\n",
      "\n",
      "\n",
      "Shop GMC\n",
      "\n",
      "\n",
      "\n",
      "\n",
      "Shop INFINITI\n",
      "\n",
      "\n",
      "\n",
      "\n",
      "Shop Kia\n",
      "\n",
      "\n",
      "\n",
      "\n",
      "Shop Nissan\n",
      "\n",
      "\n",
      "\n",
      "\n",
      "Shop Toyota\n",
      "\n",
      "\n",
      "\n",
      "\n",
      "\n",
      "\n",
      "Pre-Owned Vehicles\n",
      "\n",
      "Shop Buick\n",
      "\n",
      "\n",
      "\n",
      "\n",
      "Shop Cadillac\n",
      "\n",
      "\n",
      "\n",
      "\n",
      "Shop Chevrolet\n",
      "\n",
      "\n",
      "\n",
      "\n",
      "Shop GMC\n",
      "\n",
      "\n",
      "\n",
      "\n",
      "Shop INFINITI\n",
      "\n",
      "\n",
      "\n",
      "\n",
      "Shop Kia\n",
      "\n",
      "\n",
      "\n",
      "\n",
      "Shop Nissan\n",
      "\n",
      "\n",
      "\n",
      "\n",
      "Shop Toyota\n",
      "\n",
      "\n",
      "\n",
      "\n",
      "\n",
      "\n",
      "Pre-Owned Vehicles\n",
      "\n",
      "\n",
      "\n",
      "\n",
      "Pre-Owned Vehicles\n",
      "\n",
      "\n",
      "\n",
      "\n",
      "Search Inventory\n",
      "\n",
      "\n",
      "\n",
      "\n",
      "Certified Pre-Owned Vehicles\n",
      "\n",
      "\n",
      "\n",
      "\n",
      "Shop Sedans\n",
      "\n",
      "\n",
      "\n",
      "\n",
      "Shop SUVs\n",
      "\n",
      "\n",
      "\n",
      "\n",
      "Shop Trucks\n"
     ]
    }
   ],
   "source": [
    "print(result)"
   ]
  },
  {
   "cell_type": "code",
   "execution_count": null,
   "id": "024ed132",
   "metadata": {},
   "outputs": [],
   "source": []
  }
 ],
 "metadata": {
  "kernelspec": {
   "display_name": "loan-pred",
   "language": "python",
   "name": "python3"
  },
  "language_info": {
   "codemirror_mode": {
    "name": "ipython",
    "version": 3
   },
   "file_extension": ".py",
   "mimetype": "text/x-python",
   "name": "python",
   "nbconvert_exporter": "python",
   "pygments_lexer": "ipython3",
   "version": "3.12.6"
  }
 },
 "nbformat": 4,
 "nbformat_minor": 5
}
