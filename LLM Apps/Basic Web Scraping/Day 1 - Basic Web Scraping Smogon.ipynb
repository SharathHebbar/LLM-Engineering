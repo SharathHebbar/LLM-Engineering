{
 "cells": [
  {
   "cell_type": "code",
   "execution_count": 1,
   "id": "d9a5602f-66a3-4013-9dd6-9acaf5f94b90",
   "metadata": {},
   "outputs": [],
   "source": [
    "import os\n",
    "import requests\n",
    "from dotenv import load_dotenv\n",
    "from bs4 import BeautifulSoup\n",
    "from IPython.display import Markdown, display\n",
    "from openai import OpenAI"
   ]
  },
  {
   "cell_type": "code",
   "execution_count": 16,
   "id": "661b4602-ec58-4510-bf1e-189ba3bceab6",
   "metadata": {},
   "outputs": [],
   "source": [
    "model = \"hugging-quants/Llama-3.2-3B-Instruct-Q8_0-GGUF\""
   ]
  },
  {
   "cell_type": "code",
   "execution_count": 35,
   "id": "e4a5b51a-178a-466f-9dd1-6ca8c3907cf2",
   "metadata": {},
   "outputs": [],
   "source": [
    "system_prompt = \"You are an assistant that analyzes the contents of a website.\\\n",
    "You are well aware that the Pokemons provide an OU strategy for Gen 9 that can tackle any Threats. \\\n",
    "Respond in markdown.\"\n",
    "headers = {\n",
    " \"User-Agent\": \"Mozilla/5.0 (Windows NT 10.0; Win64; x64) AppleWebKit/537.36 (KHTML, like Gecko) Chrome/117.0.0.0 Safari/537.36\"\n",
    "}\n",
    "\n",
    "class Website:\n",
    "\n",
    "    def __init__(self, url):\n",
    "        \"\"\"\n",
    "        Create this Website object from the given url using the BeautifulSoup library\n",
    "        \"\"\"\n",
    "        self.url = url\n",
    "        response = requests.get(url, headers=headers)\n",
    "        soup = BeautifulSoup(response.content, 'html.parser')\n",
    "        self.title = soup.title.string if soup.title else \"No title found\"\n",
    "        for irrelevant in soup.body([\"script\", \"style\", \"img\", \"input\"]):\n",
    "            irrelevant.decompose()\n",
    "        self.text = soup.body.get_text(separator=\"\\n\", strip=True)\n",
    "\n",
    "def user_prompt_for(website, pokemon):\n",
    "    user_prompt = f\"You are looking at a website titled {website.title}\"\n",
    "    user_prompt += f\"\\nCreate an OU strategy using {pokemon} as a Pokemon\\\n",
    "    Analyze all the threats and weaknesses and then form a strong team which can wipe the entire OU in Gen 9.\\n\\n\"\n",
    "    user_prompt += website.text\n",
    "    return user_prompt\n",
    "\n",
    "def messages_for(website, pokemon):\n",
    "    return [\n",
    "        {\"role\": \"system\", \"content\": system_prompt},\n",
    "        {\"role\": \"user\", \"content\": user_prompt_for(website, pokemon)}\n",
    "    ]\n",
    "    \n",
    "def summarize(URL, pokemon):\n",
    "    website = Website(URL)\n",
    "    response = client.chat.completions.create(\n",
    "        model = model,\n",
    "        messages = messages_for(website, pokemon)\n",
    "    )\n",
    "    return response.choices[0].message.content\n",
    "\n",
    "\n",
    "def display_summary(URL, pokemon):\n",
    "    summary = summarize(URL, pokemon)\n",
    "    display(Markdown(summary))"
   ]
  },
  {
   "cell_type": "code",
   "execution_count": 36,
   "id": "79b73695-8920-4bfa-8274-80ced5d9f602",
   "metadata": {},
   "outputs": [
    {
     "data": {
      "text/markdown": [
       "#### Introduction\n",
       "\n",
       "As we dive into the world of Pokémon Sword and Shield's (SM) Open-University (OU), it becomes evident that Mew is an incredibly powerful Pokémon. Its incredible stats, combined with its ability to learn a wide variety of moves, make it a formidable addition to any team.\n",
       "\n",
       "#### Mew's Stats\n",
       "\n",
       "| Stat | Base Value |\n",
       "|------|------------|\n",
       "| HP    | 120        |\n",
       "| Attack | 120        |\n",
       "| Defense | 120        |\n",
       "| Special Attack | 120        |\n",
       "| Special Defense | 120        |\n",
       "| Speed | 120 |\n",
       "\n",
       "#### Analyzing OU Threats and Weaknesses\n",
       "\n",
       "In Gen 9, the OU scene is dominated by threats such as:\n",
       "\n",
       "*   **Tapu Fini** (Type: Water/Fairy) - A formidable wall with incredible Special Defense.\n",
       "*   **Ceruledge** (Type: Fighting/Steel) - A high-attack power Pokémon with a strong STAB (Same-Type Attack Bonus).\n",
       "*   **Kartana** (Type: Grass/Steel) - A speedster with an impressive special attack stat.\n",
       "\n",
       "As for Mew's weaknesses:\n",
       "\n",
       "*   **Fighting-type moves**: As a Normal-type Pokémon, Mew is weak to Fighting-type moves.\n",
       "*   **Dragon-type moves**: While not super effective, Dragon-type moves can deal significant damage to Mew due to its lack of an immunity.\n",
       "*   **Ground-type moves**: Ground-type moves are also a threat to Mew, as they can deal moderate damage.\n",
       "\n",
       "#### Forming a Strong Team\n",
       "\n",
       "To counter these threats and create a formidable team that can wipe out any OU in Gen 9, we will focus on building a well-rounded team with a mix of types and move sets. Here's an example team:\n",
       "\n",
       "1.  **Mew** (Level 100)\n",
       "    *   Moves: Psychic, Shadow Ball, Calm Mind, and Will-O-Wisp.\n",
       "2.  **Tyranitar** (Level 100)\n",
       "    *   Moves: Stone Edge, Crunch, Earthquake, and U-turn.\n",
       "3.  **Giratina-Origin Forme** (Level 100)\n",
       "    *   Moves: Ghost/Haunt-type moves like Shadow Sneak, Shadow Ball, and Will-O-Wisp.\n",
       "4.  **Landorus-Therian** (Level 100)\n",
       "    *   Moves: Earthquake, U-turn, and Will-O-Wisp.\n",
       "5.  **Tapu Lele** (Level 100)\n",
       "    *   Moves: Psychic, Moonblast, Calm Mind, and Will-O-Wisp.\n",
       "6.  **Sylveon** (Level 100)\n",
       "    *   Moves: Psychic, Fairy Wind, Calm Mind, and Will-O-Wisp.\n",
       "\n",
       "#### Synergy\n",
       "\n",
       "The synergy between this team is crucial:\n",
       "\n",
       "*   Mew's incredible Special Attack stat makes it a formidable attacker, while its Calm Mind helps to boost its stats even further.\n",
       "*   Tyranitar provides a solid physical attacking presence with Stone Edge and Crunch, while U-turn allows for quick turns and adaptability.\n",
       "*   Giratina-Origin Forme serves as a Ghost-type wall with Shadow Sneak and Shadow Ball, helping to take down opponents quickly.\n",
       "*   Landorus-Therian offers an excellent mix of types and moves, allowing it to deal massive damage with Earthquake and U-turn while also providing Will-O-Wisp for support.\n",
       "*   Tapu Lele's Psychic-type moves complement Mew's moves perfectly, while Moonblast provides a strong Fairy-type attacking presence.\n",
       "*   Sylveon rounds out the team with its Fairy Wind and Calm Mind, allowing it to deal significant damage while supporting its teammates.\n",
       "\n",
       "#### Conclusion\n",
       "\n",
       "This team is capable of tackling any threat in the OU scene in Gen 9. By combining Mew's incredible stats with a well-rounded mix of types and move sets, we create a formidable force that can dominate any opponent. With this team, you'll be able to take on even the toughest challenges and emerge victorious.\n",
       "\n",
       "**Sources:**\n",
       "\n",
       "*   *Pokémon | SM | Smogon Strategy Pokedex*\n",
       "*   *Smogon University Wiki*\n",
       "\n",
       "### End of Response\n",
       "This response is an example of how to create a strong OU strategy using Mew as a Pokémon. Please note that this team may need adjustments based on the current metagame and strategies in Gen 9."
      ],
      "text/plain": [
       "<IPython.core.display.Markdown object>"
      ]
     },
     "metadata": {},
     "output_type": "display_data"
    }
   ],
   "source": [
    "display_summary(\"https://www.smogon.com/dex/sm/pokemon/\", \"Mew\")"
   ]
  },
  {
   "cell_type": "code",
   "execution_count": null,
   "id": "4107daaf-e368-45e4-8da2-ad01835570f7",
   "metadata": {},
   "outputs": [],
   "source": []
  }
 ],
 "metadata": {
  "kernelspec": {
   "display_name": "Python 3 (ipykernel)",
   "language": "python",
   "name": "python3"
  },
  "language_info": {
   "codemirror_mode": {
    "name": "ipython",
    "version": 3
   },
   "file_extension": ".py",
   "mimetype": "text/x-python",
   "name": "python",
   "nbconvert_exporter": "python",
   "pygments_lexer": "ipython3",
   "version": "3.12.6"
  }
 },
 "nbformat": 4,
 "nbformat_minor": 5
}
