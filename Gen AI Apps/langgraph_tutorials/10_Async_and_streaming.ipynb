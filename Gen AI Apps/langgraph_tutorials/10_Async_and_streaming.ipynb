{
 "cells": [
  {
   "cell_type": "markdown",
   "id": "4376de74",
   "metadata": {},
   "source": [
    "# Importing Libraries"
   ]
  },
  {
   "cell_type": "code",
   "execution_count": 1,
   "id": "bc7b4b2d",
   "metadata": {},
   "outputs": [
    {
     "name": "stdout",
     "output_type": "stream",
     "text": [
      "WARNING:tensorflow:From c:\\sharath\\Github\\Projects\\Loan prediction\\loan-pred\\.venv\\Lib\\site-packages\\tf_keras\\src\\losses.py:2976: The name tf.losses.sparse_softmax_cross_entropy is deprecated. Please use tf.compat.v1.losses.sparse_softmax_cross_entropy instead.\n",
      "\n"
     ]
    }
   ],
   "source": [
    "import os\n",
    "import warnings\n",
    "from dotenv import load_dotenv\n",
    "from langchain_groq import ChatGroq\n",
    "from langchain_huggingface.embeddings import HuggingFaceEmbeddings\n",
    "from langchain_community.vectorstores import Chroma\n",
    "\n",
    "warnings.filterwarnings(\"ignore\")\n",
    "\n",
    "load_dotenv()\n",
    "\n",
    "GROQ_API_KEY = os.getenv(\"GROQ_API_KEY\")\n",
    "model_name = \"deepseek-r1-distill-llama-70b\"\n",
    "# emb_model = \"togethercomputer/m2-bert-80M-32k-retrieval\"\n",
    "emb_model = \"sentence-transformers/all-mpnet-base-v2\"\n",
    "embedding_function = HuggingFaceEmbeddings(model_name=emb_model)\n",
    "\n",
    "llm = ChatGroq(\n",
    "    groq_api_key=GROQ_API_KEY,\n",
    "    model=model_name,\n",
    ")"
   ]
  },
  {
   "cell_type": "code",
   "execution_count": 22,
   "id": "35d2f95c",
   "metadata": {},
   "outputs": [
    {
     "data": {
      "text/plain": [
       "RunnableBinding(bound=ChatGroq(client=<groq.resources.chat.completions.Completions object at 0x0000014794FD4B60>, async_client=<groq.resources.chat.completions.AsyncCompletions object at 0x0000014794F7B4A0>, model_name='deepseek-r1-distill-llama-70b', model_kwargs={}, groq_api_key=SecretStr('**********')), kwargs={'tools': [{'type': 'function', 'function': {'name': 'get_weather', 'description': 'Call to get the current weather', 'parameters': {'properties': {'location': {'type': 'string'}}, 'required': ['location'], 'type': 'object'}}}]}, config={}, config_factories=[])"
      ]
     },
     "execution_count": 22,
     "metadata": {},
     "output_type": "execute_result"
    }
   ],
   "source": [
    "from langgraph.graph import END, START, StateGraph, MessagesState\n",
    "from langgraph.prebuilt import ToolNode\n",
    "from langchain_core.tools import tool\n",
    "from langgraph.checkpoint.memory import MemorySaver\n",
    "from typing import Annotated, Literal, Optional\n",
    "\n",
    "@tool\n",
    "def get_weather(location: str):\n",
    "    \"\"\"Call to get the current weather\"\"\"\n",
    "    if location.lower() in ['bengaluru']:\n",
    "        return \"15 degree\"\n",
    "    return \"30 degree\"\n",
    "\n",
    "\n",
    "tools = [get_weather]\n",
    "llm_with_tools = llm.bind_tools(tools)\n",
    "llm_with_tools"
   ]
  },
  {
   "cell_type": "code",
   "execution_count": 32,
   "id": "e9c4cfee",
   "metadata": {},
   "outputs": [],
   "source": [
    "def call_model(state: MessagesState):\n",
    "    messages = state['messages']\n",
    "    response = llm_with_tools.invoke(messages)\n",
    "    return {\"messages\": [response]}\n",
    "\n",
    "\n",
    "def should_continue(state: MessagesState) -> Literal['tools', END]:\n",
    "    messages = state['messages']\n",
    "    last_message = messages[-1]\n",
    "    if last_message.tool_calls:\n",
    "        return \"tools\"\n",
    "    return END"
   ]
  },
  {
   "cell_type": "code",
   "execution_count": 33,
   "id": "79b90fb3",
   "metadata": {},
   "outputs": [
    {
     "data": {
      "image/png": "[encoded data removed]",
      "text/plain": [
       "<langgraph.graph.state.CompiledStateGraph object at 0x0000014818948980>"
      ]
     },
     "execution_count": 33,
     "metadata": {},
     "output_type": "execute_result"
    }
   ],
   "source": [
    "workflow = StateGraph(MessagesState)\n",
    "\n",
    "tool_node = ToolNode(tools)\n",
    "\n",
    "workflow.add_node(\"agent\", call_model)\n",
    "workflow.add_node(\"tools\", tool_node)\n",
    "\n",
    "workflow.add_edge(START, \"agent\")\n",
    "workflow.add_conditional_edges(\"agent\", should_continue, )\n",
    "workflow.add_edge(\"tools\", \"agent\")\n",
    "\n",
    "graph = workflow.compile(checkpointer=MemorySaver())\n",
    "graph"
   ]
  },
  {
   "cell_type": "code",
   "execution_count": 34,
   "id": "099a0d8b",
   "metadata": {},
   "outputs": [
    {
     "data": {
      "text/plain": [
       "{'messages': [HumanMessage(content='How is the weather in Bengaluru?', additional_kwargs={}, response_metadata={}, id='83780481-e1ad-4914-9452-4a9e56b2cc5e'),\n",
       "  AIMessage(content='', additional_kwargs={'tool_calls': [{'id': 'j0h3p76fg', 'function': {'arguments': '{\"location\":\"Bengaluru\"}', 'name': 'get_weather'}, 'type': 'function'}]}, response_metadata={'token_usage': {'completion_tokens': 110, 'prompt_tokens': 131, 'total_tokens': 241, 'completion_time': 0.40593823, 'prompt_time': 0.021011953, 'queue_time': 0.048339957, 'total_time': 0.426950183}, 'model_name': 'deepseek-r1-distill-llama-70b', 'system_fingerprint': 'fp_76307ac09b', 'finish_reason': 'tool_calls', 'logprobs': None}, id='run--9574048e-4dc5-45f9-8d2d-dfdeefa28e99-0', tool_calls=[{'name': 'get_weather', 'args': {'location': 'Bengaluru'}, 'id': 'j0h3p76fg', 'type': 'tool_call'}], usage_metadata={'input_tokens': 131, 'output_tokens': 110, 'total_tokens': 241}),\n",
       "  ToolMessage(content='15 degree', name='get_weather', id='3787011f-cf31-4429-a45d-abf09a9670c7', tool_call_id='j0h3p76fg'),\n",
       "  AIMessage(content=\"The weather in Bengaluru is currently 15 degrees. Let me know if you'd like more details or the forecast!\", additional_kwargs={}, response_metadata={'token_usage': {'completion_tokens': 112, 'prompt_tokens': 186, 'total_tokens': 298, 'completion_time': 0.613790198, 'prompt_time': 0.029547968, 'queue_time': 0.071672302, 'total_time': 0.643338166}, 'model_name': 'deepseek-r1-distill-llama-70b', 'system_fingerprint': 'fp_1bbe7845ec', 'finish_reason': 'stop', 'logprobs': None}, id='run--42362271-3ca4-4629-b224-70903804a4a1-0', usage_metadata={'input_tokens': 186, 'output_tokens': 112, 'total_tokens': 298})]}"
      ]
     },
     "execution_count": 34,
     "metadata": {},
     "output_type": "execute_result"
    }
   ],
   "source": [
    "from langchain_core.messages import HumanMessage\n",
    "graph.invoke(\n",
    "    {\"messages\": [HumanMessage(content=\"How is the weather in Bengaluru?\")]}, \n",
    "    config={\"configurable\": {\"thread_id\": 1}}\n",
    ")"
   ]
  },
  {
   "cell_type": "code",
   "execution_count": 35,
   "id": "ef25d17d",
   "metadata": {},
   "outputs": [
    {
     "data": {
      "text/plain": [
       "{'messages': [HumanMessage(content='How is the weather in Bengaluru?', additional_kwargs={}, response_metadata={}, id='83780481-e1ad-4914-9452-4a9e56b2cc5e'),\n",
       "  AIMessage(content='', additional_kwargs={'tool_calls': [{'id': 'j0h3p76fg', 'function': {'arguments': '{\"location\":\"Bengaluru\"}', 'name': 'get_weather'}, 'type': 'function'}]}, response_metadata={'token_usage': {'completion_tokens': 110, 'prompt_tokens': 131, 'total_tokens': 241, 'completion_time': 0.40593823, 'prompt_time': 0.021011953, 'queue_time': 0.048339957, 'total_time': 0.426950183}, 'model_name': 'deepseek-r1-distill-llama-70b', 'system_fingerprint': 'fp_76307ac09b', 'finish_reason': 'tool_calls', 'logprobs': None}, id='run--9574048e-4dc5-45f9-8d2d-dfdeefa28e99-0', tool_calls=[{'name': 'get_weather', 'args': {'location': 'Bengaluru'}, 'id': 'j0h3p76fg', 'type': 'tool_call'}], usage_metadata={'input_tokens': 131, 'output_tokens': 110, 'total_tokens': 241}),\n",
       "  ToolMessage(content='15 degree', name='get_weather', id='3787011f-cf31-4429-a45d-abf09a9670c7', tool_call_id='j0h3p76fg'),\n",
       "  AIMessage(content=\"The weather in Bengaluru is currently 15 degrees. Let me know if you'd like more details or the forecast!\", additional_kwargs={}, response_metadata={'token_usage': {'completion_tokens': 112, 'prompt_tokens': 186, 'total_tokens': 298, 'completion_time': 0.613790198, 'prompt_time': 0.029547968, 'queue_time': 0.071672302, 'total_time': 0.643338166}, 'model_name': 'deepseek-r1-distill-llama-70b', 'system_fingerprint': 'fp_1bbe7845ec', 'finish_reason': 'stop', 'logprobs': None}, id='run--42362271-3ca4-4629-b224-70903804a4a1-0', usage_metadata={'input_tokens': 186, 'output_tokens': 112, 'total_tokens': 298}),\n",
       "  HumanMessage(content='What would you recommend to do in the city then?', additional_kwargs={}, response_metadata={}, id='d3173588-b034-465a-8e47-dee20939e1c9'),\n",
       "  AIMessage(content=\"The weather in Bengaluru is perfect for exploring the city! Here are some recommendations:\\n\\n1. **Lalbagh Botanical Garden** - A beautiful place for a leisurely walk or picnic.\\n2. **Cubbon Park** - Ideal for a relaxing stroll or a picnic.\\n3. **Bangalore Palace** - Explore the historic palace and its surroundings.\\n4. **MG Road or Brigade Road** - Great for shopping, dining, or just soaking in the city vibe.\\n5. **Nandi Hills** - A short drive away, perfect for a day trip with great views.\\n\\nLet me know if you'd like more details!\", additional_kwargs={}, response_metadata={'token_usage': {'completion_tokens': 463, 'prompt_tokens': 224, 'total_tokens': 687, 'completion_time': 1.8623689209999998, 'prompt_time': 0.029110098, 'queue_time': 0.049147262, 'total_time': 1.8914790190000002}, 'model_name': 'deepseek-r1-distill-llama-70b', 'system_fingerprint': 'fp_76307ac09b', 'finish_reason': 'stop', 'logprobs': None}, id='run--907f05c7-e4f5-48b7-bdda-9e5c5e4a8895-0', usage_metadata={'input_tokens': 224, 'output_tokens': 463, 'total_tokens': 687})]}"
      ]
     },
     "execution_count": 35,
     "metadata": {},
     "output_type": "execute_result"
    }
   ],
   "source": [
    "graph.invoke(\n",
    "    {\"messages\": [HumanMessage(content=\"What would you recommend to do in the city then?\")]}, \n",
    "    config={\"configurable\": {\"thread_id\": 1}}\n",
    ")"
   ]
  },
  {
   "cell_type": "markdown",
   "id": "948bbba1",
   "metadata": {},
   "source": [
    "# Async and Streaming: Production Ready"
   ]
  },
  {
   "cell_type": "code",
   "execution_count": 43,
   "id": "83739183",
   "metadata": {},
   "outputs": [],
   "source": [
    "async def call_model(state: MessagesState):\n",
    "    messages = state['messages']\n",
    "    response = await llm_with_tools.ainvoke(messages)\n",
    "    return {\"messages\": [response]}\n"
   ]
  },
  {
   "cell_type": "code",
   "execution_count": 44,
   "id": "be4ab39f",
   "metadata": {},
   "outputs": [
    {
     "data": {
      "image/png": "[encoded data removed]",
      "text/plain": [
       "<langgraph.graph.state.CompiledStateGraph object at 0x0000014818ACDD60>"
      ]
     },
     "execution_count": 44,
     "metadata": {},
     "output_type": "execute_result"
    }
   ],
   "source": [
    "workflow = StateGraph(MessagesState)\n",
    "\n",
    "tool_node = ToolNode(tools)\n",
    "\n",
    "workflow.add_node(\"agent\", call_model)\n",
    "workflow.add_node(\"tools\", tool_node)\n",
    "\n",
    "workflow.add_edge(START, \"agent\")\n",
    "workflow.add_conditional_edges(\"agent\", should_continue, {\"tools\": \"tools\", END: END})\n",
    "workflow.add_edge(\"tools\", \"agent\")\n",
    "\n",
    "graph = workflow.compile(checkpointer=MemorySaver())\n",
    "graph"
   ]
  },
  {
   "cell_type": "code",
   "execution_count": 45,
   "id": "86fdace1",
   "metadata": {},
   "outputs": [],
   "source": [
    "inputs = {\"messages\": [HumanMessage(content=\"How is the weather in Bengaluru?\")]}\n",
    "config = {\"configurable\": {\"thread_id\": 2}}"
   ]
  },
  {
   "cell_type": "code",
   "execution_count": 46,
   "id": "46969b84",
   "metadata": {},
   "outputs": [
    {
     "data": {
      "text/plain": [
       "{'messages': [HumanMessage(content='How is the weather in Bengaluru?', additional_kwargs={}, response_metadata={}, id='240bdcfa-3e46-4eae-8a1a-52c7a68548d2'),\n",
       "  AIMessage(content='', additional_kwargs={'tool_calls': [{'id': 'brbdapxzs', 'function': {'arguments': '{\"location\":\"Bengaluru\"}', 'name': 'get_weather'}, 'type': 'function'}]}, response_metadata={'token_usage': {'completion_tokens': 189, 'prompt_tokens': 131, 'total_tokens': 320, 'completion_time': 0.66810227, 'prompt_time': 0.021110473, 'queue_time': 0.047685577, 'total_time': 0.689212743}, 'model_name': 'deepseek-r1-distill-llama-70b', 'system_fingerprint': 'fp_1bbe7845ec', 'finish_reason': 'tool_calls', 'logprobs': None}, id='run--b8d316bd-b3e1-4194-8722-9e8544e0cf79-0', tool_calls=[{'name': 'get_weather', 'args': {'location': 'Bengaluru'}, 'id': 'brbdapxzs', 'type': 'tool_call'}], usage_metadata={'input_tokens': 131, 'output_tokens': 189, 'total_tokens': 320}),\n",
       "  ToolMessage(content='15 degree', name='get_weather', id='5aa90272-e4a2-485a-80e2-c73716298f1e', tool_call_id='brbdapxzs'),\n",
       "  AIMessage(content='The current temperature in Bengaluru is 15 degrees Celsius.', additional_kwargs={}, response_metadata={'token_usage': {'completion_tokens': 298, 'prompt_tokens': 184, 'total_tokens': 482, 'completion_time': 1.343215428, 'prompt_time': 0.026011593, 'queue_time': 0.044977186, 'total_time': 1.369227021}, 'model_name': 'deepseek-r1-distill-llama-70b', 'system_fingerprint': 'fp_1bbe7845ec', 'finish_reason': 'stop', 'logprobs': None}, id='run--70a28f8e-a7c5-4258-a1e6-4fa717a60ac2-0', usage_metadata={'input_tokens': 184, 'output_tokens': 298, 'total_tokens': 482})]}"
      ]
     },
     "execution_count": 46,
     "metadata": {},
     "output_type": "execute_result"
    }
   ],
   "source": [
    "await graph.ainvoke(input=inputs, config=config)"
   ]
  },
  {
   "cell_type": "code",
   "execution_count": 47,
   "id": "231f6310",
   "metadata": {},
   "outputs": [
    {
     "name": "stdout",
     "output_type": "stream",
     "text": [
      "Output from node 'agent'\n",
      "---------------------\n",
      "==================================\u001b[1m Ai Message \u001b[0m==================================\n",
      "Tool Calls:\n",
      "  get_weather (52pwab9jr)\n",
      " Call ID: 52pwab9jr\n",
      "  Args:\n",
      "    location: Bengaluru\n",
      "None\n",
      "Output from node 'tools'\n",
      "---------------------\n",
      "=================================\u001b[1m Tool Message \u001b[0m=================================\n",
      "Name: get_weather\n",
      "\n",
      "15 degree\n",
      "None\n",
      "Output from node 'agent'\n",
      "---------------------\n",
      "==================================\u001b[1m Ai Message \u001b[0m==================================\n",
      "Tool Calls:\n",
      "  get_weather (52pwab9jr)\n",
      " Call ID: 52pwab9jr\n",
      "  Args:\n",
      "    location: Bengaluru\n",
      "None\n",
      "Output from node 'tools'\n",
      "---------------------\n",
      "=================================\u001b[1m Tool Message \u001b[0m=================================\n",
      "Name: get_weather\n",
      "\n",
      "15 degree\n",
      "None\n",
      "Output from node 'agent'\n",
      "---------------------\n",
      "==================================\u001b[1m Ai Message \u001b[0m==================================\n",
      "\n",
      "The current temperature in Bengaluru remains at 15 degrees Celsius.\n",
      "None\n"
     ]
    }
   ],
   "source": [
    "inputs = {\"messages\": [HumanMessage(content=\"How is the weather in Bengaluru?\")]}\n",
    "async for output in graph.astream(inputs, stream_mode=\"updates\", config=config):\n",
    "    for key, value in output.items():\n",
    "        print(f\"Output from node '{key}'\")\n",
    "        print(\"---\"*7)\n",
    "        print(value['messages'][-1].pretty_print())\n"
   ]
  },
  {
   "cell_type": "code",
   "execution_count": 48,
   "id": "bfb15f85",
   "metadata": {},
   "outputs": [
    {
     "name": "stdout",
     "output_type": "stream",
     "text": [
      "The| weather| in| Bengal|uru| is| currently| |15| degrees| Celsius|.| It| seems| quite| cool| at| the| moment|!|"
     ]
    }
   ],
   "source": [
    "from langchain_core.messages import AIMessageChunk, HumanMessage\n",
    "\n",
    "inputs = [HumanMessage(content=\"How is the weather in Bengaluru?\")]\n",
    "gathered = None\n",
    "\n",
    "async for msg, metadata in graph.astream({\"messages\": inputs}, stream_mode=\"messages\", config=config):\n",
    "    if msg.content and not isinstance(msg, HumanMessage):\n",
    "        print(msg.content, end=\"|\", flush=True)\n",
    "\n",
    "    if isinstance(msg, AIMessageChunk):\n",
    "        if gathered is None:\n",
    "            gathered = msg\n",
    "        else:\n",
    "            gathered += msg"
   ]
  },
  {
   "cell_type": "code",
   "execution_count": 49,
   "id": "4b094198",
   "metadata": {},
   "outputs": [
    {
     "name": "stdout",
     "output_type": "stream",
     "text": [
      "The weather in Bengaluru is currently 15 degrees Celsius. It seems quite cool at the moment!\n"
     ]
    }
   ],
   "source": [
    "print(gathered.content)"
   ]
  },
  {
   "cell_type": "code",
   "execution_count": null,
   "id": "6119a098",
   "metadata": {},
   "outputs": [],
   "source": []
  }
 ],
 "metadata": {
  "kernelspec": {
   "display_name": "loan-pred",
   "language": "python",
   "name": "python3"
  },
  "language_info": {
   "codemirror_mode": {
    "name": "ipython",
    "version": 3
   },
   "file_extension": ".py",
   "mimetype": "text/x-python",
   "name": "python",
   "nbconvert_exporter": "python",
   "pygments_lexer": "ipython3",
   "version": "3.12.6"
  }
 },
 "nbformat": 4,
 "nbformat_minor": 5
}
