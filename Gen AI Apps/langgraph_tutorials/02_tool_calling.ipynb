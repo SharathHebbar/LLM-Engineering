{
 "cells": [
  {
   "cell_type": "markdown",
   "id": "03a4e102",
   "metadata": {},
   "source": [
    "# Importing Libraries"
   ]
  },
  {
   "cell_type": "code",
   "execution_count": null,
   "id": "73fb3c98",
   "metadata": {},
   "outputs": [],
   "source": [
    "import os\n",
    "\n",
    "from langchain_openai import ChatOpenAI, OpenAIEmbeddings\n",
    "from langchain_together import ChatTogether\n",
    "\n",
    "from dotenv import load_dotenv\n",
    "\n",
    "load_dotenv()\n",
    "\n",
    "TOGETHER_API_KEY = os.getenv(\"TOGETHER_API_KEY\")\n",
    "\n",
    "together_model_name = \"Qwen/Qwen3-235B-A22B-Instruct-2507-tput\"\n",
    "\n",
    "llm = ChatTogether(\n",
    "    together_api_key=TOGETHER_API_KEY,\n",
    "    model=together_model_name,\n",
    ")"
   ]
  },
  {
   "cell_type": "markdown",
   "id": "5efeecd2",
   "metadata": {},
   "source": [
    "### Testing"
   ]
  },
  {
   "cell_type": "code",
   "execution_count": 5,
   "id": "8c87afce",
   "metadata": {},
   "outputs": [
    {
     "name": "stdout",
     "output_type": "stream",
     "text": [
      "I can't provide real-time information such as today's weather. For the most accurate and up-to-date weather in Bengaluru, I recommend checking a trusted weather website or app like the BBC Weather, AccuWeather, or the Weather Channel.\n"
     ]
    }
   ],
   "source": [
    "res = llm.invoke(\"How is the weather in Bengaluru today?\")\n",
    "print(res.content)"
   ]
  },
  {
   "cell_type": "markdown",
   "id": "cb192f7b",
   "metadata": {},
   "source": [
    "# Defining Tools"
   ]
  },
  {
   "cell_type": "code",
   "execution_count": 6,
   "id": "356e2ad6",
   "metadata": {},
   "outputs": [],
   "source": [
    "from langchain.tools import tool\n",
    "\n",
    "@tool\n",
    "\n",
    "def get_weather(location: str):\n",
    "    \"\"\"\n",
    "    Call to get the current weather\n",
    "    \"\"\"\n",
    "\n",
    "    if location.lower() in ['bengaluru', \"mysuru\"]:\n",
    "        return \"It is 23 degrees Celsius and cloudy.\"\n",
    "    else:\n",
    "        return \"It is 25 degree Celsius and sunny.\"\n",
    "    \n",
    "\n",
    "@tool\n",
    "def check_seating_availability(location: str, seating_type: str):\n",
    "    \"\"\"\n",
    "    Call to check seating availability\n",
    "    \"\"\"\n",
    "\n",
    "    if location.lower() == \"bengaluru\" and seating_type.lower()==\"outdoor\":\n",
    "        return \"Yes, we still have seats available outdoors.\"\n",
    "    elif location.lower() == \"bengaluru\" and seating_type.lower() == \"indoor\":\n",
    "        return \"Yes, we have indoor seating available.\"\n",
    "    else:\n",
    "        return \"Sorry, seating information for this location is unavailable.\"\n",
    "    \n",
    "tools = [get_weather, check_seating_availability]"
   ]
  },
  {
   "cell_type": "code",
   "execution_count": 7,
   "id": "cff243ca",
   "metadata": {},
   "outputs": [
    {
     "data": {
      "text/plain": [
       "AIMessage(content='', additional_kwargs={'tool_calls': [{'id': 'call_goo2ne3e5orvdl3x5dr0zfmm', 'function': {'arguments': '{\"location\":\"bengaluru\"}', 'name': 'get_weather'}, 'type': 'function', 'index': 0}], 'refusal': None}, response_metadata={'token_usage': {'completion_tokens': 23, 'prompt_tokens': 232, 'total_tokens': 255, 'completion_tokens_details': None, 'prompt_tokens_details': None}, 'model_name': 'Qwen/Qwen3-235B-A22B-Instruct-2507-tput', 'system_fingerprint': None, 'id': 'o8GvnVN-zqrih-9738f091eef1c1b3', 'service_tier': None, 'finish_reason': 'tool_calls', 'logprobs': None}, id='run--b3bbdfb2-d20a-4442-92bf-d774195100ef-0', tool_calls=[{'name': 'get_weather', 'args': {'location': 'bengaluru'}, 'id': 'call_goo2ne3e5orvdl3x5dr0zfmm', 'type': 'tool_call'}], usage_metadata={'input_tokens': 232, 'output_tokens': 23, 'total_tokens': 255, 'input_token_details': {}, 'output_token_details': {}})"
      ]
     },
     "execution_count": 7,
     "metadata": {},
     "output_type": "execute_result"
    }
   ],
   "source": [
    "llm_with_tools = llm.bind_tools(tools)\n",
    "\n",
    "result = llm_with_tools.invoke(\"How will the weather be in bengaluru today.\")\n",
    "result"
   ]
  },
  {
   "cell_type": "code",
   "execution_count": 8,
   "id": "658a62fc",
   "metadata": {},
   "outputs": [
    {
     "name": "stdout",
     "output_type": "stream",
     "text": [
      "\n"
     ]
    }
   ],
   "source": [
    "print(result.content)"
   ]
  },
  {
   "cell_type": "code",
   "execution_count": 9,
   "id": "742e676e",
   "metadata": {},
   "outputs": [
    {
     "data": {
      "text/plain": [
       "[{'name': 'get_weather',\n",
       "  'args': {'location': 'bengaluru'},\n",
       "  'id': 'call_goo2ne3e5orvdl3x5dr0zfmm',\n",
       "  'type': 'tool_call'}]"
      ]
     },
     "execution_count": 9,
     "metadata": {},
     "output_type": "execute_result"
    }
   ],
   "source": [
    "result.tool_calls"
   ]
  },
  {
   "cell_type": "markdown",
   "id": "f2165ea1",
   "metadata": {},
   "source": [
    "# Setting up messages"
   ]
  },
  {
   "cell_type": "code",
   "execution_count": 10,
   "id": "d3a0f8fb",
   "metadata": {},
   "outputs": [
    {
     "data": {
      "text/plain": [
       "AIMessage(content='', additional_kwargs={'tool_calls': [{'id': 'call_cgbtwrp25w20qfywamzulm5z', 'function': {'arguments': '{\"location\":\"bengaluru\"}', 'name': 'get_weather'}, 'type': 'function', 'index': 0}, {'id': 'call_eijnl63van8wnr6cgry93ni9', 'function': {'arguments': '{\"location\":\"bengaluru\",\"seating_type\":\"outdoor\"}', 'name': 'check_seating_availability'}, 'type': 'function', 'index': 1}], 'refusal': None}, response_metadata={'token_usage': {'completion_tokens': 58, 'prompt_tokens': 240, 'total_tokens': 298, 'completion_tokens_details': None, 'prompt_tokens_details': None}, 'model_name': 'Qwen/Qwen3-235B-A22B-Instruct-2507-tput', 'system_fingerprint': None, 'id': 'o8GvpsP-28Eivz-9738f0c5b8dbc174', 'service_tier': None, 'finish_reason': 'tool_calls', 'logprobs': None}, id='run--48e22a7f-cd49-4b4a-ab4f-aa04a7f50f3d-0', tool_calls=[{'name': 'get_weather', 'args': {'location': 'bengaluru'}, 'id': 'call_cgbtwrp25w20qfywamzulm5z', 'type': 'tool_call'}, {'name': 'check_seating_availability', 'args': {'location': 'bengaluru', 'seating_type': 'outdoor'}, 'id': 'call_eijnl63van8wnr6cgry93ni9', 'type': 'tool_call'}], usage_metadata={'input_tokens': 240, 'output_tokens': 58, 'total_tokens': 298, 'input_token_details': {}, 'output_token_details': {}})"
      ]
     },
     "execution_count": 10,
     "metadata": {},
     "output_type": "execute_result"
    }
   ],
   "source": [
    "from langchain_core.messages import HumanMessage, ToolMessage\n",
    "\n",
    "messages = [\n",
    "    HumanMessage(\"How will the weather be in bengaluru today? Do you still have seats outdoor available?\")\n",
    "]\n",
    "\n",
    "llm_output = llm_with_tools.invoke(messages)\n",
    "llm_output"
   ]
  },
  {
   "cell_type": "code",
   "execution_count": 11,
   "id": "23a90b31",
   "metadata": {},
   "outputs": [
    {
     "name": "stdout",
     "output_type": "stream",
     "text": [
      "\n"
     ]
    }
   ],
   "source": [
    "print(llm_output.content)"
   ]
  },
  {
   "cell_type": "markdown",
   "id": "d6f9b381",
   "metadata": {},
   "source": [
    "### Tools getting called by LLM"
   ]
  },
  {
   "cell_type": "code",
   "execution_count": 12,
   "id": "7a749dc8",
   "metadata": {},
   "outputs": [
    {
     "data": {
      "text/plain": [
       "[{'name': 'get_weather',\n",
       "  'args': {'location': 'bengaluru'},\n",
       "  'id': 'call_cgbtwrp25w20qfywamzulm5z',\n",
       "  'type': 'tool_call'},\n",
       " {'name': 'check_seating_availability',\n",
       "  'args': {'location': 'bengaluru', 'seating_type': 'outdoor'},\n",
       "  'id': 'call_eijnl63van8wnr6cgry93ni9',\n",
       "  'type': 'tool_call'}]"
      ]
     },
     "execution_count": 12,
     "metadata": {},
     "output_type": "execute_result"
    }
   ],
   "source": [
    "llm_output.tool_calls"
   ]
  },
  {
   "cell_type": "code",
   "execution_count": 13,
   "id": "82d87951",
   "metadata": {},
   "outputs": [
    {
     "data": {
      "text/plain": [
       "[HumanMessage(content='How will the weather be in bengaluru today? Do you still have seats outdoor available?', additional_kwargs={}, response_metadata={}),\n",
       " AIMessage(content='', additional_kwargs={'tool_calls': [{'id': 'call_cgbtwrp25w20qfywamzulm5z', 'function': {'arguments': '{\"location\":\"bengaluru\"}', 'name': 'get_weather'}, 'type': 'function', 'index': 0}, {'id': 'call_eijnl63van8wnr6cgry93ni9', 'function': {'arguments': '{\"location\":\"bengaluru\",\"seating_type\":\"outdoor\"}', 'name': 'check_seating_availability'}, 'type': 'function', 'index': 1}], 'refusal': None}, response_metadata={'token_usage': {'completion_tokens': 58, 'prompt_tokens': 240, 'total_tokens': 298, 'completion_tokens_details': None, 'prompt_tokens_details': None}, 'model_name': 'Qwen/Qwen3-235B-A22B-Instruct-2507-tput', 'system_fingerprint': None, 'id': 'o8GvpsP-28Eivz-9738f0c5b8dbc174', 'service_tier': None, 'finish_reason': 'tool_calls', 'logprobs': None}, id='run--48e22a7f-cd49-4b4a-ab4f-aa04a7f50f3d-0', tool_calls=[{'name': 'get_weather', 'args': {'location': 'bengaluru'}, 'id': 'call_cgbtwrp25w20qfywamzulm5z', 'type': 'tool_call'}, {'name': 'check_seating_availability', 'args': {'location': 'bengaluru', 'seating_type': 'outdoor'}, 'id': 'call_eijnl63van8wnr6cgry93ni9', 'type': 'tool_call'}], usage_metadata={'input_tokens': 240, 'output_tokens': 58, 'total_tokens': 298, 'input_token_details': {}, 'output_token_details': {}})]"
      ]
     },
     "execution_count": 13,
     "metadata": {},
     "output_type": "execute_result"
    }
   ],
   "source": [
    "messages.append(llm_output)\n",
    "messages"
   ]
  },
  {
   "cell_type": "code",
   "execution_count": 14,
   "id": "1117c489",
   "metadata": {},
   "outputs": [],
   "source": [
    "tool_mapping = {\n",
    "    \"get_weather\": get_weather,\n",
    "    \"check_seating_availability\": check_seating_availability\n",
    "}"
   ]
  },
  {
   "cell_type": "code",
   "execution_count": 15,
   "id": "756343ad",
   "metadata": {},
   "outputs": [],
   "source": [
    "for tool_call in llm_output.tool_calls:\n",
    "    tool = tool_mapping[tool_call[\"name\"].lower()]\n",
    "    tool_output = tool.invoke(tool_call['args'])\n",
    "    messages.append(ToolMessage(tool_output, tool_call_id=tool_call['id']))"
   ]
  },
  {
   "cell_type": "code",
   "execution_count": 16,
   "id": "f6dac055",
   "metadata": {},
   "outputs": [
    {
     "data": {
      "text/plain": [
       "[HumanMessage(content='How will the weather be in bengaluru today? Do you still have seats outdoor available?', additional_kwargs={}, response_metadata={}),\n",
       " AIMessage(content='', additional_kwargs={'tool_calls': [{'id': 'call_cgbtwrp25w20qfywamzulm5z', 'function': {'arguments': '{\"location\":\"bengaluru\"}', 'name': 'get_weather'}, 'type': 'function', 'index': 0}, {'id': 'call_eijnl63van8wnr6cgry93ni9', 'function': {'arguments': '{\"location\":\"bengaluru\",\"seating_type\":\"outdoor\"}', 'name': 'check_seating_availability'}, 'type': 'function', 'index': 1}], 'refusal': None}, response_metadata={'token_usage': {'completion_tokens': 58, 'prompt_tokens': 240, 'total_tokens': 298, 'completion_tokens_details': None, 'prompt_tokens_details': None}, 'model_name': 'Qwen/Qwen3-235B-A22B-Instruct-2507-tput', 'system_fingerprint': None, 'id': 'o8GvpsP-28Eivz-9738f0c5b8dbc174', 'service_tier': None, 'finish_reason': 'tool_calls', 'logprobs': None}, id='run--48e22a7f-cd49-4b4a-ab4f-aa04a7f50f3d-0', tool_calls=[{'name': 'get_weather', 'args': {'location': 'bengaluru'}, 'id': 'call_cgbtwrp25w20qfywamzulm5z', 'type': 'tool_call'}, {'name': 'check_seating_availability', 'args': {'location': 'bengaluru', 'seating_type': 'outdoor'}, 'id': 'call_eijnl63van8wnr6cgry93ni9', 'type': 'tool_call'}], usage_metadata={'input_tokens': 240, 'output_tokens': 58, 'total_tokens': 298, 'input_token_details': {}, 'output_token_details': {}}),\n",
       " ToolMessage(content='It is 23 degrees Celsius and cloudy.', tool_call_id='call_cgbtwrp25w20qfywamzulm5z'),\n",
       " ToolMessage(content='Yes, we still have seats available outdoors.', tool_call_id='call_eijnl63van8wnr6cgry93ni9')]"
      ]
     },
     "execution_count": 16,
     "metadata": {},
     "output_type": "execute_result"
    }
   ],
   "source": [
    "messages"
   ]
  },
  {
   "cell_type": "code",
   "execution_count": 17,
   "id": "f3804b66",
   "metadata": {},
   "outputs": [
    {
     "data": {
      "text/plain": [
       "AIMessage(content='The weather in Bengaluru today is 23 degrees Celsius and cloudy. Good news — there are still outdoor seats available!', additional_kwargs={'refusal': None}, response_metadata={'token_usage': {'completion_tokens': 26, 'prompt_tokens': 333, 'total_tokens': 359, 'completion_tokens_details': None, 'prompt_tokens_details': None}, 'model_name': 'Qwen/Qwen3-235B-A22B-Instruct-2507-tput', 'system_fingerprint': None, 'id': 'o8Gvtup-zqrih-9738f11a88a48839', 'service_tier': None, 'finish_reason': 'stop', 'logprobs': None}, id='run--7805f7c4-29d7-41ec-a598-71be626e928e-0', usage_metadata={'input_tokens': 333, 'output_tokens': 26, 'total_tokens': 359, 'input_token_details': {}, 'output_token_details': {}})"
      ]
     },
     "execution_count": 17,
     "metadata": {},
     "output_type": "execute_result"
    }
   ],
   "source": [
    "res = llm_with_tools.invoke(messages)\n",
    "res"
   ]
  },
  {
   "cell_type": "code",
   "execution_count": 19,
   "id": "5420d00d",
   "metadata": {},
   "outputs": [
    {
     "name": "stdout",
     "output_type": "stream",
     "text": [
      "The weather in Bengaluru today is 23 degrees Celsius and cloudy. Good news — there are still outdoor seats available!\n"
     ]
    }
   ],
   "source": [
    "print(res.content)"
   ]
  },
  {
   "cell_type": "code",
   "execution_count": null,
   "id": "220b2df8",
   "metadata": {},
   "outputs": [],
   "source": []
  }
 ],
 "metadata": {
  "kernelspec": {
   "display_name": "loan-pred",
   "language": "python",
   "name": "python3"
  },
  "language_info": {
   "codemirror_mode": {
    "name": "ipython",
    "version": 3
   },
   "file_extension": ".py",
   "mimetype": "text/x-python",
   "name": "python",
   "nbconvert_exporter": "python",
   "pygments_lexer": "ipython3",
   "version": "3.12.6"
  }
 },
 "nbformat": 4,
 "nbformat_minor": 5
}
