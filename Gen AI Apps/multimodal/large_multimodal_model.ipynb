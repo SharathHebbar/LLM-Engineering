{
 "cells": [
  {
   "cell_type": "code",
   "execution_count": 19,
   "id": "993d8e84",
   "metadata": {},
   "outputs": [
    {
     "data": {
      "text/plain": [
       "3375"
      ]
     },
     "execution_count": 19,
     "metadata": {},
     "output_type": "execute_result"
    }
   ],
   "source": [
    "import warnings\n",
    "warnings.filterwarnings('ignore')\n",
    "\n",
    "import gc\n",
    "gc.collect()"
   ]
  },
  {
   "cell_type": "code",
   "execution_count": 20,
   "id": "992da97e",
   "metadata": {},
   "outputs": [],
   "source": [
    "from openai import OpenAI\n",
    "model_name = \"medgemma-4b-it\"\n",
    "client = OpenAI(\n",
    "    base_url=\"http://localhost:1234/v1\",\n",
    "    api_key=\"lm-studio\",\n",
    ")"
   ]
  },
  {
   "cell_type": "code",
   "execution_count": 40,
   "id": "bb125c87",
   "metadata": {},
   "outputs": [],
   "source": [
    "import textwrap\n",
    "import base64\n",
    "import requests\n",
    "import mimetypes\n",
    "import PIL.Image\n",
    "from IPython.display import Markdown, Image\n",
    "\n",
    "def to_markdown(text):\n",
    "    text = text.replace('•', '  *')\n",
    "    return Markdown(textwrap.indent(text, '> ', predicate=lambda _: True))\n",
    "\n",
    "def convert_to_base64(image_path):\n",
    "    if image_path.startswith(\"http\"):\n",
    "        response = requests.get(image_path)\n",
    "        if response.status_code != 200:\n",
    "            raise Exception(f\"Failed to download image: {response.status_code}\")\n",
    "        mime_type = response.headers.get(\"Content-Type\", \"image/jpeg\")\n",
    "        encoded = base64.b64encode(response.content).decode(\"utf-8\")\n",
    "    else:\n",
    "        mime_type, _ = mimetypes.guess_type(image_path)\n",
    "        if mime_type is None:\n",
    "            mime_type = \"image/jpeg\"\n",
    "        with open(image_path, \"rb\") as f:\n",
    "            encoded = base64.b64encode(f.read()).decode(\"utf-8\")\n",
    "    \n",
    "    return f\"data:{mime_type};base64,{encoded}\""
   ]
  },
  {
   "cell_type": "code",
   "execution_count": 44,
   "id": "39d56376",
   "metadata": {},
   "outputs": [],
   "source": [
    "def call_LMM(image_path:str, prompt:str) -> str:\n",
    "    # img = PIL.image.open(image_path)\n",
    "    response = client.chat.completions.create(\n",
    "        model=model_name,\n",
    "        messages=[{\n",
    "            \"role\": \"user\",\n",
    "            \"content\": [\n",
    "                {\"type\": \"text\", \"text\": prompt},\n",
    "                {\n",
    "                    \"type\": \"image_url\",\n",
    "                    \"image_url\": {\n",
    "                        \"url\": convert_to_base64(image_path),\n",
    "                    },\n",
    "                },\n",
    "            ],\n",
    "        }],\n",
    "    )\n",
    "\n",
    "    return to_markdown(response.choices[0].message.content)"
   ]
  },
  {
   "cell_type": "code",
   "execution_count": 45,
   "id": "962820f4",
   "metadata": {},
   "outputs": [
    {
     "data": {
      "text/markdown": [
       "> The image shows a wide, open field of tall green grass. A wooden walkway or bridge stretches across the field, leading into the distance. The sky is bright blue with some scattered clouds. There are trees and vegetation visible on either side of the path. It appears to be a landscape photograph taken from a high vantage point.\n"
      ],
      "text/plain": [
       "<IPython.core.display.Markdown object>"
      ]
     },
     "execution_count": 45,
     "metadata": {},
     "output_type": "execute_result"
    }
   ],
   "source": [
    "image_path = \"https://upload.wikimedia.org/wikipedia/commons/thumb/d/dd/Gfp-wisconsin-madison-the-nature-boardwalk.jpg/2560px-Gfp-wisconsin-madison-the-nature-boardwalk.jpg\"\n",
    "prompt = \"What's in this image?\"\n",
    "call_LMM(image_path, prompt)"
   ]
  },
  {
   "cell_type": "code",
   "execution_count": null,
   "id": "da1bef64",
   "metadata": {},
   "outputs": [],
   "source": []
  }
 ],
 "metadata": {
  "kernelspec": {
   "display_name": "loan-pred",
   "language": "python",
   "name": "python3"
  },
  "language_info": {
   "codemirror_mode": {
    "name": "ipython",
    "version": 3
   },
   "file_extension": ".py",
   "mimetype": "text/x-python",
   "name": "python",
   "nbconvert_exporter": "python",
   "pygments_lexer": "ipython3",
   "version": "3.12.6"
  }
 },
 "nbformat": 4,
 "nbformat_minor": 5
}
