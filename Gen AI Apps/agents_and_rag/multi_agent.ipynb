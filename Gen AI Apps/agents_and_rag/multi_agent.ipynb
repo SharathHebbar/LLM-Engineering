{
 "cells": [
  {
   "cell_type": "code",
   "execution_count": 1,
   "id": "b7b3b6fd",
   "metadata": {},
   "outputs": [
    {
     "data": {
      "text/plain": [
       "170"
      ]
     },
     "execution_count": 1,
     "metadata": {},
     "output_type": "execute_result"
    }
   ],
   "source": [
    "import gc\n",
    "gc.collect()"
   ]
  },
  {
   "cell_type": "markdown",
   "id": "670497af",
   "metadata": {},
   "source": [
    "# Importing Library and Instantiating Model"
   ]
  },
  {
   "cell_type": "code",
   "execution_count": 3,
   "id": "d9e410ef",
   "metadata": {},
   "outputs": [],
   "source": [
    "import os\n",
    "os.environ[\"OPENAI_API_KEY\"] = \"lm-studio\"\n",
    "os.environ[\"OPENAI_MODEL_NAME\"] = 'medgemma-4b-it'\n",
    "os.environ[\"OPENAI_API_BASE\"] = \"http://localhost:1234/v1\""
   ]
  },
  {
   "cell_type": "code",
   "execution_count": 37,
   "id": "0d2b7dc0",
   "metadata": {},
   "outputs": [],
   "source": [
    "from crewai import Agent, Task, Crew\n",
    "from crewai.tools import BaseTool"
   ]
  },
  {
   "cell_type": "markdown",
   "id": "874f9568",
   "metadata": {},
   "source": [
    "# Role Playing, Focus and Co-operation"
   ]
  },
  {
   "cell_type": "code",
   "execution_count": 10,
   "id": "874efc37",
   "metadata": {},
   "outputs": [
    {
     "name": "stderr",
     "output_type": "stream",
     "text": [
      "ERROR:root:Failed to get supported params: argument of type 'NoneType' is not iterable\n"
     ]
    },
    {
     "name": "stdout",
     "output_type": "stream",
     "text": [
      "\n",
      "\u001b[1;31mProvider List: https://docs.litellm.ai/docs/providers\u001b[0m\n",
      "\n"
     ]
    },
    {
     "data": {
      "text/plain": [
       "Agent(role=Senior Support Representative, goal=Be the most friendly and helpful support representative in your team., backstory=You work at CrewAI (https://crewai.com) and are now working on providing support to {customer}, a super important customer for your companyYou need to make sure that you provide the best support! Make sure to provide full complete answers, and make no assumptions.)"
      ]
     },
     "execution_count": 10,
     "metadata": {},
     "output_type": "execute_result"
    }
   ],
   "source": [
    "support_agent = Agent(\n",
    "    role=\"Senior Support Representative\",\n",
    "    goal=\"Be the most friendly and helpful support representative in your team.\",\n",
    "    backstory=(\n",
    "        \"You work at CrewAI (https://crewai.com) and are now working on providing support to {customer}, a super important customer for your company\"\n",
    "        \"You need to make sure that you provide the best support! Make sure to provide full complete answers, and make no assumptions.\"\n",
    "    ),\n",
    "    allow_delegation=False,\n",
    "    verbose=True\n",
    ")\n",
    "\n",
    "support_agent"
   ]
  },
  {
   "cell_type": "code",
   "execution_count": 12,
   "id": "f89d35f2",
   "metadata": {},
   "outputs": [
    {
     "name": "stderr",
     "output_type": "stream",
     "text": [
      "ERROR:root:Failed to get supported params: argument of type 'NoneType' is not iterable\n"
     ]
    },
    {
     "name": "stdout",
     "output_type": "stream",
     "text": [
      "\n",
      "\u001b[1;31mProvider List: https://docs.litellm.ai/docs/providers\u001b[0m\n",
      "\n"
     ]
    },
    {
     "data": {
      "text/plain": [
       "Agent(role=Support Quality Assurance Specialist, goal=Get recognition for providing the best support quality assurance in your team, backstory=You work at crewAI (https://crewai.com) and are now working with your team on a request from {customer} ensuring that the support representative is providing the best support possible.\n",
       "You need to make sure that the support representative is providing fullcomplete answers, and make no assumptions.)"
      ]
     },
     "execution_count": 12,
     "metadata": {},
     "output_type": "execute_result"
    }
   ],
   "source": [
    "support_quality_assurance_agent = Agent(\n",
    "\trole=\"Support Quality Assurance Specialist\",\n",
    "\tgoal=\"Get recognition for providing the \"\n",
    "    \"best support quality assurance in your team\",\n",
    "\tbackstory=(\n",
    "\t\t\"You work at crewAI (https://crewai.com) and \"\n",
    "        \"are now working with your team \"\n",
    "\t\t\"on a request from {customer} ensuring that \"\n",
    "        \"the support representative is \"\n",
    "\t\t\"providing the best support possible.\\n\"\n",
    "\t\t\"You need to make sure that the support representative \"\n",
    "        \"is providing full\"\n",
    "\t\t\"complete answers, and make no assumptions.\"\n",
    "\t),\n",
    "\tverbose=True\n",
    ")\n",
    "\n",
    "support_quality_assurance_agent"
   ]
  },
  {
   "cell_type": "markdown",
   "id": "7a7ea36e",
   "metadata": {},
   "source": [
    "# Tools, Guardrails and Memory"
   ]
  },
  {
   "cell_type": "code",
   "execution_count": 16,
   "id": "da256890",
   "metadata": {},
   "outputs": [],
   "source": [
    "from crewai_tools import SerperDevTool, ScrapeWebsiteTool, WebsiteSearchTool"
   ]
  },
  {
   "cell_type": "code",
   "execution_count": null,
   "id": "ebb62530",
   "metadata": {},
   "outputs": [
    {
     "data": {
      "text/plain": [
       "ScrapeWebsiteTool(name='Read website content', description=\"Read website content() - A tool that can be used to read https://docs.crewai.com/how-to/Creating-a-Crew-and-kick-it-off/'s content.\", args_schema=<class 'crewai_tools.tools.scrape_website_tool.scrape_website_tool.FixedScrapeWebsiteToolSchema'>, description_updated=False, cache_function=<function BaseTool.<lambda> at 0x0000019A8C0DFCE0>, website_url='https://docs.crewai.com/how-to/Creating-a-Crew-and-kick-it-off/', cookies=None, headers={'User-Agent': 'Mozilla/5.0 (Windows NT 10.0; Win64; x64) AppleWebKit/537.36 (KHTML, like Gecko) Chrome/96.0.4664.110 Safari/537.36', 'Accept': 'text/html,application/xhtml+xml,application/xml;q=0.9,image/avif,image/webp,image/apng,*/*;q=0.8,application/signed-exchange;v=b3;q=0.9', 'Accept-Language': 'en-US,en;q=0.9', 'Referer': 'https://www.google.com/', 'Connection': 'keep-alive', 'Upgrade-Insecure-Requests': '1', 'Accept-Encoding': 'gzip, deflate, br'})"
      ]
     },
     "execution_count": 17,
     "metadata": {},
     "output_type": "execute_result"
    }
   ],
   "source": [
    "docs_scrape_tool = ScrapeWebsiteTool(\n",
    "    website_url=\"https://docs.crewai.com/how-to/Creating-a-Crew-and-kick-it-off/\"\n",
    ")\n",
    "docs_scrape_tool"
   ]
  },
  {
   "cell_type": "code",
   "execution_count": 58,
   "id": "1e256084",
   "metadata": {},
   "outputs": [
    {
     "data": {
      "text/plain": [
       "MyTool(name='docs_scrape_tool', description='Tool Name: docs_scrape_tool\\nTool Arguments: {}\\nTool Description: Website Scraping Tool', args_schema=<class 'abc.MyToolSchema'>, description_updated=False, cache_function=<function BaseTool.<lambda> at 0x0000019AFE651300>, result_as_answer=False)"
      ]
     },
     "execution_count": 58,
     "metadata": {},
     "output_type": "execute_result"
    }
   ],
   "source": [
    "from typing import ClassVar\n",
    "from pydantic import ConfigDict\n",
    "class MyTool(BaseTool):\n",
    "    model_config = ConfigDict(ignored_types=(str,))\n",
    "    name=\"docs_scrape_tool\"\n",
    "    description=\"Website Scraping Tool\"\n",
    "\n",
    "    def _run(self, website_url):\n",
    "        return website_url\n",
    "\n",
    "docs_scrape_tool_ud = MyTool(\n",
    "    website_url=\"https://docs.crewai.com/how-to/Creating-a-Crew-and-kick-it-off/\"\n",
    ")\n",
    "docs_scrape_tool_ud"
   ]
  },
  {
   "cell_type": "code",
   "execution_count": 59,
   "id": "bcbc75ef",
   "metadata": {},
   "outputs": [
    {
     "data": {
      "text/plain": [
       "True"
      ]
     },
     "execution_count": 59,
     "metadata": {},
     "output_type": "execute_result"
    }
   ],
   "source": [
    "from crewai.tools import BaseTool\n",
    "isinstance(docs_scrape_tool_ud, BaseTool)"
   ]
  },
  {
   "cell_type": "markdown",
   "id": "0969d697",
   "metadata": {},
   "source": [
    "# Tasks"
   ]
  },
  {
   "cell_type": "code",
   "execution_count": 60,
   "id": "835eded4",
   "metadata": {},
   "outputs": [
    {
     "data": {
      "text/plain": [
       "Task(description={customer} just reached out with a super important ask:\n",
       "{inquiry}\n",
       "\n",
       "{person} from {customer} is the one that reached out. Make sure to use everything you know to provide the best support possible.You must strive to provide a complete and accurate response to the customer's inquiry., expected_output=A detailed, informative response to the customer's inquiry that addresses all aspects of their question.\n",
       "The response should include references to everything you used to find the answer, including external data or solutions. Ensure the answer is complete, leaving no questions unanswered, and maintain a helpful and friendly tone throughout.)"
      ]
     },
     "execution_count": 60,
     "metadata": {},
     "output_type": "execute_result"
    }
   ],
   "source": [
    "inquiry_resolution = Task(\n",
    "    description=\n",
    "        \"{customer} just reached out with a super important ask:\\n\"\n",
    "\t    \"{inquiry}\\n\\n\"\n",
    "        \"{person} from {customer} is the one that reached out. \"\n",
    "\t\t\"Make sure to use everything you know \"\n",
    "        \"to provide the best support possible.\"\n",
    "\t\t\"You must strive to provide a complete \"\n",
    "        \"and accurate response to the customer's inquiry.\"\n",
    "    ,\n",
    "    expected_output=\n",
    "\t    \"A detailed, informative response to the \"\n",
    "        \"customer's inquiry that addresses \"\n",
    "        \"all aspects of their question.\\n\"\n",
    "        \"The response should include references \"\n",
    "        \"to everything you used to find the answer, \"\n",
    "        \"including external data or solutions. \"\n",
    "        \"Ensure the answer is complete, \"\n",
    "\t\t\"leaving no questions unanswered, and maintain a helpful and friendly \"\n",
    "\t\t\"tone throughout.\"\n",
    "    ,\n",
    "\ttools=[docs_scrape_tool_ud],\n",
    "    agent=support_agent,\n",
    ")\n",
    "\n",
    "inquiry_resolution"
   ]
  },
  {
   "cell_type": "code",
   "execution_count": 61,
   "id": "396c6050",
   "metadata": {},
   "outputs": [
    {
     "data": {
      "text/plain": [
       "Task(description=Review the response drafted by the Senior Support Representative for {customer}'s inquiry. Ensure that the answer is comprehensive, accurate, and adheres to the high-quality standards expected for customer support.\n",
       "Verify that all parts of the customer's inquiry have been addressed thoroughly, with a helpful and friendly tone.\n",
       "Check for references and sources used to  find the information, ensuring the response is well-supported and leaves no questions unanswered., expected_output=A final, detailed, and informative response ready to be sent to the customer.\n",
       "This response should fully address the customer's inquiry, incorporating all relevant feedback and improvements.\n",
       "Don't be too formal, we are a chill and cool company but maintain a professional and friendly tone throughout.)"
      ]
     },
     "execution_count": 61,
     "metadata": {},
     "output_type": "execute_result"
    }
   ],
   "source": [
    "quality_assurance_review = Task(\n",
    "    description=(\n",
    "        \"Review the response drafted by the Senior Support Representative for {customer}'s inquiry. \"\n",
    "        \"Ensure that the answer is comprehensive, accurate, and adheres to the \"\n",
    "\t\t\"high-quality standards expected for customer support.\\n\"\n",
    "        \"Verify that all parts of the customer's inquiry \"\n",
    "        \"have been addressed \"\n",
    "\t\t\"thoroughly, with a helpful and friendly tone.\\n\"\n",
    "        \"Check for references and sources used to \"\n",
    "        \" find the information, \"\n",
    "\t\t\"ensuring the response is well-supported and \"\n",
    "        \"leaves no questions unanswered.\"\n",
    "    ),\n",
    "    expected_output=(\n",
    "        \"A final, detailed, and informative response \"\n",
    "        \"ready to be sent to the customer.\\n\"\n",
    "        \"This response should fully address the \"\n",
    "        \"customer's inquiry, incorporating all \"\n",
    "\t\t\"relevant feedback and improvements.\\n\"\n",
    "\t\t\"Don't be too formal, we are a chill and cool company \"\n",
    "\t    \"but maintain a professional and friendly tone throughout.\"\n",
    "    ),\n",
    "    agent=support_quality_assurance_agent,\n",
    ")\n",
    "quality_assurance_review"
   ]
  },
  {
   "cell_type": "markdown",
   "id": "0abeb914",
   "metadata": {},
   "source": [
    "# Memory"
   ]
  },
  {
   "cell_type": "code",
   "execution_count": 62,
   "id": "6d14a478",
   "metadata": {},
   "outputs": [
    {
     "name": "stderr",
     "output_type": "stream",
     "text": [
      "WARNING:opentelemetry.trace:Overriding of current TracerProvider is not allowed\n",
      "ERROR:root:Failed to get supported params: argument of type 'NoneType' is not iterable\n",
      "ERROR:root:Failed to get supported params: argument of type 'NoneType' is not iterable\n"
     ]
    },
    {
     "name": "stdout",
     "output_type": "stream",
     "text": [
      "\n",
      "\u001b[1;31mProvider List: https://docs.litellm.ai/docs/providers\u001b[0m\n",
      "\n",
      "\n",
      "\u001b[1;31mProvider List: https://docs.litellm.ai/docs/providers\u001b[0m\n",
      "\n"
     ]
    },
    {
     "data": {
      "text/plain": [
       "Crew(id=41f439e2-0358-4201-8e18-698bffbbf71c, process=Process.sequential, number_of_agents=2, number_of_tasks=2)"
      ]
     },
     "execution_count": 62,
     "metadata": {},
     "output_type": "execute_result"
    }
   ],
   "source": [
    "crew = Crew(\n",
    "  agents=[support_agent, support_quality_assurance_agent],\n",
    "  tasks=[inquiry_resolution, quality_assurance_review],\n",
    ")\n",
    "crew"
   ]
  },
  {
   "cell_type": "markdown",
   "id": "e2c05aff",
   "metadata": {},
   "source": [
    "# Crew"
   ]
  },
  {
   "cell_type": "code",
   "execution_count": 63,
   "id": "0d367aff",
   "metadata": {},
   "outputs": [
    {
     "name": "stderr",
     "output_type": "stream",
     "text": [
      "ERROR:root:Failed to get supported params: argument of type 'NoneType' is not iterable\n",
      "ERROR:root:Failed to get supported params: argument of type 'NoneType' is not iterable\n"
     ]
    },
    {
     "name": "stdout",
     "output_type": "stream",
     "text": [
      "\n",
      "\u001b[1;31mProvider List: https://docs.litellm.ai/docs/providers\u001b[0m\n",
      "\n",
      "\n",
      "\u001b[1;31mProvider List: https://docs.litellm.ai/docs/providers\u001b[0m\n",
      "\n"
     ]
    },
    {
     "ename": "ValueError",
     "evalue": "Required function parameter 'website_url' not found in args_schema",
     "output_type": "error",
     "traceback": [
      "\u001b[31m---------------------------------------------------------------------------\u001b[39m",
      "\u001b[31mValueError\u001b[39m                                Traceback (most recent call last)",
      "\u001b[36mCell\u001b[39m\u001b[36m \u001b[39m\u001b[32mIn[63]\u001b[39m\u001b[32m, line 9\u001b[39m\n\u001b[32m      1\u001b[39m inputs = {\n\u001b[32m      2\u001b[39m     \u001b[33m\"\u001b[39m\u001b[33mcustomer\u001b[39m\u001b[33m\"\u001b[39m: \u001b[33m\"\u001b[39m\u001b[33mDeepLearningAI\u001b[39m\u001b[33m\"\u001b[39m,\n\u001b[32m      3\u001b[39m     \u001b[33m\"\u001b[39m\u001b[33mperson\u001b[39m\u001b[33m\"\u001b[39m: \u001b[33m\"\u001b[39m\u001b[33mAndrew Ng\u001b[39m\u001b[33m\"\u001b[39m,\n\u001b[32m   (...)\u001b[39m\u001b[32m      7\u001b[39m                \u001b[33m\"\u001b[39m\u001b[33mCan you provide guidance?\u001b[39m\u001b[33m\"\u001b[39m\n\u001b[32m      8\u001b[39m }\n\u001b[32m----> \u001b[39m\u001b[32m9\u001b[39m result = \u001b[43mcrew\u001b[49m\u001b[43m.\u001b[49m\u001b[43mkickoff\u001b[49m\u001b[43m(\u001b[49m\u001b[43minputs\u001b[49m\u001b[43m=\u001b[49m\u001b[43minputs\u001b[49m\u001b[43m)\u001b[49m\n",
      "\u001b[36mFile \u001b[39m\u001b[32mc:\\sharath\\Github\\Projects\\Loan prediction\\loan-pred\\.venv\\Lib\\site-packages\\crewai\\crew.py:548\u001b[39m, in \u001b[36mkickoff\u001b[39m\u001b[34m(self, inputs)\u001b[39m\n\u001b[32m    537\u001b[39m \u001b[38;5;28;01mdef\u001b[39;00m\u001b[38;5;250m \u001b[39m\u001b[34m_create_task\u001b[39m(\u001b[38;5;28mself\u001b[39m, task_config: Dict[\u001b[38;5;28mstr\u001b[39m, Any]) -> Task:\n\u001b[32m    538\u001b[39m \u001b[38;5;250m    \u001b[39m\u001b[33;03m\"\"\"Creates a task instance from its configuration.\u001b[39;00m\n\u001b[32m    539\u001b[39m \n\u001b[32m    540\u001b[39m \u001b[33;03m    Args:\u001b[39;00m\n\u001b[32m   (...)\u001b[39m\u001b[32m    544\u001b[39m \u001b[33;03m        A task instance.\u001b[39;00m\n\u001b[32m    545\u001b[39m \u001b[33;03m    \"\"\"\u001b[39;00m\n\u001b[32m    546\u001b[39m     task_agent = \u001b[38;5;28mnext\u001b[39m(\n\u001b[32m    547\u001b[39m         agt \u001b[38;5;28;01mfor\u001b[39;00m agt \u001b[38;5;129;01min\u001b[39;00m \u001b[38;5;28mself\u001b[39m.agents \u001b[38;5;28;01mif\u001b[39;00m agt.role == task_config[\u001b[33m\"\u001b[39m\u001b[33magent\u001b[39m\u001b[33m\"\u001b[39m]\n\u001b[32m--> \u001b[39m\u001b[32m548\u001b[39m     )\n\u001b[32m    549\u001b[39m     \u001b[38;5;28;01mdel\u001b[39;00m task_config[\u001b[33m\"\u001b[39m\u001b[33magent\u001b[39m\u001b[33m\"\u001b[39m]\n\u001b[32m    550\u001b[39m     \u001b[38;5;28;01mreturn\u001b[39;00m Task(**task_config, agent=task_agent)\n",
      "\u001b[36mFile \u001b[39m\u001b[32mc:\\sharath\\Github\\Projects\\Loan prediction\\loan-pred\\.venv\\Lib\\site-packages\\crewai\\crew.py:655\u001b[39m, in \u001b[36m_run_sequential_process\u001b[39m\u001b[34m(self)\u001b[39m\n\u001b[32m    651\u001b[39m         agent.step_callback = \u001b[38;5;28mself\u001b[39m.step_callback  \u001b[38;5;66;03m# type: ignore # \"BaseAgent\" has no attribute \"step_callback\"\u001b[39;00m\n\u001b[32m    653\u001b[39m     agent.create_agent_executor()\n\u001b[32m--> \u001b[39m\u001b[32m655\u001b[39m \u001b[38;5;28;01mif\u001b[39;00m \u001b[38;5;28mself\u001b[39m.planning:\n\u001b[32m    656\u001b[39m     \u001b[38;5;28mself\u001b[39m._handle_crew_planning()\n\u001b[32m    658\u001b[39m \u001b[38;5;28;01mif\u001b[39;00m \u001b[38;5;28mself\u001b[39m.process == Process.sequential:\n",
      "\u001b[36mFile \u001b[39m\u001b[32mc:\\sharath\\Github\\Projects\\Loan prediction\\loan-pred\\.venv\\Lib\\site-packages\\crewai\\crew.py:756\u001b[39m, in \u001b[36m_execute_tasks\u001b[39m\u001b[34m(self, tasks, start_index, was_replayed)\u001b[39m\n\u001b[32m    746\u001b[39m \u001b[38;5;28;01melse\u001b[39;00m:\n\u001b[32m    747\u001b[39m     inputs = {}\n\u001b[32m    749\u001b[39m log = {\n\u001b[32m    750\u001b[39m     \u001b[33m\"\u001b[39m\u001b[33mtask\u001b[39m\u001b[33m\"\u001b[39m: task,\n\u001b[32m    751\u001b[39m     \u001b[33m\"\u001b[39m\u001b[33moutput\u001b[39m\u001b[33m\"\u001b[39m: {\n\u001b[32m    752\u001b[39m         \u001b[33m\"\u001b[39m\u001b[33mdescription\u001b[39m\u001b[33m\"\u001b[39m: output.description,\n\u001b[32m    753\u001b[39m         \u001b[33m\"\u001b[39m\u001b[33msummary\u001b[39m\u001b[33m\"\u001b[39m: output.summary,\n\u001b[32m    754\u001b[39m         \u001b[33m\"\u001b[39m\u001b[33mraw\u001b[39m\u001b[33m\"\u001b[39m: output.raw,\n\u001b[32m    755\u001b[39m         \u001b[33m\"\u001b[39m\u001b[33mpydantic\u001b[39m\u001b[33m\"\u001b[39m: output.pydantic,\n\u001b[32m--> \u001b[39m\u001b[32m756\u001b[39m         \u001b[33m\"\u001b[39m\u001b[33mjson_dict\u001b[39m\u001b[33m\"\u001b[39m: output.json_dict,\n\u001b[32m    757\u001b[39m         \u001b[33m\"\u001b[39m\u001b[33moutput_format\u001b[39m\u001b[33m\"\u001b[39m: output.output_format,\n\u001b[32m    758\u001b[39m         \u001b[33m\"\u001b[39m\u001b[33magent\u001b[39m\u001b[33m\"\u001b[39m: output.agent,\n\u001b[32m    759\u001b[39m     },\n\u001b[32m    760\u001b[39m     \u001b[33m\"\u001b[39m\u001b[33mtask_index\u001b[39m\u001b[33m\"\u001b[39m: task_index,\n\u001b[32m    761\u001b[39m     \u001b[33m\"\u001b[39m\u001b[33minputs\u001b[39m\u001b[33m\"\u001b[39m: inputs,\n\u001b[32m    762\u001b[39m     \u001b[33m\"\u001b[39m\u001b[33mwas_replayed\u001b[39m\u001b[33m\"\u001b[39m: was_replayed,\n\u001b[32m    763\u001b[39m }\n\u001b[32m    764\u001b[39m \u001b[38;5;28mself\u001b[39m._task_output_handler.update(task_index, log)\n",
      "\u001b[36mFile \u001b[39m\u001b[32mc:\\sharath\\Github\\Projects\\Loan prediction\\loan-pred\\.venv\\Lib\\site-packages\\crewai\\task.py:302\u001b[39m, in \u001b[36mexecute_sync\u001b[39m\u001b[34m(self, agent, context, tools)\u001b[39m\n\u001b[32m    300\u001b[39m \u001b[38;5;66;03m# Then check other shell special characters\u001b[39;00m\n\u001b[32m    301\u001b[39m \u001b[38;5;28;01mif\u001b[39;00m \u001b[38;5;28many\u001b[39m(char \u001b[38;5;129;01min\u001b[39;00m value \u001b[38;5;28;01mfor\u001b[39;00m char \u001b[38;5;129;01min\u001b[39;00m [\u001b[33m\"\u001b[39m\u001b[33m|\u001b[39m\u001b[33m\"\u001b[39m, \u001b[33m\"\u001b[39m\u001b[33m>\u001b[39m\u001b[33m\"\u001b[39m, \u001b[33m\"\u001b[39m\u001b[33m<\u001b[39m\u001b[33m\"\u001b[39m, \u001b[33m\"\u001b[39m\u001b[33m&\u001b[39m\u001b[33m\"\u001b[39m, \u001b[33m\"\u001b[39m\u001b[33m;\u001b[39m\u001b[33m\"\u001b[39m]):\n\u001b[32m--> \u001b[39m\u001b[32m302\u001b[39m     \u001b[38;5;28;01mraise\u001b[39;00m \u001b[38;5;167;01mValueError\u001b[39;00m(\n\u001b[32m    303\u001b[39m         \u001b[33m\"\u001b[39m\u001b[33mShell special characters are not allowed in output_file paths\u001b[39m\u001b[33m\"\u001b[39m\n\u001b[32m    304\u001b[39m     )\n\u001b[32m    306\u001b[39m \u001b[38;5;66;03m# Don't strip leading slash if it's a template path with variables\u001b[39;00m\n\u001b[32m    307\u001b[39m \u001b[38;5;28;01mif\u001b[39;00m \u001b[33m\"\u001b[39m\u001b[33m{\u001b[39m\u001b[33m\"\u001b[39m \u001b[38;5;129;01min\u001b[39;00m value \u001b[38;5;129;01mor\u001b[39;00m \u001b[33m\"\u001b[39m\u001b[33m}\u001b[39m\u001b[33m\"\u001b[39m \u001b[38;5;129;01min\u001b[39;00m value:\n\u001b[32m    308\u001b[39m     \u001b[38;5;66;03m# Validate template variable format\u001b[39;00m\n",
      "\u001b[36mFile \u001b[39m\u001b[32mc:\\sharath\\Github\\Projects\\Loan prediction\\loan-pred\\.venv\\Lib\\site-packages\\crewai\\task.py:366\u001b[39m, in \u001b[36m_execute_core\u001b[39m\u001b[34m(self, agent, context, tools)\u001b[39m\n\u001b[32m    364\u001b[39m \u001b[38;5;129m@property\u001b[39m\n\u001b[32m    365\u001b[39m \u001b[38;5;28;01mdef\u001b[39;00m\u001b[38;5;250m \u001b[39m\u001b[34mexecution_duration\u001b[39m(\u001b[38;5;28mself\u001b[39m) -> \u001b[38;5;28mfloat\u001b[39m | \u001b[38;5;28;01mNone\u001b[39;00m:\n\u001b[32m--> \u001b[39m\u001b[32m366\u001b[39m     \u001b[38;5;28;01mif\u001b[39;00m \u001b[38;5;129;01mnot\u001b[39;00m \u001b[38;5;28mself\u001b[39m.start_time \u001b[38;5;129;01mor\u001b[39;00m \u001b[38;5;129;01mnot\u001b[39;00m \u001b[38;5;28mself\u001b[39m.end_time:\n\u001b[32m    367\u001b[39m         \u001b[38;5;28;01mreturn\u001b[39;00m \u001b[38;5;28;01mNone\u001b[39;00m\n\u001b[32m    368\u001b[39m     \u001b[38;5;28;01mreturn\u001b[39;00m (\u001b[38;5;28mself\u001b[39m.end_time - \u001b[38;5;28mself\u001b[39m.start_time).total_seconds()\n",
      "\u001b[36mFile \u001b[39m\u001b[32mc:\\sharath\\Github\\Projects\\Loan prediction\\loan-pred\\.venv\\Lib\\site-packages\\crewai\\agent.py:325\u001b[39m, in \u001b[36mexecute_task\u001b[39m\u001b[34m(self, task, context, tools)\u001b[39m\n\u001b[32m    316\u001b[39m knowledge_config = (\n\u001b[32m    317\u001b[39m     \u001b[38;5;28mself\u001b[39m.knowledge_config.model_dump() \u001b[38;5;28;01mif\u001b[39;00m \u001b[38;5;28mself\u001b[39m.knowledge_config \u001b[38;5;28;01melse\u001b[39;00m {}\n\u001b[32m    318\u001b[39m )\n\u001b[32m    320\u001b[39m \u001b[38;5;28;01mif\u001b[39;00m \u001b[38;5;28mself\u001b[39m.knowledge:\n\u001b[32m    321\u001b[39m     crewai_event_bus.emit(\n\u001b[32m    322\u001b[39m         \u001b[38;5;28mself\u001b[39m,\n\u001b[32m    323\u001b[39m         event=KnowledgeRetrievalStartedEvent(\n\u001b[32m    324\u001b[39m             agent=\u001b[38;5;28mself\u001b[39m,\n\u001b[32m--> \u001b[39m\u001b[32m325\u001b[39m         ),\n\u001b[32m    326\u001b[39m     )\n\u001b[32m    327\u001b[39m     \u001b[38;5;28;01mtry\u001b[39;00m:\n\u001b[32m    328\u001b[39m         \u001b[38;5;28mself\u001b[39m.knowledge_search_query = \u001b[38;5;28mself\u001b[39m._get_knowledge_search_query(\n\u001b[32m    329\u001b[39m             task_prompt\n\u001b[32m    330\u001b[39m         )\n",
      "\u001b[36mFile \u001b[39m\u001b[32mc:\\sharath\\Github\\Projects\\Loan prediction\\loan-pred\\.venv\\Lib\\site-packages\\crewai\\agent.py:368\u001b[39m, in \u001b[36mcreate_agent_executor\u001b[39m\u001b[34m(self, tools, task)\u001b[39m\n\u001b[32m    349\u001b[39m                 \u001b[38;5;28;01mif\u001b[39;00m \u001b[38;5;28mself\u001b[39m.crew_knowledge_context:\n\u001b[32m    350\u001b[39m                     task_prompt += \u001b[38;5;28mself\u001b[39m.crew_knowledge_context\n\u001b[32m    352\u001b[39m         crewai_event_bus.emit(\n\u001b[32m    353\u001b[39m             \u001b[38;5;28mself\u001b[39m,\n\u001b[32m    354\u001b[39m             event=KnowledgeRetrievalCompletedEvent(\n\u001b[32m    355\u001b[39m                 query=\u001b[38;5;28mself\u001b[39m.knowledge_search_query,\n\u001b[32m    356\u001b[39m                 agent=\u001b[38;5;28mself\u001b[39m,\n\u001b[32m    357\u001b[39m                 retrieved_knowledge=(\n\u001b[32m    358\u001b[39m                     (\u001b[38;5;28mself\u001b[39m.agent_knowledge_context \u001b[38;5;129;01mor\u001b[39;00m \u001b[33m\"\u001b[39m\u001b[33m\"\u001b[39m)\n\u001b[32m    359\u001b[39m                     + (\n\u001b[32m    360\u001b[39m                         \u001b[33m\"\u001b[39m\u001b[38;5;130;01m\\n\u001b[39;00m\u001b[33m\"\u001b[39m\n\u001b[32m    361\u001b[39m                         \u001b[38;5;28;01mif\u001b[39;00m \u001b[38;5;28mself\u001b[39m.agent_knowledge_context\n\u001b[32m    362\u001b[39m                         \u001b[38;5;129;01mand\u001b[39;00m \u001b[38;5;28mself\u001b[39m.crew_knowledge_context\n\u001b[32m    363\u001b[39m                         \u001b[38;5;28;01melse\u001b[39;00m \u001b[33m\"\u001b[39m\u001b[33m\"\u001b[39m\n\u001b[32m    364\u001b[39m                     )\n\u001b[32m    365\u001b[39m                     + (\u001b[38;5;28mself\u001b[39m.crew_knowledge_context \u001b[38;5;129;01mor\u001b[39;00m \u001b[33m\"\u001b[39m\u001b[33m\"\u001b[39m)\n\u001b[32m    366\u001b[39m                 ),\n\u001b[32m    367\u001b[39m             ),\n\u001b[32m--> \u001b[39m\u001b[32m368\u001b[39m         )\n\u001b[32m    369\u001b[39m \u001b[38;5;28;01mexcept\u001b[39;00m \u001b[38;5;167;01mException\u001b[39;00m \u001b[38;5;28;01mas\u001b[39;00m e:\n\u001b[32m    370\u001b[39m     crewai_event_bus.emit(\n\u001b[32m    371\u001b[39m         \u001b[38;5;28mself\u001b[39m,\n\u001b[32m    372\u001b[39m         event=KnowledgeSearchQueryFailedEvent(\n\u001b[32m   (...)\u001b[39m\u001b[32m    376\u001b[39m         ),\n\u001b[32m    377\u001b[39m     )\n",
      "\u001b[36mFile \u001b[39m\u001b[32mc:\\sharath\\Github\\Projects\\Loan prediction\\loan-pred\\.venv\\Lib\\site-packages\\crewai\\agent.py:442\u001b[39m, in \u001b[36m_parse_tools\u001b[39m\u001b[34m(self, tools)\u001b[39m\n\u001b[32m    436\u001b[39m \u001b[38;5;28mself\u001b[39m._times_executed += \u001b[32m1\u001b[39m\n\u001b[32m    437\u001b[39m \u001b[38;5;28;01mif\u001b[39;00m \u001b[38;5;28mself\u001b[39m._times_executed > \u001b[38;5;28mself\u001b[39m.max_retry_limit:\n\u001b[32m    438\u001b[39m     crewai_event_bus.emit(\n\u001b[32m    439\u001b[39m         \u001b[38;5;28mself\u001b[39m,\n\u001b[32m    440\u001b[39m         event=AgentExecutionErrorEvent(\n\u001b[32m    441\u001b[39m             agent=\u001b[38;5;28mself\u001b[39m,\n\u001b[32m--> \u001b[39m\u001b[32m442\u001b[39m             task=task,\n\u001b[32m    443\u001b[39m             error=\u001b[38;5;28mstr\u001b[39m(e),\n\u001b[32m    444\u001b[39m         ),\n\u001b[32m    445\u001b[39m     )\n\u001b[32m    446\u001b[39m     \u001b[38;5;28;01mraise\u001b[39;00m e\n\u001b[32m    447\u001b[39m result = \u001b[38;5;28mself\u001b[39m.execute_task(task, context, tools)\n",
      "\u001b[36mFile \u001b[39m\u001b[32mc:\\sharath\\Github\\Projects\\Loan prediction\\loan-pred\\.venv\\Lib\\site-packages\\crewai\\tools\\base_tool.py:82\u001b[39m, in \u001b[36mto_structured_tool\u001b[39m\u001b[34m(self)\u001b[39m\n\u001b[32m     76\u001b[39m     \u001b[38;5;28mself\u001b[39m._generate_description()\n\u001b[32m     78\u001b[39m     \u001b[38;5;28msuper\u001b[39m().model_post_init(__context)\n\u001b[32m     80\u001b[39m \u001b[38;5;28;01mdef\u001b[39;00m\u001b[38;5;250m \u001b[39m\u001b[34mrun\u001b[39m(\n\u001b[32m     81\u001b[39m     \u001b[38;5;28mself\u001b[39m,\n\u001b[32m---> \u001b[39m\u001b[32m82\u001b[39m     *args: Any,\n\u001b[32m     83\u001b[39m     **kwargs: Any,\n\u001b[32m     84\u001b[39m ) -> Any:\n\u001b[32m     85\u001b[39m     \u001b[38;5;28mprint\u001b[39m(\u001b[33mf\u001b[39m\u001b[33m\"\u001b[39m\u001b[33mUsing Tool: \u001b[39m\u001b[38;5;132;01m{\u001b[39;00m\u001b[38;5;28mself\u001b[39m.name\u001b[38;5;132;01m}\u001b[39;00m\u001b[33m\"\u001b[39m)\n\u001b[32m     86\u001b[39m     result = \u001b[38;5;28mself\u001b[39m._run(*args, **kwargs)\n",
      "\u001b[36mFile \u001b[39m\u001b[32mc:\\sharath\\Github\\Projects\\Loan prediction\\loan-pred\\.venv\\Lib\\site-packages\\crewai\\tools\\structured_tool.py:44\u001b[39m, in \u001b[36m__init__\u001b[39m\u001b[34m(self, name, description, args_schema, func, result_as_answer)\u001b[39m\n\u001b[32m     42\u001b[39m \u001b[38;5;28mself\u001b[39m.name = name\n\u001b[32m     43\u001b[39m \u001b[38;5;28mself\u001b[39m.description = description\n\u001b[32m---> \u001b[39m\u001b[32m44\u001b[39m \u001b[38;5;28mself\u001b[39m.args_schema = args_schema\n\u001b[32m     45\u001b[39m \u001b[38;5;28mself\u001b[39m.func = func\n\u001b[32m     46\u001b[39m \u001b[38;5;28mself\u001b[39m._logger = Logger()\n",
      "\u001b[36mFile \u001b[39m\u001b[32mc:\\sharath\\Github\\Projects\\Loan prediction\\loan-pred\\.venv\\Lib\\site-packages\\crewai\\tools\\structured_tool.py:168\u001b[39m, in \u001b[36m_validate_function_signature\u001b[39m\u001b[34m(self)\u001b[39m\n\u001b[32m    164\u001b[39m     \u001b[38;5;28;01mcontinue\u001b[39;00m\n\u001b[32m    166\u001b[39m \u001b[38;5;66;03m# Skip **kwargs parameters\u001b[39;00m\n\u001b[32m    167\u001b[39m \u001b[38;5;28;01mif\u001b[39;00m param.kind \u001b[38;5;129;01min\u001b[39;00m (\n\u001b[32m--> \u001b[39m\u001b[32m168\u001b[39m     inspect.Parameter.VAR_KEYWORD,\n\u001b[32m    169\u001b[39m     inspect.Parameter.VAR_POSITIONAL,\n\u001b[32m    170\u001b[39m ):\n\u001b[32m    171\u001b[39m     \u001b[38;5;28;01mcontinue\u001b[39;00m\n\u001b[32m    173\u001b[39m \u001b[38;5;66;03m# Only validate required parameters without defaults\u001b[39;00m\n",
      "\u001b[31mValueError\u001b[39m: Required function parameter 'website_url' not found in args_schema"
     ]
    }
   ],
   "source": [
    "inputs = {\n",
    "    \"customer\": \"DeepLearningAI\",\n",
    "    \"person\": \"Andrew Ng\",\n",
    "    \"inquiry\": \"I need help with setting up a Crew \"\n",
    "               \"and kicking it off, specifically \"\n",
    "               \"how can I add memory to my crew? \"\n",
    "               \"Can you provide guidance?\"\n",
    "}\n",
    "result = crew.kickoff(inputs=inputs)"
   ]
  },
  {
   "cell_type": "code",
   "execution_count": null,
   "id": "65beb93d",
   "metadata": {},
   "outputs": [],
   "source": [
    "from IPython.display import Markdown\n",
    "Markdown(result)"
   ]
  }
 ],
 "metadata": {
  "kernelspec": {
   "display_name": "loan-pred",
   "language": "python",
   "name": "python3"
  },
  "language_info": {
   "codemirror_mode": {
    "name": "ipython",
    "version": 3
   },
   "file_extension": ".py",
   "mimetype": "text/x-python",
   "name": "python",
   "nbconvert_exporter": "python",
   "pygments_lexer": "ipython3",
   "version": "3.12.6"
  }
 },
 "nbformat": 4,
 "nbformat_minor": 5
}
