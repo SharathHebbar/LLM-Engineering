{
 "cells": [
  {
   "cell_type": "code",
   "execution_count": 2,
   "id": "82261a1a",
   "metadata": {},
   "outputs": [],
   "source": [
    "import os\n",
    "import io\n",
    "import gradio as gr\n",
    "from IPython.display import Markdown, display, update_display\n",
    "import subprocess\n",
    "import sys"
   ]
  },
  {
   "cell_type": "code",
   "execution_count": 5,
   "id": "403a82aa",
   "metadata": {},
   "outputs": [],
   "source": [
    "model=\"lm_studio/medgemma-4b-it\""
   ]
  },
  {
   "cell_type": "code",
   "execution_count": 4,
   "id": "827c3257",
   "metadata": {},
   "outputs": [
    {
     "data": {
      "text/plain": [
       "<openai.OpenAI at 0x2e39ee75190>"
      ]
     },
     "execution_count": 4,
     "metadata": {},
     "output_type": "execute_result"
    }
   ],
   "source": [
    "from openai import OpenAI\n",
    "\n",
    "llm = OpenAI(\n",
    "    base_url=\"http://localhost:1234/v1\",\n",
    "    api_key=\"lm-studio\"\n",
    ")\n",
    "llm"
   ]
  },
  {
   "cell_type": "code",
   "execution_count": 6,
   "id": "49888f84",
   "metadata": {},
   "outputs": [
    {
     "data": {
      "text/plain": [
       "'You are an assitant that reimplements Python code in high performance C++ for M1 Mac.Respond only with C++ code; use comments sparingly and do not provide any explanation other than occasional comments.The C++ response needs to produce an identical output in the fastest possible time.'"
      ]
     },
     "execution_count": 6,
     "metadata": {},
     "output_type": "execute_result"
    }
   ],
   "source": [
    "system_message = (\n",
    "    \"You are an assitant that reimplements Python code in high performance C++ for M1 Mac.\"\n",
    "    \"Respond only with C++ code; use comments sparingly and do not provide any explanation other than occasional comments.\"\n",
    "    \"The C++ response needs to produce an identical output in the fastest possible time.\"\n",
    ")\n",
    "system_message"
   ]
  },
  {
   "cell_type": "code",
   "execution_count": 7,
   "id": "f0f8bf21",
   "metadata": {},
   "outputs": [],
   "source": [
    "def user_prompt_for(python):\n",
    "    user_prompt = (\n",
    "        \"Rewrite this Python code in C++ with the fastest possible implementation that produces identical output in the least time.\"\n",
    "        \"Respond only with C++ code; do not explain your work other than a few comments.\"\n",
    "        \"Pay attention to number types to ensure no int overflows. Remember to #include all necessary C++ packages such as iomanip.\\n\\n\"\n",
    "        f\"{python}\"\n",
    "    )\n",
    "    return user_prompt\n"
   ]
  },
  {
   "cell_type": "code",
   "execution_count": 8,
   "id": "fa224472",
   "metadata": {},
   "outputs": [],
   "source": [
    "def messages_for(python):\n",
    "    return [\n",
    "        {\"role\": \"system\", \"content\": system_message},\n",
    "        {\"role\": \"user\", \"content\": user_prompt_for(python)}\n",
    "    ]"
   ]
  },
  {
   "cell_type": "code",
   "execution_count": 9,
   "id": "3bae197c",
   "metadata": {},
   "outputs": [],
   "source": [
    "def write_output(cpp):\n",
    "    code = cpp.replace(\"```cpp\", \"\").replace(\"```\", \"\")\n",
    "    with open(\"optimized.cpp\", \"w\") as f:\n",
    "        f.write(code)"
   ]
  },
  {
   "cell_type": "code",
   "execution_count": 10,
   "id": "1a19a9a1",
   "metadata": {},
   "outputs": [],
   "source": [
    "def optimize_code(python):\n",
    "    stream = llm.chat.completions.create(\n",
    "        model=model,\n",
    "        messages=messages_for(python),\n",
    "        stream=True\n",
    "    )\n",
    "    reply = \"\"\n",
    "    for chunk in stream:\n",
    "        fragment = chunk.choices[0].delta.content or \"\"\n",
    "        reply += fragment\n",
    "        print(fragment, end=\"\", flush=True)\n",
    "    write_output(reply)"
   ]
  },
  {
   "cell_type": "code",
   "execution_count": 11,
   "id": "13580734",
   "metadata": {},
   "outputs": [
    {
     "data": {
      "text/plain": [
       "'\\nimport time\\n\\ndef calculate(iterations, param1, param2):\\n    result = 1.0\\n    for i in range(1, iterations+1):\\n        j = i * param1 - param2\\n        result -= (1/j)\\n        j = i * param1 + param2\\n        result += (1/j)\\n    return result\\n\\nstart_time = time.time()\\nresult = calculate(100_000_000, 4, 1) * 4\\nend_time = time.time()\\n\\nprint(f\"Result: {result:.12f}\")\\nprint(f\"Execution Time: {(end_time - start_time):.6f} seconds\")\\n'"
      ]
     },
     "execution_count": 11,
     "metadata": {},
     "output_type": "execute_result"
    }
   ],
   "source": [
    "python_code = \"\"\"\n",
    "import time\n",
    "\n",
    "def calculate(iterations, param1, param2):\n",
    "    result = 1.0\n",
    "    for i in range(1, iterations+1):\n",
    "        j = i * param1 - param2\n",
    "        result -= (1/j)\n",
    "        j = i * param1 + param2\n",
    "        result += (1/j)\n",
    "    return result\n",
    "\n",
    "start_time = time.time()\n",
    "result = calculate(100_000_000, 4, 1) * 4\n",
    "end_time = time.time()\n",
    "\n",
    "print(f\"Result: {result:.12f}\")\n",
    "print(f\"Execution Time: {(end_time - start_time):.6f} seconds\")\n",
    "\"\"\"\n",
    "python_code"
   ]
  },
  {
   "cell_type": "code",
   "execution_count": 12,
   "id": "463444e5",
   "metadata": {},
   "outputs": [
    {
     "name": "stdout",
     "output_type": "stream",
     "text": [
      "Result: 3.141592658589\n",
      "Execution Time: 9.553332 seconds\n"
     ]
    }
   ],
   "source": [
    "exec(python_code)"
   ]
  },
  {
   "cell_type": "code",
   "execution_count": 13,
   "id": "6deee0a4",
   "metadata": {},
   "outputs": [
    {
     "name": "stdout",
     "output_type": "stream",
     "text": [
      "```cpp\n",
      "#include <iostream>\n",
      "#include <iomanip>\n",
      "#include <cmath>\n",
      "\n",
      "double calculate(long long iterations, double param1, double param2) {\n",
      "    double result = 1.0;\n",
      "    for (long long i = 1; i <= iterations; ++i) {\n",
      "        double j = i * param1 - param2;\n",
      "        result -= 1.0 / j;\n",
      "        j = i * param1 + param2;\n",
      "        result += 1.0 / j;\n",
      "    }\n",
      "    return result;\n",
      "}\n",
      "\n",
      "int main() {\n",
      "    long long iterations = 100000000LL;\n",
      "    double param1 = 4.0;\n",
      "    double param2 = 1.0;\n",
      "    double result = calculate(iterations, param1, param2) * 4.0;\n",
      "\n",
      "    std::cout << std::fixed << std::setprecision(12);\n",
      "    std::cout << \"Result: \" << result << std::endl;\n",
      "    std::cout << \"Execution Time: \" << (time_point_cast<chrono::seconds>(std::chrono::high_resolution_clock::now()).time_since_epoch().count() - time_point_cast<chrono::seconds>(std::chrono::high_resolution_clock::now()).time_since_epoch().count()) / 1000000.0 << \" seconds\" << std::endl;\n",
      "\n",
      "    return 0;\n",
      "}\n",
      "```"
     ]
    }
   ],
   "source": [
    "optimize_code(python_code)"
   ]
  },
  {
   "cell_type": "code",
   "execution_count": 14,
   "id": "ab7ddcc6",
   "metadata": {},
   "outputs": [],
   "source": [
    "def stream_code(python):\n",
    "    stream = llm.chat.completions.create(\n",
    "        model=model,\n",
    "        messages=messages_for(python),\n",
    "        stream=True\n",
    "    )\n",
    "    reply = \"\"\n",
    "\n",
    "    for chunk in stream:\n",
    "        fragment = chunk.choices[0].delta.content or \"\"\n",
    "        reply += fragment\n",
    "        yield reply.replace(\"```cpp\\n\", \"\").replace(\"```\", \"\")"
   ]
  },
  {
   "cell_type": "code",
   "execution_count": null,
   "id": "a22a0fb3",
   "metadata": {},
   "outputs": [
    {
     "name": "stdout",
     "output_type": "stream",
     "text": [
      "* Running on local URL:  http://127.0.0.1:7860\n",
      "* To create a public link, set `share=True` in `launch()`.\n"
     ]
    },
    {
     "data": {
      "text/html": [
       "<div><iframe src=\"http://127.0.0.1:7860/\" width=\"100%\" height=\"500\" allow=\"autoplay; camera; microphone; clipboard-read; clipboard-write;\" frameborder=\"0\" allowfullscreen></iframe></div>"
      ],
      "text/plain": [
       "<IPython.core.display.HTML object>"
      ]
     },
     "metadata": {},
     "output_type": "display_data"
    },
    {
     "data": {
      "text/plain": []
     },
     "execution_count": 15,
     "metadata": {},
     "output_type": "execute_result"
    },
    {
     "name": "stdout",
     "output_type": "stream",
     "text": [
      "```cpp\n",
      "#include <iostream>\n",
      "#include <iomanip>\n",
      "#include <cmath>\n",
      "\n",
      "double calculate(long long iterations, double param1, double param2) {\n",
      "    double result = 1.0;\n",
      "    for (long long i = 1; i <= iterations; ++i) {\n",
      "        double j = i * param1 - param2;\n",
      "        result -= 1.0 / j;\n",
      "        j = i * param1 + param2;\n",
      "        result += 1.0 / j;\n",
      "    }\n",
      "    return result;\n",
      "}\n",
      "\n",
      "int main() {\n",
      "    long long iterations = 100000000LL;\n",
      "    double param1 = 4.0;\n",
      "    double param2 = 1.0;\n",
      "    double result = calculate(iterations, param1, param2) * 4.0;\n",
      "\n",
      "    std::cout << std::fixed << std::setprecision(12);\n",
      "    std::cout << \"Result: \" << result << std::endl;\n",
      "    std::cout << \"Execution Time: \" << (time_point_cast<chrono::seconds>(std::chrono::high_resolution_clock::now() - time_point_cast<chrono::seconds>(start_time))).count() / 1000.0 << \" seconds\" << std::endl;\n",
      "\n",
      "    return 0;\n",
      "}\n",
      "``````cpp\n",
      "#include <iostream>\n",
      "#include <iomanip>\n",
      "#include <cmath>\n",
      "\n",
      "double calculate(long long iterations, double param1, double param2) {\n",
      "    double result = 1.0;\n",
      "    for (long long i = 1; i <= iterations; ++i) {\n",
      "        double j = i * param1 - param2;\n",
      "        result -= 1.0 / j;\n",
      "        j = i * param1 + param2;\n",
      "        result += 1.0 / j;\n",
      "    }\n",
      "    return result;\n",
      "}\n",
      "\n",
      "int main() {\n",
      "    long long iterations = 100000000LL;\n",
      "    double param1 = 4.0;\n",
      "    double param2 = 1.0;\n",
      "    double result = calculate(iterations, param1, param2) * 4.0;\n",
      "    std::cout << std::fixed << std::setprecision(12);\n",
      "    std::cout << \"Result: \" << result << std::endl;\n",
      "    std::cout << \"Execution Time: \" << (time_point_cast<chrono::seconds>(std::chrono::high_resolution_clock::now()).time_since_epoch().count() - time_point_cast<chrono::seconds>(std::chrono::high_resolution_clock::now()).time_since_epoch().count()) / 1000000.0 << \" seconds\" << std::endl;\n",
      "    return 0;\n",
      "}\n",
      "```"
     ]
    }
   ],
   "source": [
    "with gr.Blocks() as ui:\n",
    "    with gr.Row():\n",
    "        python = gr.Textbox(label=\"Python code\", lines=10, value=python_code)\n",
    "        cpp = gr.Textbox(label=\"C++ Code: \", lines=10)\n",
    "    with gr.Row():\n",
    "        # model = gr.Dropdown()\n",
    "        convert = gr.Button(\"Convert Code\")\n",
    "    \n",
    "    convert.click(optimize_code, inputs=[python], outputs=[cpp])\n",
    "ui.launch(inbrowser=True)"
   ]
  },
  {
   "cell_type": "code",
   "execution_count": null,
   "id": "9e4a05e5",
   "metadata": {},
   "outputs": [],
   "source": []
  }
 ],
 "metadata": {
  "kernelspec": {
   "display_name": "loan-pred",
   "language": "python",
   "name": "python3"
  },
  "language_info": {
   "codemirror_mode": {
    "name": "ipython",
    "version": 3
   },
   "file_extension": ".py",
   "mimetype": "text/x-python",
   "name": "python",
   "nbconvert_exporter": "python",
   "pygments_lexer": "ipython3",
   "version": "3.12.6"
  }
 },
 "nbformat": 4,
 "nbformat_minor": 5
}
