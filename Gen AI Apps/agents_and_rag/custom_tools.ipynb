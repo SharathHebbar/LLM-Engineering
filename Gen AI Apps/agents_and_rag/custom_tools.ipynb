{
 "cells": [
  {
   "cell_type": "markdown",
   "id": "92ed1720",
   "metadata": {},
   "source": [
    "# Importing Libraries"
   ]
  },
  {
   "cell_type": "code",
   "execution_count": 7,
   "id": "95f3a3e9",
   "metadata": {},
   "outputs": [],
   "source": [
    "import os\n",
    "# from langchain.openai import ChatOpenAI\n",
    "from langchain_openai import ChatOpenAI\n",
    "from langchain.agents import initialize_agent, AgentType\n",
    "from langchain.tools import tool\n",
    "from dotenv import load_dotenv\n",
    "\n",
    "load_dotenv()\n",
    "\n",
    "model_name = \"medgemma-4b-it\""
   ]
  },
  {
   "cell_type": "code",
   "execution_count": 9,
   "id": "afe14809",
   "metadata": {},
   "outputs": [],
   "source": [
    "llm = ChatOpenAI(\n",
    "    base_url=\"http://localhost:1234/v1\",\n",
    "    model=model_name,\n",
    "    api_key=\"lm-studio\"\n",
    ")\n"
   ]
  },
  {
   "cell_type": "markdown",
   "id": "f59a5554",
   "metadata": {},
   "source": [
    "# Define a Custom Calculator Tool"
   ]
  },
  {
   "cell_type": "code",
   "execution_count": 8,
   "id": "2c1a86c8",
   "metadata": {},
   "outputs": [],
   "source": [
    "@tool\n",
    "def add_number(a:int, b:int) -> int:\n",
    "    \"\"\"Add two integers and return the result.\"\"\"\n",
    "    return a+b"
   ]
  },
  {
   "cell_type": "markdown",
   "id": "2d3e68f3",
   "metadata": {},
   "source": [
    "# Integrate the Tool with a LangChain Agent"
   ]
  },
  {
   "cell_type": "code",
   "execution_count": 10,
   "id": "45e8a404",
   "metadata": {},
   "outputs": [
    {
     "name": "stderr",
     "output_type": "stream",
     "text": [
      "C:\\Users\\shash\\AppData\\Local\\Temp\\ipykernel_9860\\1135057479.py:1: LangChainDeprecationWarning: LangChain agents will continue to be supported, but it is recommended for new use cases to be built with LangGraph. LangGraph offers a more flexible and full-featured framework for building agents, including support for tool-calling, persistence of state, and human-in-the-loop workflows. For details, refer to the `LangGraph documentation <https://langchain-ai.github.io/langgraph/>`_ as well as guides for `Migrating from AgentExecutor <https://python.langchain.com/docs/how_to/migrate_agent/>`_ and LangGraph's `Pre-built ReAct agent <https://langchain-ai.github.io/langgraph/how-tos/create-react-agent/>`_.\n",
      "  agent = initialize_agent(\n"
     ]
    },
    {
     "name": "stdout",
     "output_type": "stream",
     "text": [
      "{'input': 'Add 7 and 5', 'output': '7 + 5 = 12\\n'}\n"
     ]
    }
   ],
   "source": [
    "agent = initialize_agent(\n",
    "    tools=[add_number],\n",
    "    llm=llm,\n",
    "    agent=AgentType.OPENAI_FUNCTIONS,\n",
    ")\n",
    "\n",
    "response = agent.invoke(\"Add 7 and 5\")\n",
    "print(response)"
   ]
  },
  {
   "cell_type": "code",
   "execution_count": null,
   "id": "ce0b522a",
   "metadata": {},
   "outputs": [],
   "source": []
  }
 ],
 "metadata": {
  "kernelspec": {
   "display_name": "loan-pred",
   "language": "python",
   "name": "python3"
  },
  "language_info": {
   "codemirror_mode": {
    "name": "ipython",
    "version": 3
   },
   "file_extension": ".py",
   "mimetype": "text/x-python",
   "name": "python",
   "nbconvert_exporter": "python",
   "pygments_lexer": "ipython3",
   "version": "3.12.6"
  }
 },
 "nbformat": 4,
 "nbformat_minor": 5
}
