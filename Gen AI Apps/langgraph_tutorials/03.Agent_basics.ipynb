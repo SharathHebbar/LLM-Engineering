{
 "cells": [
  {
   "cell_type": "markdown",
   "id": "d3d391ea",
   "metadata": {},
   "source": [
    "# Importing Libraries"
   ]
  },
  {
   "cell_type": "code",
   "execution_count": null,
   "id": "48aa305d",
   "metadata": {},
   "outputs": [],
   "source": [
    "import os\n",
    "from dotenv import load_dotenv\n",
    "\n",
    "from langgraph.graph import START, END, StateGraph, MessagesState\n",
    "from langchain.tools import tool\n",
    "from langgraph.prebuilt import ToolNode\n",
    "from typing import Literal\n",
    "\n",
    "from langchain_together import ChatTogether\n",
    "\n",
    "load_dotenv()\n",
    "\n",
    "TOGETHER_API_KEY = os.getenv(\"TOGETHER_API_KEY\")\n",
    "together_model_name = \"Qwen/Qwen3-235B-A22B-Instruct-2507-tput\"\n",
    "\n",
    "llm = ChatTogether(\n",
    "    together_api_key=TOGETHER_API_KEY,\n",
    "    model=together_model_name,\n",
    ")\n"
   ]
  },
  {
   "cell_type": "markdown",
   "id": "18f98949",
   "metadata": {},
   "source": [
    "### Literal\n",
    "In Python's typing module, a Literal type hint specifies that a variable or function parameter/return value must be exactly one of a set of specific, constant values. This differs from a regular type hint like str or int, which indicates the type of value, but not its specific content.\n",
    "\n",
    "#### Key characteristics of Literal:\n",
    "\n",
    "##### Exact Value Restriction:\n",
    "It enforces that a value must precisely match one of the provided literal arguments. For example, Literal[\"red\", \"green\", \"blue\"] means the value can only be the string \"red\", \"green\", or \"blue\", and nothing else.\n",
    "Subtype of Parent Type:\n",
    "A Literal type is a subtype of the underlying type of the literal values. For instance, Literal[3] is a subtype of int.\n",
    "\n",
    "##### Immutability:\n",
    "The values within a Literal type hint are implicitly considered immutable. This means you cannot use mutable data structures like lists or dictionaries directly within Literal (e.g., Literal[[1, 2]] is not allowed).\n",
    "\n",
    "##### Enhanced Type Checking:\n",
    "Literal types allow static type checkers (like MyPy) to provide more precise analysis and catch potential errors where a value might not conform to the expected exact literal.\n",
    "Use Cases:\n",
    "\n",
    "##### Function Overloads: Defining different return types based on specific input literal values.\n",
    "API Design: Specifying exact allowed values for configuration options or modes.\n",
    "Enums (Alternative): While Python has Enum for similar purposes, Literal can be a lightweight alternative for a small, fixed set of values."
   ]
  },
  {
   "cell_type": "markdown",
   "id": "931a153e",
   "metadata": {},
   "source": [
    "# Defining Tools"
   ]
  },
  {
   "cell_type": "code",
   "execution_count": 6,
   "id": "37bcf2fc",
   "metadata": {},
   "outputs": [],
   "source": [
    "from langchain.tools import tool\n",
    "\n",
    "@tool\n",
    "\n",
    "def get_weather(location: str):\n",
    "    \"\"\"\n",
    "    Call to get the current weather\n",
    "    \"\"\"\n",
    "\n",
    "    if location.lower() in ['bengaluru', \"mysuru\"]:\n",
    "        return \"It is 23 degrees Celsius and cloudy.\"\n",
    "    else:\n",
    "        return \"It is 25 degree Celsius and sunny.\"\n",
    "    \n",
    "\n",
    "@tool\n",
    "def check_seating_availability(location: str, seating_type: str):\n",
    "    \"\"\"\n",
    "    Call to check seating availability\n",
    "    \"\"\"\n",
    "\n",
    "    if location.lower() == \"bengaluru\" and seating_type.lower()==\"outdoor\":\n",
    "        return \"Yes, we still have seats available outdoors.\"\n",
    "    elif location.lower() == \"bengaluru\" and seating_type.lower() == \"indoor\":\n",
    "        return \"Yes, we have indoor seating available.\"\n",
    "    else:\n",
    "        return \"Sorry, seating information for this location is unavailable.\"\n",
    "    \n",
    "tools = [get_weather, check_seating_availability]"
   ]
  },
  {
   "cell_type": "code",
   "execution_count": 7,
   "id": "5e10747d",
   "metadata": {},
   "outputs": [
    {
     "data": {
      "text/plain": [
       "'It is 23 degrees Celsius and cloudy.'"
      ]
     },
     "execution_count": 7,
     "metadata": {},
     "output_type": "execute_result"
    }
   ],
   "source": [
    "get_weather.invoke(input={\"location\": \"bengaluru\"})"
   ]
  },
  {
   "cell_type": "code",
   "execution_count": 8,
   "id": "89288a08",
   "metadata": {},
   "outputs": [
    {
     "data": {
      "text/plain": [
       "AIMessage(content='Hi there! ٩(◕‿◕｡)۶ How can I assist you today?', additional_kwargs={'refusal': None}, response_metadata={'token_usage': {'completion_tokens': 22, 'prompt_tokens': 9, 'total_tokens': 31, 'completion_tokens_details': None, 'prompt_tokens_details': None}, 'model_name': 'Qwen/Qwen3-235B-A22B-Instruct-2507-tput', 'system_fingerprint': None, 'id': 'o8Gx2PV-zqrih-9738f6778e7f8839', 'service_tier': None, 'finish_reason': 'stop', 'logprobs': None}, id='run--6c2de78d-766c-4d20-99b2-d6bd71453143-0', usage_metadata={'input_tokens': 9, 'output_tokens': 22, 'total_tokens': 31, 'input_token_details': {}, 'output_token_details': {}})"
      ]
     },
     "execution_count": 8,
     "metadata": {},
     "output_type": "execute_result"
    }
   ],
   "source": [
    "llm.invoke(\"Hello\")"
   ]
  },
  {
   "cell_type": "markdown",
   "id": "d71c3518",
   "metadata": {},
   "source": [
    "### Binding LLM with tools"
   ]
  },
  {
   "cell_type": "code",
   "execution_count": 20,
   "id": "84024994",
   "metadata": {},
   "outputs": [],
   "source": [
    "llm_with_tools = llm.bind_tools(tools)"
   ]
  },
  {
   "cell_type": "markdown",
   "id": "acf89030",
   "metadata": {},
   "source": [
    "# Adding states"
   ]
  },
  {
   "cell_type": "code",
   "execution_count": 21,
   "id": "16080213",
   "metadata": {},
   "outputs": [],
   "source": [
    "def call_model(state: MessagesState):\n",
    "    messages = state['messages']\n",
    "    response = llm_with_tools.invoke(messages)\n",
    "    return {\"messages\": [response]}\n",
    "\n",
    "\n",
    "def should_continue(state: MessagesState) -> Literal[\"tools\", END]:\n",
    "    messages = state['messages']\n",
    "    last_message = messages[-1]\n",
    "    if last_message.tool_calls:\n",
    "        return \"tools\"\n",
    "    return END"
   ]
  },
  {
   "cell_type": "markdown",
   "id": "b318cb3d",
   "metadata": {},
   "source": [
    "# Creating Workflow for graphs"
   ]
  },
  {
   "cell_type": "code",
   "execution_count": 22,
   "id": "74b629fd",
   "metadata": {},
   "outputs": [
    {
     "data": {
      "image/png": "[encoded data removed]",
      "text/plain": [
       "<langgraph.graph.state.CompiledStateGraph object at 0x000002275EBB6B10>"
      ]
     },
     "execution_count": 22,
     "metadata": {},
     "output_type": "execute_result"
    }
   ],
   "source": [
    "workflow = StateGraph(MessagesState)\n",
    "tool_node = ToolNode(tools)\n",
    "\n",
    "workflow.add_node(\"agent\", call_model)\n",
    "workflow.add_node(\"tools\", tool_node)\n",
    "\n",
    "workflow.add_edge(START, \"agent\")\n",
    "workflow.add_conditional_edges(\"agent\", should_continue)\n",
    "workflow.add_edge(\"tools\", \"agent\")\n",
    "\n",
    "graph = workflow.compile()\n",
    "graph"
   ]
  },
  {
   "cell_type": "markdown",
   "id": "033f6d89",
   "metadata": {},
   "source": [
    "# Setting up messaging feature"
   ]
  },
  {
   "cell_type": "code",
   "execution_count": 23,
   "id": "a9588b25",
   "metadata": {},
   "outputs": [],
   "source": [
    "from langchain_core.messages import HumanMessage\n",
    "\n",
    "messages1 = [HumanMessage(content=\"Hello, how are you?\")]\n",
    "messages2 = [HumanMessage(content=\"How is the weather in Bengaluru?\")]"
   ]
  },
  {
   "cell_type": "code",
   "execution_count": 24,
   "id": "9bfa48ae",
   "metadata": {},
   "outputs": [
    {
     "data": {
      "text/plain": [
       "{'messages': [HumanMessage(content='Hello, how are you?', additional_kwargs={}, response_metadata={}, id='0e8db05d-487c-419f-948f-8b42e9a608bd'),\n",
       "  AIMessage(content=\"Hello! I'm just a program, so I don't have feelings, but thanks for asking! How can I assist you today?\", additional_kwargs={'refusal': None}, response_metadata={'token_usage': {'completion_tokens': 28, 'prompt_tokens': 226, 'total_tokens': 254, 'completion_tokens_details': None, 'prompt_tokens_details': None}, 'model_name': 'Qwen/Qwen3-235B-A22B-Instruct-2507-tput', 'system_fingerprint': None, 'id': 'o8GzfrZ-28Eivz-973903168e007679', 'service_tier': None, 'finish_reason': 'stop', 'logprobs': None}, id='run--7fc001c7-d9a7-4e91-8448-342fe4c0be4b-0', usage_metadata={'input_tokens': 226, 'output_tokens': 28, 'total_tokens': 254, 'input_token_details': {}, 'output_token_details': {}})]}"
      ]
     },
     "execution_count": 24,
     "metadata": {},
     "output_type": "execute_result"
    }
   ],
   "source": [
    "res1 = graph.invoke({\"messages\": messages1})\n",
    "res1"
   ]
  },
  {
   "cell_type": "code",
   "execution_count": 25,
   "id": "2fc1c4d9",
   "metadata": {},
   "outputs": [
    {
     "data": {
      "text/plain": [
       "{'messages': [HumanMessage(content='How is the weather in Bengaluru?', additional_kwargs={}, response_metadata={}, id='7c981781-0b75-4e87-b7ef-3ff505c7d710'),\n",
       "  AIMessage(content='', additional_kwargs={'tool_calls': [{'id': 'call_fy7f95elrwexxp3gz57t5t5a', 'function': {'arguments': '{\"location\":\"Bengaluru\"}', 'name': 'get_weather'}, 'type': 'function', 'index': 0}], 'refusal': None}, response_metadata={'token_usage': {'completion_tokens': 23, 'prompt_tokens': 228, 'total_tokens': 251, 'completion_tokens_details': None, 'prompt_tokens_details': None}, 'model_name': 'Qwen/Qwen3-235B-A22B-Instruct-2507-tput', 'system_fingerprint': None, 'id': 'o8Gzh8K-28Eivz-9739032f48227679', 'service_tier': None, 'finish_reason': 'tool_calls', 'logprobs': None}, id='run--766dc528-8f7f-47e9-83ae-e03c340f1393-0', tool_calls=[{'name': 'get_weather', 'args': {'location': 'Bengaluru'}, 'id': 'call_fy7f95elrwexxp3gz57t5t5a', 'type': 'tool_call'}], usage_metadata={'input_tokens': 228, 'output_tokens': 23, 'total_tokens': 251, 'input_token_details': {}, 'output_token_details': {}}),\n",
       "  ToolMessage(content='It is 23 degrees Celsius and cloudy.', name='get_weather', id='ec9d3cc9-c204-4444-b839-089fdccb9a2a', tool_call_id='call_fy7f95elrwexxp3gz57t5t5a'),\n",
       "  AIMessage(content='The current weather in Bengaluru is 23 degrees Celsius and cloudy.', additional_kwargs={'refusal': None}, response_metadata={'token_usage': {'completion_tokens': 16, 'prompt_tokens': 273, 'total_tokens': 289, 'completion_tokens_details': None, 'prompt_tokens_details': None}, 'model_name': 'Qwen/Qwen3-235B-A22B-Instruct-2507-tput', 'system_fingerprint': None, 'id': 'o8GzhSJ-zqrih-973903378d797679', 'service_tier': None, 'finish_reason': 'stop', 'logprobs': None}, id='run--7f58054e-edaa-4d84-9664-3506e48a6a90-0', usage_metadata={'input_tokens': 273, 'output_tokens': 16, 'total_tokens': 289, 'input_token_details': {}, 'output_token_details': {}})]}"
      ]
     },
     "execution_count": 25,
     "metadata": {},
     "output_type": "execute_result"
    }
   ],
   "source": [
    "res2 = graph.invoke({\"messages\": messages2})\n",
    "res2"
   ]
  },
  {
   "cell_type": "code",
   "execution_count": 26,
   "id": "bb6d9ae6",
   "metadata": {},
   "outputs": [
    {
     "data": {
      "text/plain": [
       "{'messages': [HumanMessage(content='What would you recommend to do in that city then?', additional_kwargs={}, response_metadata={}, id='0896bf04-8e6a-4b34-89aa-fa9e123d2c4b'),\n",
       "  AIMessage(content=\"Could you please specify which city you're referring to? That way, I can provide more accurate recommendations!\", additional_kwargs={'refusal': None}, response_metadata={'token_usage': {'completion_tokens': 22, 'prompt_tokens': 231, 'total_tokens': 253, 'completion_tokens_details': None, 'prompt_tokens_details': None}, 'model_name': 'Qwen/Qwen3-235B-A22B-Instruct-2507-tput', 'system_fingerprint': None, 'id': 'o8GzmS6-zqrih-9739038cfe86b080', 'service_tier': None, 'finish_reason': 'stop', 'logprobs': None}, id='run--9455c7fe-1d83-4d12-865c-09fdbaf8de97-0', usage_metadata={'input_tokens': 231, 'output_tokens': 22, 'total_tokens': 253, 'input_token_details': {}, 'output_token_details': {}})]}"
      ]
     },
     "execution_count": 26,
     "metadata": {},
     "output_type": "execute_result"
    }
   ],
   "source": [
    "messages3 = [HumanMessage(content=\"What would you recommend to do in that city then?\")]\n",
    "res3 = graph.invoke({\"messages\": messages3})\n",
    "res3"
   ]
  },
  {
   "cell_type": "markdown",
   "id": "8f519f1f",
   "metadata": {},
   "source": [
    "# Adding Memory to Chatbot"
   ]
  },
  {
   "cell_type": "code",
   "execution_count": 29,
   "id": "af61cfd8",
   "metadata": {},
   "outputs": [
    {
     "data": {
      "text/plain": [
       "<langgraph.checkpoint.memory.InMemorySaver at 0x2275e8c3b90>"
      ]
     },
     "execution_count": 29,
     "metadata": {},
     "output_type": "execute_result"
    }
   ],
   "source": [
    "from langgraph.checkpoint.memory import MemorySaver\n",
    "\n",
    "checkpointer = MemorySaver()\n",
    "checkpointer"
   ]
  },
  {
   "cell_type": "markdown",
   "id": "4cfcf1ca",
   "metadata": {},
   "source": [
    "## Updated workflow"
   ]
  },
  {
   "cell_type": "code",
   "execution_count": 31,
   "id": "6c9b42e3",
   "metadata": {},
   "outputs": [
    {
     "name": "stderr",
     "output_type": "stream",
     "text": [
      "Adding an edge to a graph that has already been compiled. This will not be reflected in the compiled graph.\n"
     ]
    },
    {
     "data": {
      "image/png": "[encoded data removed]",
      "text/plain": [
       "<langgraph.graph.state.CompiledStateGraph object at 0x000002275EBDBAD0>"
      ]
     },
     "execution_count": 31,
     "metadata": {},
     "output_type": "execute_result"
    }
   ],
   "source": [
    "updated_workflow = StateGraph(MessagesState)\n",
    "tool_node = ToolNode(tools)\n",
    "\n",
    "updated_workflow.add_node(\"agent\", call_model)\n",
    "updated_workflow.add_node(\"tools\", tool_node)\n",
    "\n",
    "updated_workflow.add_edge(START, \"agent\")\n",
    "updated_workflow.add_conditional_edges(\"agent\", should_continue)\n",
    "workflow.add_edge(\"tools\", \"agent\")\n",
    "\n",
    "updated_graph = updated_workflow.compile(checkpointer=checkpointer)\n",
    "updated_graph"
   ]
  },
  {
   "cell_type": "code",
   "execution_count": 32,
   "id": "5cda580f",
   "metadata": {},
   "outputs": [
    {
     "data": {
      "text/plain": [
       "{'messages': [HumanMessage(content='How is the weather in Bengaluru?', additional_kwargs={}, response_metadata={}, id='7c981781-0b75-4e87-b7ef-3ff505c7d710'),\n",
       "  AIMessage(content='', additional_kwargs={'tool_calls': [{'id': 'call_ae990ml6dw5xpfig7zo4if7c', 'function': {'arguments': '{\"location\":\"Bengaluru\"}', 'name': 'get_weather'}, 'type': 'function', 'index': 0}], 'refusal': None}, response_metadata={'token_usage': {'completion_tokens': 23, 'prompt_tokens': 228, 'total_tokens': 251, 'completion_tokens_details': None, 'prompt_tokens_details': None}, 'model_name': 'Qwen/Qwen3-235B-A22B-Instruct-2507-tput', 'system_fingerprint': None, 'id': 'o8H3Y41-28Eivz-973910b86af5c190', 'service_tier': None, 'finish_reason': 'tool_calls', 'logprobs': None}, id='run--c2752854-7dab-4939-bfd5-90eb00f0646e-0', tool_calls=[{'name': 'get_weather', 'args': {'location': 'Bengaluru'}, 'id': 'call_ae990ml6dw5xpfig7zo4if7c', 'type': 'tool_call'}], usage_metadata={'input_tokens': 228, 'output_tokens': 23, 'total_tokens': 251, 'input_token_details': {}, 'output_token_details': {}}),\n",
       "  ToolMessage(content='It is 23 degrees Celsius and cloudy.', name='get_weather', id='f3778e60-5ed7-4bfd-a978-a55991680335', tool_call_id='call_ae990ml6dw5xpfig7zo4if7c')]}"
      ]
     },
     "execution_count": 32,
     "metadata": {},
     "output_type": "execute_result"
    }
   ],
   "source": [
    "update_res1 = updated_graph.invoke(\n",
    "    {\"messages\": messages2},\n",
    "    config={\"configurable\": {\"thread_id\": 1}},\n",
    ")\n",
    "update_res1"
   ]
  },
  {
   "cell_type": "code",
   "execution_count": 33,
   "id": "60d0d287",
   "metadata": {},
   "outputs": [
    {
     "data": {
      "text/plain": [
       "{'messages': [HumanMessage(content='How is the weather in Bengaluru?', additional_kwargs={}, response_metadata={}, id='7c981781-0b75-4e87-b7ef-3ff505c7d710'),\n",
       "  AIMessage(content='', additional_kwargs={'tool_calls': [{'id': 'call_ae990ml6dw5xpfig7zo4if7c', 'function': {'arguments': '{\"location\":\"Bengaluru\"}', 'name': 'get_weather'}, 'type': 'function', 'index': 0}], 'refusal': None}, response_metadata={'token_usage': {'completion_tokens': 23, 'prompt_tokens': 228, 'total_tokens': 251, 'completion_tokens_details': None, 'prompt_tokens_details': None}, 'model_name': 'Qwen/Qwen3-235B-A22B-Instruct-2507-tput', 'system_fingerprint': None, 'id': 'o8H3Y41-28Eivz-973910b86af5c190', 'service_tier': None, 'finish_reason': 'tool_calls', 'logprobs': None}, id='run--c2752854-7dab-4939-bfd5-90eb00f0646e-0', tool_calls=[{'name': 'get_weather', 'args': {'location': 'Bengaluru'}, 'id': 'call_ae990ml6dw5xpfig7zo4if7c', 'type': 'tool_call'}], usage_metadata={'input_tokens': 228, 'output_tokens': 23, 'total_tokens': 251, 'input_token_details': {}, 'output_token_details': {}}),\n",
       "  ToolMessage(content='It is 23 degrees Celsius and cloudy.', name='get_weather', id='f3778e60-5ed7-4bfd-a978-a55991680335', tool_call_id='call_ae990ml6dw5xpfig7zo4if7c'),\n",
       "  HumanMessage(content='What would you recommend to do in that city then?', additional_kwargs={}, response_metadata={}, id='0896bf04-8e6a-4b34-89aa-fa9e123d2c4b'),\n",
       "  AIMessage(content=\"Given that it's 23°C and cloudy in Bengaluru, it's a pleasant weather for outdoor activities. You could consider visiting some of the city's beautiful gardens like Lalbagh Botanical Garden or Cubbon Park for a relaxing stroll. You might also explore cultural spots like the Bangalore Palace or take a trip to one of the many tech museums or art galleries. If you're in the mood for shopping or cafes, places like Commercial Street or Indiranagar offer great options. Would you like recommendations for a specific type of activity?\", additional_kwargs={'refusal': None}, response_metadata={'token_usage': {'completion_tokens': 110, 'prompt_tokens': 289, 'total_tokens': 399, 'completion_tokens_details': None, 'prompt_tokens_details': None}, 'model_name': 'Qwen/Qwen3-235B-A22B-Instruct-2507-tput', 'system_fingerprint': None, 'id': 'o8H3ioX-28Eivz-9739119caec2c172', 'service_tier': None, 'finish_reason': 'stop', 'logprobs': None}, id='run--1ebe962d-9e8a-43ae-ace4-bd755ffa02de-0', usage_metadata={'input_tokens': 289, 'output_tokens': 110, 'total_tokens': 399, 'input_token_details': {}, 'output_token_details': {}})]}"
      ]
     },
     "execution_count": 33,
     "metadata": {},
     "output_type": "execute_result"
    }
   ],
   "source": [
    "update_res2 = updated_graph.invoke(\n",
    "    {\"messages\": messages3},\n",
    "    config={\"configurable\": {\"thread_id\": 1}},\n",
    ")\n",
    "update_res2"
   ]
  },
  {
   "cell_type": "code",
   "execution_count": 39,
   "id": "8bff4bb1",
   "metadata": {},
   "outputs": [
    {
     "data": {
      "text/plain": [
       "\"Given that it's 23°C and cloudy in Bengaluru, it's a pleasant weather for outdoor activities. You could consider visiting some of the city's beautiful gardens like Lalbagh Botanical Garden or Cubbon Park for a relaxing stroll. You might also explore cultural spots like the Bangalore Palace or take a trip to one of the many tech museums or art galleries. If you're in the mood for shopping or cafes, places like Commercial Street or Indiranagar offer great options. Would you like recommendations for a specific type of activity?\""
      ]
     },
     "execution_count": 39,
     "metadata": {},
     "output_type": "execute_result"
    }
   ],
   "source": [
    "(update_res2['messages'][-1].content)"
   ]
  },
  {
   "cell_type": "code",
   "execution_count": null,
   "id": "8451771c",
   "metadata": {},
   "outputs": [],
   "source": []
  }
 ],
 "metadata": {
  "kernelspec": {
   "display_name": "loan-pred",
   "language": "python",
   "name": "python3"
  },
  "language_info": {
   "codemirror_mode": {
    "name": "ipython",
    "version": 3
   },
   "file_extension": ".py",
   "mimetype": "text/x-python",
   "name": "python",
   "nbconvert_exporter": "python",
   "pygments_lexer": "ipython3",
   "version": "3.12.6"
  }
 },
 "nbformat": 4,
 "nbformat_minor": 5
}
