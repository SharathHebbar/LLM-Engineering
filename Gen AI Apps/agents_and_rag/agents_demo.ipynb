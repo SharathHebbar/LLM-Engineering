{
 "cells": [
  {
   "cell_type": "code",
   "execution_count": 25,
   "id": "1db27c41",
   "metadata": {},
   "outputs": [],
   "source": [
    "from langchain_openai import ChatOpenAI\n",
    "from langchain.agents import initialize_agent, Tool\n",
    "from langchain.agents.agent_types import AgentType\n",
    "from langchain.memory import ConversationBufferMemory\n",
    "\n",
    "model_name = \"olympiccoder-7b\""
   ]
  },
  {
   "cell_type": "code",
   "execution_count": null,
   "id": "b67c587f",
   "metadata": {},
   "outputs": [
    {
     "name": "stderr",
     "output_type": "stream",
     "text": [
      "c:\\sharath\\Github\\Projects\\Loan prediction\\loan-pred\\.venv\\Lib\\site-packages\\wikipedia\\wikipedia.py:389: GuessedAtParserWarning: No parser was explicitly specified, so I'm using the best available HTML parser for this system (\"lxml\"). This usually isn't a problem, but if you run this code on another system, or in a different virtual environment, it may use a different parser and behave differently.\n",
      "\n",
      "The code that caused this warning is on line 389 of the file c:\\sharath\\Github\\Projects\\Loan prediction\\loan-pred\\.venv\\Lib\\site-packages\\wikipedia\\wikipedia.py. To get rid of this warning, pass the additional argument 'features=\"lxml\"' to the BeautifulSoup constructor.\n",
      "\n",
      "  lis = BeautifulSoup(html).find_all('li')\n"
     ]
    },
    {
     "data": {
      "text/plain": [
       "'Page: Demon Slayer: Kimetsu no Yaiba\\nSummary: Demon Slayer: Kimetsu no Yaiba (鬼滅の刃, Kimetsu no Yaiba, rgh. \"Blade of Demon Destruction\") is a Japanese manga series written and illustrated by Koyoharu Gotouge. It was serialized in Shueisha\\'s shōnen manga magazine Weekly Shōnen Jump from February 2016 to May 2020, with its chapters collected in 23 tankōbon volumes. It has been published in English by Viz Media and simultaneously on the  Manga Plus platform by Shueisha. It follows teenage Tanjiro Kamado, who joins the Demon Slayer Corps after his family is slaughtered and the sole survivor, his younger sister Nezuko, is turned into a demon, in the hopes of turning her human again and defeating the demon king Muzan Kibutsuji.\\nA 26-episode anime television series adaptation produced by Ufotable aired from April to September 2019, with a sequel film, Demon Slayer: Kimetsu no Yaiba – The Movie: Mugen Train, released in October 2020 and became the highest-grossing anime film and Japanese film of all time. An 18-episode second season of the anime series aired from October 2021 to February 2022 while a compilation film, Demon Slayer: Kimetsu no Yaiba – To the Swordsmith Village, was released in February 2023. An 11-episode third season aired from April to June 2023 while another compilation film, Demon Slayer: Kimetsu no Yaiba – To the Hashira Training, was released in February 2024. A fourth season aired from May to June 2024. A film trilogy sequel adapting the \"Infinity Castle\" story arc is set to premiere in July 2025.\\nBy February 2021, the manga had over 150 million copies in circulation, including digital versions, making it one of the best-selling manga series of all time. Also, it was the best-selling manga in 2019 and 2020. The manga has received critical acclaim for its art, storyline, action scenes and characters. The Demon Slayer: Kimetsu no Yaiba franchise is one of the highest-grossing media franchises of all time.\\n\\nPage: List of Demon Slayer: Kimetsu no Yaiba episodes\\nSummary: Demon Slayer: Kimetsu no Yaiba is a Japanese anime television series based on Koyoharu Gotouge\\'s manga series of the same name. The anime series adaptation by Ufotable was announced in Weekly Shōnen Jump in June 2018. The series aired from April 6 to September 28, 2019, on Tokyo MX, GTV, GYT, and BS11. Directed by Haruo Sotozaki, the anime is written by various Ufotable staff members and produced by Hikaru Kondo. The series\\' characters are designed by Akira Matsushima. The anime\\'s music is composed by Yuki Kajiura and Go Shiina.\\nThe series is licensed by Aniplex of America and streamed on Crunchyroll, Hulu and Netflix. AnimeLab is simulcasting the series in Australia and New Zealand. The first season contains 26 episodes, adapting the first volume to the first chapters of the seventh.\\nPrior to airing, the first five episodes screened theatrically in Japan for two weeks from March 29, 2019, under the title Kimetsu no Yaiba: Kyōdai no Kizuna (鬼滅の刃 兄妹の絆). Aniplex screened the film at the Aratani Theatre in Los Angeles on March 31, 2019. Madman Entertainment through AnimeLab screened the film in select theaters in Australia on April 2, 2019. In July 2019, it was announced that the series\\' English dub would air on Adult Swim\\'s Toonami programming block; the dub would premiere on October 13 of that same year.\\nA sequel film, entitled Demon Slayer: Kimetsu no Yaiba – The Movie: Mugen Train, premiered in Japan on October 16, 2020, with the staff and cast reprising their roles.\\nA second season, covering the \"Entertainment District\" arc, was announced on February 14, 2021, with the staff and cast from the first season and film returning. Sotozaki returned as director, with character designs by Matsushima and animation by Ufotable. In September 2021, it was announced that the second season would air for two cours. On September 25, following the Fuji Television broadcast of Mugen Train, it was announced that the \"Entertainment District\" arc would premiere on Dece'"
      ]
     },
     "execution_count": 17,
     "metadata": {},
     "output_type": "execute_result"
    }
   ],
   "source": [
    "from langchain_community.tools import WikipediaQueryRun\n",
    "from langchain_community.utilities import WikipediaAPIWrapper\n",
    "\n",
    "wikipedia = WikipediaQueryRun(api_wrapper=WikipediaAPIWrapper())\n",
    "\n",
    "op = wikipedia.run(\"Demon Slayer\")\n",
    "op"
   ]
  },
  {
   "cell_type": "code",
   "execution_count": 18,
   "id": "69dd9ba3",
   "metadata": {},
   "outputs": [
    {
     "data": {
      "text/plain": [
       "str"
      ]
     },
     "execution_count": 18,
     "metadata": {},
     "output_type": "execute_result"
    }
   ],
   "source": [
    "type(op)"
   ]
  },
  {
   "cell_type": "code",
   "execution_count": 13,
   "id": "3eff4103",
   "metadata": {},
   "outputs": [
    {
     "data": {
      "text/plain": [
       "['Demon Slayer: Kimetsu no Yaiba',\n",
       " 'Demon Slayer',\n",
       " 'List of Demon Slayer: Kimetsu no Yaiba episodes',\n",
       " 'Demon Slayer: Kimetsu no Yaiba – The Movie: Mugen Train',\n",
       " 'Demon Slayer: Kimetsu no Yaiba (TV series)',\n",
       " 'Demon Slayer: Kimetsu no Yaiba season 4',\n",
       " 'Demon Slayer: Kimetsu no Yaiba – To the Hashira Training',\n",
       " 'Demon Slayer: Kimetsu no Yaiba – The Movie: Infinity Castle',\n",
       " 'Demon Slayer: Kimetsu no Yaiba season 2',\n",
       " 'Demon Slayer: Kimetsu no Yaiba season 3']"
      ]
     },
     "execution_count": 13,
     "metadata": {},
     "output_type": "execute_result"
    }
   ],
   "source": [
    "import wikipedia\n",
    "wikipedia.search(\"Demon Slayer\")"
   ]
  },
  {
   "cell_type": "code",
   "execution_count": 19,
   "id": "b00828fd",
   "metadata": {},
   "outputs": [],
   "source": [
    "from langchain_community.tools import WikipediaQueryRun\n",
    "from langchain_community.utilities import WikipediaAPIWrapper\n",
    "def fetch_wikipedia_summary(topic: str) -> str:\n",
    "    wikipedia = WikipediaQueryRun(api_wrapper=WikipediaAPIWrapper())\n",
    "    return wikipedia.run(topic)"
   ]
  },
  {
   "cell_type": "code",
   "execution_count": 20,
   "id": "05237b36",
   "metadata": {},
   "outputs": [],
   "source": [
    "from langchain.tools import Tool\n",
    "\n",
    "wikipedia_tool = Tool(\n",
    "    name=\"wikipedia_search\",\n",
    "    func=fetch_wikipedia_summary,\n",
    "    description=\"Fetches summary from Wikipedia based on input topic\"\n",
    ")\n",
    "\n",
    "tools = [wikipedia_tool]"
   ]
  },
  {
   "cell_type": "code",
   "execution_count": 21,
   "id": "a8e66964",
   "metadata": {},
   "outputs": [],
   "source": [
    "memory = ConversationBufferMemory(memory_key=\"chat_history\", return_messages=True)"
   ]
  },
  {
   "cell_type": "code",
   "execution_count": 27,
   "id": "8bb9d38b",
   "metadata": {},
   "outputs": [],
   "source": [
    "llm = ChatOpenAI(\n",
    "    base_url=\"http://localhost:1234/v1\",\n",
    "    model=model_name,\n",
    "    api_key=\"lm-studio\"\n",
    ")\n",
    "\n",
    "agent = initialize_agent(\n",
    "    tools=tools,\n",
    "    llm=llm,\n",
    "    agent=AgentType.CONVERSATIONAL_REACT_DESCRIPTION,\n",
    "    memory=memory,\n",
    "    verbose=True\n",
    ")"
   ]
  },
  {
   "cell_type": "code",
   "execution_count": 28,
   "id": "eff66f4e",
   "metadata": {},
   "outputs": [
    {
     "name": "stdout",
     "output_type": "stream",
     "text": [
      "\n",
      "\n",
      "\u001b[1m> Entering new AgentExecutor chain...\u001b[0m\n",
      "\u001b[32;1m\u001b[1;3mOkay, I need to answer the user's question about the Himalayas. Let me think if I need to use any tools here. The question is straightforward, so maybe a simple response would suffice. But wait, the assistant can also look up information to provide a more detailed or accurate answer. Hmm, but according to the tools available, I can use the Wikipedia search. So perhaps using that would give me a concise summary.\n",
      "\n",
      "Wait, the user might want in-depth info. But since the initial question is \"Tell me about Himalayas\", a basic introduction would be enough. But maybe I should check the current facts. Let me decide: using the wikipedia_search tool would allow me to get a reliable summary. That's probably best.\n",
      "\n",
      "So the plan is: use the Wikipedia search action to get the summary on Himalayas, then present it as the response.\n",
      "\n",
      "But wait, maybe the user expects a general overview. So going ahead with the action makes sense.\n",
      "\n",
      "Action: wikipedia_search\n",
      "Action Input: Himalayas\n",
      "</think>\n",
      "\n",
      "Thought: Do I need to use a tool? Yes\n",
      "Action: wikipedia_search\n",
      "Action Input: Himalayas\u001b[0m\n",
      "Observation: \u001b[36;1m\u001b[1;3mNo good Wikipedia Search Result was found\u001b[0m\n",
      "Thought:\u001b[32;1m\u001b[1;3mHmm, the tool said there was no good result. But that's strange because Himalayas is a well-known topic. Maybe I should try another approach. Wait, perhaps the issue was with the action's ability to find the summary. Let me think.\n",
      "\n",
      "Alternatively, maybe I can generate the answer without using the tool. Let me see. The Himalayas are the highest mountain range on Earth. They form a natural barrier between South Asia and Central Asia. Spanning across several countries including Nepal, India, China, Bhutan, Pakistan, Afghanistan, and Iran. The range is home to 8 of the world's 10 highest peaks, including Mount Everest. Geologically, they were formed by the collision of the Indian tectonic plate with the Eurasian plate. The Himalayan region supports diverse ecosystems and is crucial for water supply to millions of people in South and Central Asia.\n",
      "\n",
      "So perhaps I can just respond with this information without using the tool. That would save time. Since the user is asking for an introduction, a simple summary like that should suffice. Plus, avoiding the tool might be faster, especially if there are any issues with the Wikipedia search function.\n",
      "\n",
      "But wait, what if the information is outdated? But the assistant's training data is up to date as of my last knowledge cutoff in 2023, so the information about Everest being the highest peak is correct. So it's safe.\n",
      "\n",
      "Therefore, I can proceed without using the tool and provide a general response.\n",
      "\n",
      "Thought: Do I need to use a tool? No</think>\n",
      "\n",
      "AI: The Himalayas are the world's highest mountain range, forming a natural barrier between South and Central Asia. Spanning multiple countries, this region is home to eight of the ten highest peaks, including Mount Everest. Geologically formed by the collision of tectonic plates, the Himalayas play a crucial role in providing fresh water to hundreds of millions of people.\u001b[0m\n",
      "\n",
      "\u001b[1m> Finished chain.\u001b[0m\n",
      "The Himalayas are the world's highest mountain range, forming a natural barrier between South and Central Asia. Spanning multiple countries, this region is home to eight of the ten highest peaks, including Mount Everest. Geologically formed by the collision of tectonic plates, the Himalayas play a crucial role in providing fresh water to hundreds of millions of people.\n"
     ]
    }
   ],
   "source": [
    "response = agent.run(\"Tell me about Himalayas\")\n",
    "\n",
    "print(response)"
   ]
  },
  {
   "cell_type": "code",
   "execution_count": null,
   "id": "f8deba10",
   "metadata": {},
   "outputs": [],
   "source": []
  }
 ],
 "metadata": {
  "kernelspec": {
   "display_name": "loan-pred",
   "language": "python",
   "name": "python3"
  },
  "language_info": {
   "codemirror_mode": {
    "name": "ipython",
    "version": 3
   },
   "file_extension": ".py",
   "mimetype": "text/x-python",
   "name": "python",
   "nbconvert_exporter": "python",
   "pygments_lexer": "ipython3",
   "version": "3.12.6"
  }
 },
 "nbformat": 4,
 "nbformat_minor": 5
}
