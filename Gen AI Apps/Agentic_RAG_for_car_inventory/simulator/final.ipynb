{
 "cells": [
  {
   "cell_type": "code",
   "execution_count": 1,
   "id": "78424a64",
   "metadata": {},
   "outputs": [],
   "source": [
    "import os\n",
    "from dotenv import load_dotenv\n",
    "load_dotenv()\n",
    "\n",
    "os.environ[\"GOOGLE_API_KEY\"] = os.getenv(\"GEMINI_API_KEY\")"
   ]
  },
  {
   "cell_type": "code",
   "execution_count": 2,
   "id": "25675c0d",
   "metadata": {},
   "outputs": [],
   "source": [
    "model=\"gemini-2.0-flash\"\n",
    "emb_model = \"models/gemini-embedding-001\"\n",
    "model_name = \"sentence-transformers/all-mpnet-base-v2\""
   ]
  },
  {
   "cell_type": "code",
   "execution_count": 25,
   "id": "7ab79d92",
   "metadata": {},
   "outputs": [],
   "source": [
    "import streamlit as st\n",
    "from langgraph.graph import START, StateGraph\n",
    "from typing_extensions import List, TypedDict, Tuple\n",
    "from langchain_core.documents import Document\n",
    "from langchain.vectorstores import FAISS\n",
    "from langchain.chains import RetrievalQA\n",
    "from langchain_core.prompts import PromptTemplate\n",
    "from langchain_google_genai import ChatGoogleGenerativeAI, GoogleGenerativeAIEmbeddings\n",
    "from langchain_huggingface import HuggingFaceEmbeddings\n",
    "from langchain.document_loaders import TextLoader\n",
    "from langchain.text_splitter import CharacterTextSplitter\n",
    "from langchain_openai import ChatOpenAI, OpenAIEmbeddings\n",
    "import os\n",
    "from dotenv import load_dotenv\n",
    "\n",
    "model_name = \"medgemma-4b-it\"\n",
    "\n",
    "emb_model_name = \"sentence-transformers/all-mpnet-base-v2\"\n",
    "\n",
    "llm = ChatOpenAI(\n",
    "    base_url=\"http://localhost:1234/v1\",\n",
    "    model=model_name,\n",
    "    api_key=\"lm-studio\"\n",
    ")\n",
    "\n",
    "embeddings = HuggingFaceEmbeddings(model_name=emb_model_name)"
   ]
  },
  {
   "cell_type": "code",
   "execution_count": 3,
   "id": "f3de487e",
   "metadata": {},
   "outputs": [
    {
     "name": "stdout",
     "output_type": "stream",
     "text": [
      "WARNING:tensorflow:From c:\\sharath\\Github\\Projects\\Loan prediction\\loan-pred\\.venv\\Lib\\site-packages\\tf_keras\\src\\losses.py:2976: The name tf.losses.sparse_softmax_cross_entropy is deprecated. Please use tf.compat.v1.losses.sparse_softmax_cross_entropy instead.\n",
      "\n"
     ]
    }
   ],
   "source": [
    "from langchain_google_genai import ChatGoogleGenerativeAI, GoogleGenerativeAIEmbeddings\n",
    "from langchain_huggingface import HuggingFaceEmbeddings\n",
    "\n",
    "llm = ChatGoogleGenerativeAI(model=model)\n",
    "# embeddings = GoogleGenerativeAIEmbeddings(model=emb_model)\n",
    "embeddings = HuggingFaceEmbeddings(model_name=model_name)"
   ]
  },
  {
   "cell_type": "code",
   "execution_count": 5,
   "id": "9877564f",
   "metadata": {},
   "outputs": [],
   "source": [
    "from langchain.vectorstores import FAISS\n",
    "from langchain.chains import RetrievalQA\n",
    "\n",
    "from langchain.document_loaders import TextLoader\n",
    "loader = TextLoader(file_path=\"./car_inventory.txt\")\n",
    "docs = loader.load()"
   ]
  },
  {
   "cell_type": "code",
   "execution_count": 6,
   "id": "c0348e47",
   "metadata": {},
   "outputs": [],
   "source": [
    "from langchain.text_splitter import CharacterTextSplitter\n",
    "splitter = CharacterTextSplitter(\n",
    "    separator=\"\\n\\n\",\n",
    "    chunk_size=700,     # Optional: max token/char size\n",
    "    chunk_overlap=0\n",
    ")\n",
    "\n",
    "# Step 3: Split the loaded documents\n",
    "split_docs = splitter.split_documents(docs)"
   ]
  },
  {
   "cell_type": "code",
   "execution_count": 7,
   "id": "699ae2de",
   "metadata": {},
   "outputs": [
    {
     "data": {
      "text/plain": [
       "500"
      ]
     },
     "execution_count": 7,
     "metadata": {},
     "output_type": "execute_result"
    }
   ],
   "source": [
    "len(split_docs)"
   ]
  },
  {
   "cell_type": "code",
   "execution_count": 40,
   "id": "42e132c8",
   "metadata": {},
   "outputs": [
    {
     "data": {
      "text/plain": [
       "Document(metadata={'source': './car_inventory.txt'}, page_content='2023 Tesla Model 3 (Performance, used) is available at BMW of Fremont in New Jasonhaven, PR. It is a Coupe with Automatic transmission, runs on Hybrid, and has 32,594 miles. The MSRP is $34,371 with a discount of $500, bringing the final price to $33,871.\\nFeatures include: 4WD/AWD, Auto Dimming Mirror, Remote Start.\\nCurrent offers: GM Educator Offer ($-500); Purchase Allowance ($-500).\\nVIN: N6R0D6K9D7M3W0V6U7M0L1A2G1W5K8 | Stock Number: BMW001.\\nImage: https://example.com/images/tesla_model3.jpg')"
      ]
     },
     "execution_count": 40,
     "metadata": {},
     "output_type": "execute_result"
    }
   ],
   "source": [
    "split_docs[0]"
   ]
  },
  {
   "cell_type": "code",
   "execution_count": 41,
   "id": "1ecb9099",
   "metadata": {},
   "outputs": [],
   "source": [
    "vectorstore = FAISS.from_documents(split_docs, embeddings)"
   ]
  },
  {
   "cell_type": "code",
   "execution_count": 42,
   "id": "9c7bbfaf",
   "metadata": {},
   "outputs": [
    {
     "data": {
      "text/plain": [
       "RetrievalQA(verbose=False, combine_documents_chain=StuffDocumentsChain(verbose=False, llm_chain=LLMChain(verbose=False, prompt=ChatPromptTemplate(input_variables=['context', 'question'], input_types={}, partial_variables={}, messages=[SystemMessagePromptTemplate(prompt=PromptTemplate(input_variables=['context'], input_types={}, partial_variables={}, template=\"Use the following pieces of context to answer the user's question. \\nIf you don't know the answer, just say that you don't know, don't try to make up an answer.\\n----------------\\n{context}\"), additional_kwargs={}), HumanMessagePromptTemplate(prompt=PromptTemplate(input_variables=['question'], input_types={}, partial_variables={}, template='{question}'), additional_kwargs={})]), llm=ChatOpenAI(client=<openai.resources.chat.completions.completions.Completions object at 0x000001C8B95C4350>, async_client=<openai.resources.chat.completions.completions.AsyncCompletions object at 0x000001C8B9A010D0>, root_client=<openai.OpenAI object at 0x000001C8B8E095B0>, root_async_client=<openai.AsyncOpenAI object at 0x000001C8B95C4260>, model_name='medgemma-4b-it', model_kwargs={}, openai_api_key=SecretStr('**********'), openai_api_base='http://localhost:1234/v1'), output_parser=StrOutputParser(), llm_kwargs={}), document_prompt=PromptTemplate(input_variables=['page_content'], input_types={}, partial_variables={}, template='{page_content}'), document_variable_name='context'), return_source_documents=True, retriever=VectorStoreRetriever(tags=['FAISS', 'HuggingFaceEmbeddings'], vectorstore=<langchain_community.vectorstores.faiss.FAISS object at 0x000001C8B9A8C890>, search_kwargs={'k': 5}))"
      ]
     },
     "execution_count": 42,
     "metadata": {},
     "output_type": "execute_result"
    }
   ],
   "source": [
    "qa_chain = RetrievalQA.from_chain_type(\n",
    "    llm=llm,\n",
    "    retriever=vectorstore.as_retriever(search_type=\"similarity\", search_kwargs={\"k\": 5}),\n",
    "    return_source_documents=True\n",
    ")\n",
    "qa_chain"
   ]
  },
  {
   "cell_type": "code",
   "execution_count": 43,
   "id": "b2aea308",
   "metadata": {},
   "outputs": [
    {
     "name": "stdout",
     "output_type": "stream",
     "text": [
      "{'query': 'I want a car under $25000', 'result': 'Based on the provided information, here are the Acura Integra models available at Tesla San Jose that cost less than $25,000 (before any offers):\\n\\n*   **2023 Acura Integra (Base, used)**: $45,753 (after discount)\\n*   **2025 Acura Integra (A-Spec Tech Package, used)**: $41,200 (after discount)\\n*   **2023 Acura Integra (Base, new)**: $27,148 (after discount)\\n\\nTherefore, the 2023 Acura Integra (Base, used), 2025 Acura Integra (A-Spec Tech Package, used), and 2023 Acura Integra (Base, new) are all available under $25,000.\\n', 'source_documents': [Document(id='a95c620b-eb33-40dc-8911-d2bb3b48ff8d', metadata={'source': './car_inventory.txt'}, page_content='2023 Acura Integra (Base, used) is available at Tesla San Jose in Reedchester, HI. It is a Truck with Dual-Clutch transmission, runs on Diesel, and has 14,995 miles. The MSRP is $47,753 with a discount of $2,000, bringing the final price to $45,753.\\nFeatures include: Keyless Entry, Power Tailgate/Liftgate, Lane Departure Warning, Apple CarPlay, 4WD/AWD, Cooled Seats.\\nCurrent offers: Purchase Allowance ($-500).\\nVIN: T0C4E0A0D5S4T8B2D9Z8U2Z8E8Y6S6 | Stock Number: TESL316.\\nImage: https://example.com/images/acura_integra.jpg'), Document(id='b54e7afc-4eea-41ff-8d53-d5b37a8c2d79', metadata={'source': './car_inventory.txt'}, page_content='2024 Acura Integra (Type S, new) is available at Tesla San Jose in Lake Patrickburgh, IA. It is a Coupe with Automatic transmission, runs on Electric, and has 10 miles. The MSRP is $69,717 with a discount of $500, bringing the final price to $69,217.\\nFeatures include: Super Cruise, Wi-Fi Hotspot, Power Tailgate/Liftgate, 4WD/AWD, Cooled Seats, Auto Dimming Mirror.\\nCurrent offers: GM Educator Offer ($-500); Purchase Allowance for Current Eligible Non-GM Owners and Lessees ($-2,000).\\nVIN: F6L0J5R5K7K1Z9D0K4E2Z2F5N2Z2A1 | Stock Number: TESL473.\\nImage: https://example.com/images/acura_integra.jpg'), Document(id='3e240ff5-c51a-4406-ad72-d7bf3a3d7e97', metadata={'source': './car_inventory.txt'}, page_content='2025 Acura Integra (A-Spec Tech Package, used) is available at Tesla San Jose in South Stephen, AK. It is a Coupe with Manual transmission, runs on Electric, and has 22,642 miles. The MSRP is $43,200 with a discount of $2,000, bringing the final price to $41,200.\\nFeatures include: Super Cruise, Lane Departure Warning, Power Tailgate/Liftgate.\\nCurrent offers: Purchase Allowance for Current Eligible Non-GM Owners and Lessees ($-2,000); Spartan Recovery Lync ($+999).\\nVIN: P4F9T9X6Z4L4X0R3X3H3J2L0B9B7L6 | Stock Number: TESL391.\\nImage: https://example.com/images/acura_integra.jpg'), Document(id='eab424ef-fcef-498c-b48c-5d957f946e04', metadata={'source': './car_inventory.txt'}, page_content='2023 Acura Integra (Base, new) is available at Tesla San Jose in New William, NY. It is a Hatchback with CVT transmission, runs on Electric, and has 10 miles. The MSRP is $28,148 with a discount of $1,000, bringing the final price to $27,148.\\nFeatures include: Remote Start, Keyless Entry, Cooled Seats, Bluetooth.\\nCurrent offers: GM Educator Offer ($-500).\\nVIN: Z6B2A7P9A2L7D1V0Z2K1L6Y0T2L8T0 | Stock Number: TESL417.\\nImage: https://example.com/images/acura_integra.jpg'), Document(id='86262df5-dc75-4806-ae0c-8d4542000aa4', metadata={'source': './car_inventory.txt'}, page_content='2024 Acura Integra (A-Spec Tech Package, certified) is available at Concord Acura in Josephshire, VI. It is a Truck with Dual-Clutch transmission, runs on Diesel, and has 35,625 miles. The MSRP is $56,066 with a discount of $1,000, bringing the final price to $55,066.\\nFeatures include: Super Cruise, Power Tailgate/Liftgate, Apple CarPlay, Android Auto, Wi-Fi Hotspot, Keyless Entry.\\nCurrent offers: GM Educator Offer ($-500).\\nVIN: Y7E0M0B5B8E1B7E7P1D6T4K1D1S3B3 | Stock Number: CONC126.\\nImage: https://example.com/images/acura_integra.jpg')]}\n"
     ]
    }
   ],
   "source": [
    "user_input = \"I want a car under $25000\"\n",
    "response = qa_chain.invoke(user_input)\n",
    "print(response)"
   ]
  },
  {
   "cell_type": "code",
   "execution_count": 44,
   "id": "819e8174",
   "metadata": {},
   "outputs": [
    {
     "name": "stdout",
     "output_type": "stream",
     "text": [
      "Based on the provided information, here are the Acura Integra models available at Tesla San Jose that cost less than $25,000 (before any offers):\n",
      "\n",
      "*   **2023 Acura Integra (Base, used)**: $45,753 (after discount)\n",
      "*   **2025 Acura Integra (A-Spec Tech Package, used)**: $41,200 (after discount)\n",
      "*   **2023 Acura Integra (Base, new)**: $27,148 (after discount)\n",
      "\n",
      "Therefore, the 2023 Acura Integra (Base, used), 2025 Acura Integra (A-Spec Tech Package, used), and 2023 Acura Integra (Base, new) are all available under $25,000.\n",
      "\n"
     ]
    }
   ],
   "source": [
    "print(response['result'])"
   ]
  },
  {
   "cell_type": "code",
   "execution_count": null,
   "id": "eaa36da4",
   "metadata": {},
   "outputs": [
    {
     "data": {
      "text/plain": [
       "StringPromptValue(text='\\nYou are an expert AI car-buying assistant.\\n\\nYou will receive a knowledge base of vehicle listings in JSON format under Here are the cars listed under $25000:\\n\\n2024 Tesla Model 3 (Standard, used) is available at Ford Sunnyvale in Jonhaven, AR. It is a Sedan with Manual transmission, runs on Gasoline, and has 3,519 miles. The MSRP is $29,281 with a discount of $5,000, bringing the final price to $24,281.\\nFeatures include: Keyless Entry, Adaptive Cruise Control, Cooled Seats.\\nCurrent offers: Spartan Recovery Lync ($+999); GM Educator Offer ($-500); Purchase Allowance ($-500).\\nVIN: Z7U7Y1W1W3R2R0Y8K0R6T9W7A2G1E2 | Stock Number: FORD400\\nImage: https://example.com/images/tesla_model3.jpg\\n\\n2024 Tesla Model 3 (Standard, new) is available at Ford Sunnyvale in Lake Jonathan, PA. It is a Sedan with CVT transmission, runs on Diesel, and has 10 miles. The MSRP is $28,425 with a discount of $1,000, bringing the final price to $27,425.\\nFeatures include: Power Tailgate/Liftgate, Auto Dimming Mirror, 4WD/AWD, Bluetooth, Super Cruise, Cooled Seats.\\nCurrent offers: Finance Cash ($-1,000).\\nVIN: B7J4F0Z1E0V5T7X3H4R7S8U0F1J7E2 | Stock Number: FORD305\\nImage: https://example.com/images/tesla_model3.jpg\\n\\n2023 Acura Integra (Type S, new) is available at Tesla San Jose in Michaelview, PR. It is a Sedan with Dual-Clutch transmission, runs on Electric, and has 10 miles. The MSRP is $30,255 with a discount of $5,000, bringing the final price to $25,255.\\nFeatures include: Auto Dimming Mirror, Android Auto, 4WD/AWD, Apple CarPlay, Adaptive Cruise Control.\\nCurrent offers: Finance Cash ($-1,000); GM Educator Offer ($-500).\\nVIN: N0E8H5U6X2A1A7K3D1Z7P2N7G6D4P0 | Stock Number: TESL264\\nImage: https://example.com/images/acura_integra.jpg\\n\\n2023 Ford Mustang (Dark Horse, certified) is available at Ford Sunnyvale in West Joshuaton, VA. It is a Hatchback with Dual-Clutch transmission, runs on Gasoline, and has 40,144 miles. The MSRP is $28,493 with a discount of $5,000, bringing the final price to $23,493.\\nFeatures include: Android Auto, Bluetooth, 4WD/AWD, Auto Dimming Mirror, Super Cruise.\\nCurrent offers: Purchase Allowance for Current Eligible Non-GM Owners and Lessees ($-2,000); Spartan Recovery Lync ($+999); Finance Cash ($-1,000).\\nVIN: E4D1T1N0H1J8X8N1E6T6G4C0T1T7K7 | Stock Number: FORD421\\nImage: https://example.com/images/ford_mustang.jpg\\n\\n2025 Tesla Model 3 (Performance, new) is available at Concord Acura in Stewartberg, SC. It is a Truck with Automatic transmission, runs on Hybrid, and has 10 miles. The MSRP is $25,104 with a discount of $2,000, bringing the final price to $23,104.\\nFeatures include: 4WD/AWD, Power Tailgate/Liftgate, Auto Dimming Mirror.\\nCurrent offers: GM Educator Offer ($-500); Purchase Allowance ($-500).\\nVIN: Y2B1T3P4R0V6E0L5R8C3Z2M5C0A0F5 | Stock Number: CONC266\\nImage: https://example.com/images/tesla_model3.jpg\\n.\\nEach vehicle contains keys like:\\n- make, model, year, price, msrp, discount, fuel_type, body_style, condition, mileage, dealer\\n\\nUser question: I want a car under $25000\\n\\nGuidelines:\\n1. ONLY use information present in the context. Do not fabricate or guess.\\n2. If user asks about prices, always calculate the **final price = price - discount** (assume both are in USD).\\n3. If no vehicle matches the user\\'s criteria, respond politely with: \"Sorry, I couldn’t find any vehicles matching your criteria.\"\\n4. If vehicles match, show up to **2 best suggestions**, along with key details: make, model, year, final price, discount, and dealer.\\n5. Be concise, friendly, and factual.\\n\\nNow based on the context and question, provide the best response:\\n')"
      ]
     },
     "execution_count": 45,
     "metadata": {},
     "output_type": "execute_result"
    }
   ],
   "source": [
    "from langchain_core.prompts import PromptTemplate\n",
    "\n",
    "prompt_template = \"\"\"\n",
    "You are an expert AI car-buying assistant.\n",
    "\n",
    "Below is a list of vehicle listings:\n",
    "{context}\n",
    "\n",
    "User question: {question}\n",
    "\n",
    "Guidelines:\n",
    "1. ONLY use information present in the context. Do not fabricate or guess.\n",
    "2. If user asks about prices, calculate final price = msrp - discount (in USD).\n",
    "3. If no vehicle matches, say: \"Sorry, I couldn’t find any vehicles matching your criteria.\"\n",
    "4. If vehicles match, show up to 2 suggestions with: make, model, year, final price, discount, dealer.\n",
    "5. Be concise, friendly, and factual.\n",
    "\n",
    "Answer:\n",
    "\"\"\"\n",
    "\n",
    "prompt = PromptTemplate(\n",
    "    input_variables=[\"context\", \"question\"],\n",
    "    template=prompt_template\n",
    ")\n",
    "\n",
    "messages = prompt.invoke({\"question\": user_input, \"context\": response['result']})\n",
    "messages"
   ]
  },
  {
   "cell_type": "code",
   "execution_count": 46,
   "id": "30334b04",
   "metadata": {},
   "outputs": [
    {
     "data": {
      "text/plain": [
       "AIMessage(content='Here are two cars under $25000 that you might like:\\n\\n1.  **2023 Ford Mustang (Dark Horse, certified)**: This Hatchback is available at Ford Sunnyvale in West Joshuaton, VA. It has 40,144 miles, runs on Gasoline, and has a final price of $23,493 after a $5,000 discount.\\n2.  **2025 Tesla Model 3 (Performance, new)**: This Truck is available at Concord Acura in Stewartberg, SC. It has 10 miles, runs on Hybrid, and has a final price of $23,104 after a $2,000 discount.\\n', additional_kwargs={}, response_metadata={'prompt_feedback': {'block_reason': 0, 'safety_ratings': []}, 'finish_reason': 'STOP', 'safety_ratings': []}, id='run--0c85c078-864f-4bdc-97b2-e28605fc0268-0', usage_metadata={'input_tokens': 1178, 'output_tokens': 156, 'total_tokens': 1334, 'input_token_details': {'cache_read': 0}})"
      ]
     },
     "execution_count": 46,
     "metadata": {},
     "output_type": "execute_result"
    }
   ],
   "source": [
    "output = llm.invoke(messages)\n",
    "output"
   ]
  },
  {
   "cell_type": "code",
   "execution_count": 48,
   "id": "4ae9b7c3",
   "metadata": {},
   "outputs": [
    {
     "name": "stdout",
     "output_type": "stream",
     "text": [
      "Here are two cars under $25000 that you might like:\n",
      "\n",
      "1.  **2023 Ford Mustang (Dark Horse, certified)**: This Hatchback is available at Ford Sunnyvale in West Joshuaton, VA. It has 40,144 miles, runs on Gasoline, and has a final price of $23,493 after a $5,000 discount.\n",
      "2.  **2025 Tesla Model 3 (Performance, new)**: This Truck is available at Concord Acura in Stewartberg, SC. It has 10 miles, runs on Hybrid, and has a final price of $23,104 after a $2,000 discount.\n",
      "\n"
     ]
    }
   ],
   "source": [
    "print(output.content)"
   ]
  },
  {
   "cell_type": "code",
   "execution_count": 4,
   "id": "d6fb1d70",
   "metadata": {},
   "outputs": [],
   "source": [
    "from langchain.memory import (\n",
    "    ChatMessageHistory,\n",
    "    ConversationBufferMemory,\n",
    "\n",
    ")\n",
    "from langchain.chains import ConversationalRetrievalChain, LLMChain\n",
    "from langchain.chains.conversational_retrieval.prompts import QA_PROMPT"
   ]
  },
  {
   "cell_type": "code",
   "execution_count": null,
   "id": "9974e4b7",
   "metadata": {},
   "outputs": [],
   "source": [
    "retriever = vectorstore.as_retriever(search_kwargs={\"k\": 2})\n",
    "message_history = ChatMessageHistory()\n",
    "chat_memory = ConversationBufferMemory(\n",
    "    memory_key=\"chat_history\",\n",
    "    output_key=\"answer\",\n",
    "    chat_memory=message_history,\n",
    "    return_messages=True\n",
    ")\n"
   ]
  },
  {
   "cell_type": "markdown",
   "id": "cb3bb2c0",
   "metadata": {},
   "source": [
    "# Using Langgraph"
   ]
  },
  {
   "cell_type": "code",
   "execution_count": 1,
   "id": "d654b3c4",
   "metadata": {},
   "outputs": [],
   "source": [
    "from langgraph.graph import START, StateGraph\n",
    "from typing_extensions import List, TypedDict, Tuple\n",
    "from langchain_core.documents import Document"
   ]
  },
  {
   "cell_type": "code",
   "execution_count": 10,
   "id": "25ce81e0",
   "metadata": {},
   "outputs": [],
   "source": [
    "from langchain_core.prompts import PromptTemplate\n",
    "\n",
    "prompt_template = \"\"\"\n",
    "You are an expert AI car-buying assistant.\n",
    "\n",
    "Below is the prior conversation history between you and the user:\n",
    "{chat_history}\n",
    "\n",
    "Below is a list of vehicle listings:  \n",
    "{context}\n",
    "\n",
    "User question: {question}\n",
    "\n",
    "Guidelines:\n",
    "1. ONLY use information present in the context. Do not fabricate or guess.\n",
    "2. If user asks about prices, calculate final price = msrp - discount (in USD).\n",
    "3. If no vehicle matches, say: \"Sorry, I couldn’t find any vehicles matching your criteria.\"\n",
    "4. If vehicles match, show up to 2 suggestions with: make, model, year, final price, discount, dealer.\n",
    "5. Be concise, friendly, and factual.\n",
    "\n",
    "Now based on the context and question, provide the best response:\n",
    "\"\"\"\n",
    "\n",
    "prompt = PromptTemplate(\n",
    "    input_variables=[\"context\", \"question\", \"chat_history\"],\n",
    "    template=prompt_template\n",
    ")\n"
   ]
  },
  {
   "cell_type": "code",
   "execution_count": null,
   "id": "15d4957f",
   "metadata": {},
   "outputs": [],
   "source": [
    "# from langchain.retrievers import BM25Retriever, EnsembleRetriever\n",
    "# dense_retriever = vectorstore.as_retriever()\n",
    "\n",
    "# # === Step 3: Build BM25 Sparse Retriever ===\n",
    "# sparse_retriever = BM25Retriever.from_documents(docs)\n",
    "# sparse_retriever.k = 5  # top K matches\n",
    "\n",
    "# # === Step 4: Hybrid Retriever ===\n",
    "# hybrid_retriever = EnsembleRetriever(\n",
    "#     retrievers=[dense_retriever, sparse_retriever],\n",
    "#     weights=[0.6, 0.4]  # Tune weights as needed\n",
    "# )"
   ]
  },
  {
   "cell_type": "code",
   "execution_count": 24,
   "id": "713230be",
   "metadata": {},
   "outputs": [],
   "source": [
    "\n",
    "# memory = ConversationBufferMemory(return_messages=True)\n",
    "\n",
    "# qa_chain = ConversationalRetrievalChain.from_llm(\n",
    "#     llm, retriever=vectorstore.as_retriever(), memory=memory\n",
    "# )\n",
    "# result = qa_chain.invoke({\"question\": user_input, \"chat_history\": []})\n",
    "# print({\n",
    "#     \"answer\": result[\"answer\"],\n",
    "#     \"context\": result[\"source_documents\"],\n",
    "#     \"chat_history\": memory.chat_memory.messages  # OR sync to state if needed\n",
    "# })"
   ]
  },
  {
   "cell_type": "code",
   "execution_count": 2,
   "id": "3df2ee8e",
   "metadata": {},
   "outputs": [],
   "source": [
    "class State(TypedDict):\n",
    "    question: str\n",
    "    context: List[Document]\n",
    "    answer: str\n",
    "    chat_history: List[Tuple[str, str]]\n",
    "\n",
    "\n",
    "\n",
    "def retrieve(state: State):\n",
    "    # retrived_docs = vectorstore.similarity_search(state['question'], search_kwargs={\"k\": 5})\n",
    "    # retrived_docs = hybrid_retriever.get_relevant_documents(state['question'])\n",
    "    qa_chain = RetrievalQA.from_chain_type(\n",
    "        llm=llm,\n",
    "        retriever=vectorstore.as_retriever(search_type=\"similarity\", search_kwargs={\"k\": 5}),\n",
    "        return_source_documents=True\n",
    "    )\n",
    "    response = qa_chain.invoke(state['question'])\n",
    "    return {\"context\": response['result']}\n",
    "\n",
    "def generate(state: State):\n",
    "    # docs_content = \"\\n\\n\".join(doc.page_content for doc in state['context'])\n",
    "    history_str = '\\n'.join([f\"User: {q}\\nAssistant: {a}\" for q, a in state.get(\"chat_history\", [])])\n",
    "    messages = prompt.invoke(\n",
    "        {\n",
    "            \"question\": state[\"question\"],\n",
    "            \"context\": state['context'],\n",
    "            \"chat_history\": history_str\n",
    "        }\n",
    "    )\n",
    "    response = llm.invoke(messages)\n",
    "\n",
    "    chat_history = state.get(\"chat_history\", [])\n",
    "    chat_history.append((state[\"question\"], response.content))\n",
    "    return {\"answer\": response.content}\n",
    "\n",
    "\n",
    "graph_builder = StateGraph(State).add_sequence([retrieve, generate])\n",
    "graph_builder.add_edge(START, \"retrieve\")\n",
    "graph = graph_builder.compile()"
   ]
  },
  {
   "cell_type": "code",
   "execution_count": 3,
   "id": "47553c96",
   "metadata": {},
   "outputs": [
    {
     "data": {
      "image/png": "[encoded data removed]",
      "text/plain": [
       "<langgraph.graph.state.CompiledStateGraph object at 0x000001C6482C7080>"
      ]
     },
     "execution_count": 3,
     "metadata": {},
     "output_type": "execute_result"
    }
   ],
   "source": [
    "graph"
   ]
  },
  {
   "cell_type": "code",
   "execution_count": 16,
   "id": "68579731",
   "metadata": {},
   "outputs": [
    {
     "name": "stdout",
     "output_type": "stream",
     "text": [
      "Here are a couple of cars under $25K that you might like:\n",
      "\n",
      "*   2024 Tesla Model 3 (Standard, certified) is available at Ford Sunnyvale and costs $24,281.\n",
      "*   2024 Chevrolet Tahoe (LT, certified) is available at Bay Area Honda and costs $22,721.\n",
      "\n"
     ]
    }
   ],
   "source": [
    "user_input = \"I want a car under $25K\"\n",
    "response = graph.invoke({\"question\": user_input})\n",
    "print(response['answer'])"
   ]
  },
  {
   "cell_type": "code",
   "execution_count": 21,
   "id": "3615b4d7",
   "metadata": {},
   "outputs": [
    {
     "data": {
      "text/plain": [
       "{'question': 'I want a car under $25K',\n",
       " 'context': 'Here are the cars listed under $25K:\\n\\n2025 Ford Mustang (Dark Horse, certified) is available at Tesla San Jose in Gregorymouth, CT. It is a Truck with Manual transmission, runs on Hybrid, and has 3,832 miles. The final price is $25,180.\\n\\n2024 Tesla Model 3 (Standard, certified) is available at Ford Sunnyvale in Jonhaven, AR. It is a Sedan with Manual transmission, runs on Gasoline, and has 3,519 miles. The final price is $24,281.\\n\\n2023 Acura Integra (Type S, new) is available at Tesla San Jose in Michaelview, PR. It is a Sedan with Dual-Clutch transmission, runs on Electric, and has 10 miles. The final price is $25,255.\\n\\n2024 Chevrolet Tahoe (LT, certified) is available at Bay Area Honda in Joestad, ID. It is a Coupe with Automatic transmission, runs on Hybrid, and has 42,112 miles. The final price is $22,721.\\n\\n2025 Tesla Model 3 (Performance, new) is available at Concord Acura in Stewartberg, SC. It is a Truck with Automatic transmission, runs on Hybrid, and has 10 miles. The final price is $23,104.\\n\\n2025 Hyundai Elantra (N Line, certified) is available at Ford Sunnyvale in South Ericfurt, CT. It is a Coupe with Manual transmission, runs on Electric, and has 7,719 miles. The final price is $22,568.\\n\\n2023 Honda Civic (EX, certified) is available at Bay Area Honda in Christensenland, TN. It is a Coupe with CVT transmission, runs on Diesel, and has 4,908 miles. The final price is $26,100.\\n\\n2024 BMW X5 (xDrive40i, used) is available at BMW of Fremont in South Robin, AZ. It is a Coupe with Automatic transmission, runs on Diesel, and has 10,455 miles. The final price is $23,274.\\n\\n2023 Acura Integra (Type S, used) is available at BMW of Fremont in Youngtown, VT. It is a Coupe with Dual-Clutch transmission, runs on Hybrid, and has 8,871 miles. The final price is $26,224.\\n\\n2023 Chevrolet Tahoe (Premier, new) is available at Concord Acura in West Mitchellton, RI. It is a SUV with Automatic transmission, runs on Gasoline, and has 10 miles. The final price is $23,295.\\n\\n2024 Honda Civic (Si, used) is available at Bay Area Honda in East Katie, MT. It is a Hatchback with Manual transmission, runs on Diesel, and has 45,419 miles. The final price is $27,678.\\n\\n2023 Ford Mustang (Dark Horse, new) is available at BMW of Fremont in Stevensonview, NH. It is a Sedan with Automatic transmission, runs on Diesel, and has 10 miles. The final price is $26,741.\\n\\n2024 Tesla Model 3 (Standard, new) is available at Ford Sunnyvale in Lake Jonathan, PA. It is a Sedan with CVT transmission, runs on Diesel, and has 10 miles. The final price is $27,425.\\n\\n2024 Honda Civic (EX, used) is available at Tesla San Jose in North Lisachester, IL. It is a Coupe with CVT transmission, runs on Diesel, and has 30,869 miles. The final price is $25,521.\\n',\n",
       " 'answer': 'Here are a couple of cars under $25K that you might like:\\n\\n*   2024 Tesla Model 3 (Standard, certified) is available at Ford Sunnyvale and costs $24,281.\\n*   2024 Chevrolet Tahoe (LT, certified) is available at Bay Area Honda and costs $22,721.\\n'}"
      ]
     },
     "execution_count": 21,
     "metadata": {},
     "output_type": "execute_result"
    }
   ],
   "source": [
    "response"
   ]
  },
  {
   "cell_type": "code",
   "execution_count": 23,
   "id": "bb0ffdb1",
   "metadata": {},
   "outputs": [
    {
     "name": "stdout",
     "output_type": "stream",
     "text": [
      "Here are the cars listed under $25K:\n",
      "\n",
      "2025 Ford Mustang (Dark Horse, certified) is available at Tesla San Jose in Gregorymouth, CT. It is a Truck with Manual transmission, runs on Hybrid, and has 3,832 miles. The final price is $25,180.\n",
      "\n",
      "2024 Tesla Model 3 (Standard, certified) is available at Ford Sunnyvale in Jonhaven, AR. It is a Sedan with Manual transmission, runs on Gasoline, and has 3,519 miles. The final price is $24,281.\n",
      "\n",
      "2023 Acura Integra (Type S, new) is available at Tesla San Jose in Michaelview, PR. It is a Sedan with Dual-Clutch transmission, runs on Electric, and has 10 miles. The final price is $25,255.\n",
      "\n",
      "2024 Chevrolet Tahoe (LT, certified) is available at Bay Area Honda in Joestad, ID. It is a Coupe with Automatic transmission, runs on Hybrid, and has 42,112 miles. The final price is $22,721.\n",
      "\n",
      "2025 Tesla Model 3 (Performance, new) is available at Concord Acura in Stewartberg, SC. It is a Truck with Automatic transmission, runs on Hybrid, and has 10 miles. The final price is $23,104.\n",
      "\n",
      "2025 Hyundai Elantra (N Line, certified) is available at Ford Sunnyvale in South Ericfurt, CT. It is a Coupe with Manual transmission, runs on Electric, and has 7,719 miles. The final price is $22,568.\n",
      "\n",
      "2023 Honda Civic (EX, certified) is available at Bay Area Honda in Christensenland, TN. It is a Coupe with CVT transmission, runs on Diesel, and has 4,908 miles. The final price is $26,100.\n",
      "\n",
      "2024 BMW X5 (xDrive40i, used) is available at BMW of Fremont in South Robin, AZ. It is a Coupe with Automatic transmission, runs on Diesel, and has 10,455 miles. The final price is $23,274.\n",
      "\n",
      "2023 Acura Integra (Type S, used) is available at BMW of Fremont in Youngtown, VT. It is a Coupe with Dual-Clutch transmission, runs on Hybrid, and has 8,871 miles. The final price is $26,224.\n",
      "\n",
      "2023 Chevrolet Tahoe (Premier, new) is available at Concord Acura in West Mitchellton, RI. It is a SUV with Automatic transmission, runs on Gasoline, and has 10 miles. The final price is $23,295.\n",
      "\n",
      "2024 Honda Civic (Si, used) is available at Bay Area Honda in East Katie, MT. It is a Hatchback with Manual transmission, runs on Diesel, and has 45,419 miles. The final price is $27,678.\n",
      "\n",
      "2023 Ford Mustang (Dark Horse, new) is available at BMW of Fremont in Stevensonview, NH. It is a Sedan with Automatic transmission, runs on Diesel, and has 10 miles. The final price is $26,741.\n",
      "\n",
      "2024 Tesla Model 3 (Standard, new) is available at Ford Sunnyvale in Lake Jonathan, PA. It is a Sedan with CVT transmission, runs on Diesel, and has 10 miles. The final price is $27,425.\n",
      "\n",
      "2024 Honda Civic (EX, used) is available at Tesla San Jose in North Lisachester, IL. It is a Coupe with CVT transmission, runs on Diesel, and has 30,869 miles. The final price is $25,521.\n",
      "\n"
     ]
    }
   ],
   "source": [
    "print(response['context'])"
   ]
  },
  {
   "cell_type": "code",
   "execution_count": null,
   "id": "1418b159",
   "metadata": {},
   "outputs": [],
   "source": []
  }
 ],
 "metadata": {
  "kernelspec": {
   "display_name": "loan-pred",
   "language": "python",
   "name": "python3"
  },
  "language_info": {
   "codemirror_mode": {
    "name": "ipython",
    "version": 3
   },
   "file_extension": ".py",
   "mimetype": "text/x-python",
   "name": "python",
   "nbconvert_exporter": "python",
   "pygments_lexer": "ipython3",
   "version": "3.12.6"
  }
 },
 "nbformat": 4,
 "nbformat_minor": 5
}
