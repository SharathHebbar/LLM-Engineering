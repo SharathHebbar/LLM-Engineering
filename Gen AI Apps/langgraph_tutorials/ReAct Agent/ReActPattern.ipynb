{
 "cells": [
  {
   "cell_type": "markdown",
   "id": "9db423b2",
   "metadata": {},
   "source": [
    "# Importing Libraries"
   ]
  },
  {
   "cell_type": "code",
   "execution_count": 30,
   "id": "a80b37a5",
   "metadata": {},
   "outputs": [
    {
     "data": {
      "text/plain": [
       "ChatGroq(client=<groq.resources.chat.completions.Completions object at 0x000001B80903E120>, async_client=<groq.resources.chat.completions.AsyncCompletions object at 0x000001B809C9C830>, model_name='openai/gpt-oss-20b', model_kwargs={}, groq_api_key=SecretStr('**********'))"
      ]
     },
     "execution_count": 30,
     "metadata": {},
     "output_type": "execute_result"
    }
   ],
   "source": [
    "import os\n",
    "from dotenv import load_dotenv\n",
    "from langchain_groq import ChatGroq\n",
    "\n",
    "load_dotenv()\n",
    "\n",
    "GROQ_API_KEY = os.getenv(\"GROQ_API_KEY\")\n",
    "TAVILY_API_KEY = os.getenv(\"TAVILY_API_KEY\")\n",
    "os.environ[\"TAVILY_API_KEY\"] = os.getenv(\"TAVILY_API_KEY\")\n",
    "llm = ChatGroq(model=\"openai/gpt-oss-20b\", groq_api_key=GROQ_API_KEY)\n",
    "llm"
   ]
  },
  {
   "cell_type": "markdown",
   "id": "bdf5cdf4",
   "metadata": {},
   "source": [
    "# Tools"
   ]
  },
  {
   "cell_type": "code",
   "execution_count": 4,
   "id": "b6fdd4aa",
   "metadata": {},
   "outputs": [],
   "source": [
    "def multiply(a:int, b:int) -> int:\n",
    "    \"\"\"\n",
    "    Multiply a and b.\n",
    "    Args:\n",
    "        a: int\n",
    "        b: int\n",
    "    \"\"\"\n",
    "    return a *  b\n",
    "\n",
    "def add(a:int, b:int) -> int:\n",
    "    \"\"\"\n",
    "    Adds a and b.\n",
    "    Args:\n",
    "        a: int\n",
    "        b: int\n",
    "    \"\"\"\n",
    "    return a + b\n",
    "\n",
    "def divide(a:int, b:int) -> int:\n",
    "    \"\"\"\n",
    "    Divides a and b.\n",
    "    Args:\n",
    "        a: int\n",
    "        b: int\n",
    "    \"\"\"\n",
    "    return a / b\n"
   ]
  },
  {
   "cell_type": "code",
   "execution_count": 20,
   "id": "049a19b5",
   "metadata": {},
   "outputs": [
    {
     "data": {
      "text/plain": [
       "[{'title': 'Brad Pitt - Simple English Wikipedia, the free encyclopedia',\n",
       "  'url': 'https://simple.wikipedia.org/wiki/Brad_Pitt',\n",
       "  'content': '| Brad Pitt - Hollywood California - July 2019 |\\n| Born | William Bradley Pitt  (1963-12-18) December 18, 1963 (age 61) Shawnee, Oklahoma, USA |\\n| Occupations |  Actor  movie producer |\\n| Years active | 1987–present |\\n| Spouse(s) | Jennifer Aniston  \\u200b  \\u200b (m. 2000; div. 2005)\\u200b  Angelina Jolie  \\u200b  \\u200b (m. 2014; div. 2019)\\u200b |\\n| Children | 6 |\\n\\nWilliam Bradley \"Brad\" Pitt (born December 18, 1963) is an Academy Award-winning American actor and Movie producer.\\n\\n## Early life\\n\\n[change | change source]',\n",
       "  'score': 0.89545894}]"
      ]
     },
     "execution_count": 20,
     "metadata": {},
     "output_type": "execute_result"
    }
   ],
   "source": [
    "from langchain_community.tools import TavilySearchResults\n",
    "\n",
    "search = TavilySearchResults(\n",
    "    max_results=1,\n",
    "    topic=\"general\"\n",
    ")\n",
    "res = search.invoke({\"query\": \"How old is Brad Pitt?\"})\n",
    "res"
   ]
  },
  {
   "cell_type": "code",
   "execution_count": 23,
   "id": "e4cea3c1",
   "metadata": {},
   "outputs": [],
   "source": [
    "def get_search_results(query: str):\n",
    "    \"\"\"\n",
    "    Searches internet based on the query\n",
    "    Args:\n",
    "        query: str\n",
    "    \"\"\"\n",
    "\n",
    "    res = search.invoke({\"query\": query})\n",
    "    if res[0]['score'] > 0.7:\n",
    "        return res[0]['content']\n",
    "    return \"Could not find the search result\"\n"
   ]
  },
  {
   "cell_type": "code",
   "execution_count": 31,
   "id": "6f7ddf2a",
   "metadata": {},
   "outputs": [],
   "source": [
    "tools = [add, multiply, divide, get_search_results]\n",
    "\n",
    "llm_with_tools = llm.bind_tools(tools)\n"
   ]
  },
  {
   "cell_type": "code",
   "execution_count": 25,
   "id": "73b4838e",
   "metadata": {},
   "outputs": [],
   "source": [
    "from langgraph.graph import MessagesState\n",
    "from langchain_core.messages import HumanMessage, SystemMessage\n",
    "\n",
    "sys_msg = SystemMessage(\n",
    "    content=\"You are a helpful assistant tasked with using search and performing arithmetic on a set of inputs.\"\n",
    ")"
   ]
  },
  {
   "cell_type": "markdown",
   "id": "f6d76d2a",
   "metadata": {},
   "source": [
    "# Node"
   ]
  },
  {
   "cell_type": "code",
   "execution_count": 32,
   "id": "9f142471",
   "metadata": {},
   "outputs": [],
   "source": [
    "def reasoner(state: MessagesState):\n",
    "    return {\n",
    "        \"messages\": [\n",
    "            llm_with_tools.invoke([sys_msg] + state['messages'])\n",
    "        ]\n",
    "    }"
   ]
  },
  {
   "cell_type": "markdown",
   "id": "d41bfdf5",
   "metadata": {},
   "source": [
    "# Graph"
   ]
  },
  {
   "cell_type": "code",
   "execution_count": 33,
   "id": "94a4f889",
   "metadata": {},
   "outputs": [
    {
     "data": {
      "image/png": "[encoded data removed]",
      "text/plain": [
       "<langgraph.graph.state.CompiledStateGraph object at 0x000001B806EA0C80>"
      ]
     },
     "execution_count": 33,
     "metadata": {},
     "output_type": "execute_result"
    }
   ],
   "source": [
    "from langgraph.graph import START, StateGraph\n",
    "from langgraph.prebuilt import tools_condition\n",
    "from langgraph.prebuilt import ToolNode\n",
    "\n",
    "workflow = StateGraph(MessagesState)\n",
    "workflow.add_node(\"reasoner\", reasoner)\n",
    "workflow.add_node(\"tools\", ToolNode(tools))\n",
    "\n",
    "\n",
    "workflow.add_edge(START, \"reasoner\")\n",
    "workflow.add_conditional_edges(\n",
    "    \"reasoner\",\n",
    "    tools_condition\n",
    ")\n",
    "workflow.add_edge(\"tools\", \"reasoner\")\n",
    "graph = workflow.compile()\n",
    "\n",
    "graph"
   ]
  },
  {
   "cell_type": "code",
   "execution_count": 34,
   "id": "3a8a9379",
   "metadata": {},
   "outputs": [],
   "source": [
    "messages = [HumanMessage(content=\"What is 2 times Brad Pitt's age?\")]\n",
    "messages = graph.invoke({\"messages\": messages})"
   ]
  },
  {
   "cell_type": "code",
   "execution_count": 35,
   "id": "396d8edd",
   "metadata": {},
   "outputs": [
    {
     "name": "stdout",
     "output_type": "stream",
     "text": [
      "================================\u001b[1m Human Message \u001b[0m=================================\n",
      "\n",
      "What is 2 times Brad Pitt's age?\n",
      "==================================\u001b[1m Ai Message \u001b[0m==================================\n",
      "Tool Calls:\n",
      "  get_search_results (fc_63548d4f-817c-4be4-93a5-576097f5548c)\n",
      " Call ID: fc_63548d4f-817c-4be4-93a5-576097f5548c\n",
      "  Args:\n",
      "    query: Brad Pitt age 2025\n",
      "=================================\u001b[1m Tool Message \u001b[0m=================================\n",
      "Name: get_search_results\n",
      "\n",
      "Image 6: GenAI Banner/content/learnings/assets/genai-banner.webp)\n",
      "His long-lasting potential proves nothing matters - especially age - if you combine discipline and passion.\n",
      "\n",
      "Source(Image / Thumbnail):People\n",
      "\n",
      "###### Source:\n",
      "\n",
      "   \n",
      "   \n",
      "\n",
      "FAQ\n",
      "\n",
      "### What is Brad Pitt's exact age in 2025?\n",
      "\n",
      "Brad Pitt will turn 62 years old on December 18, 2025.\n",
      "\n",
      "### Has Brad Pitt won an Oscar?\n",
      "\n",
      "Yes, he won the Academy Award for Best Supporting Actor in 2020 for _Once Upon a Time in Hollywood_. [...] Newsletter\n",
      "\n",
      "Image 5: wave\n",
      "\n",
      "Join 3.5 Lakh subscribers!Sign Up Your email is safe with us, we don't spam.\n",
      "\n",
      "Brad Pitt is one of the most recognizable and admired actors in Hollywood. While this was no surprise in light of his charm, style, and talent on screen, some people may be surprised to learn his true age. Brad Pitt was born on December 18, 1963. Since this was in 1963, it means that in 2024, Brad Pitt will be 61 years old. [...] Brad Pitt, now in his 60s, still shows no signs of aging. Fans wonder how he continues to look fresh faced and he has never indicated is having undergone cosmetic surgery, although he may have good genes as his Nuclear Blu light therapy is used to manufacture his youthful appearance.\n",
      "==================================\u001b[1m Ai Message \u001b[0m==================================\n",
      "\n",
      "Brad Pitt was born on December 18, 1963, so as of today (2025‑09‑29) he is **61 years old**.  \n",
      "Two times his age is therefore:\n",
      "\n",
      "\\(2 \\times 61 = 122\\).\n",
      "\n",
      "So, 2 × Brad Pitt’s age equals **122**.\n"
     ]
    }
   ],
   "source": [
    "for m in messages['messages']:\n",
    "    m.pretty_print()"
   ]
  },
  {
   "cell_type": "markdown",
   "id": "8059534f",
   "metadata": {},
   "source": [
    "# Custom Tool"
   ]
  },
  {
   "cell_type": "code",
   "execution_count": 36,
   "id": "76f1ed49",
   "metadata": {},
   "outputs": [
    {
     "data": {
      "text/plain": [
       "255.46"
      ]
     },
     "execution_count": 36,
     "metadata": {},
     "output_type": "execute_result"
    }
   ],
   "source": [
    "import yfinance as yf\n",
    "\n",
    "\n",
    "def get_stock_price(ticker: str) -> float:\n",
    "    \"\"\"Gets a stock price from Yahoo Finance\n",
    "    Args:\n",
    "        ticker: ticker str\n",
    "    \"\"\"\n",
    "\n",
    "    stock = yf.Ticker(ticker)\n",
    "    return stock.info['previousClose']\n",
    "\n",
    "get_stock_price(\"AAPL\")"
   ]
  },
  {
   "cell_type": "code",
   "execution_count": 37,
   "id": "9ba25048",
   "metadata": {},
   "outputs": [],
   "source": [
    "def reasoner(state):\n",
    "    query = state['query']\n",
    "    messages = state['messages']\n",
    "    sys_msg = SystemMessage(\n",
    "        content=\"You are a helpful assistant tasked with using search, the \\\n",
    "            yahoo finance tools and performing arithmetic operations on a set of inputs.\"\n",
    "    )\n",
    "    message = HumanMessage(content=query)\n",
    "    messages.append(message)\n",
    "    result = [llm_with_tools.invoke([sys_msg] + messages)]\n",
    "    return {\"messages\": result}\n",
    "\n",
    "tools = [add, multiply, divide, get_search_results, get_stock_price]\n",
    "\n",
    "llm_with_tools = llm.bind_tools(tools)\n"
   ]
  },
  {
   "cell_type": "code",
   "execution_count": 38,
   "id": "9b2fc749",
   "metadata": {},
   "outputs": [
    {
     "data": {
      "text/plain": [
       "<function __main__.get_stock_price(ticker: str) -> float>"
      ]
     },
     "execution_count": 38,
     "metadata": {},
     "output_type": "execute_result"
    }
   ],
   "source": [
    "tools[4]"
   ]
  },
  {
   "cell_type": "code",
   "execution_count": 39,
   "id": "1d123d40",
   "metadata": {},
   "outputs": [],
   "source": [
    "from typing import Annotated, TypedDict\n",
    "import operator\n",
    "from langchain_core.messages import AnyMessage\n",
    "from langgraph.graph.message import add_messages\n",
    "\n",
    "\n",
    "class GraphState(TypedDict):\n",
    "    \"\"\"State of the graph\"\"\"\n",
    "    query: str\n",
    "    finance: str\n",
    "    final_answer: str\n",
    "    messages: Annotated[list[AnyMessage], operator.add]\n"
   ]
  },
  {
   "cell_type": "code",
   "execution_count": 41,
   "id": "e09a02de",
   "metadata": {},
   "outputs": [
    {
     "data": {
      "image/png": "[encoded data removed]",
      "text/plain": [
       "<langgraph.graph.state.CompiledStateGraph object at 0x000001B8092CCA70>"
      ]
     },
     "execution_count": 41,
     "metadata": {},
     "output_type": "execute_result"
    }
   ],
   "source": [
    "from langgraph.graph import StateGraph, START\n",
    "from langgraph.prebuilt import tools_condition, ToolNode\n",
    "\n",
    "workflow = StateGraph(GraphState)\n",
    "workflow.add_node(\"reasoner\", reasoner)\n",
    "workflow.add_node(\"tools\", ToolNode(tools))\n",
    "\n",
    "\n",
    "workflow.add_edge(START, \"reasoner\")\n",
    "workflow.add_conditional_edges(\"reasoner\", tools_condition) \n",
    "# If the latest message (result) from node reasoner is a tool call -> tools_condition routes to tools\n",
    "# If the latest message (result) from node reasoner is a not tool call -> tools_condition routes to END\n",
    "workflow.add_edge(\"tools\", \"reasoner\")\n",
    "graph = workflow.compile()\n",
    "graph"
   ]
  },
  {
   "cell_type": "code",
   "execution_count": 42,
   "id": "e7124853",
   "metadata": {},
   "outputs": [
    {
     "name": "stdout",
     "output_type": "stream",
     "text": [
      "==================================\u001b[1m Ai Message \u001b[0m==================================\n",
      "\n",
      "Brad Pitt was born on December 18, 1963.  \n",
      "- In 2024 he is 61 years old.  \n",
      "- He will turn 62 on December 18, 2025.\n",
      "\n",
      "So, depending on the exact date:\n",
      "\n",
      "| Date | Age | 2 × Age |\n",
      "|------|-----|---------|\n",
      "| Any time in 2024 (or before Dec 18, 2025) | 61 | **122** |\n",
      "| After Dec 18, 2025 | 62 | **124** |\n",
      "\n",
      "If you’re asking for the current year (2024), 2 × Brad Pitt’s age is **122**.\n"
     ]
    }
   ],
   "source": [
    "response = graph.invoke(\n",
    "    {\n",
    "        \"query\": \"What is 2 times Brad Pitt's age\",\n",
    "        \"messages\": []\n",
    "    }\n",
    ")\n",
    "response['messages'][-1].pretty_print()"
   ]
  },
  {
   "cell_type": "code",
   "execution_count": 43,
   "id": "2ab85431",
   "metadata": {},
   "outputs": [
    {
     "name": "stdout",
     "output_type": "stream",
     "text": [
      "================================\u001b[1m Human Message \u001b[0m=================================\n",
      "\n",
      "What is the stock price of Apple?\n",
      "==================================\u001b[1m Ai Message \u001b[0m==================================\n",
      "Tool Calls:\n",
      "  get_stock_price (fc_78f4dd90-8e30-4c0b-9ef8-dff7488e9247)\n",
      " Call ID: fc_78f4dd90-8e30-4c0b-9ef8-dff7488e9247\n",
      "  Args:\n",
      "    ticker: AAPL\n",
      "=================================\u001b[1m Tool Message \u001b[0m=================================\n",
      "Name: get_stock_price\n",
      "\n",
      "255.46\n",
      "================================\u001b[1m Human Message \u001b[0m=================================\n",
      "\n",
      "What is the stock price of Apple?\n",
      "==================================\u001b[1m Ai Message \u001b[0m==================================\n",
      "Tool Calls:\n",
      "  get_stock_price (fc_76f350e5-3b7c-4eb3-99ed-c5af82817bfb)\n",
      " Call ID: fc_76f350e5-3b7c-4eb3-99ed-c5af82817bfb\n",
      "  Args:\n",
      "    ticker: AAPL\n",
      "=================================\u001b[1m Tool Message \u001b[0m=================================\n",
      "Name: get_stock_price\n",
      "\n",
      "255.46\n",
      "================================\u001b[1m Human Message \u001b[0m=================================\n",
      "\n",
      "What is the stock price of Apple?\n",
      "==================================\u001b[1m Ai Message \u001b[0m==================================\n",
      "\n",
      "The current stock price of Apple (AAPL) is **$255.46**.\n"
     ]
    }
   ],
   "source": [
    "response = graph.invoke(\n",
    "    {\n",
    "        \"query\": \"What is the stock price of Apple?\",\n",
    "        \"messages\": []\n",
    "    }\n",
    ")\n",
    "for m in response['messages']:\n",
    "    m.pretty_print()"
   ]
  },
  {
   "cell_type": "code",
   "execution_count": 44,
   "id": "92298032",
   "metadata": {},
   "outputs": [
    {
     "name": "stdout",
     "output_type": "stream",
     "text": [
      "================================\u001b[1m Human Message \u001b[0m=================================\n",
      "\n",
      "What is the stock price of the company that Jensen Huang is CEO of?\n",
      "==================================\u001b[1m Ai Message \u001b[0m==================================\n",
      "Tool Calls:\n",
      "  get_stock_price (fc_a4e3ad9e-a28f-4bdb-837d-2c52a65a2e7e)\n",
      " Call ID: fc_a4e3ad9e-a28f-4bdb-837d-2c52a65a2e7e\n",
      "  Args:\n",
      "    ticker: NVDA\n",
      "=================================\u001b[1m Tool Message \u001b[0m=================================\n",
      "Name: get_stock_price\n",
      "\n",
      "178.19\n",
      "================================\u001b[1m Human Message \u001b[0m=================================\n",
      "\n",
      "What is the stock price of the company that Jensen Huang is CEO of?\n",
      "==================================\u001b[1m Ai Message \u001b[0m==================================\n",
      "\n",
      "The company Jensen Huang is CEO of is NVIDIA (ticker **NVDA**).  \n",
      "As of the most recent quote, its stock price is **$178.19** per share.\n"
     ]
    }
   ],
   "source": [
    "response = graph.invoke(\n",
    "    {\n",
    "        \"query\": \"What is the stock price of the company that Jensen Huang is CEO of?\",\n",
    "        \"messages\": []\n",
    "    }\n",
    ")\n",
    "for m in response['messages']:\n",
    "    m.pretty_print()"
   ]
  },
  {
   "cell_type": "code",
   "execution_count": 45,
   "id": "d7c7a106",
   "metadata": {},
   "outputs": [
    {
     "name": "stdout",
     "output_type": "stream",
     "text": [
      "================================\u001b[1m Human Message \u001b[0m=================================\n",
      "\n",
      "What is the price of nvidia stock if it doubles?\n",
      "==================================\u001b[1m Ai Message \u001b[0m==================================\n",
      "Tool Calls:\n",
      "  get_stock_price (fc_86c1dbd9-7d1d-41cd-8a99-4ae0525366c0)\n",
      " Call ID: fc_86c1dbd9-7d1d-41cd-8a99-4ae0525366c0\n",
      "  Args:\n",
      "    ticker: NVDA\n",
      "=================================\u001b[1m Tool Message \u001b[0m=================================\n",
      "Name: get_stock_price\n",
      "\n",
      "178.19\n",
      "================================\u001b[1m Human Message \u001b[0m=================================\n",
      "\n",
      "What is the price of nvidia stock if it doubles?\n",
      "==================================\u001b[1m Ai Message \u001b[0m==================================\n",
      "\n",
      "If NVIDIA’s stock price were to double from its current value of **$178.19**, it would be:\n",
      "\n",
      "**$178.19 × 2 = $356.38**\n"
     ]
    }
   ],
   "source": [
    "response = graph.invoke(\n",
    "    {\n",
    "        \"query\": \"What is the price of nvidia stock if it doubles?\",\n",
    "        \"messages\": []\n",
    "    }\n",
    ")\n",
    "for m in response['messages']:\n",
    "    m.pretty_print()"
   ]
  },
  {
   "cell_type": "code",
   "execution_count": null,
   "id": "72e9fa17",
   "metadata": {},
   "outputs": [],
   "source": []
  }
 ],
 "metadata": {
  "kernelspec": {
   "display_name": "loan-pred",
   "language": "python",
   "name": "python3"
  },
  "language_info": {
   "codemirror_mode": {
    "name": "ipython",
    "version": 3
   },
   "file_extension": ".py",
   "mimetype": "text/x-python",
   "name": "python",
   "nbconvert_exporter": "python",
   "pygments_lexer": "ipython3",
   "version": "3.12.6"
  }
 },
 "nbformat": 4,
 "nbformat_minor": 5
}
