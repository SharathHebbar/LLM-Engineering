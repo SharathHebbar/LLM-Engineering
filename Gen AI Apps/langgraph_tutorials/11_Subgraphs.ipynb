{
 "cells": [
  {
   "cell_type": "markdown",
   "id": "9e4107eb",
   "metadata": {},
   "source": [
    "# Importing Libraries"
   ]
  },
  {
   "cell_type": "code",
   "execution_count": 1,
   "id": "1fb6dd6d",
   "metadata": {},
   "outputs": [
    {
     "name": "stdout",
     "output_type": "stream",
     "text": [
      "WARNING:tensorflow:From c:\\sharath\\Github\\Projects\\Loan prediction\\loan-pred\\.venv\\Lib\\site-packages\\tf_keras\\src\\losses.py:2976: The name tf.losses.sparse_softmax_cross_entropy is deprecated. Please use tf.compat.v1.losses.sparse_softmax_cross_entropy instead.\n",
      "\n"
     ]
    }
   ],
   "source": [
    "import os\n",
    "import warnings\n",
    "from dotenv import load_dotenv\n",
    "from langchain_groq import ChatGroq\n",
    "from langchain_huggingface.embeddings import HuggingFaceEmbeddings\n",
    "from langchain_community.vectorstores import Chroma\n",
    "\n",
    "warnings.filterwarnings(\"ignore\")\n",
    "\n",
    "load_dotenv()\n",
    "\n",
    "GROQ_API_KEY = os.getenv(\"GROQ_API_KEY\")\n",
    "model_name = \"deepseek-r1-distill-llama-70b\"\n",
    "# emb_model = \"togethercomputer/m2-bert-80M-32k-retrieval\"\n",
    "emb_model = \"sentence-transformers/all-mpnet-base-v2\"\n",
    "embedding_function = HuggingFaceEmbeddings(model_name=emb_model)\n",
    "\n",
    "llm = ChatGroq(\n",
    "    groq_api_key=GROQ_API_KEY,\n",
    "    model=model_name,\n",
    ")"
   ]
  },
  {
   "cell_type": "code",
   "execution_count": 3,
   "id": "45719bbf",
   "metadata": {},
   "outputs": [
    {
     "data": {
      "text/plain": [
       "RunnableBinding(bound=ChatGroq(client=<groq.resources.chat.completions.Completions object at 0x000002B14F318170>, async_client=<groq.resources.chat.completions.AsyncCompletions object at 0x000002B14F31B560>, model_name='deepseek-r1-distill-llama-70b', model_kwargs={}, groq_api_key=SecretStr('**********')), kwargs={'tools': [{'type': 'function', 'function': {'name': 'get_weather', 'description': 'Call to get the current weather', 'parameters': {'properties': {'location': {'type': 'string'}}, 'required': ['location'], 'type': 'object'}}}]}, config={}, config_factories=[])"
      ]
     },
     "execution_count": 3,
     "metadata": {},
     "output_type": "execute_result"
    }
   ],
   "source": [
    "from typing import Literal, Optional\n",
    "\n",
    "from langchain_core.messages import HumanMessage\n",
    "from langgraph.graph import START, END, StateGraph, MessagesState\n",
    "from langchain_core.tools import tool\n",
    "from langgraph.prebuilt import ToolNode\n",
    "\n",
    "\n",
    "@tool\n",
    "def get_weather(location: str):\n",
    "    \"\"\"Call to get the current weather\"\"\"\n",
    "    if location.lower() in ['bengaluru']:\n",
    "        return \"It is 15 deg C and cloudy\"\n",
    "    return \"It is 32 deg C and sunny.\"\n",
    "\n",
    "\n",
    "tools = [get_weather]\n",
    "\n",
    "model = llm.bind_tools(tools)\n",
    "model"
   ]
  },
  {
   "cell_type": "code",
   "execution_count": 5,
   "id": "bfde805a",
   "metadata": {},
   "outputs": [],
   "source": [
    "def call_model(state: MessagesState):\n",
    "    messages = state['messages']\n",
    "    response = model.invoke(messages)\n",
    "    return {\"messages\": [response]}\n",
    "\n",
    "\n",
    "def should_continue(state: MessagesState) -> Literal[\"tools\", END]:\n",
    "    messages = state['messages']\n",
    "    last_message = messages[-1]\n",
    "    if last_message.tool_calls:\n",
    "        return \"tools\"\n",
    "    return END"
   ]
  },
  {
   "cell_type": "markdown",
   "id": "a44a3e11",
   "metadata": {},
   "source": [
    "# Subgraph with same State"
   ]
  },
  {
   "cell_type": "code",
   "execution_count": 7,
   "id": "f0b37f89",
   "metadata": {},
   "outputs": [
    {
     "data": {
      "image/png": "[encoded data removed]",
      "text/plain": [
       "<langgraph.graph.state.CompiledStateGraph object at 0x000002B14D56CA40>"
      ]
     },
     "execution_count": 7,
     "metadata": {},
     "output_type": "execute_result"
    }
   ],
   "source": [
    "subgraph_workflow = StateGraph(MessagesState)\n",
    "tool_node = ToolNode(tools)\n",
    "\n",
    "subgraph_workflow.add_node(\"agent\", call_model)\n",
    "subgraph_workflow.add_node(\"tools\", tool_node)\n",
    "\n",
    "subgraph_workflow.add_conditional_edges(\"agent\", should_continue)\n",
    "\n",
    "subgraph_workflow.add_edge(\"tools\", \"agent\")\n",
    "\n",
    "subgraph_workflow.set_entry_point(\"agent\")\n",
    "\n",
    "subgraph = subgraph_workflow.compile()\n",
    "subgraph"
   ]
  },
  {
   "cell_type": "code",
   "execution_count": 8,
   "id": "116e5896",
   "metadata": {},
   "outputs": [
    {
     "data": {
      "text/plain": [
       "{'messages': [HumanMessage(content='How is the weather in Bengaluru', additional_kwargs={}, response_metadata={}, id='bbd471ac-fae4-400b-8f97-a65e77a66180'),\n",
       "  AIMessage(content='', additional_kwargs={'tool_calls': [{'id': 'fg83y0kfy', 'function': {'arguments': '{\"location\":\"Bengaluru\"}', 'name': 'get_weather'}, 'type': 'function'}]}, response_metadata={'token_usage': {'completion_tokens': 170, 'prompt_tokens': 130, 'total_tokens': 300, 'completion_time': 0.643576416, 'prompt_time': 0.020633383, 'queue_time': 0.044372446, 'total_time': 0.664209799}, 'model_name': 'deepseek-r1-distill-llama-70b', 'system_fingerprint': 'fp_76307ac09b', 'finish_reason': 'tool_calls', 'logprobs': None}, id='run--a7795095-0a7b-4394-ba35-94ab59cc8efa-0', tool_calls=[{'name': 'get_weather', 'args': {'location': 'Bengaluru'}, 'id': 'fg83y0kfy', 'type': 'tool_call'}], usage_metadata={'input_tokens': 130, 'output_tokens': 170, 'total_tokens': 300}),\n",
       "  ToolMessage(content='It is 15 deg C and cloudy', name='get_weather', id='f7a7db67-a03e-4086-bc56-729ca4d95bac', tool_call_id='fg83y0kfy'),\n",
       "  AIMessage(content='The current weather in Bengaluru is 15°C and cloudy.', additional_kwargs={}, response_metadata={'token_usage': {'completion_tokens': 104, 'prompt_tokens': 190, 'total_tokens': 294, 'completion_time': 0.496711526, 'prompt_time': 0.025986207, 'queue_time': 0.049042583, 'total_time': 0.522697733}, 'model_name': 'deepseek-r1-distill-llama-70b', 'system_fingerprint': 'fp_1bbe7845ec', 'finish_reason': 'stop', 'logprobs': None}, id='run--1a823dd3-b75d-4065-8870-87c5c1ec540c-0', usage_metadata={'input_tokens': 190, 'output_tokens': 104, 'total_tokens': 294})]}"
      ]
     },
     "execution_count": 8,
     "metadata": {},
     "output_type": "execute_result"
    }
   ],
   "source": [
    "messages1 = [HumanMessage(content=\"How is the weather in Bengaluru\")]\n",
    "subgraph.invoke({\"messages\": messages1})"
   ]
  },
  {
   "cell_type": "markdown",
   "id": "a5f2c098",
   "metadata": {},
   "source": [
    "# Main Graph with Same State"
   ]
  },
  {
   "cell_type": "code",
   "execution_count": 11,
   "id": "b8f934e5",
   "metadata": {},
   "outputs": [],
   "source": [
    "def start_node(state: MessagesState):\n",
    "    return state\n",
    "\n",
    "main_graph = StateGraph(MessagesState)\n",
    "\n",
    "main_graph.add_node(\"start\", start_node)\n",
    "main_graph.add_node(\"subgraph\", subgraph)\n",
    "\n",
    "main_graph.add_edge(START, \"start\")\n",
    "main_graph.add_edge(\"start\", \"subgraph\")\n",
    "\n",
    "graph = main_graph.compile()"
   ]
  },
  {
   "cell_type": "code",
   "execution_count": 12,
   "id": "4116b0f5",
   "metadata": {},
   "outputs": [
    {
     "data": {
      "text/plain": [
       "{'messages': [HumanMessage(content='How is the weather in Bengaluru', additional_kwargs={}, response_metadata={}, id='bbd471ac-fae4-400b-8f97-a65e77a66180'),\n",
       "  AIMessage(content='', additional_kwargs={'tool_calls': [{'id': '9tqaxjz1c', 'function': {'arguments': '{\"location\":\"Bengaluru\"}', 'name': 'get_weather'}, 'type': 'function'}]}, response_metadata={'token_usage': {'completion_tokens': 104, 'prompt_tokens': 130, 'total_tokens': 234, 'completion_time': 0.429848149, 'prompt_time': 0.020751233, 'queue_time': 0.050510157, 'total_time': 0.450599382}, 'model_name': 'deepseek-r1-distill-llama-70b', 'system_fingerprint': 'fp_1bbe7845ec', 'finish_reason': 'tool_calls', 'logprobs': None}, id='run--c081dbcd-fc1f-4ade-8888-d3b99a4bca70-0', tool_calls=[{'name': 'get_weather', 'args': {'location': 'Bengaluru'}, 'id': '9tqaxjz1c', 'type': 'tool_call'}], usage_metadata={'input_tokens': 130, 'output_tokens': 104, 'total_tokens': 234}),\n",
       "  ToolMessage(content='It is 15 deg C and cloudy', name='get_weather', id='3cedd7b3-21fd-4924-8394-da30efe9643d', tool_call_id='9tqaxjz1c'),\n",
       "  AIMessage(content='The current weather in Bengaluru is 15°C and cloudy.', additional_kwargs={}, response_metadata={'token_usage': {'completion_tokens': 182, 'prompt_tokens': 192, 'total_tokens': 374, 'completion_time': 0.773452823, 'prompt_time': 0.026264544, 'queue_time': 0.043893986, 'total_time': 0.799717367}, 'model_name': 'deepseek-r1-distill-llama-70b', 'system_fingerprint': 'fp_1bbe7845ec', 'finish_reason': 'stop', 'logprobs': None}, id='run--b4c2d1d2-bd61-49e6-afa5-f87be26f2099-0', usage_metadata={'input_tokens': 192, 'output_tokens': 182, 'total_tokens': 374})]}"
      ]
     },
     "execution_count": 12,
     "metadata": {},
     "output_type": "execute_result"
    }
   ],
   "source": [
    "initial_state = {\"messages\": messages1}\n",
    "result = graph.invoke(initial_state, subgraphs=False)\n",
    "result"
   ]
  },
  {
   "cell_type": "markdown",
   "id": "038dabbc",
   "metadata": {},
   "source": [
    "# Different State"
   ]
  },
  {
   "cell_type": "code",
   "execution_count": 13,
   "id": "59cc6fe9",
   "metadata": {},
   "outputs": [],
   "source": [
    "from typing import TypedDict\n",
    "class MessagesState(TypedDict):\n",
    "    parent_messages: list[str]\n",
    "\n",
    "def invoke_subgraph(state: MessagesState):\n",
    "    subgraph_output = subgraph.invoke({\"messages\": state['parent_messages']})\n",
    "    state['parent_messages'] = subgraph_output['messages']\n",
    "    return state\n",
    "\n",
    "main_graph = StateGraph(MessagesState)\n",
    "\n",
    "main_graph.add_node(\"start\", start_node)\n",
    "main_graph.add_node(\"invoke_subgraph\", invoke_subgraph)\n",
    "\n",
    "main_graph.add_edge(START, \"start\")\n",
    "main_graph.add_edge(\"start\", \"invoke_subgraph\")\n",
    "\n",
    "\n",
    "graph = main_graph.compile()"
   ]
  },
  {
   "cell_type": "code",
   "execution_count": 17,
   "id": "4ab020ca",
   "metadata": {},
   "outputs": [
    {
     "data": {
      "text/plain": [
       "{'parent_messages': [HumanMessage(content=\"What's the weather in bengaluru?\", additional_kwargs={}, response_metadata={}, id='19b25a49-b1c1-4941-908a-31f15cf00a19'),\n",
       "  AIMessage(content='', additional_kwargs={'tool_calls': [{'id': '6hrzgcvjy', 'function': {'arguments': '{\"location\":\"bengaluru\"}', 'name': 'get_weather'}, 'type': 'function'}]}, response_metadata={'token_usage': {'completion_tokens': 105, 'prompt_tokens': 133, 'total_tokens': 238, 'completion_time': 0.455422177, 'prompt_time': 0.021215723, 'queue_time': 0.050924577, 'total_time': 0.4766379}, 'model_name': 'deepseek-r1-distill-llama-70b', 'system_fingerprint': 'fp_1bbe7845ec', 'finish_reason': 'tool_calls', 'logprobs': None}, id='run--252ab2f4-3fd1-4850-87f4-3f837ec5c1bc-0', tool_calls=[{'name': 'get_weather', 'args': {'location': 'bengaluru'}, 'id': '6hrzgcvjy', 'type': 'tool_call'}], usage_metadata={'input_tokens': 133, 'output_tokens': 105, 'total_tokens': 238}),\n",
       "  ToolMessage(content='It is 15 deg C and cloudy', name='get_weather', id='d38fc188-d816-4837-9110-06bba1761a34', tool_call_id='6hrzgcvjy'),\n",
       "  AIMessage(content='The current weather in Bengaluru is 15°C and cloudy.', additional_kwargs={}, response_metadata={'token_usage': {'completion_tokens': 97, 'prompt_tokens': 194, 'total_tokens': 291, 'completion_time': 0.418524853, 'prompt_time': 0.026720329, 'queue_time': 0.043443511, 'total_time': 0.445245182}, 'model_name': 'deepseek-r1-distill-llama-70b', 'system_fingerprint': 'fp_76307ac09b', 'finish_reason': 'stop', 'logprobs': None}, id='run--cf411529-652c-47f4-8c8d-67335677d3f0-0', usage_metadata={'input_tokens': 194, 'output_tokens': 97, 'total_tokens': 291})]}"
      ]
     },
     "execution_count": 17,
     "metadata": {},
     "output_type": "execute_result"
    }
   ],
   "source": [
    "initial_state = {\n",
    "    \"parent_messages\": [HumanMessage(content=\"What's the weather in bengaluru?\")]\n",
    "}\n",
    "graph.invoke(initial_state, subgraphs=True)"
   ]
  },
  {
   "cell_type": "code",
   "execution_count": null,
   "id": "fb42c905",
   "metadata": {},
   "outputs": [],
   "source": []
  }
 ],
 "metadata": {
  "kernelspec": {
   "display_name": "loan-pred",
   "language": "python",
   "name": "python3"
  },
  "language_info": {
   "codemirror_mode": {
    "name": "ipython",
    "version": 3
   },
   "file_extension": ".py",
   "mimetype": "text/x-python",
   "name": "python",
   "nbconvert_exporter": "python",
   "pygments_lexer": "ipython3",
   "version": "3.12.6"
  }
 },
 "nbformat": 4,
 "nbformat_minor": 5
}
