{
 "cells": [
  {
   "cell_type": "code",
   "execution_count": 1,
   "id": "16e6bbf4",
   "metadata": {},
   "outputs": [],
   "source": [
    "import os"
   ]
  },
  {
   "cell_type": "code",
   "execution_count": 2,
   "id": "e12bfed8",
   "metadata": {},
   "outputs": [],
   "source": [
    "from openai import OpenAI\n",
    "model_name = \"medgemma-4b-it\"\n",
    "client = OpenAI(\n",
    "    base_url=\"http://localhost:1234/v1\",\n",
    "    api_key=\"lm-studio\",\n",
    ")"
   ]
  },
  {
   "cell_type": "code",
   "execution_count": 3,
   "id": "717faf14",
   "metadata": {},
   "outputs": [
    {
     "name": "stdout",
     "output_type": "stream",
     "text": [
      "🔊 Total audio length: 314.82 seconds\n",
      "🎧 Streaming...\n",
      "🕒 Chunk 1: If you want to change the world, start off by making your bed. If you make your bed every morning, you will have accomplished the first task of the day. It will give you a small, since a pride, and it will encourage you to do another task, and another, and another. And by the end of the day, that one task completed will have turned into many tasks completed. And your bed will also reinforce the fact.\n",
      "🕒 Chunk 2: that the little things in life matter. If you can't do the little things right, you'll never be able to do the big things right. And if by chance you have a miserable day, you will come home to a bed that is made. That you made, and a made bed gives you encouragement that tomorrow will be better. I've been a Navy SEAL for 36 years. Every morning in SEAL training, mine structures, who at the time were all Vietnam veterans, would show up in my barracks.\n",
      "🕒 Chunk 3: room and the first thing they do is inspect my bed. If you did it right the corners would be square, the covers would be pulled tight, the pillow center just under the headboard and the extra blanket folded neatly at the foot of the rack. It was a simple task, mundane at best, but every morning we were required to make our bed to perfection. It seemed a little ridiculous at the time, particularly in light of the fact that we were aspiring to be real warriors, tough battle and Blech, and beasts, and high powered ceilers.\n",
      "🕒 Chunk 4: But the wisdom of this simple act has been proven to me many times over. It matters not whether you ever served a day in uniform. It matters not your gender, your ethnic or religious background, your orientation or your social status. Our struggles in this world are similar, and the lessons to overcome those struggles and to move forward, changing ourselves and changing the world around us will apply equally to all.\n",
      "🕒 Chunk 5: If you think it's hard to change the lives of 10 people, change their lives forever, you're wrong. I saw it happen every day in Iraq and Afghanistan, but changing the world can happen anywhere and anyone can do it. So what starts here can indeed change the world. You will likely fail often, and it will be painful. It will be discouraging. At times it will test you to your very core.\n",
      "🕒 Chunk 6: At that darkest moment of the mission is a time when you need to be calm. When you must be calm, when you must be composed, when all your tactical skills, your physical power and your inner strength must be brought to bear. If you want to change the world, you must be your very best in the darkest moments. If I have learned anything in my time traveling the world...\n",
      "🕒 Chunk 7: It is the power of hope, the power of one person, a Washington, a Lincoln, King Mandela, and even a young girl from Pakistan, Malala. One person can change the world by giving people hope. Start each day with a task completed. Find someone to help you through life, respect everyone. Know that life is not fair and that you will fail often. But if you take some risks, step up when the times are the toughest. Face down the point.\n",
      "🕒 Chunk 8: Lift up the downtrodden and never ever give up. If you do these things, the next generation and the generations that follow will live in a world far better than the one we have today. And what's started here will indeed have changed the world for the better. Finally in Seal Training there's a bell, a brass bell that hangs in the center of the compound for all the students to see. All you have to do to quit is ring the bell.\n",
      "🕒 Chunk 9: Ring the bell and you no longer have to wake up at five o'clock ring the bell and you no longer have to be in the freezing cold swims Ring the bell and you no longer have to do the runs the obstacle course the PT and you no longer have to endure the hardships of training All you have to do is ring the bell to get out If you want to change the world\n",
      "🕒 Chunk 10: Don't ever, ever ring the bell.\n"
     ]
    }
   ],
   "source": [
    "import whisper\n",
    "import numpy as np\n",
    "import time\n",
    "from pydub import AudioSegment\n",
    "\n",
    "# Load Whisper model\n",
    "model = whisper.load_model(\"base\")\n",
    "\n",
    "# Load full MP3 and convert to mono 16kHz\n",
    "audio = AudioSegment.from_file(\"testing.mp3\")\n",
    "audio = audio.set_channels(1).set_frame_rate(16000)\n",
    "\n",
    "chunk_duration_ms = 30000  # 5 seconds\n",
    "num_chunks = len(audio) // chunk_duration_ms\n",
    "\n",
    "print(f\"🔊 Total audio length: {len(audio)/1000:.2f} seconds\")\n",
    "print(\"🎧 Streaming...\")\n",
    "\n",
    "\n",
    "transcript = \"\"\n",
    "for i in range(num_chunks):\n",
    "    chunk = audio[i * chunk_duration_ms: (i + 1) * chunk_duration_ms]\n",
    "    \n",
    "    # Convert to numpy float32 array\n",
    "    samples = np.array(chunk.get_array_of_samples()).astype(np.float32) / 32768.0\n",
    "\n",
    "    # Transcribe using Whisper\n",
    "    result = model.transcribe(samples, fp16=False, language=\"en\")\n",
    "    print(f\"🕒 Chunk {i+1}: {result['text'].strip()}\")\n",
    "    transcript += result['text'].strip()\n",
    "\n",
    "    time.sleep(1)  # simulate real-time delay\n"
   ]
  },
  {
   "cell_type": "code",
   "execution_count": 5,
   "id": "6c0491a2",
   "metadata": {},
   "outputs": [],
   "source": [
    "system_prompt = \"\"\"\n",
    "Role: You are an expert assistant specialized in generating professional Minutes of the Meeting (MoM) from meeting transcripts.\n",
    "\n",
    "Objective: Your task is to extract and organize critical insights, decisions, action points, and relevant discussions from the transcript into a clear, structured MoM format suitable for stakeholders.\n",
    "\n",
    "Guidelines:\n",
    "\n",
    "1. Identify and highlight the key discussion points, decisions made, and any follow-ups mentioned.\n",
    "2. Clearly list the following components in the MoM:\n",
    "   - Meeting Title and Date (if available)\n",
    "   - Attendees (if mentioned)\n",
    "   - Summary of Discussions\n",
    "   - Key Objectives and Outcomes\n",
    "   - Action Items with Assignees and Deadlines\n",
    "   - Open Questions or Pending Items\n",
    "   - Any follow-up meeting or review dates\n",
    "\n",
    "Formatting Requirements:\n",
    "\n",
    "- Use bullet points or numbered lists for clarity.\n",
    "- Keep the tone professional, concise, and informative.\n",
    "- Group related points together by topic or agenda item.\n",
    "- Ensure action items are clear, with responsible persons and due dates if mentioned.\n",
    "\n",
    "Constraints:\n",
    "\n",
    "- Do not add any information not present in the transcript.\n",
    "- If any information is missing (e.g., deadlines or assignees), flag it appropriately (e.g., “TBD”).\n",
    "\n",
    "Your output should be directly usable as formal MoM documentation.\n",
    "\"\"\"\n"
   ]
  },
  {
   "cell_type": "code",
   "execution_count": 6,
   "id": "6b012b87",
   "metadata": {},
   "outputs": [
    {
     "data": {
      "text/plain": [
       "\"**Meeting Title:** (Not specified in transcript)\\n\\n**Date:** (Not specified in transcript)\\n\\n**Attendees:** (Not specified in transcript)\\n\\n**Summary of Discussions:**\\n\\nThe speaker shares a motivational message about making one's bed and its impact on personal discipline, productivity, and overall life. The speaker emphasizes the importance of small actions contributing to larger goals and highlights the power of hope and perseverance in changing the world. The speaker draws parallels between military training (Navy SEAL) and everyday life, emphasizing the need for resilience and commitment even during challenging times.\\n\\n**Key Objectives and Outcomes:**\\n\\n*   To inspire listeners to embrace small daily tasks as a foundation for achieving larger goals.\\n*   To emphasize the power of hope and perseverance in making a positive impact on the world.\\n*   To encourage individuals to maintain discipline, resilience, and commitment even during difficult times.\\n\\n**Action Items with Assignees and Deadlines:**\\n\\n*   **Make your bed every morning.** (Self-assigned) - Ongoing task.\\n*   **Seek support from others in life.** (Self-assigned) - Ongoing task.\\n*   **Take risks and step up when the times are toughest.** (Self-assigned) - Ongoing task.\\n*   **Face down the point.** (Self-assigned) - Ongoing task.\\n*   **Lift up the downtrodden.** (Self-assigned) - Ongoing task.\\n*   **Never ever give up.** (Self-assigned) - Ongoing task.\\n\\n**Open Questions or Pending Items:**\\n\\n*   None explicitly mentioned in the transcript.\\n\\n**Follow-up Meeting or Review Dates:**\\n\\n*   None explicitly mentioned in the transcript.\\n\""
      ]
     },
     "execution_count": 6,
     "metadata": {},
     "output_type": "execute_result"
    }
   ],
   "source": [
    "response = client.chat.completions.create(\n",
    "    model=model_name,\n",
    "    messages=[\n",
    "        {\"role\": \"system\", \"content\": system_prompt},\n",
    "        {\"role\": \"user\", \"content\": transcript}\n",
    "    ],\n",
    ")\n",
    "\n",
    "response.choices[0].message.content"
   ]
  },
  {
   "cell_type": "code",
   "execution_count": 7,
   "id": "a62f8460",
   "metadata": {},
   "outputs": [
    {
     "data": {
      "text/markdown": [
       "**Meeting Title:** (Not specified in transcript)\n",
       "\n",
       "**Date:** (Not specified in transcript)\n",
       "\n",
       "**Attendees:** (Not specified in transcript)\n",
       "\n",
       "**Summary of Discussions:**\n",
       "\n",
       "The speaker shares a motivational message about making one's bed and its impact on personal discipline, productivity, and overall life. The speaker emphasizes the importance of small actions contributing to larger goals and highlights the power of hope and perseverance in changing the world. The speaker draws parallels between military training (Navy SEAL) and everyday life, emphasizing the need for resilience and commitment even during challenging times.\n",
       "\n",
       "**Key Objectives and Outcomes:**\n",
       "\n",
       "*   To inspire listeners to embrace small daily tasks as a foundation for achieving larger goals.\n",
       "*   To emphasize the power of hope and perseverance in making a positive impact on the world.\n",
       "*   To encourage individuals to maintain discipline, resilience, and commitment even during difficult times.\n",
       "\n",
       "**Action Items with Assignees and Deadlines:**\n",
       "\n",
       "*   **Make your bed every morning.** (Self-assigned) - Ongoing task.\n",
       "*   **Seek support from others in life.** (Self-assigned) - Ongoing task.\n",
       "*   **Take risks and step up when the times are toughest.** (Self-assigned) - Ongoing task.\n",
       "*   **Face down the point.** (Self-assigned) - Ongoing task.\n",
       "*   **Lift up the downtrodden.** (Self-assigned) - Ongoing task.\n",
       "*   **Never ever give up.** (Self-assigned) - Ongoing task.\n",
       "\n",
       "**Open Questions or Pending Items:**\n",
       "\n",
       "*   None explicitly mentioned in the transcript.\n",
       "\n",
       "**Follow-up Meeting or Review Dates:**\n",
       "\n",
       "*   None explicitly mentioned in the transcript.\n"
      ],
      "text/plain": [
       "<IPython.core.display.Markdown object>"
      ]
     },
     "execution_count": 7,
     "metadata": {},
     "output_type": "execute_result"
    }
   ],
   "source": [
    "from IPython.display import Markdown\n",
    "Markdown(response.choices[0].message.content)"
   ]
  },
  {
   "cell_type": "code",
   "execution_count": 8,
   "id": "93314f24",
   "metadata": {},
   "outputs": [
    {
     "name": "stdout",
     "output_type": "stream",
     "text": [
      "🔊 Total audio length: 900.00 seconds\n",
      "🎧 Streaming...\n",
      "🕒 Chunk 1: kind of the confluence of this whole idea of the confluence week, the merging of two rivers, and as we've kind of seen recently in politics and in the world, there's a lot of situations where water is very important right now and it's a very big issue. So that is the reason the back of the logo is considered water. So let you see the creation of the logo here.\n",
      "🕒 Chunk 2: So that basically kind of sums up the reason behind the logo and all the meanings behind the symbolism. And you'll hear a little bit more about our Confluent Suite is basically highlighting all of these indigenous events and things that are happening around Denver so that we can kind of bring more people together.\n",
      "🕒 Chunk 3: Kind of share this whole idea of indigenous peoples day. So thank you. Thank you so much and thanks for your leadership All right Welcome to the Denver City Council meeting of Monday, October 9th. Please rise with the pledge of allegiance by councilman Lopez\n",
      "🕒 Chunk 4: All right, thank you Councilman Lopez, Madam Secretary Rokall. Black. Clerk. Espinoza. Here. Flynn. Gilmore. Here. Here. Cashman. Here. Can each. Lopez. Here. New. Ortega. Here. Sussan. Here. Sussan. Yes. Mr. President.\n",
      "🕒 Chunk 5: here 11 present 11 members present we do have a quorum approval the minutes are there any corrections to the minutes of October 2nd Seeing none minutes of October 2nd stand approve council announcement. So are there any announcements by members of council? Councilman Clark thank you, Mr President I just want to do and buy everyone down to the first ever Halloween parade on Broadway\n",
      "🕒 Chunk 6: and Lucky District 7. It will happen on Saturday October 21st. At 6 o'clock PM it will move along Broadway from 3rd to Alameda. It's going to be a fun family friendly event. Everyone's invited to come down. We're a costume. There'll be candy for the kids and there are teaky zombies and 29 herses and all kinds of fun and funky stuff on the fun and funky part of Broadway. So please join us October 21st.\n",
      "🕒 Chunk 7: at 6 o'clock for the Broadway Halloween. Thank you, Mr. President. All right, thank you, Councilman Clark. I will be there. All right, presentations. Madam Secretary, do we have any presentations? None, Mr. President. Communications, do we have any communications? None, Mr. President. We do have one proclamation this evening. Proclamation 1127, an observance of the annual Indigenous Peoples Day in the city and county of Denver, Councilman Loplayes, would you please read it?\n",
      "🕒 Chunk 8: Thank you, Mr. President. We're fried. Proclamation number 17, well let me just say this differently. Proclamation number 1127 series of 2017, an observance of the second annual Indigenous Peoples Day in the City and County of Denver. Whereas the Council of the City and County of Denver recognizes that the Indigenous Peoples have lived and flourished on the lands known as the Ameticus in its time in Memorial. And that Denver and the surrounding communities are built upon ancestral homelands.\n",
      "🕒 Chunk 9: of numerous indigenous tribes which include the southern new, the Yut Mountain, Yut tribes of Colorado, and whereas the tribal homelands and seasonal encampments of the Arapoho and Shamb people along the banks of the Cherry Creek and South Plot River Confluence gave varying to the future settlements that would become the birthplace of the Mile High City. And whereas Colorado encompasses the ancestral homelands of 48 tribes in the city and county of Denver and surrounding communities are...\n",
      "🕒 Chunk 10: to the descendants of approximately 100 tribal nations. And whereas on October 3rd, 2016, the city and county of Denver unanimously passed, council bill 801 series of 2016, officially designating the second Monday of October of each year as Indigenous Peoples Day in Denver, Colorado. And whereas the council of the city and county of Denver continues to recognize and value the vast contribution.\n",
      "🕒 Chunk 11: made to the community through indigenous people's knowledge, science, philosophy, arts and culture, and through these contributions, the city of Denver has developed and thrived. Whereas the indigenous community, especially youth, have made great efforts this year to draw attention to the contributions of indigenous people including Confluence Week, drawing record of tennis to a national indigenous youth Learn more from外國教.\n",
      "🕒 Chunk 12: of conference leading conversations on inclusion with their peers and supporting increased indigenous youth participation in science and engineering. Now therefore be it proclaimed by the Council of the City and County of Denver Section 1 that the Council of the City and County of Denver celebrates and honors the cultural and foundational contributions of indigenous people to our history. Our past, our present and future. It continues to promote the education of the Denver community.\n",
      "🕒 Chunk 13: of the Denver community about these historic and contemporary contributions of indigenous people. Section 2, at the City and County of Denver, Colorado does hereby observe October 9, 2017 as indigenous peoples day. Section 3, at the clerk of the City and County of Denver shall attest and affix the seal of the City and County Denver to this proclamation and that a copy be transmitted, transmitted\n",
      "🕒 Chunk 14: Excuse me to the Denver American Indian Commission the City and County of Denver School District number one and the Colorado Commission on Indian Affairs Thank you Councilman Lopez your motion to adopt Mr. President I move that proclamation number 1127 series of 2017 be adopted All right, it has been moved in second it comes to remove the council council and Lopez. Thank you mr. President It gives me a lot of pleasure and pride to read this proclamation of fish\n",
      "🕒 Chunk 15: for the third time, but as Indigenous peoples day and then were efficiently for the second time. It is, it's always awesome to be able to see, not just this proclamation come by my desk, but to see so many different people from our community in our council chambers. It was a very beautiful piece of artwork that you presented to us earlier, and it is exactly the spirit that we...\n",
      "🕒 Chunk 16: drafted this proclamation and this actual, the ordinance that created Indigenous People's Day, when we sat down and wrote it and as a community, we couldn't think of anything else to begin, except for the confluence of the two rivers. And those confluence of the two rivers created such a great city. And we live in such an amazing city and we're all proud of it and sometimes we, and a lot of people from all over the country are out of the world are proud of it. And sometimes a little too proud of it.\n",
      "🕒 Chunk 17: as it's telling the go back home. But I'm kidding when I say that. But the really nice thing about this is that we are celebrating Indigenous peoples day out of pride for who we are, who we are as a city, and the contributions of Indigenous people to the city, not out of spite, not out of a replacement of one culture over the other or out of contempt or...\n",
      "🕒 Chunk 18: or disrespect. I think of a quote that Sysau Chavez made very popular. And it stuck with me for a very long time. And any time I have the opportunity, I speak in front of children, especially children in our community that they often second guess themselves and where they're coming from, who they are. And I always say that it's very important.\n",
      "🕒 Chunk 19: to be proud of who you're from. And the quote that I use from Sissar Chavez is, you know, pride in one's own culture does not require contempt or disrespect of another, right? And that's very important. It's very important for us to recognize that no matter who we are where we come from in this society, that your pride in your own culture doesn't require, should not require, the contempt or disrespect of another. I mean, what a year to be for that to just sit on our shoulders.\n",
      "🕒 Chunk 20: for a while for us to think about, right? And so I wanted to just to thank you all, I think the commission, there's gonna be a couple individuals that are gonna come and speak thank you for your art, your lovely artwork for us to see what's in your heart and what now has become, probably is gonna be a very important symbol for the community. And also just for the work, the daily work every single day, we still have a lot of brothers and sisters\n",
      "🕒 Chunk 21: and the teachers once lived in these lands freely now stand on street corners, right, in poverty without access to services, right, without access to sobriety or even housing or jobs and what a cruel way to pay back a culture that has paved the way for the city to be built upon its shores, right? So we have a lot of work to do in these kind of proclamations.\n",
      "🕒 Chunk 22: in this day is not a day off, it's a day on and then. Right? And addressing those critical issues so. I know that my colleagues are very supportive. I'm going to ask you to support this proclamation. I know you always have done in the past. I'm very proud of today. Oh, and you made Time Magazine in Newsweek once again today. As being a leader in terms of the cities that are celebrating Indigenous Peoples Day, I wanted to make a point out of that.\n",
      "🕒 Chunk 23: Thank you, Councilman Lopez and thank you for sponsoring this. Councilman Martega? Mr. President, I want to ask that my name be added. I don't think I could add much more to what Councilman Lopez has shared with us. I want to thank him for bringing this forward and really just appreciate all the contributions that our Native American community has contributed to this great city and great state. I worked in the Lieutenant-\n",
      "🕒 Chunk 24: Governor's office when the commission and Indian affairs was created and had the benefit of being able to go down to the four corners for a peace treaty signing ceremony between the Uts and the Comanches that had been sort of at odds with each other for about 100 years and just being able to participate in that powwow was pretty awesome. And for those of you who continue to participate in the annual powwow it's such a great\n",
      "🕒 Chunk 25: opportunity for everybody else to enjoy so many of the contributions of the culture. I mean, to see that the dance continues to be carried on as well as the Native language from generation to generation is just so incredible because in so many cultures, you know, people have come here and assimilated to the, you know, the norms here and they lose their language and lose a lot of the...\n",
      "🕒 Chunk 26: the culture and in the native community that that hasn't happened that has that you know commitment to just passing that on from generation to generation is is so important and so I'm I'm happy to be a co-sponsor of this tonight. Thank you. All right thank you councilman or take a councilwoman can you. Thank you very much and I also want to thank my colleague for bringing this forward and I just want to.\n",
      "🕒 Chunk 27: to say a word to artists about how beautiful and moving I thought this logo was and your description of it. And I think one of the things that is clear is the words sometimes don't convey the power of imagery or music or the other pieces that make up culture. And so I think the art is so important. And when you talked about water, I was also thinking about land. And I guess I just wanted to say thank you. Many of the Native American peoples of Colorado have been at the forefront, actually nationally of different...\n",
      "🕒 Chunk 28: some of the public lands that have been protected over the last few years that are under attack right now. And there are places that the communities have fought to protect, but that everyone gets to enjoy. And so I just think that it's an example of where cultural preservation intersects with environmental protection, with recreation and all of the other ways that public lands are so important. And so I think I just wanted to say thank you for that, because I think we have some very safe...\n",
      "🕒 Chunk 29: in our country that are at risk right now. And so as we celebrate, I appreciate that there's still a piece of resistance in here. And I think that I just want to mention a solidarity. And I mentioned a feeling of solidarity with that resistance. So thank you. And happy Confluence Week. Thank you, Councilwoman Kanich. And seeing all the comments, I'll just say a couple. And in a time of such devices.\n",
      "🕒 Chunk 30: of ugliness and just despicable behavior from our leadership. The reason I'm so supportive of Indigenous people's days because it means inclusivity. It means respecting all, respecting those who have been silenced on purpose for a long time and whose history has not been told. And so we celebrate inclusivity in the face of such evil times, honestly.\n"
     ]
    }
   ],
   "source": [
    "import whisper\n",
    "import numpy as np\n",
    "import time\n",
    "from pydub import AudioSegment\n",
    "\n",
    "# Load Whisper model\n",
    "model = whisper.load_model(\"base\")\n",
    "\n",
    "# Load full MP3 and convert to mono 16kHz\n",
    "audio = AudioSegment.from_file(\"denver_extract.mp3\")\n",
    "audio = audio.set_channels(1).set_frame_rate(16000)\n",
    "\n",
    "chunk_duration_ms = 30000  # 5 seconds\n",
    "num_chunks = len(audio) // chunk_duration_ms\n",
    "\n",
    "print(f\"🔊 Total audio length: {len(audio)/1000:.2f} seconds\")\n",
    "print(\"🎧 Streaming...\")\n",
    "\n",
    "\n",
    "transcript = \"\"\n",
    "for i in range(num_chunks):\n",
    "    chunk = audio[i * chunk_duration_ms: (i + 1) * chunk_duration_ms]\n",
    "    \n",
    "    # Convert to numpy float32 array\n",
    "    samples = np.array(chunk.get_array_of_samples()).astype(np.float32) / 32768.0\n",
    "\n",
    "    # Transcribe using Whisper\n",
    "    result = model.transcribe(samples, fp16=False, language=\"en\")\n",
    "    print(f\"🕒 Chunk {i+1}: {result['text'].strip()}\")\n",
    "    transcript += result['text'].strip()\n",
    "\n",
    "    time.sleep(1)  # simulate real-time delay\n"
   ]
  },
  {
   "cell_type": "code",
   "execution_count": 9,
   "id": "161ed844",
   "metadata": {},
   "outputs": [
    {
     "data": {
      "text/markdown": [
       "**Minutes of Meeting**\n",
       "\n",
       "**Meeting Title:** Denver City Council Meeting\n",
       "\n",
       "**Date:** October 9th, 2017\n",
       "\n",
       "**Attendees:**\n",
       "\n",
       "*   Councilman Lopez\n",
       "*   Madam Secretary Rokall Black\n",
       "*   Clerk Espinoza\n",
       "*   Flynn\n",
       "*   Gilmore\n",
       "*   Cashman\n",
       "*   Can each.\n",
       "*   New\n",
       "*   Ortega\n",
       "*   Sussan\n",
       "*   Mr. President (unnamed)\n",
       "\n",
       "**Summary of Discussions:**\n",
       "\n",
       "The meeting commenced with the Pledge of Allegiance led by Councilman Lopez. The minutes from October 2nd were approved without corrections. Announcements were made, including a Halloween parade in the Broadway and Lucky District area on October 21st at 6:00 PM. Presentations were not scheduled for this meeting. Communications were also not discussed.\n",
       "\n",
       "The primary focus of the meeting was the adoption of Proclamation 1127 series of 2017, an observance of Indigenous Peoples Day in Denver. Councilman Lopez presented the proclamation, highlighting its significance as a recognition of the contributions and historical presence of indigenous peoples to the city and county of Denver. The proclamation emphasized the importance of education about these contributions and promoting inclusivity within the community.\n",
       "\n",
       "Councilwoman Kanich expressed her support for the proclamation, emphasizing the need to celebrate Indigenous cultures and protect public lands that are important to Native American communities. Councilman Ortega also voiced his support, highlighting the ongoing efforts to preserve indigenous languages and traditions.\n",
       "\n",
       "**Key Objectives and Outcomes:**\n",
       "\n",
       "*   Adoption of Proclamation 1127 series of 2017 declaring Indigenous Peoples Day in Denver.\n",
       "*   Recognition of the contributions of indigenous peoples to the city's history and culture.\n",
       "*   Promotion of education about these contributions within the community.\n",
       "*   Celebration of inclusivity and respect for all cultures.\n",
       "\n",
       "**Action Items:**\n",
       "\n",
       "*   **Clerk of the City and County of Denver:** Attest and affix the seal of the City and County Denver to the proclamation, and transmit a copy to the Denver American Indian Commission, the City and County of Denver School District number one, and the Colorado Commission on Indian Affairs.\n",
       "*   **Councilman Lopez:** Continue advocating for indigenous rights and cultural preservation within the city council.\n",
       "\n",
       "**Open Questions or Pending Items:**\n",
       "\n",
       "*   None identified during this meeting.\n",
       "\n",
       "**Follow-up Meeting/Review Dates:**\n",
       "\n",
       "*   Indigenous Peoples Day: October 9, 2017 (Observed)\n",
       "*   Broadway Halloween Parade: Saturday, October 21st, 6:00 PM\n"
      ],
      "text/plain": [
       "<IPython.core.display.Markdown object>"
      ]
     },
     "execution_count": 9,
     "metadata": {},
     "output_type": "execute_result"
    }
   ],
   "source": [
    "response = client.chat.completions.create(\n",
    "    model=model_name,\n",
    "    messages=[\n",
    "        {\"role\": \"system\", \"content\": system_prompt},\n",
    "        {\"role\": \"user\", \"content\": transcript}\n",
    "    ],\n",
    ")\n",
    "\n",
    "Markdown(response.choices[0].message.content)"
   ]
  }
 ],
 "metadata": {
  "kernelspec": {
   "display_name": "loan-pred",
   "language": "python",
   "name": "python3"
  },
  "language_info": {
   "codemirror_mode": {
    "name": "ipython",
    "version": 3
   },
   "file_extension": ".py",
   "mimetype": "text/x-python",
   "name": "python",
   "nbconvert_exporter": "python",
   "pygments_lexer": "ipython3",
   "version": "3.12.6"
  }
 },
 "nbformat": 4,
 "nbformat_minor": 5
}
