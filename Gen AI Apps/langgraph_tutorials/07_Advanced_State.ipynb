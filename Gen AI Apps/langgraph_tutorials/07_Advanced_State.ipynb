{
 "cells": [
  {
   "cell_type": "markdown",
   "id": "998c6d8f",
   "metadata": {},
   "source": [
    "# Importing Libraries"
   ]
  },
  {
   "cell_type": "code",
   "execution_count": 1,
   "id": "5d959f78",
   "metadata": {},
   "outputs": [
    {
     "name": "stdout",
     "output_type": "stream",
     "text": [
      "WARNING:tensorflow:From c:\\sharath\\Github\\Projects\\Loan prediction\\loan-pred\\.venv\\Lib\\site-packages\\tf_keras\\src\\losses.py:2976: The name tf.losses.sparse_softmax_cross_entropy is deprecated. Please use tf.compat.v1.losses.sparse_softmax_cross_entropy instead.\n",
      "\n"
     ]
    }
   ],
   "source": [
    "import os\n",
    "import warnings\n",
    "from dotenv import load_dotenv\n",
    "from langchain_groq import ChatGroq\n",
    "from langchain_huggingface.embeddings import HuggingFaceEmbeddings\n",
    "from langchain_community.vectorstores import Chroma\n",
    "\n",
    "warnings.filterwarnings(\"ignore\")\n",
    "\n",
    "load_dotenv()\n",
    "\n",
    "GROQ_API_KEY = os.getenv(\"GROQ_API_KEY\")\n",
    "model_name = \"deepseek-r1-distill-llama-70b\"\n",
    "# emb_model = \"togethercomputer/m2-bert-80M-32k-retrieval\"\n",
    "emb_model = \"sentence-transformers/all-mpnet-base-v2\"\n",
    "embedding_function = HuggingFaceEmbeddings(model_name=emb_model)\n",
    "\n",
    "llm = ChatGroq(\n",
    "    groq_api_key=GROQ_API_KEY,\n",
    "    model=model_name,\n",
    ")"
   ]
  },
  {
   "cell_type": "markdown",
   "id": "40420d44",
   "metadata": {},
   "source": [
    "# Input and Output State"
   ]
  },
  {
   "cell_type": "code",
   "execution_count": 2,
   "id": "ef19af22",
   "metadata": {},
   "outputs": [],
   "source": [
    "from langgraph.graph import END, START, StateGraph\n",
    "from pydantic import BaseModel\n",
    "from typing import Optional\n",
    "\n",
    "class ChatMessages(BaseModel):\n",
    "    question: str\n",
    "    answer: Optional[str] = \"\"\n",
    "    llm_calls: Optional[int] = 0"
   ]
  },
  {
   "cell_type": "code",
   "execution_count": 3,
   "id": "2600cfb2",
   "metadata": {},
   "outputs": [],
   "source": [
    "def call_model(state: ChatMessages):\n",
    "    question = state.question\n",
    "    llm_calls = state.llm_calls\n",
    "    state.llm_calls = llm_calls + 1\n",
    "    print(f\"llm_calls: {state.llm_calls}\")\n",
    "\n",
    "    response = llm.invoke(question)\n",
    "    state.answer = response.content\n",
    "    return state"
   ]
  },
  {
   "cell_type": "code",
   "execution_count": 4,
   "id": "cd4cdc39",
   "metadata": {},
   "outputs": [
    {
     "data": {
      "image/png": "[encoded data removed]",
      "text/plain": [
       "<langgraph.graph.state.CompiledStateGraph object at 0x0000026DF190D760>"
      ]
     },
     "execution_count": 4,
     "metadata": {},
     "output_type": "execute_result"
    }
   ],
   "source": [
    "workflow = StateGraph(ChatMessages)\n",
    "\n",
    "workflow.add_node(\"agent\", call_model)\n",
    "\n",
    "workflow.add_edge(START, \"agent\")\n",
    "workflow.add_edge(\"agent\", END)\n",
    "\n",
    "graph = workflow.compile()\n",
    "graph"
   ]
  },
  {
   "cell_type": "code",
   "execution_count": 5,
   "id": "6becd5db",
   "metadata": {},
   "outputs": [
    {
     "name": "stdout",
     "output_type": "stream",
     "text": [
      "llm_calls: 1\n"
     ]
    },
    {
     "data": {
      "text/plain": [
       "{'question': 'What is responsible AI',\n",
       " 'answer': \"<think>\\nOkay, so I need to understand what Responsible AI is. I've heard the term before, but I'm not entirely sure what it entails. Let me break it down.\\n\\nFirst, I think AI stands for Artificial Intelligence, right? So Responsible AI must be about using AI in a way that's ethical or considerate. But what does that really mean? Maybe it's about ensuring that AI systems don't harm people or act in ways that aren't fair.\\n\\nI remember hearing about AI being biased. Like, if the data used to train an AI system is biased, the AI might make unfair decisions. So maybe Responsible AI involves making sure that AI doesn't discriminate against certain groups of people. How would that work? Perhaps by checking the data for biases and trying to eliminate them.\\n\\nThen there's transparency. I think that means being clear about how AI makes decisions. If an AI decides something important about someone, like whether they get a loan or a job, the person should be able to understand how that decision was made. So Responsible AI would require the AI's decision-making process to be transparent and explainable.\\n\\nAccountability must also be a part of it. If an AI causes a problem, who is responsible? It can't be the AI itself, so it must be the developers or the company using it. So Responsible AI probably includes guidelines on who is accountable for any negative outcomes.\\n\\nPrivacy is another aspect. AI systems often require a lot of data, sometimes personal data. Responsible AI would ensure that this data is handled securely and that people's privacy is protected. Maybe this involves compliance with regulations like GDPR.\\n\\nSafety and security are important too. AI systems could potentially be used in dangerous ways, like in autonomous weapons. Responsible AI would promote the safe use of AI to prevent harm. Also, ensuring that AI systems are secure against attacks or misuse.\\n\\nEthical considerations must play a role. This could include aligning AI development with human values, ensuring that AI serves the well-being of society, and avoiding uses that could lead to harm, like surveillance that infringes on human rights.\\n\\nHuman oversight is another point. AI shouldn't be left to make decisions without any human involvement, especially in critical areas. So Responsible AI would involve having humans review and correct AI decisions where necessary.\\n\\nSustainability might be part of it too. Training large AI models uses a lot of energy and resources. Responsible AI could promote the development of more energy-efficient AI systems and consider the environmental impact.\\n\\nRegulatory compliance is probably included as well. This means adhering to laws and regulations related to AI, data protection, and other relevant areas. It ensures that AI systems operate within legal boundaries.\\n\\nPublic engagement might involve educating people about AI, its benefits, and its risks. It's about fostering trust and ensuring that AI is developed in ways that society finds acceptable.\\n\\nLastly, continuous improvement. AI is a rapidly evolving field, so Responsible AI would require ongoing monitoring and adaptation to address new challenges and improve AI systems over time.\\n\\nPutting it all together, Responsible AI seems to cover a broad range of principles aimed at ensuring that AI is developed and used in ways that are ethical, fair, transparent, and beneficial to society. It's about addressing the potential risks and negative impacts of AI while maximizing its positive contributions.\\n\\nI wonder how organizations implement Responsible AI. Maybe through guidelines, audits, or ethical review boards. Also, how do they measure whether an AI system is responsible? Perhaps through assessments of fairness, transparency, and accountability.\\n\\nI should also consider examples. For instance, in hiring, a Responsible AI system would ensure that the AI used to screen resumes doesn't discriminate based on gender or race. It would be transparent about how it evaluates candidates, and there would be human oversight to correct any unfair decisions.\\n\\nAnother example is in healthcare. A Responsible AI system used for diagnosis would need to be transparent about how it makes predictions, ensure patient data privacy, and be regularly updated to avoid biases as new data becomes available.\\n\\nI think I've covered the main points. Now, to organize this into a coherent explanation of what Responsible AI is, highlighting its key principles and importance.\\n</think>\\n\\nResponsible AI is a comprehensive approach to developing and deploying artificial intelligence systems that prioritizes ethical considerations, fairness, transparency, and accountability. It aims to ensure that AI technologies are used in ways that benefit society while minimizing potential harms. The key principles of Responsible AI include:\\n\\n1. **Fairness and Non-Discrimination**: Ensuring AI systems are free from biases and do not discriminate against any group, particularly in sensitive areas like hiring, lending, and law enforcement.\\n\\n2. **Transparency and Explainability**: Making AI decision-making processes understandable to users, especially in critical decisions affecting individuals' lives, such as healthcare diagnoses or financial assessments.\\n\\n3. **Accountability**: Establishing clear responsibility for AI outcomes, ensuring that developers and deployers are held accountable for any adverse effects caused by AI systems.\\n\\n4. **Privacy and Data Protection**: Safeguarding personal data used by AI systems, adhering to regulations like GDPR, and ensuring secure handling of sensitive information.\\n\\n5. **Safety and Security**: Preventing harmful uses of AI, such as in autonomous weapons, and ensuring systems are secure against misuse or attacks.\\n\\n6. **Ethical Considerations**: Aligning AI development with human values, avoiding harmful applications, and promoting societal well-being.\\n\\n7. **Human Oversight**: Implementing human review mechanisms for AI decisions, especially in critical areas, to correct potential errors or biases.\\n\\n8. **Sustainability**: Promoting energy efficiency in AI development and considering environmental impacts to foster sustainable technological growth.\\n\\n9. **Regulatory Compliance**: Adhering to relevant laws and regulations to ensure AI systems operate within legal and ethical boundaries.\\n\\n10. **Public Engagement and Education**: Educating the public about AI's benefits and risks, fostering trust, and ensuring AI development aligns with societal values.\\n\\n11. **Continuous Improvement**: Regularly monitoring and updating AI systems to address new challenges and enhance performance responsibly.\\n\\nExamples of Responsible AI in action include fair hiring practices using AI that avoids discrimination, transparent healthcare diagnostics that protect patient privacy, and sustainable AI development that minimizes environmental impact. Organizations implement these principles through guidelines, audits, ethical review boards, and ongoing assessments to ensure fairness, transparency, and accountability. By embracing these principles, Responsible AI aims to maximize the benefits of AI while mitigating its risks.\",\n",
       " 'llm_calls': 1}"
      ]
     },
     "execution_count": 5,
     "metadata": {},
     "output_type": "execute_result"
    }
   ],
   "source": [
    "res = graph.invoke(input={\"question\": \"What is responsible AI\"})\n",
    "res"
   ]
  },
  {
   "cell_type": "code",
   "execution_count": 6,
   "id": "0d563ab0",
   "metadata": {},
   "outputs": [
    {
     "name": "stdout",
     "output_type": "stream",
     "text": [
      "<think>\n",
      "Okay, so I need to understand what Responsible AI is. I've heard the term before, but I'm not entirely sure what it entails. Let me break it down.\n",
      "\n",
      "First, I think AI stands for Artificial Intelligence, right? So Responsible AI must be about using AI in a way that's ethical or considerate. But what does that really mean? Maybe it's about ensuring that AI systems don't harm people or act in ways that aren't fair.\n",
      "\n",
      "I remember hearing about AI being biased. Like, if the data used to train an AI system is biased, the AI might make unfair decisions. So maybe Responsible AI involves making sure that AI doesn't discriminate against certain groups of people. How would that work? Perhaps by checking the data for biases and trying to eliminate them.\n",
      "\n",
      "Then there's transparency. I think that means being clear about how AI makes decisions. If an AI decides something important about someone, like whether they get a loan or a job, the person should be able to understand how that decision was made. So Responsible AI would require the AI's decision-making process to be transparent and explainable.\n",
      "\n",
      "Accountability must also be a part of it. If an AI causes a problem, who is responsible? It can't be the AI itself, so it must be the developers or the company using it. So Responsible AI probably includes guidelines on who is accountable for any negative outcomes.\n",
      "\n",
      "Privacy is another aspect. AI systems often require a lot of data, sometimes personal data. Responsible AI would ensure that this data is handled securely and that people's privacy is protected. Maybe this involves compliance with regulations like GDPR.\n",
      "\n",
      "Safety and security are important too. AI systems could potentially be used in dangerous ways, like in autonomous weapons. Responsible AI would promote the safe use of AI to prevent harm. Also, ensuring that AI systems are secure against attacks or misuse.\n",
      "\n",
      "Ethical considerations must play a role. This could include aligning AI development with human values, ensuring that AI serves the well-being of society, and avoiding uses that could lead to harm, like surveillance that infringes on human rights.\n",
      "\n",
      "Human oversight is another point. AI shouldn't be left to make decisions without any human involvement, especially in critical areas. So Responsible AI would involve having humans review and correct AI decisions where necessary.\n",
      "\n",
      "Sustainability might be part of it too. Training large AI models uses a lot of energy and resources. Responsible AI could promote the development of more energy-efficient AI systems and consider the environmental impact.\n",
      "\n",
      "Regulatory compliance is probably included as well. This means adhering to laws and regulations related to AI, data protection, and other relevant areas. It ensures that AI systems operate within legal boundaries.\n",
      "\n",
      "Public engagement might involve educating people about AI, its benefits, and its risks. It's about fostering trust and ensuring that AI is developed in ways that society finds acceptable.\n",
      "\n",
      "Lastly, continuous improvement. AI is a rapidly evolving field, so Responsible AI would require ongoing monitoring and adaptation to address new challenges and improve AI systems over time.\n",
      "\n",
      "Putting it all together, Responsible AI seems to cover a broad range of principles aimed at ensuring that AI is developed and used in ways that are ethical, fair, transparent, and beneficial to society. It's about addressing the potential risks and negative impacts of AI while maximizing its positive contributions.\n",
      "\n",
      "I wonder how organizations implement Responsible AI. Maybe through guidelines, audits, or ethical review boards. Also, how do they measure whether an AI system is responsible? Perhaps through assessments of fairness, transparency, and accountability.\n",
      "\n",
      "I should also consider examples. For instance, in hiring, a Responsible AI system would ensure that the AI used to screen resumes doesn't discriminate based on gender or race. It would be transparent about how it evaluates candidates, and there would be human oversight to correct any unfair decisions.\n",
      "\n",
      "Another example is in healthcare. A Responsible AI system used for diagnosis would need to be transparent about how it makes predictions, ensure patient data privacy, and be regularly updated to avoid biases as new data becomes available.\n",
      "\n",
      "I think I've covered the main points. Now, to organize this into a coherent explanation of what Responsible AI is, highlighting its key principles and importance.\n",
      "</think>\n",
      "\n",
      "Responsible AI is a comprehensive approach to developing and deploying artificial intelligence systems that prioritizes ethical considerations, fairness, transparency, and accountability. It aims to ensure that AI technologies are used in ways that benefit society while minimizing potential harms. The key principles of Responsible AI include:\n",
      "\n",
      "1. **Fairness and Non-Discrimination**: Ensuring AI systems are free from biases and do not discriminate against any group, particularly in sensitive areas like hiring, lending, and law enforcement.\n",
      "\n",
      "2. **Transparency and Explainability**: Making AI decision-making processes understandable to users, especially in critical decisions affecting individuals' lives, such as healthcare diagnoses or financial assessments.\n",
      "\n",
      "3. **Accountability**: Establishing clear responsibility for AI outcomes, ensuring that developers and deployers are held accountable for any adverse effects caused by AI systems.\n",
      "\n",
      "4. **Privacy and Data Protection**: Safeguarding personal data used by AI systems, adhering to regulations like GDPR, and ensuring secure handling of sensitive information.\n",
      "\n",
      "5. **Safety and Security**: Preventing harmful uses of AI, such as in autonomous weapons, and ensuring systems are secure against misuse or attacks.\n",
      "\n",
      "6. **Ethical Considerations**: Aligning AI development with human values, avoiding harmful applications, and promoting societal well-being.\n",
      "\n",
      "7. **Human Oversight**: Implementing human review mechanisms for AI decisions, especially in critical areas, to correct potential errors or biases.\n",
      "\n",
      "8. **Sustainability**: Promoting energy efficiency in AI development and considering environmental impacts to foster sustainable technological growth.\n",
      "\n",
      "9. **Regulatory Compliance**: Adhering to relevant laws and regulations to ensure AI systems operate within legal and ethical boundaries.\n",
      "\n",
      "10. **Public Engagement and Education**: Educating the public about AI's benefits and risks, fostering trust, and ensuring AI development aligns with societal values.\n",
      "\n",
      "11. **Continuous Improvement**: Regularly monitoring and updating AI systems to address new challenges and enhance performance responsibly.\n",
      "\n",
      "Examples of Responsible AI in action include fair hiring practices using AI that avoids discrimination, transparent healthcare diagnostics that protect patient privacy, and sustainable AI development that minimizes environmental impact. Organizations implement these principles through guidelines, audits, ethical review boards, and ongoing assessments to ensure fairness, transparency, and accountability. By embracing these principles, Responsible AI aims to maximize the benefits of AI while mitigating its risks.\n"
     ]
    }
   ],
   "source": [
    "print(res['answer'])"
   ]
  },
  {
   "cell_type": "code",
   "execution_count": 7,
   "id": "0e871af0",
   "metadata": {},
   "outputs": [
    {
     "data": {
      "image/png": "[encoded data removed]",
      "text/plain": [
       "<langgraph.graph.state.CompiledStateGraph object at 0x0000026D87CD14F0>"
      ]
     },
     "execution_count": 7,
     "metadata": {},
     "output_type": "execute_result"
    }
   ],
   "source": [
    "from pydantic import BaseModel, Field\n",
    "\n",
    "class InputState(BaseModel):\n",
    "    question: str\n",
    "\n",
    "class PrivateState(BaseModel):\n",
    "    llm_calls: int = Field(default=0)\n",
    "\n",
    "class OutputState(BaseModel):\n",
    "    answer: Optional[str] = Field(default=\"\")\n",
    "\n",
    "class OverallState(InputState, PrivateState, OutputState):\n",
    "    pass\n",
    "\n",
    "\n",
    "\n",
    "workflow = StateGraph(state_schema=OverallState, input_schema=InputState, output_schema=OutputState)\n",
    "\n",
    "workflow.add_node(\"agent\", call_model)\n",
    "\n",
    "workflow.add_edge(START, \"agent\")\n",
    "workflow.add_edge(\"agent\", END)\n",
    "\n",
    "\n",
    "graph = workflow.compile()\n",
    "graph"
   ]
  },
  {
   "cell_type": "code",
   "execution_count": 8,
   "id": "64945df9",
   "metadata": {},
   "outputs": [
    {
     "name": "stdout",
     "output_type": "stream",
     "text": [
      "llm_calls: 1\n"
     ]
    },
    {
     "data": {
      "text/plain": [
       "{'answer': '<think>\\n\\n</think>\\n\\nResponsible AI refers to the development, deployment, and use of artificial intelligence (AI) in ways that are ethical, transparent, accountable, and beneficial to society. It involves ensuring that AI systems are designed and implemented with consideration for their impact on individuals, communities, and the environment. Key principles of responsible AI include:\\n\\n1. **Ethical Considerations**: Ensuring that AI systems are aligned with human values and ethical principles, such as fairness, privacy, and respect for human rights.\\n\\n2. **Transparency and Explainability**: Making AI decision-making processes understandable to users and stakeholders, so that outcomes can be audited and trusted.\\n\\n3. **Accountability**: Holding developers, deployers, and users of AI systems accountable for their impact, including potential biases, errors, or misuse.\\n\\n4. **Privacy and Security**: Protecting user data and ensuring that AI systems are secure from misuse or exploitation.\\n\\n5. **Sustainability**: Considering the environmental and societal impact of AI systems, including energy consumption and resource usage.\\n\\n6. **Inclusivity and Diversity**: Ensuring that AI systems are developed and deployed in ways that are inclusive and do not perpetuate biases or discrimination.\\n\\n7. **Human-Centered Design**: Prioritizing human well-being and agency in the design and deployment of AI systems.\\n\\n8. **Regulatory Compliance**: Adhering to relevant laws, regulations, and industry standards that govern the use of AI.\\n\\n9. **Continuous Monitoring and Improvement**: Regularly assessing and improving AI systems to address emerging challenges and ensure ongoing alignment with responsible AI principles.\\n\\nResponsible AI is essential to build trust in AI technologies and to ensure that they contribute positively to society. It requires collaboration among governments, industries, academia, and civil society to establish best practices and guidelines for the development and use of AI.'}"
      ]
     },
     "execution_count": 8,
     "metadata": {},
     "output_type": "execute_result"
    }
   ],
   "source": [
    "res = graph.invoke({\"question\": \"What is responsible AI\"})\n",
    "res"
   ]
  },
  {
   "cell_type": "markdown",
   "id": "0423d8b4",
   "metadata": {},
   "source": [
    "# Add Runtime Configuration"
   ]
  },
  {
   "cell_type": "code",
   "execution_count": 10,
   "id": "3ee5fbbb",
   "metadata": {},
   "outputs": [],
   "source": [
    "from langgraph.graph import StateGraph, START, END\n",
    "from langchain_core.runnables.config import RunnableConfig\n",
    "from langchain.schema import HumanMessage, SystemMessage\n",
    "\n",
    "def call_model_v2(state: OverallState, config: RunnableConfig):\n",
    "    language = config['configurable'].get(\"language\", \"English\")\n",
    "    system_message_content = f\"Respond in {language}\"\n",
    "    system_message = SystemMessage(content=system_message_content)\n",
    "    messages = [system_message, HumanMessage(content=state.question)]\n",
    "    response = llm.invoke(messages)\n",
    "    return {\"answer\": response}"
   ]
  },
  {
   "cell_type": "code",
   "execution_count": 11,
   "id": "9df4af06",
   "metadata": {},
   "outputs": [
    {
     "data": {
      "image/png": "[encoded data removed]",
      "text/plain": [
       "<langgraph.graph.state.CompiledStateGraph object at 0x0000026DF1A4E060>"
      ]
     },
     "execution_count": 11,
     "metadata": {},
     "output_type": "execute_result"
    }
   ],
   "source": [
    "workflow_v2 = StateGraph(state_schema=OverallState, input_schema=InputState, output_schema=OutputState)\n",
    "\n",
    "workflow_v2.add_node(\"agent\", call_model_v2)\n",
    "\n",
    "workflow_v2.add_edge(START, \"agent\")\n",
    "workflow_v2.add_edge(\"agent\", END)\n",
    "\n",
    "graph_v2 = workflow_v2.compile()\n",
    "graph_v2"
   ]
  },
  {
   "cell_type": "code",
   "execution_count": 12,
   "id": "9a53d51c",
   "metadata": {},
   "outputs": [
    {
     "data": {
      "text/plain": [
       "{'answer': AIMessage(content=\"<think>\\nAlright, so I need to figure out what the capital of India is. I'm not entirely sure, but I think it's a city I've heard before. Let me think... I remember learning something about India's government in school. India is a big country with a rich history, so I guess the capital must be an important city.\\n\\nI think Delhi is a major city in India. Maybe that's the capital? Or is it Mumbai? Wait, Mumbai is a big city too, but I think it's more known for being a financial hub rather than the capital. Then there's Bangalore, which I believe is more about technology. So, probably not the capital.\\n\\nI recall that the capital of a country is where the government is centered. India has a federal government, so their capital should be where the parliament and other government buildings are. Delhi sounds familiar in that context. I think I've heard of the Indian Parliament being in Delhi.\\n\\nAlso, I remember something about New Delhi. Is that a part of Delhi or a separate city? Maybe New Delhi is the actual capital. I think that's right because sometimes countries have a specific area within a larger city as their capital. For example, Washington D.C. in the United States is the capital, separate from the state.\\n\\nSo, putting it together, I think the capital of India is New Delhi. It makes sense because it's the administrative center, and I've heard of important landmarks there like the Red Fort and the India Gate. That must be where the government is located.\\n\\nI should double-check to make sure I'm not confusing it with another city. Let me think of other capitals. China's capital is Beijing, Japan's is Tokyo, and India's is definitely not Mumbai or Bangalore. So, yes, New Delhi is the capital of India.\\n</think>\\n\\nLa capital de la India es Nueva Delhi.\", additional_kwargs={}, response_metadata={'token_usage': {'completion_tokens': 382, 'prompt_tokens': 12, 'total_tokens': 394, 'completion_time': 1.729798001, 'prompt_time': 0.010185151, 'queue_time': 0.045174699, 'total_time': 1.739983152}, 'model_name': 'deepseek-r1-distill-llama-70b', 'system_fingerprint': 'fp_76307ac09b', 'finish_reason': 'stop', 'logprobs': None}, id='run--a2088eab-1616-49a8-b81b-6d4bd59b7d66-0', usage_metadata={'input_tokens': 12, 'output_tokens': 382, 'total_tokens': 394})}"
      ]
     },
     "execution_count": 12,
     "metadata": {},
     "output_type": "execute_result"
    }
   ],
   "source": [
    "config = {\"configurable\": {\"language\": \"Spanish\"}}\n",
    "res1 = graph_v2.invoke({\"question\": \"What is the capital of India\"}, config=config)\n",
    "res1"
   ]
  },
  {
   "cell_type": "code",
   "execution_count": 15,
   "id": "60b1b648",
   "metadata": {},
   "outputs": [
    {
     "name": "stdout",
     "output_type": "stream",
     "text": [
      "<think>\n",
      "Alright, so I need to figure out what the capital of India is. I'm not entirely sure, but I think it's a city I've heard before. Let me think... I remember learning something about India's government in school. India is a big country with a rich history, so I guess the capital must be an important city.\n",
      "\n",
      "I think Delhi is a major city in India. Maybe that's the capital? Or is it Mumbai? Wait, Mumbai is a big city too, but I think it's more known for being a financial hub rather than the capital. Then there's Bangalore, which I believe is more about technology. So, probably not the capital.\n",
      "\n",
      "I recall that the capital of a country is where the government is centered. India has a federal government, so their capital should be where the parliament and other government buildings are. Delhi sounds familiar in that context. I think I've heard of the Indian Parliament being in Delhi.\n",
      "\n",
      "Also, I remember something about New Delhi. Is that a part of Delhi or a separate city? Maybe New Delhi is the actual capital. I think that's right because sometimes countries have a specific area within a larger city as their capital. For example, Washington D.C. in the United States is the capital, separate from the state.\n",
      "\n",
      "So, putting it together, I think the capital of India is New Delhi. It makes sense because it's the administrative center, and I've heard of important landmarks there like the Red Fort and the India Gate. That must be where the government is located.\n",
      "\n",
      "I should double-check to make sure I'm not confusing it with another city. Let me think of other capitals. China's capital is Beijing, Japan's is Tokyo, and India's is definitely not Mumbai or Bangalore. So, yes, New Delhi is the capital of India.\n",
      "</think>\n",
      "\n",
      "La capital de la India es Nueva Delhi.\n"
     ]
    }
   ],
   "source": [
    "print(res1['answer'].content)"
   ]
  },
  {
   "cell_type": "code",
   "execution_count": 16,
   "id": "025014ea",
   "metadata": {},
   "outputs": [
    {
     "name": "stdout",
     "output_type": "stream",
     "text": [
      "<think>\n",
      "Okay, the user is asking for the capital of India in Kannada. I need to respond in Kannada as per their instruction. First, I should recall that the capital of India is New Delhi. Now, how do I write that in Kannada? I think it's \"ನವ ದೆಹಲಿ.\" So, I'll make sure to write it correctly. I should also confirm if there are any alternative names or if the spelling has changed, but I believe \"ನವ ದೆಹಲಿ\" is the standard term used. I should present it clearly and straightforwardly without any additional information since the user specifically asked for a response in Kannada.\n",
      "</think>\n",
      "\n",
      "ಭಾರತದ ರಾಜಧಾನಿ ನವ ದೆಹಲಿ.\n"
     ]
    }
   ],
   "source": [
    "config = {\"configurable\": {\"language\": \"Kannada\"}}\n",
    "res2 = graph_v2.invoke({\"question\": \"What is the capital of India\"}, config=config)\n",
    "print(res2['answer'].content)"
   ]
  },
  {
   "cell_type": "code",
   "execution_count": null,
   "id": "418db769",
   "metadata": {},
   "outputs": [],
   "source": []
  }
 ],
 "metadata": {
  "kernelspec": {
   "display_name": "loan-pred",
   "language": "python",
   "name": "python3"
  },
  "language_info": {
   "codemirror_mode": {
    "name": "ipython",
    "version": 3
   },
   "file_extension": ".py",
   "mimetype": "text/x-python",
   "name": "python",
   "nbconvert_exporter": "python",
   "pygments_lexer": "ipython3",
   "version": "3.12.6"
  }
 },
 "nbformat": 4,
 "nbformat_minor": 5
}
