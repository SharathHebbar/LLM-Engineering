{
 "cells": [
  {
   "cell_type": "code",
   "execution_count": 8,
   "id": "6e29facc",
   "metadata": {},
   "outputs": [],
   "source": [
    "import warnings\n",
    "warnings.filterwarnings(\"ignore\")"
   ]
  },
  {
   "cell_type": "code",
   "execution_count": 12,
   "id": "b45fbdef",
   "metadata": {},
   "outputs": [],
   "source": [
    "import os\n",
    "from langchain_openai import ChatOpenAI, OpenAIEmbeddings\n",
    "from langchain.vectorstores import FAISS\n",
    "from langchain.chains import RetrievalQA\n",
    "from langchain.document_loaders import TextLoader\n",
    "from langchain.text_splitter import CharacterTextSplitter\n",
    "from dotenv import load_dotenv\n",
    "\n",
    "load_dotenv()\n",
    "model_name = \"medgemma-4b-it\"\n",
    "emb_model_name = \"nomic-embed-text-v1.5\"\n",
    "llm = ChatOpenAI(\n",
    "    base_url=\"http://localhost:1234/v1\",\n",
    "    model=model_name,\n",
    "    api_key=\"lm-studio\"\n",
    ")"
   ]
  },
  {
   "cell_type": "code",
   "execution_count": 11,
   "id": "c6a1568b",
   "metadata": {},
   "outputs": [],
   "source": [
    "from typing import List\n",
    "import requests\n",
    "from langchain.embeddings.base import Embeddings\n",
    "class NomicEmbeddings(Embeddings):\n",
    "    def __init__(self, model_name:str, base_url:str=\"http://localhost:1234/v1\", api_key:str=\"lm-studio\"):\n",
    "        self.model_name = model_name\n",
    "        self.base_url = base_url\n",
    "        self.api_key = api_key\n",
    "    \n",
    "    def embed_documents(self, texts: List[str]) -> List[List[float]]:\n",
    "        return [self.embed_query(text) for text in texts]\n",
    "    \n",
    "    def embed_query(self, text: str) -> List[float]:\n",
    "        url = f\"{self.base_url}/embeddings\"\n",
    "        headers = {\n",
    "            \"Authorization\": f\"Bearer {self.api_key}\",\n",
    "            \"Content-type\": \"application/json\"\n",
    "        }\n",
    "        payload = {\n",
    "            \"model\": self.model_name,\n",
    "            \"input\": text\n",
    "        }\n",
    "\n",
    "        response = requests.post(url, headers=headers, json=payload)\n",
    "        response.raise_for_status()\n",
    "        return response.json()['data'][0]['embedding']\n",
    "    \n",
    "embeddings = NomicEmbeddings(model_name=\"nomic-embed-text-v1.5\")"
   ]
  },
  {
   "cell_type": "markdown",
   "id": "713364d8",
   "metadata": {},
   "source": [
    "# Load the Sample Document"
   ]
  },
  {
   "cell_type": "code",
   "execution_count": 13,
   "id": "c87bfab3",
   "metadata": {},
   "outputs": [
    {
     "data": {
      "text/plain": [
       "[Document(metadata={'source': 'agents_overview.txt'}, page_content='**All About AI Agents**\\n\\n---\\n\\n**1. What Are AI Agents?**\\nAI Agents are autonomous systems designed to perceive their environment, make decisions, and take actions to achieve specific goals. Unlike traditional software, AI agents can adapt their behavior based on feedback and changing contexts.\\n\\n---\\n\\n**2. Key Characteristics**\\n\\n* **Autonomy:** Operate independently without human intervention.\\n* **Reactivity:** Respond to environmental changes.\\n* **Proactiveness:** Take initiative to meet objectives.\\n* **Social Ability:** Communicate with humans or other agents.\\n\\n---\\n\\n**3. Types of AI Agents**\\n\\n* **Simple Reflex Agents:** Act only on current percepts.\\n* **Model-Based Reflex Agents:** Maintain an internal state.\\n* **Goal-Based Agents:** Act to achieve specific goals.\\n* **Utility-Based Agents:** Maximize a given utility function.\\n* **Learning Agents:** Improve performance over time.\\n\\n---\\n\\n**4. Architectures of AI Agents**\\n\\n* **Rule-Based Systems**\\n* **Decision Trees**\\n* **Neural Networks**\\n* **Reinforcement Learning Agents**\\n* **Belief-Desire-Intention (BDI) Models**\\n\\n---\\n\\n**5. Tools and Frameworks**\\n\\n* **LangChain**: For building LLM-based agents.\\n* **AutoGen (Microsoft)**: Multi-agent framework for collaborative tasks.\\n* **CrewAI**: Role-based multi-agent orchestration.\\n* **AgentGPT / BabyAGI**: Autonomous task execution agents.\\n* **ReAct + Toolformer**: Planning + tool usage for agents.\\n\\n---\\n\\n**6. Components of an AI Agent**\\n\\n* **Perception Module** (e.g., sensors, APIs)\\n* **Reasoning/Planning Module** (e.g., planners, LLMs)\\n* **Action Module** (e.g., tools, actuators)\\n* **Memory** (e.g., vector DBs, knowledge graphs)\\n* **Feedback Loop** (e.g., evaluation, learning)\\n\\n---\\n\\n**7. Applications of AI Agents**\\n\\n* **Customer Service Bots**\\n* **AI Tutors / Coaches**\\n* **Financial Advisory Agents**\\n* **Research Assistants**\\n* **Medical Diagnosis Helpers**\\n* **DevOps Automation Agents**\\n\\n---\\n\\n**8. Challenges in AI Agents**\\n\\n* Task decomposition\\n* Long-term memory integration\\n* Evaluation and trustworthiness\\n* Safety and hallucination mitigation\\n* Scalability in multi-agent systems\\n\\n---\\n\\n**9. Agent Evaluation Strategies**\\n\\n* Task success metrics\\n* G-Eval (LLM-based grading)\\n* Human-in-the-loop assessments\\n* Simulation environments (e.g., MiniWoB++)\\n\\n---\\n\\n**10. The Future of AI Agents**\\n\\n* Integration with autonomous robotics\\n* Self-improving goal-driven agents\\n* Personal AI companions\\n* Autonomous scientific discovery agents\\n\\n---\\n\\n**Summary**\\nAI Agents represent a paradigm shift in intelligent software—moving from static, task-specific programs to dynamic, adaptive, and goal-oriented systems. Their ability to reason, learn, and collaborate makes them foundational to the next wave of AI applications.\\n\\n---\\n\\n**Further Reading**\\n\\n* \"A Survey on AI Agents\" – ArXiv\\n* LangChain, AutoGen, and CrewAI documentation\\n* OpenAI’s Agentic Research Blog\\n* \"ReAct: Reasoning and Acting\" paper\\n')]"
      ]
     },
     "execution_count": 13,
     "metadata": {},
     "output_type": "execute_result"
    }
   ],
   "source": [
    "text_file = \"agents_overview.txt\"\n",
    "\n",
    "loader = TextLoader(text_file, encoding=\"utf-8\")\n",
    "documents = loader.load()\n",
    "documents"
   ]
  },
  {
   "cell_type": "code",
   "execution_count": 14,
   "id": "04b832c3",
   "metadata": {},
   "outputs": [
    {
     "data": {
      "text/plain": [
       "<langchain_text_splitters.character.CharacterTextSplitter at 0x1a07822eb70>"
      ]
     },
     "execution_count": 14,
     "metadata": {},
     "output_type": "execute_result"
    }
   ],
   "source": [
    "text_splitter = CharacterTextSplitter(chunk_size=300, chunk_overlap=50)\n",
    "text_splitter"
   ]
  },
  {
   "cell_type": "code",
   "execution_count": 15,
   "id": "ed3923f1",
   "metadata": {},
   "outputs": [
    {
     "data": {
      "text/plain": [
       "[Document(metadata={'source': 'agents_overview.txt'}, page_content='**All About AI Agents**\\n\\n---\\n\\n**1. What Are AI Agents?**\\nAI Agents are autonomous systems designed to perceive their environment, make decisions, and take actions to achieve specific goals. Unlike traditional software, AI agents can adapt their behavior based on feedback and changing contexts.\\n\\n---'),\n",
       " Document(metadata={'source': 'agents_overview.txt'}, page_content='---\\n\\n**2. Key Characteristics**\\n\\n* **Autonomy:** Operate independently without human intervention.\\n* **Reactivity:** Respond to environmental changes.\\n* **Proactiveness:** Take initiative to meet objectives.\\n* **Social Ability:** Communicate with humans or other agents.\\n\\n---'),\n",
       " Document(metadata={'source': 'agents_overview.txt'}, page_content='---\\n\\n**3. Types of AI Agents**'),\n",
       " Document(metadata={'source': 'agents_overview.txt'}, page_content='* **Simple Reflex Agents:** Act only on current percepts.\\n* **Model-Based Reflex Agents:** Maintain an internal state.\\n* **Goal-Based Agents:** Act to achieve specific goals.\\n* **Utility-Based Agents:** Maximize a given utility function.\\n* **Learning Agents:** Improve performance over time.\\n\\n---'),\n",
       " Document(metadata={'source': 'agents_overview.txt'}, page_content='---\\n\\n**4. Architectures of AI Agents**\\n\\n* **Rule-Based Systems**\\n* **Decision Trees**\\n* **Neural Networks**\\n* **Reinforcement Learning Agents**\\n* **Belief-Desire-Intention (BDI) Models**\\n\\n---\\n\\n**5. Tools and Frameworks**'),\n",
       " Document(metadata={'source': 'agents_overview.txt'}, page_content='* **LangChain**: For building LLM-based agents.\\n* **AutoGen (Microsoft)**: Multi-agent framework for collaborative tasks.\\n* **CrewAI**: Role-based multi-agent orchestration.\\n* **AgentGPT / BabyAGI**: Autonomous task execution agents.\\n* **ReAct + Toolformer**: Planning + tool usage for agents.\\n\\n---'),\n",
       " Document(metadata={'source': 'agents_overview.txt'}, page_content='---\\n\\n**6. Components of an AI Agent**\\n\\n* **Perception Module** (e.g., sensors, APIs)\\n* **Reasoning/Planning Module** (e.g., planners, LLMs)\\n* **Action Module** (e.g., tools, actuators)\\n* **Memory** (e.g., vector DBs, knowledge graphs)\\n* **Feedback Loop** (e.g., evaluation, learning)\\n\\n---'),\n",
       " Document(metadata={'source': 'agents_overview.txt'}, page_content='---\\n\\n**7. Applications of AI Agents**\\n\\n* **Customer Service Bots**\\n* **AI Tutors / Coaches**\\n* **Financial Advisory Agents**\\n* **Research Assistants**\\n* **Medical Diagnosis Helpers**\\n* **DevOps Automation Agents**\\n\\n---\\n\\n**8. Challenges in AI Agents**'),\n",
       " Document(metadata={'source': 'agents_overview.txt'}, page_content='---\\n\\n**8. Challenges in AI Agents**\\n\\n* Task decomposition\\n* Long-term memory integration\\n* Evaluation and trustworthiness\\n* Safety and hallucination mitigation\\n* Scalability in multi-agent systems\\n\\n---\\n\\n**9. Agent Evaluation Strategies**'),\n",
       " Document(metadata={'source': 'agents_overview.txt'}, page_content='---\\n\\n**9. Agent Evaluation Strategies**\\n\\n* Task success metrics\\n* G-Eval (LLM-based grading)\\n* Human-in-the-loop assessments\\n* Simulation environments (e.g., MiniWoB++)\\n\\n---\\n\\n**10. The Future of AI Agents**'),\n",
       " Document(metadata={'source': 'agents_overview.txt'}, page_content='---\\n\\n**10. The Future of AI Agents**\\n\\n* Integration with autonomous robotics\\n* Self-improving goal-driven agents\\n* Personal AI companions\\n* Autonomous scientific discovery agents\\n\\n---'),\n",
       " Document(metadata={'source': 'agents_overview.txt'}, page_content='---\\n\\n**Summary**\\nAI Agents represent a paradigm shift in intelligent software—moving from static, task-specific programs to dynamic, adaptive, and goal-oriented systems. Their ability to reason, learn, and collaborate makes them foundational to the next wave of AI applications.\\n\\n---'),\n",
       " Document(metadata={'source': 'agents_overview.txt'}, page_content='---\\n\\n**Further Reading**\\n\\n* \"A Survey on AI Agents\" – ArXiv\\n* LangChain, AutoGen, and CrewAI documentation\\n* OpenAI’s Agentic Research Blog\\n* \"ReAct: Reasoning and Acting\" paper')]"
      ]
     },
     "execution_count": 15,
     "metadata": {},
     "output_type": "execute_result"
    }
   ],
   "source": [
    "docs = text_splitter.split_documents(documents)\n",
    "docs"
   ]
  },
  {
   "cell_type": "markdown",
   "id": "4bc332da",
   "metadata": {},
   "source": [
    "# Convert Text to Vectors and Index the FAISS"
   ]
  },
  {
   "cell_type": "code",
   "execution_count": 16,
   "id": "2be33543",
   "metadata": {},
   "outputs": [],
   "source": [
    "vectorstore = FAISS.from_documents(docs, embeddings)"
   ]
  },
  {
   "cell_type": "markdown",
   "id": "7f713bf8",
   "metadata": {},
   "source": [
    "# Setup Retrieval Augmented QA Chain"
   ]
  },
  {
   "cell_type": "code",
   "execution_count": 23,
   "id": "a2001f0f",
   "metadata": {},
   "outputs": [
    {
     "data": {
      "text/plain": [
       "RetrievalQA(verbose=False, combine_documents_chain=StuffDocumentsChain(verbose=False, llm_chain=LLMChain(verbose=False, prompt=ChatPromptTemplate(input_variables=['context', 'question'], input_types={}, partial_variables={}, messages=[SystemMessagePromptTemplate(prompt=PromptTemplate(input_variables=['context'], input_types={}, partial_variables={}, template=\"Use the following pieces of context to answer the user's question. \\nIf you don't know the answer, just say that you don't know, don't try to make up an answer.\\n----------------\\n{context}\"), additional_kwargs={}), HumanMessagePromptTemplate(prompt=PromptTemplate(input_variables=['question'], input_types={}, partial_variables={}, template='{question}'), additional_kwargs={})]), llm=ChatOpenAI(client=<openai.resources.chat.completions.completions.Completions object at 0x000001A077521B20>, async_client=<openai.resources.chat.completions.completions.AsyncCompletions object at 0x000001A0780FDC70>, root_client=<openai.OpenAI object at 0x000001A0775476E0>, root_async_client=<openai.AsyncOpenAI object at 0x000001A07822F140>, model_name='medgemma-4b-it', model_kwargs={}, openai_api_key=SecretStr('**********'), openai_api_base='http://localhost:1234/v1'), output_parser=StrOutputParser(), llm_kwargs={}), document_prompt=PromptTemplate(input_variables=['page_content'], input_types={}, partial_variables={}, template='{page_content}'), document_variable_name='context'), return_source_documents=True, retriever=VectorStoreRetriever(tags=['FAISS', 'NomicEmbeddings'], vectorstore=<langchain_community.vectorstores.faiss.FAISS object at 0x000001A077621850>, search_kwargs={'k': 2}))"
      ]
     },
     "execution_count": 23,
     "metadata": {},
     "output_type": "execute_result"
    }
   ],
   "source": [
    "qa_chain = RetrievalQA.from_chain_type(\n",
    "    llm=llm,\n",
    "    retriever=vectorstore.as_retriever(search_type=\"similarity\", search_kwargs={\"k\": 2}),\n",
    "    return_source_documents=True\n",
    ")\n",
    "qa_chain"
   ]
  },
  {
   "cell_type": "markdown",
   "id": "cf20c570",
   "metadata": {},
   "source": [
    "# Ask Multiple Questions and Display Answers with Sources"
   ]
  },
  {
   "cell_type": "code",
   "execution_count": 25,
   "id": "cdc242f5",
   "metadata": {},
   "outputs": [
    {
     "name": "stdout",
     "output_type": "stream",
     "text": [
      "****************************************************************************************************\n",
      "Question: What are AI Agents\n",
      "Answer: AI Agents are autonomous systems designed to perceive their environment, make decisions, and take actions to achieve specific goals. Unlike traditional software, AI agents can adapt their behavior based on feedback and changing contexts.\n",
      "\n",
      "Source Document Snippets: \n",
      "- **All About AI Agents**\n",
      "\n",
      "---\n",
      "\n",
      "**1. What Are AI Agents?**\n",
      "AI Agents are autonomous systems designed to perceive their environment, make decisions, and ...\n",
      "- ---\n",
      "\n",
      "**3. Types of AI Agents**...\n",
      "****************************************************************************************************\n",
      "Question: What are evaluation strategies for AI Agents\n",
      "Answer: Based on the provided context, here are some evaluation strategies for AI agents:\n",
      "\n",
      "*   Task success metrics\n",
      "*   G-Eval (LLM-based grading)\n",
      "*   Human-in-the-loop assessments\n",
      "*   Simulation environments (e.g., MiniWoB++)\n",
      "\n",
      "Source Document Snippets: \n",
      "- ---\n",
      "\n",
      "**9. Agent Evaluation Strategies**\n",
      "\n",
      "* Task success metrics\n",
      "* G-Eval (LLM-based grading)\n",
      "* Human-in-the-loop assessments\n",
      "* Simulation environments...\n",
      "- ---\n",
      "\n",
      "**8. Challenges in AI Agents**\n",
      "\n",
      "* Task decomposition\n",
      "* Long-term memory integration\n",
      "* Evaluation and trustworthiness\n",
      "* Safety and hallucination m...\n",
      "****************************************************************************************************\n",
      "Question: Components of AI Agents\n",
      "Answer: I am sorry, but I do not have enough information to answer your question.\n",
      "\n",
      "Source Document Snippets: \n",
      "- ---\n",
      "\n",
      "**3. Types of AI Agents**...\n",
      "- **All About AI Agents**\n",
      "\n",
      "---\n",
      "\n",
      "**1. What Are AI Agents?**\n",
      "AI Agents are autonomous systems designed to perceive their environment, make decisions, and ...\n"
     ]
    }
   ],
   "source": [
    "questions = [\n",
    "    \"What are AI Agents\",\n",
    "    \"What are evaluation strategies for AI Agents\",\n",
    "    \"Components of AI Agents\"\n",
    "]\n",
    "\n",
    "for q in questions:\n",
    "    response = qa_chain.invoke({\"query\": q})\n",
    "    print(\"*\"*100)\n",
    "    print(f\"Question: {q}\")\n",
    "    print(f\"Answer: {response['result']}\")\n",
    "    print(f\"Source Document Snippets: \")\n",
    "    for doc in response[\"source_documents\"]:\n",
    "        print(f\"- {doc.page_content[:150]}...\")"
   ]
  },
  {
   "cell_type": "code",
   "execution_count": null,
   "id": "7aec0894",
   "metadata": {},
   "outputs": [],
   "source": []
  }
 ],
 "metadata": {
  "kernelspec": {
   "display_name": "loan-pred",
   "language": "python",
   "name": "python3"
  },
  "language_info": {
   "codemirror_mode": {
    "name": "ipython",
    "version": 3
   },
   "file_extension": ".py",
   "mimetype": "text/x-python",
   "name": "python",
   "nbconvert_exporter": "python",
   "pygments_lexer": "ipython3",
   "version": "3.12.6"
  }
 },
 "nbformat": 4,
 "nbformat_minor": 5
}
